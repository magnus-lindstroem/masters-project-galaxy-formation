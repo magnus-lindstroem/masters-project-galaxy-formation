{
 "cells": [
  {
   "cell_type": "code",
   "execution_count": 19,
   "metadata": {},
   "outputs": [
    {
     "name": "stdout",
     "output_type": "stream",
     "text": [
      "[[ 1  2  3  8  8]\n",
      " [ 4  5  6  7  7]\n",
      " [ 7  8  9  6  6]\n",
      " [10 11 12  5  5]]\n",
      "[[ 1  2  3  8  8]\n",
      " [ 4  5  6  7  7]\n",
      " [ 7  8  9  6  6]\n",
      " [10 11 12  5  5]]\n",
      "[[ 1  2  3  8  8]\n",
      " [ 4  5  6  7  7]\n",
      " [ 7  8  9  6  6]\n",
      " [10 11 12  5  5]]\n",
      "[[-2 -1  0  5  5]\n",
      " [ 1  2  3  4  4]\n",
      " [ 4  5  6  3  3]\n",
      " [ 7  8  9  2  2]]\n"
     ]
    }
   ],
   "source": [
    "import numpy as np\n",
    "\n",
    "a = np.array([[1,2,3,8,8],[4,5,6,7,7],[7,8,9,6,6],[10,11,12,5,5]])\n",
    "b = a\n",
    "print(a)\n",
    "print(b)\n",
    "b = b - 3\n",
    "print(a)\n",
    "print(b)\n",
    "irughe"
   ]
  },
  {
   "cell_type": "code",
   "execution_count": 8,
   "metadata": {},
   "outputs": [
    {
     "name": "stdout",
     "output_type": "stream",
     "text": [
      "[4 5 6]\n"
     ]
    }
   ],
   "source": [
    "print(a[1,:3])"
   ]
  },
  {
   "cell_type": "code",
   "execution_count": 18,
   "metadata": {},
   "outputs": [
    {
     "name": "stdout",
     "output_type": "stream",
     "text": [
      "[[1 2 3]\n",
      " [1 2 3]]\n",
      "[array([[1, 2, 3],\n",
      "       [1, 2, 3]]), array([[1, 2, 3],\n",
      "       [1, 2, 3]])]\n"
     ]
    }
   ],
   "source": [
    "lista = []\n",
    "b = np.array([[1,2,3],[1,2,3]])\n",
    "print(b)\n",
    "lista.append(b)\n",
    "lista.append(b)\n",
    "print(lista)"
   ]
  },
  {
   "cell_type": "code",
   "execution_count": null,
   "metadata": {},
   "outputs": [],
   "source": []
  }
 ],
 "metadata": {
  "kernelspec": {
   "display_name": "Python 3",
   "language": "python",
   "name": "python3"
  },
  "language_info": {
   "codemirror_mode": {
    "name": "ipython",
    "version": 3
   },
   "file_extension": ".py",
   "mimetype": "text/x-python",
   "name": "python",
   "nbconvert_exporter": "python",
   "pygments_lexer": "ipython3",
   "version": "3.6.4"
  }
 },
 "nbformat": 4,
 "nbformat_minor": 2
}
