{
 "cells": [
  {
   "cell_type": "code",
   "execution_count": 1,
   "metadata": {},
   "outputs": [
    {
     "name": "stdout",
     "output_type": "stream",
     "text": [
      "[('Virial_mass', '<f4'), ('Peak_virial_mass', '<f4'), ('Virial_mass_dot', '<f4'), ('Scale_peak_mass', '<f4'), ('Scale_half_mass', '<f4'), ('V_max', '<f4'), ('Peak_v_max', '<f4'), ('V_max_dot', '<f4'), ('Scale_peak_v_max', '<f4'), ('Virial_radius', '<f4'), ('Concentration', '<f4'), ('Lambda_spin', '<f4'), ('Scale_last_MajM', '<f4'), ('Tidal_force', '<f4'), ('Tidal_force_max_td', '<f4'), ('Total_mass', '<f4'), ('Mass_in_2500_crit', '<f4'), ('Ratio_b_to_a', '<f4'), ('Ratio_c_to_a', '<f4'), ('VirialRatio_T_to_U', '<f4'), ('Type', '<f4'), ('X_pos', '<f4'), ('Y_pos', '<f4'), ('Z_pos', '<f4'), ('X_vel', '<f4'), ('Y_vel', '<f4'), ('Z_vel', '<f4')]\n"
     ]
    },
    {
     "name": "stderr",
     "output_type": "stream",
     "text": [
      "/opt/anaconda/lib/python3.6/site-packages/h5py/__init__.py:36: FutureWarning: Conversion of the second argument of issubdtype from `float` to `np.floating` is deprecated. In future, it will be treated as `np.float64 == np.dtype(float).type`.\n",
      "  from ._conv import register_converters as _register_converters\n"
     ]
    }
   ],
   "source": [
    "import h5py\n",
    "import numpy as np\n",
    "\n",
    "f = h5py.File('/scratch/data/galcats/P200/galaxies.Z01.h5', 'r')\n",
    "a_group_key = list(f.keys())\n",
    "#print(a_group_key)\n",
    "dset = f['Galaxies']\n",
    "print(dset.dtype)"
   ]
  },
  {
   "cell_type": "code",
   "execution_count": 4,
   "metadata": {},
   "outputs": [
    {
     "name": "stdout",
     "output_type": "stream",
     "text": [
      "[('X_pos', '<f4'), ('Y_pos', '<f4'), ('Z_pos', '<f4'), ('X_vel', '<f4'), ('Y_vel', '<f4'), ('Z_vel', '<f4'), ('Halo_mass', '<f4'), ('Stellar_mass', '<f4'), ('SFR', '<f4'), ('Intra_cluster_mass', '<f4'), ('Halo_mass_peak', '<f4'), ('Stellar_mass_obs', '<f4'), ('SFR_obs', '<f4'), ('Halo_radius', '<f4'), ('Concentration', '<f4'), ('Halo_spin', '<f4'), ('Type', '<u2')]\n"
     ]
    }
   ],
   "source": [
    "f = h5py.File('/scratch/data/galcats/P200/galaxies.Z01.h5', 'r')\n",
    "a_group_key = list(f.keys())\n",
    "#print(a_group_key)\n",
    "dset = f['Galaxies']\n",
    "print(dset.dtype)"
   ]
  },
  {
   "cell_type": "code",
   "execution_count": 7,
   "metadata": {},
   "outputs": [
    {
     "name": "stdout",
     "output_type": "stream",
     "text": [
      "[ 9.640841   9.640841   9.7657795 10.795097   9.941797  10.7077875\n",
      " 10.423752   9.719924  10.7525015 10.362366 ]\n",
      "[7.082927  8.244628  7.850907  7.2357802 7.7222214 7.515751  8.219638\n",
      " 8.588979  7.7767296 7.0375495]\n",
      "[ 361.3377     24.900759   82.20016  3625.0757    165.79669  1556.0968\n",
      "  159.99777    13.51902   945.7403   2112.5947  ]\n"
     ]
    }
   ],
   "source": [
    "n_data = len(dset['Halo_mass'])\n",
    "subset_size = 10\n",
    "subset_indices = np.random.choice(n_data, subset_size, replace=False)\n",
    "\n",
    "halo_masses = dset['Halo_mass'][subset_indices]\n",
    "stellar_masses = dset['Stellar_mass'][subset_indices]\n",
    "\n",
    "print(halo_masses)\n",
    "print(stellar_masses)\n",
    "print(np.power(10, halo_masses) / np.power(10, stellar_masses))"
   ]
  },
  {
   "cell_type": "code",
   "execution_count": 8,
   "metadata": {},
   "outputs": [],
   "source": [
    "n_data = len(dset['Virial_mass'])\n",
    "subset_size = 10\n",
    "subset_indices = np.random.choice(n_data, subset_size, replace=False)\n",
    "\n",
    "virial_masses = dset['Virial_mass'][subset_indices]\n",
    "virial_dot_masses = dset['Virial_mass_dot'][subset_indices]\n",
    "total_masses = dset['Total_mass'][subset_indices]\n",
    "mass_in_2500_crit = dset['Mass_in_2500_crit'][subset_indices]"
   ]
  },
  {
   "cell_type": "code",
   "execution_count": 9,
   "metadata": {},
   "outputs": [
    {
     "name": "stdout",
     "output_type": "stream",
     "text": [
      "[10.055792  9.418894  9.367894 10.197127  9.807152 10.774375 12.447259\n",
      "  9.668787 10.205192 10.087936]\n",
      "[-0.14983842  0.          0.          0.15212034 -0.35683793  1.2017512\n",
      " 83.66602     0.         -0.89750856 -0.3004373 ]\n",
      "[10.055763   9.506083   9.464705  10.197086   9.807122  10.774332\n",
      " 12.4475565  9.719974  10.322015  10.087946 ]\n",
      "[ 9.765724  8.464705  0.        9.826429  0.       10.38378  12.067194\n",
      "  0.       10.06676   0.      ]\n"
     ]
    }
   ],
   "source": [
    "print(virial_masses)\n",
    "print(virial_dot_masses)\n",
    "print(total_masses)\n",
    "print(mass_in_2500_crit)\n",
    "\n",
    "\n"
   ]
  }
 ],
 "metadata": {
  "kernelspec": {
   "display_name": "Python 3",
   "language": "python",
   "name": "python3"
  },
  "language_info": {
   "codemirror_mode": {
    "name": "ipython",
    "version": 3
   },
   "file_extension": ".py",
   "mimetype": "text/x-python",
   "name": "python",
   "nbconvert_exporter": "python",
   "pygments_lexer": "ipython3",
   "version": "3.6.4"
  }
 },
 "nbformat": 4,
 "nbformat_minor": 2
}
