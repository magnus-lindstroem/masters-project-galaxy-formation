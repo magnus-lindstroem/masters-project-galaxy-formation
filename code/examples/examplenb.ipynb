{
 "cells": [
  {
   "cell_type": "code",
   "execution_count": null,
   "metadata": {},
   "outputs": [],
   "source": [
    "# Create your first MLP in Keras\n",
    "from keras.models import Sequential\n",
    "from keras.layers import Dense\n",
    "import numpy\n",
    "# fix random seed for reproducibility\n",
    "numpy.random.seed(7)\n",
    "# load pima indians dataset\n",
    "dataset = numpy.loadtxt(\"pima-indians-diabetes.data.csv\", delimiter=\",\")\n",
    "# split into input (X) and output (Y) variables\n",
    "X = dataset[:,0:8]\n",
    "Y = dataset[:,8]\n",
    "print(X.shape, type(X))\n",
    "# create model\n",
    "model = Sequential()\n",
    "model.add(Dense(12, input_dim=8, activation='relu'))\n",
    "model.add(Dense(8, activation='relu'))\n",
    "model.add(Dense(1, activation='sigmoid'))\n",
    "# Compile model\n",
    "model.compile(loss='binary_crossentropy', optimizer='adam', metrics=['accuracy'])\n",
    "# Fit the model\n",
    "model.fit(X, Y, epochs=150, batch_size=10)\n",
    "# evaluate the model\n",
    "scores = model.evaluate(X, Y)\n",
    "print(\"\\n%s: %.2f%%\" % (model.metrics_names[1], scores[1]*100))"
   ]
  },
  {
   "cell_type": "code",
   "execution_count": null,
   "metadata": {},
   "outputs": [],
   "source": [
    "import numpy as np\n",
    "\n",
    "a = np.zeros((4,5))\n",
    "print(a)\n",
    "a = np.array([[1,2,3,8,8],[4,5,6,7,7],[7,8,9,6,6],[10,11,12,5,5]])\n",
    "print(a)\n",
    "print(a[1,2])"
   ]
  },
  {
   "cell_type": "code",
   "execution_count": null,
   "metadata": {},
   "outputs": [],
   "source": [
    "print(a[1,:3])"
   ]
  },
  {
   "cell_type": "code",
   "execution_count": null,
   "metadata": {},
   "outputs": [],
   "source": [
    "lista = []\n",
    "b = np.array([[1,2,3],[1,2,3]])\n",
    "print(b)\n",
    "lista.append(b)\n",
    "lista.append(b)\n",
    "print(lista)"
   ]
  },
  {
   "cell_type": "code",
   "execution_count": 7,
   "metadata": {},
   "outputs": [
    {
     "name": "stdout",
     "output_type": "stream",
     "text": [
      "[[-10.          -6.66666667  -3.33333333   0.        ]\n",
      " [-10.          -6.66666667  -3.33333333   0.        ]\n",
      " [-10.          -6.66666667  -3.33333333   0.        ]\n",
      " [-10.          -6.66666667  -3.33333333   0.        ]]\n",
      "[[ 0.          0.          0.          0.        ]\n",
      " [ 3.33333333  3.33333333  3.33333333  3.33333333]\n",
      " [ 6.66666667  6.66666667  6.66666667  6.66666667]\n",
      " [10.         10.         10.         10.        ]]\n",
      "[-6.66666667  3.33333333]\n"
     ]
    }
   ],
   "source": [
    "import numpy as np\n",
    "x1 = np.linspace(-10, 0, 4)\n",
    "x2 = np.linspace(0, 10, 4)\n",
    "X1, X2 = np.meshgrid(x1, x2)\n",
    "print(X1)\n",
    "print(X2)\n",
    "print(np.array([X1[1,1], X2[1,1]]))"
   ]
  }
 ],
 "metadata": {
  "kernelspec": {
   "display_name": "Python 3",
   "language": "python",
   "name": "python3"
  },
  "language_info": {
   "codemirror_mode": {
    "name": "ipython",
    "version": 3
   },
   "file_extension": ".py",
   "mimetype": "text/x-python",
   "name": "python",
   "nbconvert_exporter": "python",
   "pygments_lexer": "ipython3",
   "version": "3.6.4"
  }
 },
 "nbformat": 4,
 "nbformat_minor": 2
}
