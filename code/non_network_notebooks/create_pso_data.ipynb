{
 "cells": [
  {
   "cell_type": "code",
   "execution_count": 1,
   "metadata": {},
   "outputs": [
    {
     "name": "stderr",
     "output_type": "stream",
     "text": [
      "Using TensorFlow backend.\n"
     ]
    }
   ],
   "source": [
    "import os\n",
    "from os.path import expanduser\n",
    "home_dir = expanduser(\"~\")\n",
    "module_path = home_dir + '/code/modules/'\n",
    "models_path = home_dir + '/models/'\n",
    "import sys\n",
    "sys.path.append(module_path)\n",
    "import numpy as np\n",
    "import pandas as pd\n",
    "import h5py\n",
    "import matplotlib.pyplot as plt\n",
    "from scipy import stats\n",
    "import json\n",
    "import pandas as pd\n",
    "%load_ext autoreload\n",
    "%autoreload 1\n",
    "%aimport data_processing\n",
    "from data_processing import *"
   ]
  },
  {
   "cell_type": "markdown",
   "metadata": {},
   "source": [
    "## Construct mock SMF"
   ]
  },
  {
   "cell_type": "code",
   "execution_count": 125,
   "metadata": {},
   "outputs": [],
   "source": [
    "original_directory = '/home/magnus/data/galcats_nonzero_sfr_no_density_with_growth_rate_no_lastMajM/'\n",
    "destination_directory = '/home/magnus/data/mock_data/stellar_mass_functions/'\n",
    "\n",
    "redshifts = [0, .1, .2, .5, 1, 2, 3, 4, 6, 8]\n",
    "bin_width = .1\n",
    "error = .3\n",
    "\n",
    "for redshift in redshifts:\n",
    "\n",
    "    file_name = 'galaxies.Z{:02.0f}'.format(redshift*10)\n",
    "\n",
    "    galfile = pd.read_hdf(original_directory + file_name + '.h5')\n",
    "    galaxies = galfile.values\n",
    "    gal_header = galfile.keys().tolist()\n",
    "\n",
    "    data_keys = {}\n",
    "    for col_nr, key in enumerate(gal_header):\n",
    "        data_keys[key] = col_nr\n",
    "\n",
    "    # Remove the smaller haloes\n",
    "    galaxies = galaxies[galaxies[:,data_keys['Halo_mass']] > 10.5, :]\n",
    "\n",
    "  #  print(np.amax(galaxies[:, data_keys['Halo_mass']]))\n",
    "  #  print(np.amin(galaxies[:, data_keys['Halo_mass']]))\n",
    "\n",
    "    max_stellar_mass = np.amax(galaxies[:, data_keys['Stellar_mass']])\n",
    "    min_stellar_mass = np.amin(galaxies[:, data_keys['Stellar_mass']])\n",
    "    lower_bin_edge = np.floor(min_stellar_mass * 10)/10\n",
    "    upper_bin_edge = np.ceil(max_stellar_mass* 10)/10\n",
    "   # print(min_stellar_mass, max_stellar_mass)\n",
    "   # print(lower_bin_edge, upper_bin_edge)\n",
    "\n",
    "    bin_edges = np.arange(lower_bin_edge, upper_bin_edge + bin_width, bin_width)\n",
    "    n_bins = len(bin_edges)-1\n",
    "    bin_stats = stats.binned_statistic(galaxies[:, data_keys['Stellar_mass']], galaxies[:, data_keys['Stellar_mass']], \n",
    "                                            bins=bin_edges)\n",
    "\n",
    "    # separate the data, based on redshift, into separate lists \n",
    "    bin_counts = [np.sum(bin_stats[2] == i) for i in range(1, n_bins+1)]\n",
    "\n",
    "    bin_centers = [(bin_edges[i] + bin_edges[i+1])/2 for i in range(len(bin_edges)-1)]\n",
    "  #  print(bin_centers)\n",
    "\n",
    "    #plt.hist(galaxies[:, data_keys['Stellar_mass']], bins = bin_edges, density = False, label = 'Stellar_mass')\n",
    "  #  plt.scatter(bin_centers, bin_counts)\n",
    "\n",
    "  #  print(bin_counts)\n",
    "    bin_counts = [float('nan') if count == 0 else count for count in bin_counts]\n",
    "    bin_counts_arr = np.array(bin_counts, dtype=np.float)\n",
    "    bin_counts_per_mpc3 = bin_counts_arr / 200**3 / bin_width\n",
    "    bin_counts_per_mpc3[bin_counts_per_mpc3 > 0] = np.log10(bin_counts_per_mpc3[bin_counts_per_mpc3 > 0])\n",
    "  #  print(bin_counts_per_mpc3)\n",
    "\n",
    "    full_data_list = [[stell_mass, phi, error] for (stell_mass, phi) in zip(bin_centers, bin_counts_per_mpc3) \n",
    "                      if (not np.isnan(phi)) ]\n",
    "    full_data_list.insert(0, {'bin_widths': bin_width, 'min_bin_edge': lower_bin_edge, 'max_bin_edge': upper_bin_edge})\n",
    "  #  print(full_data_list)\n",
    "\n",
    "    with open(destination_directory + file_name + '.json', 'w+') as f:\n",
    "        json.dump(full_data_list, f)\n",
    "    f.close()"
   ]
  },
  {
   "cell_type": "code",
   "execution_count": 126,
   "metadata": {
    "scrolled": true
   },
   "outputs": [
    {
     "name": "stdout",
     "output_type": "stream",
     "text": [
      "[{'bin_widths': 0.1, 'min_bin_edge': 7.0, 'max_bin_edge': 12.2}, [7.05, -1.7528556280340475, 0.3], [7.1499999999999995, -1.7619225183457112, 0.3], [7.249999999999999, -1.7735612131331673, 0.3], [7.349999999999999, -1.7900495689041231, 0.3], [7.449999999999998, -1.8018242020006086, 0.3], [7.549999999999998, -1.8287856429905087, 0.3], [7.649999999999998, -1.841788330785899, 0.3], [7.749999999999997, -1.8611843477682943, 0.3], [7.849999999999997, -1.880414225038216, 0.3], [7.949999999999997, -1.8964528279233575, 0.3], [8.049999999999997, -1.9220872970505438, 0.3], [8.149999999999995, -1.9472579767595217, 0.3], [8.249999999999996, -1.9627727654177256, 0.3], [8.349999999999994, -1.9897000433601881, 0.3], [8.449999999999996, -2.0125013192864563, 0.3], [8.549999999999994, -2.021135015652343, 0.3], [8.649999999999995, -2.0415555761329056, 0.3], [8.749999999999993, -2.050000457140078, 0.3], [8.849999999999994, -2.0637376580965223, 0.3], [8.949999999999992, -2.0768207675982175, 0.3], [9.049999999999994, -2.0956226113076655, 0.3], [9.149999999999991, -2.107001558311275, 0.3], [9.249999999999993, -2.114214871216527, 0.3], [9.34999999999999, -2.127916601567157, 0.3], [9.449999999999992, -2.135044172889527, 0.3], [9.54999999999999, -2.1456939581989194, 0.3], [9.649999999999991, -2.162885251484494, 0.3], [9.74999999999999, -2.1576248183212163, 0.3], [9.84999999999999, -2.185835674229394, 0.3], [9.949999999999989, -2.1937352111575477, 0.3], [10.04999999999999, -2.203252261124698, 0.3], [10.149999999999988, -2.238542024745397, 0.3], [10.24999999999999, -2.276852301845043, 0.3], [10.349999999999987, -2.2975694635544746, 0.3], [10.449999999999989, -2.3402026056980643, 0.3], [10.549999999999986, -2.3601401381777647, 0.3], [10.649999999999988, -2.4235146768169553, 0.3], [10.749999999999986, -2.472048041656058, 0.3], [10.849999999999987, -2.5221555236612416, 0.3], [10.949999999999985, -2.632411150847237, 0.3], [11.049999999999986, -2.747753949526882, 0.3], [11.149999999999984, -2.9131954232731707, 0.3], [11.249999999999986, -3.151810883008601, 0.3], [11.349999999999984, -3.460610217927495, 0.3], [11.449999999999985, -3.6935749724493125, 0.3], [11.549999999999983, -4.077015184291117, 0.3], [11.649999999999984, -4.3979400086720375, 0.3], [11.749999999999982, -4.756961951313706, 0.3], [11.849999999999984, -5.204119982655925, 0.3], [11.949999999999982, -5.301029995663981, 0.3], [12.049999999999983, -5.903089986991944, 0.3], [12.14999999999998, -5.903089986991944, 0.3]]\n"
     ]
    }
   ],
   "source": [
    "### Try loading a data file\n",
    "file_name = 'galaxies.Z00'\n",
    "with open(destination_directory + file_name + '.json', 'r') as f:\n",
    "    test = json.load(f)\n",
    "f.close()\n",
    "print(test)"
   ]
  },
  {
   "cell_type": "markdown",
   "metadata": {},
   "source": [
    "## Construct mock SSFR"
   ]
  },
  {
   "cell_type": "code",
   "execution_count": 2,
   "metadata": {},
   "outputs": [
    {
     "ename": "NameError",
     "evalue": "name 'original_directory' is not defined",
     "output_type": "error",
     "traceback": [
      "\u001b[0;31m---------------------------------------------------------------------------\u001b[0m",
      "\u001b[0;31mNameError\u001b[0m                                 Traceback (most recent call last)",
      "\u001b[0;32m<ipython-input-2-c8b6c1ce4a89>\u001b[0m in \u001b[0;36m<module>\u001b[0;34m()\u001b[0m\n\u001b[1;32m      3\u001b[0m \u001b[0merror\u001b[0m \u001b[0;34m=\u001b[0m \u001b[0;36m.3\u001b[0m\u001b[0;34m\u001b[0m\u001b[0m\n\u001b[1;32m      4\u001b[0m \u001b[0;34m\u001b[0m\u001b[0m\n\u001b[0;32m----> 5\u001b[0;31m \u001b[0mgalfile\u001b[0m \u001b[0;34m=\u001b[0m \u001b[0mpd\u001b[0m\u001b[0;34m.\u001b[0m\u001b[0mread_hdf\u001b[0m\u001b[0;34m(\u001b[0m\u001b[0moriginal_directory\u001b[0m \u001b[0;34m+\u001b[0m \u001b[0mfile_name\u001b[0m \u001b[0;34m+\u001b[0m \u001b[0;34m'.h5'\u001b[0m\u001b[0;34m)\u001b[0m\u001b[0;34m\u001b[0m\u001b[0m\n\u001b[0m\u001b[1;32m      6\u001b[0m \u001b[0mgalaxies\u001b[0m \u001b[0;34m=\u001b[0m \u001b[0mgalfile\u001b[0m\u001b[0;34m.\u001b[0m\u001b[0mvalues\u001b[0m\u001b[0;34m\u001b[0m\u001b[0m\n\u001b[1;32m      7\u001b[0m \u001b[0mgal_header\u001b[0m \u001b[0;34m=\u001b[0m \u001b[0mgalfile\u001b[0m\u001b[0;34m.\u001b[0m\u001b[0mkeys\u001b[0m\u001b[0;34m(\u001b[0m\u001b[0;34m)\u001b[0m\u001b[0;34m.\u001b[0m\u001b[0mtolist\u001b[0m\u001b[0;34m(\u001b[0m\u001b[0;34m)\u001b[0m\u001b[0;34m\u001b[0m\u001b[0m\n",
      "\u001b[0;31mNameError\u001b[0m: name 'original_directory' is not defined"
     ]
    }
   ],
   "source": [
    "original_directory = '/home/magnus/data/galcats_nonzero_sfr_no_density_with_growth_rate_no_lastMajM/'\n",
    "destination_directory = '/home/magnus/data/mock_data/ssfr/'\n",
    "file_name = 'galaxies.Z00'\n",
    "bin_width = .2\n",
    "error = .3\n",
    "\n",
    "galfile = pd.read_hdf(original_directory + file_name + '.h5')\n",
    "galaxies = galfile.values\n",
    "gal_header = galfile.keys().tolist()\n",
    "\n",
    "data_keys = {}\n",
    "for col_nr, key in enumerate(gal_header):\n",
    "    data_keys[key] = col_nr\n",
    "\n",
    "# Remove the smaller haloes\n",
    "galaxies = galaxies[galaxies[:,data_keys['Halo_mass']] > 10.5, :]\n",
    "\n",
    "print(np.amax(galaxies[:, data_keys['Halo_mass']]))\n",
    "print(np.amin(galaxies[:, data_keys['Halo_mass']]))"
   ]
  },
  {
   "cell_type": "code",
   "execution_count": 137,
   "metadata": {},
   "outputs": [
    {
     "name": "stdout",
     "output_type": "stream",
     "text": [
      "9.992007221626409e-16\n",
      "7.0 12.185381\n",
      "7.0 12.2\n"
     ]
    }
   ],
   "source": [
    "max_stellar_mass = np.amax(galaxies[:, data_keys['Stellar_mass']])\n",
    "min_stellar_mass = np.amin(galaxies[:, data_keys['Stellar_mass']])\n",
    "lower_bin_edge = np.floor(min_stellar_mass * 10)/10\n",
    "upper_bin_edge = np.ceil(max_stellar_mass* 10)/10\n",
    "print((lower_bin_edge - upper_bin_edge) % bin_width)\n",
    "if (upper_bin_edge - lower_bin_edge) % bin_width < 1e-10:\n",
    "    upper_bin_edge += (upper_bin_edge - lower_bin_edge) % bin_width\n",
    "print(min_stellar_mass, max_stellar_mass)\n",
    "print(lower_bin_edge, upper_bin_edge)"
   ]
  },
  {
   "cell_type": "code",
   "execution_count": null,
   "metadata": {},
   "outputs": [],
   "source": [
    "bin_edges = np.arange(lower_bin_edge, upper_bin_edge + bin_width, bin_width)\n",
    "n_bins = len(bin_edges)-1\n",
    "bin_stats = stats.binned_statistic(galaxies[:, data_keys['Stellar_mass']], galaxies[:, data_keys['Stellar_mass']], \n",
    "                                        bins=bin_edges)\n",
    "\n",
    "# separate the data, based on redshift, into separate lists \n",
    "bin_counts = [np.sum(bin_stats[2] == i) for i in range(1, n_bins+1)]\n",
    "\n",
    "bin_centers = [(bin_edges[i] + bin_edges[i+1])/2 for i in range(len(bin_edges)-1)]\n",
    "#  print(bin_centers)\n",
    "\n",
    "#plt.hist(galaxies[:, data_keys['Stellar_mass']], bins = bin_edges, density = False, label = 'Stellar_mass')\n",
    "#  plt.scatter(bin_centers, bin_counts)\n",
    "\n",
    "#  print(bin_counts)\n",
    "bin_counts = [float('nan') if count == 0 else count for count in bin_counts]\n",
    "bin_counts_arr = np.array(bin_counts, dtype=np.float)\n",
    "bin_counts_per_mpc3 = bin_counts_arr / 200**3 / bin_width\n",
    "bin_counts_per_mpc3[bin_counts_per_mpc3 > 0] = np.log10(bin_counts_per_mpc3[bin_counts_per_mpc3 > 0])\n",
    "#  print(bin_counts_per_mpc3)\n",
    "\n",
    "full_data_list = [[stell_mass, phi, error] for (stell_mass, phi) in zip(bin_centers, bin_counts_per_mpc3) \n",
    "                  if (not np.isnan(phi)) ]\n",
    "full_data_list.insert(0, {'bin_widths': bin_width, 'min_bin_edge': lower_bin_edge, 'max_bin_edge': upper_bin_edge})\n",
    "#  print(full_data_list)\n",
    "\n",
    "with open(destination_directory + file_name + '.json', 'w+') as f:\n",
    "    json.dump(full_data_list, f)\n",
    "f.close()"
   ]
  },
  {
   "cell_type": "markdown",
   "metadata": {},
   "source": [
    "### Real data"
   ]
  },
  {
   "cell_type": "code",
   "execution_count": 15,
   "metadata": {},
   "outputs": [
    {
     "name": "stdout",
     "output_type": "stream",
     "text": [
      "Keys:  ['Universe_0']\n"
     ]
    }
   ],
   "source": [
    "filename = '/home/magnus/data/observational_data/all_data.h5'\n",
    "file = h5py.File(filename, 'r')\n",
    "#file?\n",
    "# List all groups\n",
    "print(\"Keys: \", list(file.keys()))"
   ]
  },
  {
   "cell_type": "code",
   "execution_count": 16,
   "metadata": {},
   "outputs": [
    {
     "name": "stdout",
     "output_type": "stream",
     "text": [
      "Keys:  ['CSFRD', 'Clustering', 'FQ', 'Model_Parameters', 'SMF', 'SSFR']\n"
     ]
    }
   ],
   "source": [
    "# Get the universe\n",
    "universe_0 = file['Universe_0']\n",
    "#universe_0?\n",
    "# List all objects in the universe\n",
    "print(\"Keys: \", list(universe_0.keys()))"
   ]
  },
  {
   "cell_type": "code",
   "execution_count": 17,
   "metadata": {
    "scrolled": true
   },
   "outputs": [
    {
     "name": "stdout",
     "output_type": "stream",
     "text": [
      "Keys:  ['Data', 'Model', 'Sets']\n",
      "Keys of Data:  ['000 Li & White 2009 (z = 0.00 - 0.20)', '001 Baldry 2012 (z = 0.00 - 0.06)', '002 Bernardi 2013 (z = 0.00 - 0.20)', '003 Perez-Gonzalez 2008 (z = 0.00 - 0.20)', '004 Perez-Gonzalez 2008 (z = 0.20 - 0.40)', '005 Perez-Gonzalez 2008 (z = 0.40 - 0.60)', '006 Perez-Gonzalez 2008 (z = 0.60 - 0.80)', '007 Perez-Gonzalez 2008 (z = 0.80 - 1.00)', '008 Perez-Gonzalez 2008 (z = 1.00 - 1.30)', '009 Perez-Gonzalez 2008 (z = 1.30 - 1.60)', '010 Perez-Gonzalez 2008 (z = 1.60 - 2.00)', '011 Perez-Gonzalez 2008 (z = 2.00 - 2.50)', '012 Perez-Gonzalez 2008 (z = 2.50 - 3.00)', '013 Perez-Gonzalez 2008 (z = 3.00 - 3.50)', '014 Perez-Gonzalez 2008 (z = 3.50 - 4.00)', '015 Santini 2012 (z = 0.60 - 1.00)', '016 Santini 2012 (z = 1.00 - 1.40)', '017 Santini 2012 (z = 1.40 - 1.80)', '018 Santini 2012 (z = 1.80 - 2.50)', '019 Santini 2012 (z = 2.50 - 3.50)', '020 Santini 2012 (z = 3.50 - 4.50)', '021 Ilbert 2013 (z = 0.20 - 0.50)', '022 Ilbert 2013 (z = 0.50 - 0.80)', '023 Ilbert 2013 (z = 0.80 - 1.10)', '024 Ilbert 2013 (z = 1.10 - 1.50)', '025 Ilbert 2013 (z = 1.50 - 2.00)', '026 Ilbert 2013 (z = 2.00 - 2.50)', '027 Ilbert 2013 (z = 2.50 - 3.00)', '028 Ilbert 2013 (z = 3.00 - 4.00)', '029 Ilbert 2010 (z = 0.05 - 0.20)', '030 Ilbert 2010 (z = 0.20 - 0.40)', '031 Ilbert 2010 (z = 0.40 - 0.60)', '032 Ilbert 2010 (z = 0.60 - 0.80)', '033 Ilbert 2010 (z = 0.80 - 1.00)', '034 Ilbert 2010 (z = 1.00 - 1.20)', '035 Ilbert 2010 (z = 1.20 - 1.50)', '036 Ilbert 2010 (z = 1.50 - 2.00)', '037 Moustakas 2013 (z = 0.20 - 0.30)', '038 Moustakas 2013 (z = 0.30 - 0.40)', '039 Moustakas 2013 (z = 0.40 - 0.50)', '040 Moustakas 2013 (z = 0.50 - 0.65)', '041 Moustakas 2013 (z = 0.65 - 0.80)', '042 Moustakas 2013 (z = 0.80 - 1.00)', '043 Muzzin 2013 (z = 0.20 - 0.50)', '044 Muzzin 2013 (z = 0.50 - 1.00)', '045 Muzzin 2013 (z = 1.00 - 1.50)', '046 Muzzin 2013 (z = 1.50 - 2.00)', '047 Muzzin 2013 (z = 2.00 - 2.50)', '048 Muzzin 2013 (z = 2.50 - 3.00)', '049 Muzzin 2013 (z = 3.00 - 4.00)', '050 Caputi 2011 (z = 3.00 - 3.50)', '051 Caputi 2011 (z = 3.50 - 4.25)', '052 Caputi 2011 (z = 4.25 - 5.00)', '053 Pozzetti 2010 (z = 0.10 - 0.35)', '054 Pozzetti 2010 (z = 0.35 - 0.55)', '055 Pozzetti 2010 (z = 0.55 - 0.75)', '056 Pozzetti 2010 (z = 0.75 - 1.00)', '057 Marchesini 2009 (z = 1.30 - 2.00)', '058 Marchesini 2009 (z = 2.00 - 3.00)', '059 Marchesini 2009 (z = 3.00 - 4.00)', '060 Kajisawa 2009 (z = 0.50 - 1.00)', '061 Kajisawa 2009 (z = 1.00 - 1.50)', '062 Kajisawa 2009 (z = 1.50 - 2.50)', '063 Kajisawa 2009 (z = 2.50 - 3.50)', '064 Mortlock 2011 (z = 1.00 - 1.50)', '065 Mortlock 2011 (z = 1.50 - 2.00)', '066 Mortlock 2011 (z = 2.00 - 2.50)', '067 Mortlock 2011 (z = 2.50 - 3.00)', '068 Mortlock 2011 (z = 3.00 - 3.50)', '069 Lee 2012 (z = 3.50 - 4.00)', '070 Lee 2012 (z = 4.50 - 5.50)', '071 Gonzalez 2011 (z = 3.40 - 4.20)', '072 Gonzalez 2011 (z = 4.50 - 5.50)', '073 Gonzalez 2011 (z = 5.50 - 6.30)', '074 Gonzalez 2011 (z = 6.30 - 7.30)', '075 Duncan 2014 (z = 3.80 - 4.20)', '076 Duncan 2014 (z = 4.80 - 5.20)', '077 Duncan 2014 (z = 5.80 - 6.20)', '078 Duncan 2014 (z = 6.80 - 7.20)', '079 Song 2009 (z = 3.50 - 4.50)', '080 Song 2009 (z = 4.50 - 5.50)', '081 Song 2009 (z = 5.50 - 6.50)', '082 Song 2009 (z = 6.50 - 7.50)', '083 Song 2009 (z = 7.50 - 8.50)', '084 Grazian 2015 (z = 3.50 - 4.50)', '085 Grazian 2015  (z = 4.50 - 5.50)', '086 Grazian 2015 (z = 5.50 - 6.50)', '087 Grazian 2015 (z = 6.50 - 7.50)']\n"
     ]
    }
   ],
   "source": [
    "# Get the SMF objects from the universe\n",
    "smf = universe_0['SMF']\n",
    "#smf?\n",
    "# List all objects\n",
    "print(\"Keys: \", list(smf.keys()))\n",
    "# Get the dataset 'Data'\n",
    "data = smf['Data']\n",
    "print(\"Keys of Data: \", list(data.keys()))\n",
    "data_keys = list(data.keys())\n",
    "model = smf['Model']\n",
    "sets = smf['Sets']"
   ]
  },
  {
   "cell_type": "code",
   "execution_count": null,
   "metadata": {},
   "outputs": [],
   "source": [
    "print(list(sets))\n",
    "#sets?"
   ]
  },
  {
   "cell_type": "code",
   "execution_count": null,
   "metadata": {},
   "outputs": [],
   "source": [
    "print(list(model))\n",
    "#model?"
   ]
  },
  {
   "cell_type": "code",
   "execution_count": 18,
   "metadata": {
    "scrolled": true
   },
   "outputs": [
    {
     "name": "stdout",
     "output_type": "stream",
     "text": [
      "['000 Li & White 2009 (z = 0.00 - 0.20)', '001 Baldry 2012 (z = 0.00 - 0.06)', '002 Bernardi 2013 (z = 0.00 - 0.20)', '003 Perez-Gonzalez 2008 (z = 0.00 - 0.20)', '004 Perez-Gonzalez 2008 (z = 0.20 - 0.40)', '005 Perez-Gonzalez 2008 (z = 0.40 - 0.60)', '006 Perez-Gonzalez 2008 (z = 0.60 - 0.80)', '007 Perez-Gonzalez 2008 (z = 0.80 - 1.00)', '008 Perez-Gonzalez 2008 (z = 1.00 - 1.30)', '009 Perez-Gonzalez 2008 (z = 1.30 - 1.60)', '010 Perez-Gonzalez 2008 (z = 1.60 - 2.00)', '011 Perez-Gonzalez 2008 (z = 2.00 - 2.50)', '012 Perez-Gonzalez 2008 (z = 2.50 - 3.00)', '013 Perez-Gonzalez 2008 (z = 3.00 - 3.50)', '014 Perez-Gonzalez 2008 (z = 3.50 - 4.00)', '015 Santini 2012 (z = 0.60 - 1.00)', '016 Santini 2012 (z = 1.00 - 1.40)', '017 Santini 2012 (z = 1.40 - 1.80)', '018 Santini 2012 (z = 1.80 - 2.50)', '019 Santini 2012 (z = 2.50 - 3.50)', '020 Santini 2012 (z = 3.50 - 4.50)', '021 Ilbert 2013 (z = 0.20 - 0.50)', '022 Ilbert 2013 (z = 0.50 - 0.80)', '023 Ilbert 2013 (z = 0.80 - 1.10)', '024 Ilbert 2013 (z = 1.10 - 1.50)', '025 Ilbert 2013 (z = 1.50 - 2.00)', '026 Ilbert 2013 (z = 2.00 - 2.50)', '027 Ilbert 2013 (z = 2.50 - 3.00)', '028 Ilbert 2013 (z = 3.00 - 4.00)', '029 Ilbert 2010 (z = 0.05 - 0.20)', '030 Ilbert 2010 (z = 0.20 - 0.40)', '031 Ilbert 2010 (z = 0.40 - 0.60)', '032 Ilbert 2010 (z = 0.60 - 0.80)', '033 Ilbert 2010 (z = 0.80 - 1.00)', '034 Ilbert 2010 (z = 1.00 - 1.20)', '035 Ilbert 2010 (z = 1.20 - 1.50)', '036 Ilbert 2010 (z = 1.50 - 2.00)', '037 Moustakas 2013 (z = 0.20 - 0.30)', '038 Moustakas 2013 (z = 0.30 - 0.40)', '039 Moustakas 2013 (z = 0.40 - 0.50)', '040 Moustakas 2013 (z = 0.50 - 0.65)', '041 Moustakas 2013 (z = 0.65 - 0.80)', '042 Moustakas 2013 (z = 0.80 - 1.00)', '043 Muzzin 2013 (z = 0.20 - 0.50)', '044 Muzzin 2013 (z = 0.50 - 1.00)', '045 Muzzin 2013 (z = 1.00 - 1.50)', '046 Muzzin 2013 (z = 1.50 - 2.00)', '047 Muzzin 2013 (z = 2.00 - 2.50)', '048 Muzzin 2013 (z = 2.50 - 3.00)', '049 Muzzin 2013 (z = 3.00 - 4.00)', '050 Caputi 2011 (z = 3.00 - 3.50)', '051 Caputi 2011 (z = 3.50 - 4.25)', '052 Caputi 2011 (z = 4.25 - 5.00)', '053 Pozzetti 2010 (z = 0.10 - 0.35)', '054 Pozzetti 2010 (z = 0.35 - 0.55)', '055 Pozzetti 2010 (z = 0.55 - 0.75)', '056 Pozzetti 2010 (z = 0.75 - 1.00)', '057 Marchesini 2009 (z = 1.30 - 2.00)', '058 Marchesini 2009 (z = 2.00 - 3.00)', '059 Marchesini 2009 (z = 3.00 - 4.00)', '060 Kajisawa 2009 (z = 0.50 - 1.00)', '061 Kajisawa 2009 (z = 1.00 - 1.50)', '062 Kajisawa 2009 (z = 1.50 - 2.50)', '063 Kajisawa 2009 (z = 2.50 - 3.50)', '064 Mortlock 2011 (z = 1.00 - 1.50)', '065 Mortlock 2011 (z = 1.50 - 2.00)', '066 Mortlock 2011 (z = 2.00 - 2.50)', '067 Mortlock 2011 (z = 2.50 - 3.00)', '068 Mortlock 2011 (z = 3.00 - 3.50)', '069 Lee 2012 (z = 3.50 - 4.00)', '070 Lee 2012 (z = 4.50 - 5.50)', '071 Gonzalez 2011 (z = 3.40 - 4.20)', '072 Gonzalez 2011 (z = 4.50 - 5.50)', '073 Gonzalez 2011 (z = 5.50 - 6.30)', '074 Gonzalez 2011 (z = 6.30 - 7.30)', '075 Duncan 2014 (z = 3.80 - 4.20)', '076 Duncan 2014 (z = 4.80 - 5.20)', '077 Duncan 2014 (z = 5.80 - 6.20)', '078 Duncan 2014 (z = 6.80 - 7.20)', '079 Song 2009 (z = 3.50 - 4.50)', '080 Song 2009 (z = 4.50 - 5.50)', '081 Song 2009 (z = 5.50 - 6.50)', '082 Song 2009 (z = 6.50 - 7.50)', '083 Song 2009 (z = 7.50 - 8.50)', '084 Grazian 2015 (z = 3.50 - 4.50)', '085 Grazian 2015  (z = 4.50 - 5.50)', '086 Grazian 2015 (z = 5.50 - 6.50)', '087 Grazian 2015 (z = 6.50 - 7.50)']\n"
     ]
    }
   ],
   "source": [
    "#print(list(data['000 Li & White 2009 (z = 0.00 - 0.20)']))\n",
    "print(list(data))\n",
    "#data?"
   ]
  },
  {
   "cell_type": "code",
   "execution_count": 20,
   "metadata": {},
   "outputs": [
    {
     "data": {
      "text/plain": [
       "0.9166666666666667"
      ]
     },
     "execution_count": 20,
     "metadata": {},
     "output_type": "execute_result"
    }
   ],
   "source": [
    "(1 + 1/(1+.2))/2"
   ]
  },
  {
   "cell_type": "code",
   "execution_count": 19,
   "metadata": {},
   "outputs": [
    {
     "name": "stdout",
     "output_type": "stream",
     "text": [
      "[(8.387413, -1.7221187, 0.04560975, 0.9166667, -1.6924936, 0.00676285), (8.487412, -1.8181188, 0.05197114, 0.9166667, -1.7416298, 0.00715322), (8.587413, -1.8221188, 0.04463463, 0.9166667, -1.7860864, 0.00752563), (8.687413, -1.8331188, 0.04171629, 0.9166667, -1.8232217, 0.00785141), (8.787413, -1.8501188, 0.03881046, 0.9166667, -1.8558966, 0.00814962), (8.887413, -1.8651187, 0.03688156, 0.9166667, -1.8878008, 0.00845157), (8.987412, -1.8801187, 0.03162275, 0.9166667, -1.9226518, 0.00879406), (9.087413, -1.9241188, 0.03400365, 0.9166667, -1.9586033, 0.00916183), (9.187413, -1.9451188, 0.03067571, 0.9166667, -1.9911925, 0.00950832), (9.287413, -1.9841188, 0.03020344, 0.9166667, -2.0195405, 0.00982022), (9.387413, -2.0201187, 0.02926173, 0.9166667, -2.0455432, 0.0101152), (9.487412, -2.0801187, 0.02926173, 0.9166667, -2.0771618, 0.01048569), (9.587413, -2.1051188, 0.02832406, 0.9166667, -2.122887, 0.01104533), (9.687413, -2.1401186, 0.03067577, 0.9166667, -2.1666489, 0.01160853), (9.787413, -2.1701188, 0.02832401, 0.9166667, -2.1816387, 0.01180784), (9.887413, -2.1771188, 0.02553921, 0.9166667, -2.179742, 0.01178245), (9.987412, -2.1991186, 0.02553921, 0.9166667, -2.1863344, 0.01187102), (10.087413, -2.2131188, 0.02280899, 0.9166667, -2.2029507, 0.0120971), (10.187413, -2.2121186, 0.02236066, 0.9166667, -2.2229517, 0.01237494), (10.287413, -2.2271187, 0.02059127, 0.9166667, -2.243723, 0.0126701), (10.387413, -2.2501187, 0.01802775, 0.9166667, -2.2649353, 0.01297873), (10.487412, -2.3021188, 0.01761393, 0.9166667, -2.2915661, 0.01337661), (10.587413, -2.3601186, 0.01720465, 0.9166667, -2.3306124, 0.01398187), (10.687413, -2.4281187, 0.01680028, 0.9166667, -2.3821204, 0.01482167), (10.787413, -2.5121188, 0.01600785, 0.9166667, -2.443597, 0.0158891), (10.887413, -2.6161187, 0.01600775, 0.9166667, -2.5199091, 0.01731952), (10.987412, -2.7551188, 0.01600785, 0.9166667, -2.6220553, 0.01943318), (11.087413, -2.9261189, 0.01680028, 0.9166667, -2.7579432, 0.02263977), (11.187413, -3.1231189, 0.01414213, 0.9166667, -2.9348617, 0.02759496), (11.287413, -3.3691187, 0.01562047, 0.9166667, -3.1631215, 0.03555742), (11.387413, -3.6561189, 0.01929378, 0.9166667, -3.4444466, 0.04842348), (11.487412, -3.9811187, 0.01640123, 0.9166667, -3.7826176, 0.06970435), (11.587413, -4.3621187, 0.02059127, 0.9166667, -4.160726, 0.10348192), (11.687413, -4.7841187, 0.02832423, 0.9166667, -4.514243, 0.14743191), (11.787413, -5.2511187, 0.04707441, 0.9166667, -4.959201, 0.22392686), (11.887413, -5.8181186, 0.08360019, 0.9166667, -6.659426, 0.76173776), (11.987412, -6.372119, 0.1438481, 0.9166667, nan, 0.), (12.087413, -6.9421186, 0.17278975, 0.9166667, nan, 0.), (12.187413, -7.288119, 0.27418235, 0.9166667, -6.2779617, 0.61059606)]\n"
     ]
    }
   ],
   "source": [
    "data_obj_0 = data[data_keys[0]]\n",
    "print(list(data_obj_0))\n",
    "#data_obj_0?"
   ]
  },
  {
   "cell_type": "markdown",
   "metadata": {},
   "source": [
    "### Using pandas"
   ]
  },
  {
   "cell_type": "code",
   "execution_count": 14,
   "metadata": {},
   "outputs": [
    {
     "ename": "KeyError",
     "evalue": "'No object named SMF in the file'",
     "output_type": "error",
     "traceback": [
      "\u001b[0;31m---------------------------------------------------------------------------\u001b[0m",
      "\u001b[0;31mKeyError\u001b[0m                                  Traceback (most recent call last)",
      "\u001b[0;32m<ipython-input-14-ab8e3dd4ed84>\u001b[0m in \u001b[0;36m<module>\u001b[0;34m()\u001b[0m\n\u001b[1;32m      1\u001b[0m \u001b[0mfile_name\u001b[0m \u001b[0;34m=\u001b[0m \u001b[0;34m'/home/magnus/data/observational_data/all_data.h5'\u001b[0m\u001b[0;34m\u001b[0m\u001b[0m\n\u001b[1;32m      2\u001b[0m \u001b[0;34m\u001b[0m\u001b[0m\n\u001b[0;32m----> 3\u001b[0;31m \u001b[0mfile\u001b[0m \u001b[0;34m=\u001b[0m \u001b[0mpd\u001b[0m\u001b[0;34m.\u001b[0m\u001b[0mread_hdf\u001b[0m\u001b[0;34m(\u001b[0m\u001b[0mfile_name\u001b[0m\u001b[0;34m,\u001b[0m \u001b[0mkey\u001b[0m\u001b[0;34m=\u001b[0m\u001b[0;34m'SMF'\u001b[0m\u001b[0;34m)\u001b[0m\u001b[0;34m\u001b[0m\u001b[0m\n\u001b[0m\u001b[1;32m      4\u001b[0m \u001b[0mfile_header\u001b[0m \u001b[0;34m=\u001b[0m \u001b[0mfile\u001b[0m\u001b[0;34m.\u001b[0m\u001b[0mkeys\u001b[0m\u001b[0;34m(\u001b[0m\u001b[0;34m)\u001b[0m\u001b[0;34m.\u001b[0m\u001b[0mtolist\u001b[0m\u001b[0;34m(\u001b[0m\u001b[0;34m)\u001b[0m\u001b[0;34m\u001b[0m\u001b[0m\n\u001b[1;32m      5\u001b[0m \u001b[0mprint\u001b[0m\u001b[0;34m(\u001b[0m\u001b[0mfile_header\u001b[0m\u001b[0;34m)\u001b[0m\u001b[0;34m\u001b[0m\u001b[0m\n",
      "\u001b[0;32m/opt/anaconda/lib/python3.6/site-packages/pandas/io/pytables.py\u001b[0m in \u001b[0;36mread_hdf\u001b[0;34m(path_or_buf, key, mode, **kwargs)\u001b[0m\n\u001b[1;32m    392\u001b[0m                                      'contains multiple datasets.')\n\u001b[1;32m    393\u001b[0m             \u001b[0mkey\u001b[0m \u001b[0;34m=\u001b[0m \u001b[0mcandidate_only_group\u001b[0m\u001b[0;34m.\u001b[0m\u001b[0m_v_pathname\u001b[0m\u001b[0;34m\u001b[0m\u001b[0m\n\u001b[0;32m--> 394\u001b[0;31m         \u001b[0;32mreturn\u001b[0m \u001b[0mstore\u001b[0m\u001b[0;34m.\u001b[0m\u001b[0mselect\u001b[0m\u001b[0;34m(\u001b[0m\u001b[0mkey\u001b[0m\u001b[0;34m,\u001b[0m \u001b[0mauto_close\u001b[0m\u001b[0;34m=\u001b[0m\u001b[0mauto_close\u001b[0m\u001b[0;34m,\u001b[0m \u001b[0;34m**\u001b[0m\u001b[0mkwargs\u001b[0m\u001b[0;34m)\u001b[0m\u001b[0;34m\u001b[0m\u001b[0m\n\u001b[0m\u001b[1;32m    395\u001b[0m     \u001b[0;32mexcept\u001b[0m\u001b[0;34m:\u001b[0m\u001b[0;34m\u001b[0m\u001b[0m\n\u001b[1;32m    396\u001b[0m         \u001b[0;31m# if there is an error, close the store\u001b[0m\u001b[0;34m\u001b[0m\u001b[0;34m\u001b[0m\u001b[0m\n",
      "\u001b[0;32m/opt/anaconda/lib/python3.6/site-packages/pandas/io/pytables.py\u001b[0m in \u001b[0;36mselect\u001b[0;34m(self, key, where, start, stop, columns, iterator, chunksize, auto_close, **kwargs)\u001b[0m\n\u001b[1;32m    721\u001b[0m         \u001b[0mgroup\u001b[0m \u001b[0;34m=\u001b[0m \u001b[0mself\u001b[0m\u001b[0;34m.\u001b[0m\u001b[0mget_node\u001b[0m\u001b[0;34m(\u001b[0m\u001b[0mkey\u001b[0m\u001b[0;34m)\u001b[0m\u001b[0;34m\u001b[0m\u001b[0m\n\u001b[1;32m    722\u001b[0m         \u001b[0;32mif\u001b[0m \u001b[0mgroup\u001b[0m \u001b[0;32mis\u001b[0m \u001b[0;32mNone\u001b[0m\u001b[0;34m:\u001b[0m\u001b[0;34m\u001b[0m\u001b[0m\n\u001b[0;32m--> 723\u001b[0;31m             \u001b[0;32mraise\u001b[0m \u001b[0mKeyError\u001b[0m\u001b[0;34m(\u001b[0m\u001b[0;34m'No object named %s in the file'\u001b[0m \u001b[0;34m%\u001b[0m \u001b[0mkey\u001b[0m\u001b[0;34m)\u001b[0m\u001b[0;34m\u001b[0m\u001b[0m\n\u001b[0m\u001b[1;32m    724\u001b[0m \u001b[0;34m\u001b[0m\u001b[0m\n\u001b[1;32m    725\u001b[0m         \u001b[0;31m# create the storer and axes\u001b[0m\u001b[0;34m\u001b[0m\u001b[0;34m\u001b[0m\u001b[0m\n",
      "\u001b[0;31mKeyError\u001b[0m: 'No object named SMF in the file'"
     ]
    }
   ],
   "source": [
    "file_name = '/home/magnus/data/observational_data/all_data.h5'\n",
    "\n",
    "file = pd.read_hdf(file_name, key='SMF')\n",
    "file_header = file.keys().tolist()\n",
    "print(file_header)"
   ]
  },
  {
   "cell_type": "code",
   "execution_count": null,
   "metadata": {},
   "outputs": [],
   "source": [
    "\n",
    "\n",
    "\n",
    "\n",
    "\n",
    "\n",
    "\n",
    "\n",
    "\n",
    "\n",
    "\n",
    "\n",
    "\n",
    "\n",
    "\n",
    "\n",
    "\n",
    "\n",
    "\n",
    "\n",
    "\n",
    "\n",
    "\n",
    "\n",
    "\n",
    "\n",
    "\n",
    "\n",
    "\n",
    "\n",
    "\n",
    "\n",
    "\n",
    "\n",
    "\n",
    "\n",
    "\n",
    "\n",
    "\n",
    "\n",
    "\n",
    "\n",
    "\n",
    "\n",
    "\n",
    "\n",
    "\n"
   ]
  }
 ],
 "metadata": {
  "kernelspec": {
   "display_name": "Python 3",
   "language": "python",
   "name": "python3"
  },
  "language_info": {
   "codemirror_mode": {
    "name": "ipython",
    "version": 3
   },
   "file_extension": ".py",
   "mimetype": "text/x-python",
   "name": "python",
   "nbconvert_exporter": "python",
   "pygments_lexer": "ipython3",
   "version": "3.6.5"
  }
 },
 "nbformat": 4,
 "nbformat_minor": 2
}
