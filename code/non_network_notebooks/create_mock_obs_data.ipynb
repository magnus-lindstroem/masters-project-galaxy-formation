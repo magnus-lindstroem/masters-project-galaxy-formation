{
 "cells": [
  {
   "cell_type": "code",
   "execution_count": 93,
   "metadata": {},
   "outputs": [
    {
     "data": {
      "text/html": [
       "<style>.container { width:90% !important; }</style>"
      ],
      "text/plain": [
       "<IPython.core.display.HTML object>"
      ]
     },
     "metadata": {},
     "output_type": "display_data"
    },
    {
     "name": "stdout",
     "output_type": "stream",
     "text": [
      "The autoreload extension is already loaded. To reload it, use:\n",
      "  %reload_ext autoreload\n"
     ]
    }
   ],
   "source": [
    "from IPython.core.display import display, HTML\n",
    "display(HTML(\"<style>.container { width:90% !important; }</style>\"))\n",
    "\n",
    "import os\n",
    "from os.path import expanduser\n",
    "home_dir = expanduser(\"~\")\n",
    "module_path = home_dir + '/code/modules/'\n",
    "models_path = home_dir + '/models/'\n",
    "import sys\n",
    "sys.path.append(module_path)\n",
    "import numpy as np\n",
    "import pandas as pd\n",
    "import h5py\n",
    "import matplotlib.pyplot as plt\n",
    "from scipy import stats\n",
    "import json\n",
    "import pandas as pd\n",
    "%load_ext autoreload\n",
    "%autoreload 1\n",
    "%aimport data_processing\n",
    "from data_processing import *"
   ]
  },
  {
   "cell_type": "markdown",
   "metadata": {},
   "source": [
    "## Construct mock SMF"
   ]
  },
  {
   "cell_type": "code",
   "execution_count": 98,
   "metadata": {},
   "outputs": [],
   "source": [
    "original_directory = '/home/magnus/data/galcats_nonzero_sfr_no_density_with_growth_rate_no_lastMajM/'\n",
    "destination_directory = '/home/magnus/data/mock_data/stellar_mass_functions/'\n",
    "\n",
    "redshifts = [0, .1, .2, .5, 1, 2, 3, 4, 6, 8]\n",
    "bin_width = .1\n",
    "error = .3\n",
    "\n",
    "for redshift in redshifts:\n",
    "\n",
    "    file_name = 'galaxies.Z{:02.0f}'.format(redshift*10)\n",
    "\n",
    "    galfile = pd.read_hdf(original_directory + file_name + '.h5')\n",
    "    galaxies = galfile.values\n",
    "    gal_header = galfile.keys().tolist()\n",
    "\n",
    "    data_keys = {}\n",
    "    for col_nr, key in enumerate(gal_header):\n",
    "        data_keys[key] = col_nr\n",
    "\n",
    "    # Remove the smaller haloes\n",
    "    galaxies = galaxies[galaxies[:,data_keys['Halo_mass']] > 10.5, :]\n",
    "\n",
    "  #  print(np.amax(galaxies[:, data_keys['Halo_mass']]))\n",
    "  #  print(np.amin(galaxies[:, data_keys['Halo_mass']]))\n",
    "\n",
    "    max_stellar_mass = np.amax(galaxies[:, data_keys['Stellar_mass']])\n",
    "    min_stellar_mass = np.amin(galaxies[:, data_keys['Stellar_mass']])\n",
    "    lower_bin_edge = np.floor(min_stellar_mass * 10)/10\n",
    "    upper_bin_edge = np.ceil(max_stellar_mass* 10)/10\n",
    "   # print(min_stellar_mass, max_stellar_mass)\n",
    "   # print(lower_bin_edge, upper_bin_edge)\n",
    "\n",
    "    bin_edges = np.arange(lower_bin_edge, upper_bin_edge + bin_width, bin_width)\n",
    "    n_bins = len(bin_edges)-1\n",
    "    bin_stats = stats.binned_statistic(galaxies[:, data_keys['Stellar_mass']], galaxies[:, data_keys['Stellar_mass']], \n",
    "                                       bins=bin_edges)\n",
    "\n",
    "    bin_counts = [np.sum(bin_stats[2] == i) for i in range(1, n_bins+1)]\n",
    "\n",
    "    bin_centers = [(bin_edges[i] + bin_edges[i+1])/2 for i in range(len(bin_edges)-1)]\n",
    "  #  print(bin_centers)\n",
    "\n",
    "    #plt.hist(galaxies[:, data_keys['Stellar_mass']], bins = bin_edges, density = False, label = 'Stellar_mass')\n",
    "  #  plt.scatter(bin_centers, bin_counts)\n",
    "\n",
    "  #  print(bin_counts)\n",
    "    bin_counts = [float('nan') if count == 0 else count for count in bin_counts]\n",
    "    bin_counts_arr = np.array(bin_counts, dtype=np.float)\n",
    "    bin_counts_per_mpc3 = bin_counts_arr / 200**3 / bin_width\n",
    "    bin_counts_per_mpc3[bin_counts_per_mpc3 > 0] = np.log10(bin_counts_per_mpc3[bin_counts_per_mpc3 > 0])\n",
    "  #  print(bin_counts_per_mpc3)\n",
    "\n",
    "    full_data_list = [[stell_mass, phi, error] for (stell_mass, phi) in zip(bin_centers, bin_counts_per_mpc3) \n",
    "                      if (not np.isnan(phi)) ]\n",
    "    full_data_list.insert(0, {'bin_widths': bin_width, 'bin_edges': bin_edges.tolist()})\n",
    "  #  print(full_data_list)\n",
    "\n",
    "    with open(destination_directory + file_name + '.json', 'w+') as f:\n",
    "        json.dump(full_data_list, f)\n",
    "    f.close()"
   ]
  },
  {
   "cell_type": "code",
   "execution_count": null,
   "metadata": {
    "scrolled": true
   },
   "outputs": [],
   "source": [
    "### Try loading a data file\n",
    "file_name = 'galaxies.Z00'\n",
    "with open(destination_directory + file_name + '.json', 'r') as f:\n",
    "    test = json.load(f)\n",
    "f.close()\n",
    "print(test)"
   ]
  },
  {
   "cell_type": "markdown",
   "metadata": {},
   "source": [
    "## Construct mock SSFR"
   ]
  },
  {
   "cell_type": "code",
   "execution_count": 99,
   "metadata": {},
   "outputs": [],
   "source": [
    "original_directory = '/home/magnus/data/galcats_nonzero_sfr_no_density_with_growth_rate_no_lastMajM/'\n",
    "destination_directory = '/home/magnus/data/mock_data/ssfr/'\n",
    "redshifts = [0, .1, .2, .5, 1, 2, 3, 4, 6, 8]\n",
    "\n",
    "for redshift in redshifts:\n",
    "\n",
    "    file_name = 'galaxies.Z{:02.0f}'.format(redshift*10)\n",
    "    \n",
    "    bin_width = .2\n",
    "    error = .3\n",
    "\n",
    "    galfile = pd.read_hdf(original_directory + file_name + '.h5')\n",
    "    galaxies = galfile.values\n",
    "    gal_header = galfile.keys().tolist()\n",
    "\n",
    "    data_keys = {}\n",
    "    for col_nr, key in enumerate(gal_header):\n",
    "        data_keys[key] = col_nr\n",
    "\n",
    "    # Remove the smaller haloes\n",
    "    galaxies = galaxies[galaxies[:,data_keys['Halo_mass']] > 10.5, :]\n",
    "\n",
    "    # print(np.amax(galaxies[:, data_keys['Halo_mass']]))\n",
    "    # print(np.amin(galaxies[:, data_keys['Halo_mass']]))\n",
    "\n",
    "    sfr_log = galaxies[:, data_keys['SFR']]\n",
    "    sfr = np.power(10, sfr_log)\n",
    "    # print(np.amax(sfr))\n",
    "    # print(np.amin(sfr))\n",
    "\n",
    "    stellar_mass_log = galaxies[:, data_keys['Stellar_mass']]\n",
    "    stellar_mass = np.power(10, stellar_mass_log)\n",
    "    # print('{:.3e}'.format(np.amax(stellar_mass)))\n",
    "    # print('{:.3e}'.format(np.amin(stellar_mass)))\n",
    "\n",
    "    ssfr = sfr / stellar_mass\n",
    "    ssfr_log = np.log10(ssfr)\n",
    "\n",
    "    max_stellar_mass = np.amax(stellar_mass_log)\n",
    "    min_stellar_mass = np.amin(stellar_mass_log)\n",
    "    lower_bin_edge = np.floor(min_stellar_mass * 10)/10\n",
    "    upper_bin_edge = np.ceil(max_stellar_mass* 10)/10\n",
    "    # print(min_stellar_mass, max_stellar_mass)\n",
    "    # print(lower_bin_edge, upper_bin_edge)\n",
    "    if (upper_bin_edge - lower_bin_edge) % bin_width > 1e-5 and (upper_bin_edge - lower_bin_edge) % bin_width < bin_width - 1e-5:\n",
    "    #     print((upper_bin_edge - lower_bin_edge) % bin_width)\n",
    "    #     print('hej')\n",
    "        upper_bin_edge += (upper_bin_edge - lower_bin_edge) % bin_width\n",
    "    # print(lower_bin_edge, upper_bin_edge)\n",
    "\n",
    "    bin_edges = np.arange(lower_bin_edge, upper_bin_edge + bin_width, bin_width)\n",
    "    n_bins = len(bin_edges)-1\n",
    "    bin_stats_means = stats.binned_statistic(stellar_mass_log, ssfr_log, bins=bin_edges, statistic='mean')\n",
    "    bin_stats_stds = stats.binned_statistic(stellar_mass_log, ssfr_log, bins=bin_edges, statistic=np.std)\n",
    "    bin_means = bin_stats_means[0]\n",
    "    bin_stds = bin_stats_stds[0]\n",
    "    # print(bin_means)\n",
    "    # print(bin_stds)\n",
    "\n",
    "    bin_centers = [(bin_edges[i] + bin_edges[i+1])/2 for i in range(len(bin_edges)-1)]\n",
    "    # print(bin_edges)\n",
    "    # print(bin_centers)\n",
    "\n",
    "    # plt.errorbar(bin_centers, bin_means, yerr=bin_stds, fmt = 'bo')\n",
    "\n",
    "    full_data_list = [[stell_mass, mean_ssfr_log, error] for (stell_mass, mean_ssfr_log) in zip(bin_centers, bin_means)]\n",
    "    full_data_list.insert(0, {'bin_widths': bin_width, 'bin_edges': bin_edges.tolist()})\n",
    "    # print(full_data_list)\n",
    "\n",
    "    with open(destination_directory + file_name + '.json', 'w+') as f:\n",
    "        json.dump(full_data_list, f)\n",
    "    f.close()"
   ]
  },
  {
   "cell_type": "markdown",
   "metadata": {},
   "source": [
    "## Construct mock fraction of quenched galaxies"
   ]
  },
  {
   "cell_type": "code",
   "execution_count": 100,
   "metadata": {
    "scrolled": true
   },
   "outputs": [],
   "source": [
    "original_directory = '/home/magnus/data/galcats_nonzero_sfr_no_density_with_growth_rate_no_lastMajM/'\n",
    "destination_directory = '/home/magnus/data/mock_data/fq/'\n",
    "redshifts = [0, .1, .2, .5, 1, 2, 3, 4, 6, 8]\n",
    "\n",
    "np.seterr(invalid='raise')\n",
    "\n",
    "for i_red, redshift in enumerate(redshifts):\n",
    "#     redshift = redshifts[2]\n",
    "    scale_factor = 1 / (1 + redshift)\n",
    "\n",
    "    h_0 = 67.81 / (3.09e19) # 1/s\n",
    "    h_0 = h_0 * 60 * 24 * 365 # 1/yr\n",
    "    h_r = h_0 * np.sqrt(1e-3*scale_factor**(-4) + 0.308*scale_factor**(-3) + 0*scale_factor**(-2) + 0.692)\n",
    "    ssfr_cutoff = 0.3*h_r\n",
    "    log_ssfr_cutoff = np.log10(ssfr_cutoff)\n",
    "#     print('log ssfr cutoff: ', log_ssfr_cutoff)\n",
    "\n",
    "    file_name = 'galaxies.Z{:02.0f}'.format(redshift*10)\n",
    "\n",
    "    bin_width = .25\n",
    "    error = .3\n",
    "\n",
    "    galfile = pd.read_hdf(original_directory + file_name + '.h5')\n",
    "    galaxies = galfile.values\n",
    "    gal_header = galfile.keys().tolist()\n",
    "\n",
    "    data_keys = {}\n",
    "    for col_nr, key in enumerate(gal_header):\n",
    "        data_keys[key] = col_nr\n",
    "\n",
    "    # Remove the smaller haloes\n",
    "    galaxies = galaxies[galaxies[:,data_keys['Halo_mass']] > 10.5, :]\n",
    "\n",
    "    # print(np.amax(galaxies[:, data_keys['Halo_mass']]))\n",
    "    # print(np.amin(galaxies[:, data_keys['Halo_mass']]))\n",
    "\n",
    "    sfr_log = galaxies[:, data_keys['SFR']]\n",
    "    sfr = np.power(10, sfr_log)\n",
    "    # print(np.amax(sfr))\n",
    "    # print(np.amin(sfr))\n",
    "\n",
    "    stellar_mass_log = galaxies[:, data_keys['Stellar_mass']]\n",
    "    stellar_mass = np.power(10, stellar_mass_log)\n",
    "    # print('{:.3e}'.format(np.amax(stellar_mass)))\n",
    "    # print('{:.3e}'.format(np.amin(stellar_mass)))\n",
    "\n",
    "    ssfr = sfr / stellar_mass\n",
    "\n",
    "    # print(np.min(ssfr), np.max(ssfr))\n",
    "    # print(h_r)\n",
    "\n",
    "    ssfr_log = np.log10(ssfr)\n",
    "\n",
    "    max_stellar_mass = np.amax(stellar_mass_log)\n",
    "    min_stellar_mass = np.amin(stellar_mass_log)\n",
    "    lower_bin_edge = np.floor(min_stellar_mass * 1/bin_width)*bin_width\n",
    "    upper_bin_edge = np.ceil(max_stellar_mass * 1/bin_width)*bin_width\n",
    "#     print(min_stellar_mass, max_stellar_mass)\n",
    "#     print(lower_bin_edge, upper_bin_edge)\n",
    "    if (upper_bin_edge - lower_bin_edge) % bin_width > 1e-5 and (upper_bin_edge - lower_bin_edge) % bin_width < bin_width - 1e-5:\n",
    "    #     print((upper_bin_edge - lower_bin_edge) % bin_width)\n",
    "        upper_bin_edge += (upper_bin_edge - lower_bin_edge) % bin_width\n",
    "#     print(lower_bin_edge, upper_bin_edge)\n",
    "\n",
    "    bin_edges = np.arange(lower_bin_edge, upper_bin_edge + bin_width, bin_width)\n",
    "    n_bins = len(bin_edges)-1\n",
    "    bin_means, bin_edges, bin_numbers = stats.binned_statistic(stellar_mass_log, ssfr_log, bins=bin_edges, statistic='mean')\n",
    "\n",
    "    bin_fqs = []\n",
    "    for bin_num in range(1, n_bins+1):\n",
    "        try:\n",
    "            fq = np.sum(ssfr_log[bin_numbers == bin_num] < log_ssfr_cutoff) / len(ssfr_log[bin_numbers == bin_num])\n",
    "        except:\n",
    "            if len(ssfr_log[bin_numbers == bin_num]) == 0:\n",
    "                print('bin number {:d} contains 0 points'.format(bin_num))\n",
    "                fq = 0\n",
    "            else:\n",
    "                print('some other error')\n",
    "        bin_fqs.append(fq)\n",
    "\n",
    "    bin_centers = [(bin_edges[i] + bin_edges[i+1])/2 for i in range(len(bin_edges)-1)]\n",
    "#     fig = plt.figure(i_red)\n",
    "#     ax = plt.gca()\n",
    "#     plt.plot(bin_centers, bin_fqs)\n",
    "#     ax.set_ylim(bottom=0)\n",
    "#     ax.set_ylim(top=1)\n",
    "#     plt.title('Fraction of quenched galaxies at redshift {:.1f}'.format(redshift))\n",
    "#     fig.savefig('fq_Z{:02.0f}.png'.format(redshift*10), bbox_inches = 'tight')\n",
    "# plt.show()\n",
    "\n",
    "# print(bin_edges)\n",
    "# print(bin_centers)\n",
    "\n",
    "# plt.errorbar(bin_centers, bin_means, yerr=bin_stds, fmt = 'bo')\n",
    "\n",
    "    full_data_list = [[stell_mass, fq, error] for (stell_mass, fq) in zip(bin_centers, bin_fqs)]\n",
    "    full_data_list.insert(0, {'bin_widths': bin_width, 'bin_edges': bin_edges.tolist()})\n",
    "\n",
    "    with open(destination_directory + file_name + '.json', 'w+') as f:\n",
    "        json.dump(full_data_list, f)\n",
    "    f.close()"
   ]
  },
  {
   "cell_type": "markdown",
   "metadata": {},
   "source": [
    "### Real data"
   ]
  },
  {
   "cell_type": "code",
   "execution_count": null,
   "metadata": {},
   "outputs": [],
   "source": [
    "filename = '/home/magnus/data/observational_data/all_data.h5'\n",
    "file = h5py.File(filename, 'r')\n",
    "#file?\n",
    "# List all groups\n",
    "print(\"Keys: \", list(file.keys()))"
   ]
  },
  {
   "cell_type": "code",
   "execution_count": null,
   "metadata": {},
   "outputs": [],
   "source": [
    "# Get the universe\n",
    "universe_0 = file['Universe_0']\n",
    "#universe_0?\n",
    "# List all objects in the universe\n",
    "print(\"Keys: \", list(universe_0.keys()))"
   ]
  },
  {
   "cell_type": "code",
   "execution_count": null,
   "metadata": {
    "scrolled": true
   },
   "outputs": [],
   "source": [
    "# Get the SMF objects from the universe\n",
    "smf = universe_0['SMF']\n",
    "#smf?\n",
    "# List all objects\n",
    "print(\"Keys: \", list(smf.keys()))\n",
    "# Get the dataset 'Data'\n",
    "data = smf['Data']\n",
    "print(\"Keys of Data: \", list(data.keys()))\n",
    "data_keys = list(data.keys())\n",
    "model = smf['Model']\n",
    "sets = smf['Sets']"
   ]
  },
  {
   "cell_type": "code",
   "execution_count": null,
   "metadata": {},
   "outputs": [],
   "source": [
    "print(list(sets))\n",
    "#sets?"
   ]
  },
  {
   "cell_type": "code",
   "execution_count": null,
   "metadata": {},
   "outputs": [],
   "source": [
    "print(list(model))\n",
    "#model?"
   ]
  },
  {
   "cell_type": "code",
   "execution_count": null,
   "metadata": {
    "scrolled": true
   },
   "outputs": [],
   "source": [
    "#print(list(data['000 Li & White 2009 (z = 0.00 - 0.20)']))\n",
    "print(list(data))\n",
    "#data?"
   ]
  },
  {
   "cell_type": "code",
   "execution_count": null,
   "metadata": {},
   "outputs": [],
   "source": [
    "(1 + 1/(1+.2))/2"
   ]
  },
  {
   "cell_type": "code",
   "execution_count": null,
   "metadata": {},
   "outputs": [],
   "source": [
    "data_obj_0 = data[data_keys[0]]\n",
    "print(list(data_obj_0))\n",
    "#data_obj_0?"
   ]
  },
  {
   "cell_type": "markdown",
   "metadata": {},
   "source": [
    "### Using pandas"
   ]
  },
  {
   "cell_type": "code",
   "execution_count": null,
   "metadata": {},
   "outputs": [],
   "source": [
    "file_name = '/home/magnus/data/observational_data/all_data.h5'\n",
    "\n",
    "file = pd.read_hdf(file_name, key='SMF')\n",
    "file_header = file.keys().tolist()\n",
    "print(file_header)"
   ]
  },
  {
   "cell_type": "code",
   "execution_count": null,
   "metadata": {},
   "outputs": [],
   "source": [
    "\n",
    "\n",
    "\n",
    "\n",
    "\n",
    "\n",
    "\n",
    "\n",
    "\n",
    "\n",
    "\n",
    "\n",
    "\n",
    "\n",
    "\n",
    "\n",
    "\n",
    "\n",
    "\n",
    "\n",
    "\n",
    "\n",
    "\n",
    "\n",
    "\n",
    "\n",
    "\n",
    "\n",
    "\n",
    "\n",
    "\n",
    "\n",
    "\n",
    "\n",
    "\n",
    "\n",
    "\n",
    "\n",
    "\n",
    "\n",
    "\n",
    "\n",
    "\n",
    "\n",
    "\n",
    "\n",
    "\n"
   ]
  }
 ],
 "metadata": {
  "kernelspec": {
   "display_name": "Python 3",
   "language": "python",
   "name": "python3"
  },
  "language_info": {
   "codemirror_mode": {
    "name": "ipython",
    "version": 3
   },
   "file_extension": ".py",
   "mimetype": "text/x-python",
   "name": "python",
   "nbconvert_exporter": "python",
   "pygments_lexer": "ipython3",
   "version": "3.6.5"
  }
 },
 "nbformat": 4,
 "nbformat_minor": 2
}
