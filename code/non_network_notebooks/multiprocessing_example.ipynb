{
 "cells": [
  {
   "cell_type": "code",
   "execution_count": 4,
   "metadata": {},
   "outputs": [],
   "source": [
    "import multiprocessing as mp\n",
    "import numpy as np\n",
    "import random\n",
    "import string\n",
    "import os\n",
    "import time\n",
    "import matplotlib.pyplot as plt\n",
    "\n",
    "random.seed(123)"
   ]
  },
  {
   "cell_type": "code",
   "execution_count": null,
   "metadata": {},
   "outputs": [],
   "source": [
    "def parzen_estimation(x_samples, point_x, h):\n",
    "    k_n = 0\n",
    "    for row in x_samples:\n",
    "        x_i = (point_x - row[:,np.newaxis]) / (h)\n",
    "        for row in x_i:\n",
    "            if np.abs(row) > (1/2):\n",
    "                break\n",
    "        else: # \"completion-else\"*\n",
    "            k_n += 1\n",
    "    return (h, (k_n / len(x_samples)) / (h**point_x.shape[1]))\n"
   ]
  },
  {
   "cell_type": "code",
   "execution_count": null,
   "metadata": {},
   "outputs": [],
   "source": [
    "def cube(x):\n",
    "    start = time.time()\n",
    "    mat = np.ones((1000, 1000))\n",
    "    mat = mat * np.random.uniform(size=(1000,1000))\n",
    "    mat = np.linalg.inv(mat)\n",
    "    end = time.time()\n",
    "    return (x, end-start)\n",
    "\n",
    "times = []\n",
    "\n",
    "for i in range(1,21):\n",
    "    \n",
    "    glob_start = time.time()\n",
    "    with mp.Pool(processes=i) as pool:\n",
    "        results = pool.map(cube, range(20))\n",
    "\n",
    "  #  summ = 0\n",
    "  #  for res in results:\n",
    "  #      summ += res[1]\n",
    "  #      print(res)\n",
    "    glob_end = time.time()\n",
    "  #  print(summ, glob_end - glob_start)\n",
    "    times.append(glob_end-glob_start)\n",
    "    "
   ]
  },
  {
   "cell_type": "code",
   "execution_count": null,
   "metadata": {},
   "outputs": [],
   "source": [
    "fig = plt.figure(figsize=(16,10))\n",
    "plt.plot(range(1,21),times)"
   ]
  },
  {
   "cell_type": "code",
   "execution_count": null,
   "metadata": {},
   "outputs": [],
   "source": [
    "    while count < 10000:\n",
    "        \n",
    "        mat*=mat\n",
    "        count += 1\n",
    "        x = x + 0.000001\n",
    "        x = x ** 1.0000001\n",
    "    end = time.time()\n",
    "    return (inp, x, end - start)"
   ]
  },
  {
   "cell_type": "code",
   "execution_count": null,
   "metadata": {},
   "outputs": [],
   "source": [
    "# Define an output queue\n",
    "output = mp.Queue()\n",
    "\n",
    "def finish():\n",
    "    print('Finished process, module name:', __name__, 'parent process:', os.getppid(), 'process id:', os.getpid())\n",
    "\n",
    "# define a example function\n",
    "def rand_string(y, output, valfri=0):\n",
    "    inp = y\n",
    "    x = y\n",
    "    while(x < 1e2):\n",
    "        x = 2*x\n",
    "    finish()\n",
    "    output.put(valfri)\n",
    "\n",
    "# Setup a list of processes that we want to run\n",
    "processes = [mp.Process(target=rand_string, args=(x, output, 1)) for x in range(1, 4)]\n",
    "\n",
    "# Run processes\n",
    "for p in processes:\n",
    "    p.start()\n",
    "\n",
    "# Exit the completed processes\n",
    "for p in processes:\n",
    "    p.join()\n",
    "\n",
    "# Get process results from the output queue\n",
    "results = [output.get() for p in processes]\n",
    "\n",
    "print(results)"
   ]
  },
  {
   "cell_type": "code",
   "execution_count": 11,
   "metadata": {},
   "outputs": [
    {
     "name": "stdout",
     "output_type": "stream",
     "text": [
      "worker Process-28 waiting for a job\n",
      "worker Process-29 waiting for a job\n",
      "worker Process-30 waiting for a job\n",
      "\n",
      "inbetween the loops now\n",
      "\n",
      "Process started\n",
      "Doing something fancy in Process-28 for Fancy Dan!\n",
      "worker Process-28 waiting for a job\n",
      "Process started\n",
      "Doing something fancy in Process-29 for Fancy Dan!\n",
      "worker Process-29 waiting for a job\n",
      "Process started\n",
      "Doing something fancy in Process-30 for Fancy Dan!\n",
      "worker Process-30 waiting for a job\n",
      "Process started\n",
      "Doing something fancy in Process-28 for Fancy Dan!\n",
      "worker Process-28 waiting for a job\n",
      "Process started\n",
      "quitting\n",
      "Doing something fancy in Process-29 for Fancy Dan!\n",
      "quitting\n",
      "worker Process-29 waiting for a job\n",
      "quitting\n",
      "hejhej\n",
      "hejhej\n",
      "hejhej\n",
      "hejhej\n",
      "hejhej\n"
     ]
    }
   ],
   "source": [
    "class MyFancyClass(object):\n",
    "    \n",
    "    def __init__(self, name):\n",
    "        self.name = name\n",
    "    \n",
    "    def do_something(self):\n",
    "        proc_name = mp.current_process().name\n",
    "        print('Doing something fancy in {} for {}!'.format(proc_name, self.name))\n",
    "        return 'hejhej'\n",
    "\n",
    "\n",
    "def worker(q, results):\n",
    "    do = True\n",
    "    while do:\n",
    "        print('worker {} waiting for a job'.format(mp.current_process().name))\n",
    "        obj = q.get()\n",
    "        if obj == 'quit':\n",
    "            do = False\n",
    "            print('quitting')\n",
    "\n",
    "        else:\n",
    "            msg = obj.do_something()\n",
    "            results.put(msg)\n",
    "\n",
    "        \n",
    "\n",
    "if __name__ == '__main__':\n",
    "    queue = mp.Queue()\n",
    "    results = mp.Queue()\n",
    "    nr_workers = 3\n",
    "    \n",
    "    process_list = []\n",
    "    for i in range(nr_workers):\n",
    "        p = mp.Process(target=worker, args=(queue, results))\n",
    "        process_list.append(p)\n",
    "    for p in process_list:\n",
    "        p.start()\n",
    "    \n",
    "    \n",
    "    print('\\ninbetween the loops now\\n')\n",
    "    \n",
    "    time.sleep(5)\n",
    "    for i in range(5):\n",
    "        objekt = MyFancyClass('Fancy Dan')\n",
    "#         objekt.do_something()\n",
    "        queue.put(objekt)\n",
    "        \n",
    "    for i in range(len(process_list)):\n",
    "        queue.put('quit')\n",
    "    \n",
    "    # Wait for the worker to finish\n",
    "    queue.close()\n",
    "    queue.join_thread()\n",
    "    for i in range(5):\n",
    "        message = results.get()\n",
    "        print(message)\n",
    "    results.close()\n",
    "    results.join_thread()\n",
    "    for p in process_list:\n",
    "        p.join()"
   ]
  },
  {
   "cell_type": "code",
   "execution_count": 15,
   "metadata": {},
   "outputs": [
    {
     "name": "stdout",
     "output_type": "stream",
     "text": [
      "[0. 0. 0.]\n"
     ]
    }
   ],
   "source": [
    "a = np.zeros(3)\n",
    "print(a)"
   ]
  }
 ],
 "metadata": {
  "kernelspec": {
   "display_name": "Python 3",
   "language": "python",
   "name": "python3"
  },
  "language_info": {
   "codemirror_mode": {
    "name": "ipython",
    "version": 3
   },
   "file_extension": ".py",
   "mimetype": "text/x-python",
   "name": "python",
   "nbconvert_exporter": "python",
   "pygments_lexer": "ipython3",
   "version": "3.6.5"
  }
 },
 "nbformat": 4,
 "nbformat_minor": 2
}
