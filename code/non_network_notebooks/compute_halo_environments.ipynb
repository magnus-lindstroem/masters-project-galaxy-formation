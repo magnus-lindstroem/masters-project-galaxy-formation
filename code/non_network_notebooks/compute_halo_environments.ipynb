{
 "cells": [
  {
   "cell_type": "code",
   "execution_count": 8,
   "metadata": {},
   "outputs": [
    {
     "name": "stdout",
     "output_type": "stream",
     "text": [
      "The autoreload extension is already loaded. To reload it, use:\n",
      "  %reload_ext autoreload\n"
     ]
    }
   ],
   "source": [
    "import numpy as np\n",
    "import os\n",
    "from os.path import expanduser\n",
    "home_dir = expanduser(\"~\")\n",
    "module_path = home_dir + '/code/modules/'\n",
    "import sys\n",
    "sys.path.append(module_path)\n",
    "import pandas as pd\n",
    "import math\n",
    "import matplotlib.pyplot as plt\n",
    "from mpl_toolkits.mplot3d import Axes3D\n",
    "from numba import jit\n",
    "import time, datetime\n",
    "%load_ext autoreload\n",
    "%autoreload 1\n",
    "%aimport environmental_density\n",
    "from environmental_density import get_density_periodic\n",
    "np.random.seed(999)"
   ]
  },
  {
   "cell_type": "code",
   "execution_count": 9,
   "metadata": {},
   "outputs": [],
   "source": [
    "data_dict = {'X_pos': 0, 'Y_pos': 1, 'Z_pos': 2, 'X_vel': 3, 'Y_vel': 4, 'Z_vel': 5, 'Halo_mass': 6, \n",
    "             'Stellar_mass': 7, 'SFR': 8, 'Intra_cluster_mass': 9, 'Halo_mass_peak': 10, 'Stellar_mass_obs': 11, \n",
    "             'SFR_obs': 12, 'Halo_radius': 13, 'Concentration': 14, 'Halo_spin': 15, 'Scale_peak_mass': 16, \n",
    "             'Scale_half_mass': 17, 'Scale_last_MajM': 18, 'Type': 19}"
   ]
  },
  {
   "cell_type": "code",
   "execution_count": 12,
   "metadata": {
    "scrolled": true
   },
   "outputs": [
    {
     "name": "stdout",
     "output_type": "stream",
     "text": [
      "['X_pos', 'Y_pos', 'Z_pos', 'X_vel', 'Y_vel', 'Z_vel', 'Halo_mass', 'Stellar_mass', 'SFR', 'Intra_cluster_mass', 'Halo_mass_peak', 'Stellar_mass_obs', 'SFR_obs', 'Halo_radius', 'Concentration', 'Halo_spin', 'Scale_peak_mass', 'Scale_half_mass', 'Scale_last_MajM', 'Type']\n",
      "['X_pos', 'Y_pos', 'Z_pos', 'X_vel', 'Y_vel', 'Z_vel', 'Halo_mass', 'Stellar_mass', 'SFR', 'Intra_cluster_mass', 'Halo_mass_peak', 'Stellar_mass_obs', 'SFR_obs', 'Halo_radius', 'Concentration', 'Halo_spin', 'Scale_peak_mass', 'Scale_half_mass', 'Scale_last_MajM', 'Type']\n",
      "['X_pos', 'Y_pos', 'Z_pos', 'X_vel', 'Y_vel', 'Z_vel', 'Halo_mass', 'Stellar_mass', 'SFR', 'Intra_cluster_mass', 'Halo_mass_peak', 'Stellar_mass_obs', 'SFR_obs', 'Halo_radius', 'Concentration', 'Halo_spin', 'Scale_peak_mass', 'Scale_half_mass', 'Scale_last_MajM', 'Type']\n",
      "['X_pos', 'Y_pos', 'Z_pos', 'X_vel', 'Y_vel', 'Z_vel', 'Halo_mass', 'Stellar_mass', 'SFR', 'Intra_cluster_mass', 'Halo_mass_peak', 'Stellar_mass_obs', 'SFR_obs', 'Halo_radius', 'Concentration', 'Halo_spin', 'Scale_peak_mass', 'Scale_half_mass', 'Scale_last_MajM', 'Type']\n",
      "['X_pos', 'Y_pos', 'Z_pos', 'X_vel', 'Y_vel', 'Z_vel', 'Halo_mass', 'Stellar_mass', 'SFR', 'Intra_cluster_mass', 'Halo_mass_peak', 'Stellar_mass_obs', 'SFR_obs', 'Halo_radius', 'Concentration', 'Halo_spin', 'Scale_peak_mass', 'Scale_half_mass', 'Scale_last_MajM', 'Type']\n",
      "['X_pos', 'Y_pos', 'Z_pos', 'X_vel', 'Y_vel', 'Z_vel', 'Halo_mass', 'Stellar_mass', 'SFR', 'Intra_cluster_mass', 'Halo_mass_peak', 'Stellar_mass_obs', 'SFR_obs', 'Halo_radius', 'Concentration', 'Halo_spin', 'Scale_peak_mass', 'Scale_half_mass', 'Scale_last_MajM', 'Type']\n",
      "['X_pos', 'Y_pos', 'Z_pos', 'X_vel', 'Y_vel', 'Z_vel', 'Halo_mass', 'Stellar_mass', 'SFR', 'Intra_cluster_mass', 'Halo_mass_peak', 'Stellar_mass_obs', 'SFR_obs', 'Halo_radius', 'Concentration', 'Halo_spin', 'Scale_peak_mass', 'Scale_half_mass', 'Scale_last_MajM', 'Type']\n",
      "['X_pos', 'Y_pos', 'Z_pos', 'X_vel', 'Y_vel', 'Z_vel', 'Halo_mass', 'Stellar_mass', 'SFR', 'Intra_cluster_mass', 'Halo_mass_peak', 'Stellar_mass_obs', 'SFR_obs', 'Halo_radius', 'Concentration', 'Halo_spin', 'Scale_peak_mass', 'Scale_half_mass', 'Scale_last_MajM', 'Type']\n",
      "['X_pos', 'Y_pos', 'Z_pos', 'X_vel', 'Y_vel', 'Z_vel', 'Halo_mass', 'Stellar_mass', 'SFR', 'Intra_cluster_mass', 'Halo_mass_peak', 'Stellar_mass_obs', 'SFR_obs', 'Halo_radius', 'Concentration', 'Halo_spin', 'Scale_peak_mass', 'Scale_half_mass', 'Scale_last_MajM', 'Type']\n",
      "['X_pos', 'Y_pos', 'Z_pos', 'X_vel', 'Y_vel', 'Z_vel', 'Halo_mass', 'Stellar_mass', 'SFR', 'Intra_cluster_mass', 'Halo_mass_peak', 'Stellar_mass_obs', 'SFR_obs', 'Halo_radius', 'Concentration', 'Halo_spin', 'Scale_peak_mass', 'Scale_half_mass', 'Scale_last_MajM', 'Type']\n"
     ]
    }
   ],
   "source": [
    "origin_galcat_directory = '/home/magnus/data/galcats_nonzero_sfr_no_density/'\n",
    "destination_galcat_directory = '/home/magnus/data/galcats_nonzero_sfr_with_density/'\n",
    "redshifts = [0, 1, 2, 5, 10, 20, 30, 40, 60, 80]\n",
    "with open('progress.txt', 'w+') as f:\n",
    "    for redshift in redshifts:\n",
    "        f.write('{}    Working on redshift Z{:02d}'.format(datetime.datetime.now().strftime(\"%H:%M:%S\"), redshift))\n",
    "        f.flush()\n",
    "        \n",
    "        file_name = 'galaxies.Z{:02d}.h5'.format(redshift)\n",
    "        galfile = pd.read_hdf(origin_galcat_directory + file_name)\n",
    "        galaxies = galfile.as_matrix()\n",
    "        gal_header = galfile.keys().tolist()\n",
    "        print(gal_header)\n",
    "\n",
    "        ### Remove data points with halo mass below 10.5\n",
    "        galaxies = galaxies[galaxies[:,6] > 10.5, :]\n",
    "\n",
    "        coordinates = galaxies[:, :3]\n",
    "        halo_masses = np.power(10, galaxies[:, data_dict['Halo_mass']])\n",
    "        nr_points = np.shape(coordinates)[0]\n",
    "\n",
    "        nr_neighbours_wanted = 10\n",
    "        box_sides = np.array([200, 200, 200])\n",
    "\n",
    "        neigh_densities = get_density_periodic(coordinates, halo_masses, nr_neighbours_wanted, \n",
    "                                                box_sides, nr_points, verbatim=False, progress_file=False)\n",
    "        neigh_densities = np.log10(neigh_densities)\n",
    "\n",
    "        pd_dataframe = pd.DataFrame(data=galaxies, columns=gal_header)\n",
    "        pd_dataframe['Environmental_density'] = neigh_densities\n",
    "\n",
    "        pd_dataframe.to_hdf(destination_galcat_directory + file_name, 'w')"
   ]
  },
  {
   "cell_type": "code",
   "execution_count": 5,
   "metadata": {},
   "outputs": [
    {
     "name": "stdout",
     "output_type": "stream",
     "text": [
      "0.00088534754 199.9999\n",
      "0.0 199.99922\n",
      "0.00028036005 199.99968\n"
     ]
    }
   ],
   "source": [
    "### Make sure that the edges are what they should be\n",
    "print(np.min(galaxies[:, 0]), np.max(galaxies[:, 0]))\n",
    "print(np.min(galaxies[:, 1]), np.max(galaxies[:, 1]))\n",
    "print(np.min(galaxies[:, 2]), np.max(galaxies[:, 2]))"
   ]
  },
  {
   "cell_type": "code",
   "execution_count": null,
   "metadata": {},
   "outputs": [],
   "source": [
    "print(np.mean(neigh_densities))\n",
    "print(np.sum(halo_masses)/200**3)"
   ]
  },
  {
   "cell_type": "code",
   "execution_count": null,
   "metadata": {},
   "outputs": [],
   "source": [
    "print(neigh_indices[3])"
   ]
  },
  {
   "cell_type": "markdown",
   "metadata": {},
   "source": [
    "## Plot the data points to make sure that the correct neighbors were chosen"
   ]
  },
  {
   "cell_type": "code",
   "execution_count": null,
   "metadata": {},
   "outputs": [],
   "source": [
    "not_found_middle = True\n",
    "not_found_corner = True\n",
    "point_counter = 0\n",
    "while not_found_middle or not_found_corner:\n",
    "    \n",
    "    if not_found_corner:\n",
    "        \n",
    "        is_in_corner = (coordinates[point_counter,0] < 10 and coordinates[point_counter,1] < 10 and \n",
    "                     coordinates[point_counter,2] < 10)\n",
    "        if is_in_corner:\n",
    "            not_found_corner = False\n",
    "            corner_point = point_counter\n",
    "            \n",
    "    if not_found_middle:\n",
    "        is_in_middle = (coordinates[point_counter,0] < 110 and coordinates[point_counter,1] < 110 and \n",
    "                        coordinates[point_counter,2] < 110 and coordinates[point_counter,0] > 90 and \n",
    "                        coordinates[point_counter,1] > 90 and coordinates[point_counter,2] > 90)\n",
    "        if is_in_middle:\n",
    "            not_found_middle = False\n",
    "            middle_point = point_counter\n",
    "    point_counter += 1\n",
    "\n",
    "fig = plt.figure(5, figsize=(16,16))\n",
    "ax = plt.subplot(221)\n",
    "\n",
    "ax.plot(coordinates[:,0], coordinates[:,1], 'k.', markersize=1)\n",
    "neigh_points = ax.plot(coordinates[neigh_indices[middle_point],0], \n",
    "                       coordinates[neigh_indices[middle_point],1], 'bo', markersize=3, label='neighbours')\n",
    "mid_point = ax.plot(coordinates[middle_point,0], coordinates[middle_point,1], 'ro', markersize=7, label='center point')\n",
    "plt.title('XY plane', fontsize=25)\n",
    "plt.ylabel('Y', fontsize=20)\n",
    "plt.xlabel('X', fontsize=20)\n",
    "ax.legend(loc='upper center')\n",
    "\n",
    "ax = plt.subplot(222)\n",
    "ax.plot(coordinates[:,0], coordinates[:,2], 'k.', markersize=1)\n",
    "neigh_points = ax.plot(coordinates[neigh_indices[middle_point],0], \n",
    "                       coordinates[neigh_indices[middle_point],2], 'bo', markersize=3, label='neighbours')\n",
    "mid_point = ax.plot(coordinates[middle_point,0], coordinates[middle_point,2], 'ro', markersize=7, label='center point')\n",
    "plt.title('XZ plane', fontsize=25)\n",
    "plt.ylabel('Z', fontsize=20)\n",
    "plt.xlabel('X', fontsize=20)\n",
    "ax.legend(loc='upper center')\n",
    "\n",
    "#plt.show()\n",
    "\n",
    "#fig = plt.figure(5, figsize=(16,8))\n",
    "ax = plt.subplot(223)\n",
    "\n",
    "ax.plot(coordinates[:,0], coordinates[:,1], 'k.', markersize=1)\n",
    "ax.plot(coordinates[neigh_indices[corner_point],0], \n",
    "                       coordinates[neigh_indices[corner_point],2], 'bo', markersize=3, label='neighbours')\n",
    "ax.plot(coordinates[corner_point,0], coordinates[corner_point,1], 'ro', markersize=7, label='center point')\n",
    "plt.title('XY plane', fontsize=25)\n",
    "plt.ylabel('Y', fontsize=20)\n",
    "plt.xlabel('X', fontsize=20)\n",
    "ax.legend(loc='upper center')\n",
    "\n",
    "ax = plt.subplot(224)\n",
    "ax.plot(coordinates[:,0], coordinates[:,2], 'k.', markersize=1)\n",
    "neigh_points = ax.plot(coordinates[neigh_indices[corner_point],0], \n",
    "                       coordinates[neigh_indices[corner_point],2], 'bo', markersize=3, label='neighbours')\n",
    "ax.plot(coordinates[corner_point,0], coordinates[corner_point,2], 'ro', markersize=7, label='center point')\n",
    "plt.title('XZ plane', fontsize=25)\n",
    "plt.ylabel('Z', fontsize=20)\n",
    "plt.xlabel('X', fontsize=20)\n",
    "ax.legend(loc='upper center')\n",
    "\n",
    "plt.show()"
   ]
  },
  {
   "cell_type": "code",
   "execution_count": null,
   "metadata": {},
   "outputs": [],
   "source": [
    "### Save the figure\n",
    "fig.savefig('neighbours_visualisation.png', bbox_inches = 'tight')"
   ]
  },
  {
   "cell_type": "markdown",
   "metadata": {},
   "source": [
    "## Make a new pd dataset and save it"
   ]
  },
  {
   "cell_type": "markdown",
   "metadata": {},
   "source": [
    "## Try loading the newly created galaxy catalogue"
   ]
  },
  {
   "cell_type": "code",
   "execution_count": 24,
   "metadata": {},
   "outputs": [
    {
     "name": "stdout",
     "output_type": "stream",
     "text": [
      "['X_pos', 'Y_pos', 'Z_pos', 'X_vel', 'Y_vel', 'Z_vel', 'Halo_mass', 'Stellar_mass', 'SFR', 'Intra_cluster_mass', 'Halo_mass_peak', 'Stellar_mass_obs', 'SFR_obs', 'Halo_radius', 'Concentration', 'Halo_spin', 'Scale_peak_mass', 'Scale_half_mass', 'Scale_last_MajM', 'Type', 'Environmental_density']\n",
      "(5971, 21)\n",
      "8.17\n",
      "11.54\n",
      "6.61\n"
     ]
    }
   ],
   "source": [
    "galfile = pd.read_hdf(destination_galcat_directory + 'galaxies.Z80.h5')\n",
    "galaxies = galfile.as_matrix()\n",
    "gal_header = galfile.keys().tolist()\n",
    "print(gal_header)\n",
    "print(np.shape(galaxies))\n",
    "\n",
    "print('%.2f' % (np.mean(galaxies[:,20])))\n",
    "print('%.2f' % (np.amax(galaxies[:,20])))\n",
    "print('%.2f' % (np.amin(galaxies[:,20])))\n",
    "#print(np.sum(galaxies[:,6]) / 200**3)"
   ]
  },
  {
   "cell_type": "code",
   "execution_count": null,
   "metadata": {},
   "outputs": [],
   "source": [
    "galaxies[:,20] = np.log10(galaxies[:,20])"
   ]
  },
  {
   "cell_type": "markdown",
   "metadata": {},
   "source": [
    "## Old functions"
   ]
  },
  {
   "cell_type": "code",
   "execution_count": null,
   "metadata": {},
   "outputs": [],
   "source": [
    "@jit(nopython=True)\n",
    "def nearest_k_neighbours_1(coordinates, nr_neighbours, box_sides, nr_points):\n",
    "    indices_of_neighbors = np.zeros((coordinates.shape[0], nr_neighbours))\n",
    "    for i in range(nr_points):\n",
    "\n",
    "        euclidean_dists = np.sqrt(np.sum(np.minimum(np.abs(coordinates - coordinates[i,:]), box_sides - \n",
    "                                                    (np.abs(coordinates - coordinates[i,:])))**2, 1))\n",
    "        indices_of_neighbors[i,:] = np.argsort(euclidean_dists)[:nr_neighbours]\n",
    "    \n",
    "    return indices_of_neighbors"
   ]
  },
  {
   "cell_type": "code",
   "execution_count": null,
   "metadata": {},
   "outputs": [],
   "source": [
    "@jit(nopython=True)\n",
    "def nearest_k_neighbours_2(coordinates, nr_neighbours, box_sides, nr_points):\n",
    "    indices_of_neighbors = np.zeros((coordinates.shape[0], nr_neighbours))\n",
    "#    weights_of_neighbors = np.zeros((coordinates.shape[0], nr_neighbours))\n",
    "    for i in range(nr_points):\n",
    "        norm_dist = np.abs(coordinates - coordinates[i,:])\n",
    "        inv_dist = box_sides - norm_dist\n",
    "        shortest_dists = np.minimum(norm_dist, inv_dist)\n",
    "        squared_shortest_dists = shortest_dists**2\n",
    "        summed_squared_shortest_dists = np.sum(squared_shortest_dists, 1)\n",
    "        euclidean_dists = np.sqrt(summed_squared_shortest_dists)\n",
    "        \n",
    "        indices_of_neighbors[i,:] = np.argsort(euclidean_dists)[:nr_neighbours]\n",
    "#        weights_of_neighbors[i,:]\n",
    "    \n",
    "    return indices_of_neighbors"
   ]
  },
  {
   "cell_type": "code",
   "execution_count": null,
   "metadata": {},
   "outputs": [],
   "source": [
    "def nearest_k_neighbours_3(coordinates, nr_neighbours, box_sides, nr_points):\n",
    "    indices_of_neighbors = np.zeros((coordinates.shape[0], nr_neighbours))\n",
    "    for i in range(nr_points):\n",
    "\n",
    "        euclidean_dists = np.sqrt(np.sum(np.minimum(np.abs(coordinates - coordinates[i,:]), box_sides - \n",
    "                                                    (np.abs(coordinates - coordinates[i,:])))**2, 1))\n",
    "        indices_of_neighbors[i,:] = np.argpartition(euclidean_dists, nr_neighbours)[:nr_neighbours]\n",
    "    \n",
    "    return indices_of_neighbors"
   ]
  },
  {
   "cell_type": "code",
   "execution_count": null,
   "metadata": {},
   "outputs": [],
   "source": [
    "@jit\n",
    "def get_density_periodic_jit(coordinates, weights, nr_neighbours, box_sides, nr_points):\n",
    "    indices_of_neighbors = np.zeros((coordinates.shape[0], nr_neighbours), dtype=np.int8)\n",
    "    masses_of_neighbors = np.zeros((coordinates.shape[0], nr_neighbours))\n",
    "    neigh_densities = np.zeros(nr_points)\n",
    "    for i in range(nr_points):\n",
    "        norm_dist = np.abs(coordinates - coordinates[i,:])\n",
    "        inv_dist = box_sides - norm_dist\n",
    "        shortest_dists = np.minimum(norm_dist, inv_dist)\n",
    "        squared_shortest_dists = shortest_dists**2\n",
    "        summed_squared_shortest_dists = np.sum(squared_shortest_dists, 1)\n",
    "        euclidean_dists = np.sqrt(summed_squared_shortest_dists)\n",
    "        \n",
    "        indices_of_k_closest_neighbours = np.argpartition(euclidean_dists, nr_neighbours)[:nr_neighbours]\n",
    "        indices_of_neighbors[i,:] = indices_of_k_closest_neighbours\n",
    "        masses_of_neighbors[i,:] = weights[indices_of_k_closest_neighbours]\n",
    "        \n",
    "        sphere_radius = np.max(euclidean_dists[indices_of_k_closest_neighbours])\n",
    "        print('sphere radius: ', sphere_radius)\n",
    "        sphere_volume = (4/3) * math.pi * sphere_radius**3\n",
    "#        print('sphere volume: ', sphere_volume)\n",
    "        density =  np.sum(masses_of_neighbors[i,:]) / sphere_volume\n",
    "#        print('density: ', density)\n",
    "        neigh_densities[i] = density\n",
    "    \n",
    "    return indices_of_neighbors, masses_of_neighbors, neigh_densities\n",
    "                "
   ]
  },
  {
   "cell_type": "code",
   "execution_count": null,
   "metadata": {},
   "outputs": [],
   "source": [
    "#@jit\n",
    "def get_density_periodic_OLD(coordinates, weights, nr_neighbours, box_sides, nr_points, verbatim=False):\n",
    "    \n",
    "    with open('results.txt', 'w+') as f:\n",
    "\n",
    "        neigh_densities = np.zeros(nr_points)\n",
    "\n",
    "        start = time.time()\n",
    "        for i in range(nr_points):\n",
    "\n",
    "            if int(i/1000) == i/1000 and i > 0:\n",
    "                end = time.time()\n",
    "                elapsed_time = (end-start)/60\n",
    "                time_remaining = elapsed_time / i * (nr_points - i)\n",
    "                if verbatim:\n",
    "                    print('%s      Time elapsed: %.2fmin. Time remaining: %.2fmin.' % (datetime.datetime.now().strftime(\"%H:%M:%S\"),\n",
    "                                                                            elapsed_time, time_remaining))\n",
    "                f.write('%s      Time elapsed: %.2fmin. Time remaining: %.2fmin.\\n' % (datetime.datetime.now().strftime(\"%H:%M:%S\"),\n",
    "                                                                        elapsed_time, time_remaining))\n",
    "                f.flush()\n",
    "            norm_dist = np.abs(coordinates - coordinates[i,:])\n",
    "            inv_dist = box_sides - norm_dist\n",
    "            shortest_dists = np.minimum(norm_dist, inv_dist)\n",
    "            squared_shortest_dists = shortest_dists**2\n",
    "            summed_squared_shortest_dists = np.sum(squared_shortest_dists, 1)\n",
    "            euclidean_dists = np.sqrt(summed_squared_shortest_dists)\n",
    "\n",
    "            indices_of_k_closest_neighbours = np.argpartition(euclidean_dists, nr_neighbours)[:nr_neighbours]\n",
    "            masses_of_k_closest_neighbours = weights[indices_of_k_closest_neighbours]\n",
    "\n",
    "            sphere_radius = np.amax(euclidean_dists[indices_of_k_closest_neighbours])\n",
    "\n",
    "            if sphere_radius > box_sides[0]/2:\n",
    "                print('WARNING! Sphere with radius larger than %d mega parsecs created.' % (box_sides[0]/2))\n",
    "                f.write('WARNING! Sphere with radius larger than %d mega parsecs created.\\n' % (box_sides[0]/2))\n",
    "                f.flush()\n",
    "            sphere_volume = (4/3) * math.pi * sphere_radius**3\n",
    "            density =  np.sum(masses_of_k_closest_neighbours) / sphere_volume\n",
    "            neigh_densities[i] = density\n",
    "            \n",
    "        elapsed_time = (end-start)/60\n",
    "        time_remaining = elapsed_time / i * (nr_points - i)\n",
    "        f.write('%s      Script finished. Elapsed time: %.2fmin.' % (datetime.datetime.now().strftime(\"%H:%M:%S\"), elapsed_time))\n",
    "    \n",
    "    return neigh_densities"
   ]
  }
 ],
 "metadata": {
  "kernelspec": {
   "display_name": "Python 3",
   "language": "python",
   "name": "python3"
  },
  "language_info": {
   "codemirror_mode": {
    "name": "ipython",
    "version": 3
   },
   "file_extension": ".py",
   "mimetype": "text/x-python",
   "name": "python",
   "nbconvert_exporter": "python",
   "pygments_lexer": "ipython3",
   "version": "3.6.4"
  }
 },
 "nbformat": 4,
 "nbformat_minor": 2
}
