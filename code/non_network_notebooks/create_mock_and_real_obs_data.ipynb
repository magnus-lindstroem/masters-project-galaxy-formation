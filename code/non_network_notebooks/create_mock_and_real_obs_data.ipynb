{
 "cells": [
  {
   "cell_type": "code",
   "execution_count": 70,
   "metadata": {},
   "outputs": [
    {
     "data": {
      "text/html": [
       "<style>.container { width:90% !important; }</style>"
      ],
      "text/plain": [
       "<IPython.core.display.HTML object>"
      ]
     },
     "metadata": {},
     "output_type": "display_data"
    },
    {
     "name": "stdout",
     "output_type": "stream",
     "text": [
      "The autoreload extension is already loaded. To reload it, use:\n",
      "  %reload_ext autoreload\n"
     ]
    }
   ],
   "source": [
    "from IPython.core.display import display, HTML\n",
    "display(HTML(\"<style>.container { width:90% !important; }</style>\"))\n",
    "\n",
    "import os\n",
    "from os.path import expanduser\n",
    "home_dir = expanduser(\"~\")\n",
    "module_path = home_dir + '/code/modules/'\n",
    "models_path = home_dir + '/models/'\n",
    "import sys\n",
    "sys.path.append(module_path)\n",
    "import numpy as np\n",
    "import pandas as pd\n",
    "import h5py\n",
    "import matplotlib.pyplot as plt\n",
    "from scipy import stats\n",
    "import json\n",
    "import pandas as pd\n",
    "%load_ext autoreload\n",
    "%autoreload 1\n",
    "%aimport data_processing\n",
    "from data_processing import *"
   ]
  },
  {
   "cell_type": "markdown",
   "metadata": {},
   "source": [
    "## Construct mock SMF"
   ]
  },
  {
   "cell_type": "code",
   "execution_count": null,
   "metadata": {},
   "outputs": [],
   "source": [
    "original_directory = '/home/magnus/data/galcats_nonzero_sfr_no_density_with_growth_rate_no_lastMajM/'\n",
    "destination_directory = '/home/magnus/data/mock_data/stellar_mass_functions/'\n",
    "\n",
    "redshifts = [0, .1, .2, .5, 1, 2, 3, 4, 6, 8]\n",
    "bin_width = .1\n",
    "error = .3\n",
    "\n",
    "for redshift in redshifts:\n",
    "\n",
    "    file_name = 'galaxies.Z{:02.0f}'.format(redshift*10)\n",
    "\n",
    "    galfile = pd.read_hdf(original_directory + file_name + '.h5')\n",
    "    galaxies = galfile.values\n",
    "    gal_header = galfile.keys().tolist()\n",
    "\n",
    "    data_keys = {}\n",
    "    for col_nr, key in enumerate(gal_header):\n",
    "        data_keys[key] = col_nr\n",
    "\n",
    "    # Remove the smaller haloes\n",
    "    galaxies = galaxies[galaxies[:,data_keys['Halo_mass']] > 10.5, :]\n",
    "\n",
    "  #  print(np.amax(galaxies[:, data_keys['Halo_mass']]))\n",
    "  #  print(np.amin(galaxies[:, data_keys['Halo_mass']]))\n",
    "\n",
    "    max_stellar_mass = np.amax(galaxies[:, data_keys['Stellar_mass']])\n",
    "    min_stellar_mass = np.amin(galaxies[:, data_keys['Stellar_mass']])\n",
    "    lower_bin_edge = np.floor(min_stellar_mass * 10)/10\n",
    "    upper_bin_edge = np.ceil(max_stellar_mass* 10)/10\n",
    "   # print(min_stellar_mass, max_stellar_mass)\n",
    "   # print(lower_bin_edge, upper_bin_edge)\n",
    "\n",
    "    bin_edges = np.arange(lower_bin_edge, upper_bin_edge + bin_width, bin_width)\n",
    "    n_bins = len(bin_edges)-1\n",
    "    bin_stats = stats.binned_statistic(galaxies[:, data_keys['Stellar_mass']], galaxies[:, data_keys['Stellar_mass']], \n",
    "                                       bins=bin_edges)\n",
    "\n",
    "    bin_counts = [np.sum(bin_stats[2] == i) for i in range(1, n_bins+1)]\n",
    "\n",
    "    bin_centers = [(bin_edges[i] + bin_edges[i+1])/2 for i in range(len(bin_edges)-1)]\n",
    "  #  print(bin_centers)\n",
    "\n",
    "    #plt.hist(galaxies[:, data_keys['Stellar_mass']], bins = bin_edges, density = False, label = 'Stellar_mass')\n",
    "  #  plt.scatter(bin_centers, bin_counts)\n",
    "\n",
    "  #  print(bin_counts)\n",
    "    bin_counts = [float('nan') if count == 0 else count for count in bin_counts]\n",
    "    bin_counts_arr = np.array(bin_counts, dtype=np.float)\n",
    "    bin_counts_per_mpc3 = bin_counts_arr / 200**3 / bin_width\n",
    "    bin_counts_per_mpc3[bin_counts_per_mpc3 > 0] = np.log10(bin_counts_per_mpc3[bin_counts_per_mpc3 > 0])\n",
    "  #  print(bin_counts_per_mpc3)\n",
    "\n",
    "    full_data_list = [[stell_mass, phi, error] for (stell_mass, phi) in zip(bin_centers, bin_counts_per_mpc3) \n",
    "                      if (not np.isnan(phi)) ]\n",
    "    full_data_list.insert(0, {'bin_widths': bin_width, 'bin_edges': bin_edges.tolist()})\n",
    "  #  print(full_data_list)\n",
    "\n",
    "    with open(destination_directory + file_name + '.json', 'w+') as f:\n",
    "        json.dump(full_data_list, f)\n",
    "    f.close()"
   ]
  },
  {
   "cell_type": "code",
   "execution_count": null,
   "metadata": {
    "scrolled": true
   },
   "outputs": [],
   "source": [
    "### Try loading a data file\n",
    "file_name = 'galaxies.Z00'\n",
    "with open(destination_directory + file_name + '.json', 'r') as f:\n",
    "    test = json.load(f)\n",
    "f.close()\n",
    "print(test)"
   ]
  },
  {
   "cell_type": "markdown",
   "metadata": {},
   "source": [
    "## Construct mock SSFR"
   ]
  },
  {
   "cell_type": "code",
   "execution_count": null,
   "metadata": {},
   "outputs": [],
   "source": [
    "original_directory = '/home/magnus/data/galcats_nonzero_sfr_no_density_with_growth_rate_no_lastMajM/'\n",
    "destination_directory = '/home/magnus/data/mock_data/ssfr/'\n",
    "redshifts = [0, .1, .2, .5, 1, 2, 3, 4, 6, 8]\n",
    "\n",
    "for redshift in redshifts:\n",
    "\n",
    "    file_name = 'galaxies.Z{:02.0f}'.format(redshift*10)\n",
    "    \n",
    "    bin_width = .2\n",
    "    error = .3\n",
    "\n",
    "    galfile = pd.read_hdf(original_directory + file_name + '.h5')\n",
    "    galaxies = galfile.values\n",
    "    gal_header = galfile.keys().tolist()\n",
    "\n",
    "    data_keys = {}\n",
    "    for col_nr, key in enumerate(gal_header):\n",
    "        data_keys[key] = col_nr\n",
    "\n",
    "    # Remove the smaller haloes\n",
    "    galaxies = galaxies[galaxies[:,data_keys['Halo_mass']] > 10.5, :]\n",
    "\n",
    "    # print(np.amax(galaxies[:, data_keys['Halo_mass']]))\n",
    "    # print(np.amin(galaxies[:, data_keys['Halo_mass']]))\n",
    "\n",
    "    sfr_log = galaxies[:, data_keys['SFR']]\n",
    "    sfr = np.power(10, sfr_log)\n",
    "    # print(np.amax(sfr))\n",
    "    # print(np.amin(sfr))\n",
    "\n",
    "    stellar_mass_log = galaxies[:, data_keys['Stellar_mass']]\n",
    "    stellar_mass = np.power(10, stellar_mass_log)\n",
    "    # print('{:.3e}'.format(np.amax(stellar_mass)))\n",
    "    # print('{:.3e}'.format(np.amin(stellar_mass)))\n",
    "\n",
    "    ssfr = sfr / stellar_mass\n",
    "    ssfr_log = np.log10(ssfr)\n",
    "\n",
    "    max_stellar_mass = np.amax(stellar_mass_log)\n",
    "    min_stellar_mass = np.amin(stellar_mass_log)\n",
    "    lower_bin_edge = np.floor(min_stellar_mass * 10)/10\n",
    "    upper_bin_edge = np.ceil(max_stellar_mass* 10)/10\n",
    "    # print(min_stellar_mass, max_stellar_mass)\n",
    "    # print(lower_bin_edge, upper_bin_edge)\n",
    "    if (upper_bin_edge - lower_bin_edge) % bin_width > 1e-5 and (upper_bin_edge - lower_bin_edge) % bin_width < bin_width - 1e-5:\n",
    "    #     print((upper_bin_edge - lower_bin_edge) % bin_width)\n",
    "    #     print('hej')\n",
    "        upper_bin_edge += (upper_bin_edge - lower_bin_edge) % bin_width\n",
    "    # print(lower_bin_edge, upper_bin_edge)\n",
    "\n",
    "    bin_edges = np.arange(lower_bin_edge, upper_bin_edge + bin_width, bin_width)\n",
    "    n_bins = len(bin_edges)-1\n",
    "    bin_stats_means = stats.binned_statistic(stellar_mass_log, ssfr_log, bins=bin_edges, statistic='mean')\n",
    "    bin_stats_stds = stats.binned_statistic(stellar_mass_log, ssfr_log, bins=bin_edges, statistic=np.std)\n",
    "    bin_means = bin_stats_means[0]\n",
    "    bin_stds = bin_stats_stds[0]\n",
    "    # print(bin_means)\n",
    "    # print(bin_stds)\n",
    "\n",
    "    bin_centers = [(bin_edges[i] + bin_edges[i+1])/2 for i in range(len(bin_edges)-1)]\n",
    "    # print(bin_edges)\n",
    "    # print(bin_centers)\n",
    "\n",
    "    # plt.errorbar(bin_centers, bin_means, yerr=bin_stds, fmt = 'bo')\n",
    "\n",
    "    full_data_list = [[stell_mass, mean_ssfr_log, error] for (stell_mass, mean_ssfr_log) in zip(bin_centers, bin_means)]\n",
    "    full_data_list.insert(0, {'bin_widths': bin_width, 'bin_edges': bin_edges.tolist()})\n",
    "    # print(full_data_list)\n",
    "\n",
    "    with open(destination_directory + file_name + '.json', 'w+') as f:\n",
    "        json.dump(full_data_list, f)\n",
    "    f.close()"
   ]
  },
  {
   "cell_type": "markdown",
   "metadata": {},
   "source": [
    "## Construct mock fraction of quenched galaxies"
   ]
  },
  {
   "cell_type": "code",
   "execution_count": 12,
   "metadata": {
    "scrolled": true
   },
   "outputs": [],
   "source": [
    "original_directory = '/home/magnus/data/galcats_nonzero_sfr_no_density_with_growth_rate_no_lastMajM/'\n",
    "destination_directory = '/home/magnus/data/mock_data/fq/'\n",
    "redshifts = [0, .1, .2, .5, 1, 2, 3, 4, 6, 8]\n",
    "\n",
    "np.seterr(invalid='raise')\n",
    "\n",
    "for i_red, redshift in enumerate(redshifts):\n",
    "    scale_factor = 1 / (1 + redshift)\n",
    "\n",
    "    h_0 = 67.81 / (3.09e19) # 1/s\n",
    "    h_0 = h_0 * 60 * 60 * 24 * 365 # 1/yr\n",
    "    h_r = h_0 * np.sqrt(1e-3*scale_factor**(-4) + 0.308*scale_factor**(-3) + 0*scale_factor**(-2) + 0.692)\n",
    "    ssfr_cutoff = 0.3*h_r\n",
    "    log_ssfr_cutoff = np.log10(ssfr_cutoff)\n",
    "\n",
    "    file_name = 'galaxies.Z{:02.0f}'.format(redshift*10)\n",
    "\n",
    "    bin_width = .25\n",
    "    error = .3\n",
    "\n",
    "    galfile = pd.read_hdf(original_directory + file_name + '.h5')\n",
    "    galaxies = galfile.values\n",
    "    gal_header = galfile.keys().tolist()\n",
    "\n",
    "    data_keys = {}\n",
    "    for col_nr, key in enumerate(gal_header):\n",
    "        data_keys[key] = col_nr\n",
    "\n",
    "    # Remove the smaller haloes\n",
    "    galaxies = galaxies[galaxies[:,data_keys['Halo_mass']] > 10.5, :]\n",
    "\n",
    "#     print(np.amax(galaxies[:, data_keys['Halo_mass']]))\n",
    "#     print(np.amin(galaxies[:, data_keys['Halo_mass']]))\n",
    "\n",
    "    sfr_log = galaxies[:, data_keys['SFR']]\n",
    "    sfr = np.power(10, sfr_log)\n",
    "    # print(np.amax(sfr))\n",
    "    # print(np.amin(sfr))\n",
    "\n",
    "    stellar_mass_log = galaxies[:, data_keys['Stellar_mass']]\n",
    "    stellar_mass = np.power(10, stellar_mass_log)\n",
    "    # print('{:.3e}'.format(np.amax(stellar_mass)))\n",
    "    # print('{:.3e}'.format(np.amin(stellar_mass)))\n",
    "\n",
    "    ssfr = sfr / stellar_mass\n",
    "\n",
    "    # print(np.min(ssfr), np.max(ssfr))\n",
    "    # print(h_r)\n",
    "\n",
    "    ssfr_log = np.log10(ssfr)\n",
    "\n",
    "    max_stellar_mass = np.amax(stellar_mass_log)\n",
    "    min_stellar_mass = np.amin(stellar_mass_log)\n",
    "    lower_bin_edge = np.floor(min_stellar_mass * 1/bin_width)*bin_width\n",
    "    upper_bin_edge = np.ceil(max_stellar_mass * 1/bin_width)*bin_width\n",
    "#     print(min_stellar_mass, max_stellar_mass)\n",
    "#     print(lower_bin_edge, upper_bin_edge)\n",
    "    if (upper_bin_edge - lower_bin_edge) % bin_width > 1e-5 and (upper_bin_edge - lower_bin_edge) % bin_width < bin_width - 1e-5:\n",
    "    #     print((upper_bin_edge - lower_bin_edge) % bin_width)\n",
    "        upper_bin_edge += (upper_bin_edge - lower_bin_edge) % bin_width\n",
    "#     print(lower_bin_edge, upper_bin_edge)\n",
    "\n",
    "    bin_edges = np.arange(lower_bin_edge, upper_bin_edge + bin_width, bin_width)\n",
    "    n_bins = len(bin_edges)-1\n",
    "    bin_means, bin_edges, bin_numbers = stats.binned_statistic(stellar_mass_log, ssfr_log, bins=bin_edges, statistic='mean')\n",
    "\n",
    "    bin_fqs = []\n",
    "    for bin_num in range(1, n_bins+1):\n",
    "        try:\n",
    "            fq = np.sum(ssfr_log[bin_numbers == bin_num] < log_ssfr_cutoff) / len(ssfr_log[bin_numbers == bin_num])\n",
    "        except:\n",
    "            if len(ssfr_log[bin_numbers == bin_num]) == 0:\n",
    "                print('bin number {:d} contains 0 points'.format(bin_num))\n",
    "                fq = 0\n",
    "            else:\n",
    "                print('some other error')\n",
    "        bin_fqs.append(fq)\n",
    "\n",
    "    bin_centers = [(bin_edges[i] + bin_edges[i+1])/2 for i in range(len(bin_edges)-1)]\n",
    "#     fig = plt.figure(i_red, figsize=(10,7))\n",
    "#     ax = plt.gca()\n",
    "#     plt.plot(bin_centers, bin_fqs)\n",
    "#     ax.set_ylim(bottom=0)\n",
    "#     ax.set_ylim(top=1)\n",
    "# #     ax.set_xlim(left=8)\n",
    "# #     ax.set_xlim(right=12)\n",
    "#     plt.title('Fraction of quenched galaxies at redshift {:.1f}'.format(redshift))\n",
    "# #     fig.savefig('fq_Z{:02.0f}.png'.format(redshift*10), bbox_inches = 'tight')\n",
    "#     plt.show()\n",
    "\n",
    "# print(bin_edges)\n",
    "# print(bin_centers)\n",
    "\n",
    "# plt.errorbar(bin_centers, bin_means, yerr=bin_stds, fmt = 'bo')\n",
    "\n",
    "    full_data_list = [[stell_mass, fq, error] for (stell_mass, fq) in zip(bin_centers, bin_fqs)]\n",
    "    full_data_list.insert(0, {'bin_widths': bin_width, 'bin_edges': bin_edges.tolist()})\n",
    "\n",
    "    with open(destination_directory + file_name + '.json', 'w+') as f:\n",
    "        json.dump(full_data_list, f)\n",
    "    f.close()"
   ]
  },
  {
   "cell_type": "markdown",
   "metadata": {},
   "source": [
    "### Mock stellar mass halo mass relationship"
   ]
  },
  {
   "cell_type": "code",
   "execution_count": null,
   "metadata": {},
   "outputs": [],
   "source": [
    "original_directory = '/home/magnus/data/galcats_nonzero_sfr_no_density_with_growth_rate_no_lastMajM/'\n",
    "destination_directory = '/home/magnus/data/mock_data/stellar_halo_mass_relations/'\n",
    "redshifts = [0, .1, .2, .5, 1, 2, 3, 4, 6, 8]\n",
    "\n",
    "np.seterr(invalid='raise')\n",
    "\n",
    "for i_red, redshift in enumerate(redshifts):\n",
    "\n",
    "    file_name = 'galaxies.Z{:02.0f}'.format(redshift*10)\n",
    "\n",
    "    bin_width = .2\n",
    "    error = .3\n",
    "\n",
    "    galfile = pd.read_hdf(original_directory + file_name + '.h5')\n",
    "    galaxies = galfile.values\n",
    "    gal_header = galfile.keys().tolist()\n",
    "\n",
    "    data_keys = {}\n",
    "    for col_nr, key in enumerate(gal_header):\n",
    "        data_keys[key] = col_nr\n",
    "\n",
    "    # Remove the smaller haloes\n",
    "    galaxies = galaxies[galaxies[:,data_keys['Halo_mass']] > 10.5, :]\n",
    "\n",
    "    halo_mass = galaxies[:, data_keys['Halo_mass']]\n",
    "    stellar_mass = galaxies[:, data_keys['Stellar_mass']]\n",
    "\n",
    "    min_halo_mass = np.amin(halo_mass)\n",
    "    max_halo_mass = np.amax(halo_mass)\n",
    "    \n",
    "    lower_bin_edge = np.floor(min_halo_mass * 1/bin_width)*bin_width\n",
    "    upper_bin_edge = np.ceil(max_halo_mass * 1/bin_width)*bin_width\n",
    "    print(min_halo_mass, max_halo_mass)\n",
    "    print(lower_bin_edge, upper_bin_edge)\n",
    "\n",
    "    if (upper_bin_edge - lower_bin_edge) % bin_width > 1e-5 and (upper_bin_edge - lower_bin_edge) % bin_width < bin_width - 1e-5:\n",
    "        print((upper_bin_edge - lower_bin_edge) % bin_width)\n",
    "        upper_bin_edge += (upper_bin_edge - lower_bin_edge) % bin_width\n",
    "#     print(lower_bin_edge, upper_bin_edge)\n",
    "\n",
    "    bin_edges = np.arange(lower_bin_edge, upper_bin_edge + bin_width, bin_width)\n",
    "    n_bins = len(bin_edges)-1\n",
    "    bin_means, bin_edges, bin_numbers = stats.binned_statistic(halo_mass, stellar_mass, bins=bin_edges, statistic='mean')\n",
    "\n",
    "    bin_centers = [(bin_edges[i] + bin_edges[i+1])/2 for i in range(len(bin_edges)-1)]\n",
    "    fig = plt.figure(i_red, figsize=(15,5))\n",
    "    ax = plt.subplot(121)\n",
    "    ax.errorbar(bin_centers, bin_means, yerr=error*np.ones(len(bin_centers)), fmt = 'bo')\n",
    "    ax = plt.subplot(122)\n",
    "    ax.plot(halo_mass[:10000], stellar_mass[:10000], 'b.', markersize=1)\n",
    "    plt.suptitle('Stellar masses at redshift {:.1f}'.format(redshift))\n",
    "    plt.show()\n",
    "\n",
    "    \n",
    "\n",
    "    full_data_list = [[halo_mass, stellar_mass, error] for (halo_mass, stellar_mass) in zip(bin_centers, bin_means)]\n",
    "    full_data_list.insert(0, {'bin_widths': bin_width, 'bin_edges': bin_edges.tolist()})\n",
    "\n",
    "    with open(destination_directory + file_name + '.json', 'w+') as f:\n",
    "        json.dump(full_data_list, f)\n",
    "    f.close()"
   ]
  },
  {
   "cell_type": "markdown",
   "metadata": {},
   "source": [
    "### Real data, SMF"
   ]
  },
  {
   "cell_type": "code",
   "execution_count": 164,
   "metadata": {},
   "outputs": [
    {
     "name": "stdout",
     "output_type": "stream",
     "text": [
      "Keys:  ['Universe_0']\n"
     ]
    }
   ],
   "source": [
    "filename = '/home/magnus/data/observational_data/all_data.h5'\n",
    "file = h5py.File(filename, 'r')\n",
    "#file?\n",
    "# List all groups\n",
    "print(\"Keys: \", list(file.keys()))"
   ]
  },
  {
   "cell_type": "code",
   "execution_count": 165,
   "metadata": {},
   "outputs": [
    {
     "name": "stdout",
     "output_type": "stream",
     "text": [
      "Keys:  ['CSFRD', 'Clustering', 'FQ', 'Model_Parameters', 'SMF', 'SSFR']\n"
     ]
    }
   ],
   "source": [
    "# Get the universe\n",
    "universe_0 = file['Universe_0']\n",
    "#universe_0?\n",
    "# List all objects in the universe\n",
    "print(\"Keys: \", list(universe_0.keys()))"
   ]
  },
  {
   "cell_type": "code",
   "execution_count": 166,
   "metadata": {
    "scrolled": true
   },
   "outputs": [
    {
     "name": "stdout",
     "output_type": "stream",
     "text": [
      "Keys:  ['Data', 'Model', 'Sets']\n",
      "Keys of Data:  ['000 Li & White 2009 (z = 0.00 - 0.20)', '001 Baldry 2012 (z = 0.00 - 0.06)', '002 Bernardi 2013 (z = 0.00 - 0.20)', '003 Perez-Gonzalez 2008 (z = 0.00 - 0.20)', '004 Perez-Gonzalez 2008 (z = 0.20 - 0.40)', '005 Perez-Gonzalez 2008 (z = 0.40 - 0.60)', '006 Perez-Gonzalez 2008 (z = 0.60 - 0.80)', '007 Perez-Gonzalez 2008 (z = 0.80 - 1.00)', '008 Perez-Gonzalez 2008 (z = 1.00 - 1.30)', '009 Perez-Gonzalez 2008 (z = 1.30 - 1.60)', '010 Perez-Gonzalez 2008 (z = 1.60 - 2.00)', '011 Perez-Gonzalez 2008 (z = 2.00 - 2.50)', '012 Perez-Gonzalez 2008 (z = 2.50 - 3.00)', '013 Perez-Gonzalez 2008 (z = 3.00 - 3.50)', '014 Perez-Gonzalez 2008 (z = 3.50 - 4.00)', '015 Santini 2012 (z = 0.60 - 1.00)', '016 Santini 2012 (z = 1.00 - 1.40)', '017 Santini 2012 (z = 1.40 - 1.80)', '018 Santini 2012 (z = 1.80 - 2.50)', '019 Santini 2012 (z = 2.50 - 3.50)', '020 Santini 2012 (z = 3.50 - 4.50)', '021 Ilbert 2013 (z = 0.20 - 0.50)', '022 Ilbert 2013 (z = 0.50 - 0.80)', '023 Ilbert 2013 (z = 0.80 - 1.10)', '024 Ilbert 2013 (z = 1.10 - 1.50)', '025 Ilbert 2013 (z = 1.50 - 2.00)', '026 Ilbert 2013 (z = 2.00 - 2.50)', '027 Ilbert 2013 (z = 2.50 - 3.00)', '028 Ilbert 2013 (z = 3.00 - 4.00)', '029 Ilbert 2010 (z = 0.05 - 0.20)', '030 Ilbert 2010 (z = 0.20 - 0.40)', '031 Ilbert 2010 (z = 0.40 - 0.60)', '032 Ilbert 2010 (z = 0.60 - 0.80)', '033 Ilbert 2010 (z = 0.80 - 1.00)', '034 Ilbert 2010 (z = 1.00 - 1.20)', '035 Ilbert 2010 (z = 1.20 - 1.50)', '036 Ilbert 2010 (z = 1.50 - 2.00)', '037 Moustakas 2013 (z = 0.20 - 0.30)', '038 Moustakas 2013 (z = 0.30 - 0.40)', '039 Moustakas 2013 (z = 0.40 - 0.50)', '040 Moustakas 2013 (z = 0.50 - 0.65)', '041 Moustakas 2013 (z = 0.65 - 0.80)', '042 Moustakas 2013 (z = 0.80 - 1.00)', '043 Muzzin 2013 (z = 0.20 - 0.50)', '044 Muzzin 2013 (z = 0.50 - 1.00)', '045 Muzzin 2013 (z = 1.00 - 1.50)', '046 Muzzin 2013 (z = 1.50 - 2.00)', '047 Muzzin 2013 (z = 2.00 - 2.50)', '048 Muzzin 2013 (z = 2.50 - 3.00)', '049 Muzzin 2013 (z = 3.00 - 4.00)', '050 Caputi 2011 (z = 3.00 - 3.50)', '051 Caputi 2011 (z = 3.50 - 4.25)', '052 Caputi 2011 (z = 4.25 - 5.00)', '053 Pozzetti 2010 (z = 0.10 - 0.35)', '054 Pozzetti 2010 (z = 0.35 - 0.55)', '055 Pozzetti 2010 (z = 0.55 - 0.75)', '056 Pozzetti 2010 (z = 0.75 - 1.00)', '057 Marchesini 2009 (z = 1.30 - 2.00)', '058 Marchesini 2009 (z = 2.00 - 3.00)', '059 Marchesini 2009 (z = 3.00 - 4.00)', '060 Kajisawa 2009 (z = 0.50 - 1.00)', '061 Kajisawa 2009 (z = 1.00 - 1.50)', '062 Kajisawa 2009 (z = 1.50 - 2.50)', '063 Kajisawa 2009 (z = 2.50 - 3.50)', '064 Mortlock 2011 (z = 1.00 - 1.50)', '065 Mortlock 2011 (z = 1.50 - 2.00)', '066 Mortlock 2011 (z = 2.00 - 2.50)', '067 Mortlock 2011 (z = 2.50 - 3.00)', '068 Mortlock 2011 (z = 3.00 - 3.50)', '069 Lee 2012 (z = 3.50 - 4.00)', '070 Lee 2012 (z = 4.50 - 5.50)', '071 Gonzalez 2011 (z = 3.40 - 4.20)', '072 Gonzalez 2011 (z = 4.50 - 5.50)', '073 Gonzalez 2011 (z = 5.50 - 6.30)', '074 Gonzalez 2011 (z = 6.30 - 7.30)', '075 Duncan 2014 (z = 3.80 - 4.20)', '076 Duncan 2014 (z = 4.80 - 5.20)', '077 Duncan 2014 (z = 5.80 - 6.20)', '078 Duncan 2014 (z = 6.80 - 7.20)', '079 Song 2009 (z = 3.50 - 4.50)', '080 Song 2009 (z = 4.50 - 5.50)', '081 Song 2009 (z = 5.50 - 6.50)', '082 Song 2009 (z = 6.50 - 7.50)', '083 Song 2009 (z = 7.50 - 8.50)', '084 Grazian 2015 (z = 3.50 - 4.50)', '085 Grazian 2015  (z = 4.50 - 5.50)', '086 Grazian 2015 (z = 5.50 - 6.50)', '087 Grazian 2015 (z = 6.50 - 7.50)']\n"
     ]
    }
   ],
   "source": [
    "# Get the SMF objects from the universe\n",
    "smf = universe_0['SMF']\n",
    "#smf?\n",
    "# List all objects\n",
    "print(\"Keys: \", list(smf.keys()))\n",
    "# Get the dataset 'Data'\n",
    "data = smf['Data']\n",
    "print(\"Keys of Data: \", list(data.keys()))\n",
    "data_keys = list(data.keys())\n",
    "model = smf['Model']\n",
    "sets = smf['Sets']"
   ]
  },
  {
   "cell_type": "code",
   "execution_count": 167,
   "metadata": {},
   "outputs": [
    {
     "name": "stdout",
     "output_type": "stream",
     "text": [
      "[(39, 0, 0., 0.2, b'Li & White 2009'), (21, 39, 0., 0.06, b'Baldry 2012'), (32, 60, 0., 0.2, b'Bernardi 2013'), (20, 92, 0., 0.2, b'Perez-Gonzalez 2008'), (20, 112, 0.2, 0.4, b'Perez-Gonzalez 2008'), (17, 132, 0.4, 0.6, b'Perez-Gonzalez 2008'), (14, 149, 0.6, 0.8, b'Perez-Gonzalez 2008'), (13, 163, 0.8, 1., b'Perez-Gonzalez 2008'), (13, 176, 1., 1.3, b'Perez-Gonzalez 2008'), (11, 189, 1.3, 1.6, b'Perez-Gonzalez 2008'), (10, 200, 1.6, 2., b'Perez-Gonzalez 2008'), (9, 210, 2., 2.5, b'Perez-Gonzalez 2008'), (7, 219, 2.5, 3., b'Perez-Gonzalez 2008'), (6, 226, 3., 3.5, b'Perez-Gonzalez 2008'), (6, 232, 3.5, 4., b'Perez-Gonzalez 2008'), (19, 238, 0.6, 1., b'Santini 2012'), (15, 257, 1., 1.4, b'Santini 2012'), (13, 272, 1.4, 1.8, b'Santini 2012'), (11, 285, 1.8, 2.5, b'Santini 2012'), (9, 296, 2.5, 3.5, b'Santini 2012'), (8, 305, 3.5, 4.5, b'Santini 2012'), (15, 313, 0.2, 0.5, b'Ilbert 2013'), (13, 328, 0.5, 0.8, b'Ilbert 2013'), (12, 341, 0.8, 1.1, b'Ilbert 2013'), (10, 353, 1.1, 1.5, b'Ilbert 2013'), (10, 363, 1.5, 2., b'Ilbert 2013'), (12, 373, 2., 2.5, b'Ilbert 2013'), (11, 385, 2.5, 3., b'Ilbert 2013'), (11, 396, 3., 4., b'Ilbert 2013'), (10, 407, 0.05, 0.2, b'Ilbert 2010'), (10, 417, 0.2, 0.4, b'Ilbert 2010'), (10, 427, 0.4, 0.6, b'Ilbert 2010'), (10, 437, 0.6, 0.8, b'Ilbert 2010'), (10, 447, 0.8, 1., b'Ilbert 2010'), (10, 457, 1., 1.2, b'Ilbert 2010'), (8, 467, 1.2, 1.5, b'Ilbert 2010'), (10, 475, 1.5, 2., b'Ilbert 2010'), (26, 485, 0.2, 0.3, b'Moustakas 2013'), (24, 511, 0.3, 0.4, b'Moustakas 2013'), (23, 535, 0.4, 0.5, b'Moustakas 2013'), (18, 558, 0.5, 0.65, b'Moustakas 2013'), (17, 576, 0.65, 0.8, b'Moustakas 2013'), (11, 593, 0.8, 1., b'Moustakas 2013'), (37, 604, 0.2, 0.5, b'Muzzin 2013'), (29, 641, 0.5, 1., b'Muzzin 2013'), (24, 670, 1., 1.5, b'Muzzin 2013'), (16, 694, 1.5, 2., b'Muzzin 2013'), (13, 710, 2., 2.5, b'Muzzin 2013'), (6, 723, 2.5, 3., b'Muzzin 2013'), (6, 729, 3., 4., b'Muzzin 2013'), (7, 735, 3., 3.5, b'Caputi 2011'), (7, 742, 3.5, 4.25, b'Caputi 2011'), (6, 749, 4.25, 5., b'Caputi 2011'), (11, 755, 0.1, 0.35, b'Pozzetti 2010'), (7, 766, 0.35, 0.55, b'Pozzetti 2010'), (5, 773, 0.55, 0.75, b'Pozzetti 2010'), (3, 778, 0.75, 1., b'Pozzetti 2010'), (8, 781, 1.3, 2., b'Marchesini 2009'), (7, 789, 2., 3., b'Marchesini 2009'), (6, 796, 3., 4., b'Marchesini 2009'), (14, 802, 0.5, 1., b'Kajisawa 2009'), (10, 816, 1., 1.5, b'Kajisawa 2009'), (10, 826, 1.5, 2.5, b'Kajisawa 2009'), (6, 836, 2.5, 3.5, b'Kajisawa 2009'), (14, 842, 1., 1.5, b'Mortlock 2011'), (12, 856, 1.5, 2., b'Mortlock 2011'), (11, 868, 2., 2.5, b'Mortlock 2011'), (10, 879, 2.5, 3., b'Mortlock 2011'), (11, 889, 3., 3.5, b'Mortlock 2011'), (10, 900, 3.5, 4., b'Lee 2012'), (9, 910, 4.5, 5.5, b'Lee 2012'), (7, 919, 3.4, 4.2, b'Gonzalez 2011'), (7, 926, 4.5, 5.5, b'Gonzalez 2011'), (7, 933, 5.5, 6.3, b'Gonzalez 2011'), (6, 940, 6.3, 7.3, b'Gonzalez 2011'), (10, 946, 3.8, 4.2, b'Duncan 2014'), (9, 956, 4.8, 5.2, b'Duncan 2014'), (7, 965, 5.8, 6.2, b'Duncan 2014'), (4, 972, 6.8, 7.2, b'Duncan 2014'), (9, 976, 3.5, 4.5, b'Song 2009'), (9, 985, 4.5, 5.5, b'Song 2009'), (7, 994, 5.5, 6.5, b'Song 2009'), (8, 1001, 6.5, 7.5, b'Song 2009'), (6, 1009, 7.5, 8.5, b'Song 2009'), (14, 1015, 3.5, 4.5, b'Grazian 2015'), (13, 1029, 4.5, 5.5, b'Grazian 2015 '), (8, 1042, 5.5, 6.5, b'Grazian 2015'), (6, 1050, 6.5, 7.5, b'Grazian 2015')]\n"
     ]
    }
   ],
   "source": [
    "print(list(sets))\n",
    "#sets?"
   ]
  },
  {
   "cell_type": "code",
   "execution_count": null,
   "metadata": {},
   "outputs": [],
   "source": [
    "print(list(model))\n",
    "#model?"
   ]
  },
  {
   "cell_type": "code",
   "execution_count": 168,
   "metadata": {
    "scrolled": true
   },
   "outputs": [
    {
     "name": "stdout",
     "output_type": "stream",
     "text": [
      "(10.987608, -4.7014127, 0.3212865, 0.20634921, -3.5870438, 0.05652275)\n",
      "['000 Li & White 2009 (z = 0.00 - 0.20)', '001 Baldry 2012 (z = 0.00 - 0.06)', '002 Bernardi 2013 (z = 0.00 - 0.20)', '003 Perez-Gonzalez 2008 (z = 0.00 - 0.20)', '004 Perez-Gonzalez 2008 (z = 0.20 - 0.40)', '005 Perez-Gonzalez 2008 (z = 0.40 - 0.60)', '006 Perez-Gonzalez 2008 (z = 0.60 - 0.80)', '007 Perez-Gonzalez 2008 (z = 0.80 - 1.00)', '008 Perez-Gonzalez 2008 (z = 1.00 - 1.30)', '009 Perez-Gonzalez 2008 (z = 1.30 - 1.60)', '010 Perez-Gonzalez 2008 (z = 1.60 - 2.00)', '011 Perez-Gonzalez 2008 (z = 2.00 - 2.50)', '012 Perez-Gonzalez 2008 (z = 2.50 - 3.00)', '013 Perez-Gonzalez 2008 (z = 3.00 - 3.50)', '014 Perez-Gonzalez 2008 (z = 3.50 - 4.00)', '015 Santini 2012 (z = 0.60 - 1.00)', '016 Santini 2012 (z = 1.00 - 1.40)', '017 Santini 2012 (z = 1.40 - 1.80)', '018 Santini 2012 (z = 1.80 - 2.50)', '019 Santini 2012 (z = 2.50 - 3.50)', '020 Santini 2012 (z = 3.50 - 4.50)', '021 Ilbert 2013 (z = 0.20 - 0.50)', '022 Ilbert 2013 (z = 0.50 - 0.80)', '023 Ilbert 2013 (z = 0.80 - 1.10)', '024 Ilbert 2013 (z = 1.10 - 1.50)', '025 Ilbert 2013 (z = 1.50 - 2.00)', '026 Ilbert 2013 (z = 2.00 - 2.50)', '027 Ilbert 2013 (z = 2.50 - 3.00)', '028 Ilbert 2013 (z = 3.00 - 4.00)', '029 Ilbert 2010 (z = 0.05 - 0.20)', '030 Ilbert 2010 (z = 0.20 - 0.40)', '031 Ilbert 2010 (z = 0.40 - 0.60)', '032 Ilbert 2010 (z = 0.60 - 0.80)', '033 Ilbert 2010 (z = 0.80 - 1.00)', '034 Ilbert 2010 (z = 1.00 - 1.20)', '035 Ilbert 2010 (z = 1.20 - 1.50)', '036 Ilbert 2010 (z = 1.50 - 2.00)', '037 Moustakas 2013 (z = 0.20 - 0.30)', '038 Moustakas 2013 (z = 0.30 - 0.40)', '039 Moustakas 2013 (z = 0.40 - 0.50)', '040 Moustakas 2013 (z = 0.50 - 0.65)', '041 Moustakas 2013 (z = 0.65 - 0.80)', '042 Moustakas 2013 (z = 0.80 - 1.00)', '043 Muzzin 2013 (z = 0.20 - 0.50)', '044 Muzzin 2013 (z = 0.50 - 1.00)', '045 Muzzin 2013 (z = 1.00 - 1.50)', '046 Muzzin 2013 (z = 1.50 - 2.00)', '047 Muzzin 2013 (z = 2.00 - 2.50)', '048 Muzzin 2013 (z = 2.50 - 3.00)', '049 Muzzin 2013 (z = 3.00 - 4.00)', '050 Caputi 2011 (z = 3.00 - 3.50)', '051 Caputi 2011 (z = 3.50 - 4.25)', '052 Caputi 2011 (z = 4.25 - 5.00)', '053 Pozzetti 2010 (z = 0.10 - 0.35)', '054 Pozzetti 2010 (z = 0.35 - 0.55)', '055 Pozzetti 2010 (z = 0.55 - 0.75)', '056 Pozzetti 2010 (z = 0.75 - 1.00)', '057 Marchesini 2009 (z = 1.30 - 2.00)', '058 Marchesini 2009 (z = 2.00 - 3.00)', '059 Marchesini 2009 (z = 3.00 - 4.00)', '060 Kajisawa 2009 (z = 0.50 - 1.00)', '061 Kajisawa 2009 (z = 1.00 - 1.50)', '062 Kajisawa 2009 (z = 1.50 - 2.50)', '063 Kajisawa 2009 (z = 2.50 - 3.50)', '064 Mortlock 2011 (z = 1.00 - 1.50)', '065 Mortlock 2011 (z = 1.50 - 2.00)', '066 Mortlock 2011 (z = 2.00 - 2.50)', '067 Mortlock 2011 (z = 2.50 - 3.00)', '068 Mortlock 2011 (z = 3.00 - 3.50)', '069 Lee 2012 (z = 3.50 - 4.00)', '070 Lee 2012 (z = 4.50 - 5.50)', '071 Gonzalez 2011 (z = 3.40 - 4.20)', '072 Gonzalez 2011 (z = 4.50 - 5.50)', '073 Gonzalez 2011 (z = 5.50 - 6.30)', '074 Gonzalez 2011 (z = 6.30 - 7.30)', '075 Duncan 2014 (z = 3.80 - 4.20)', '076 Duncan 2014 (z = 4.80 - 5.20)', '077 Duncan 2014 (z = 5.80 - 6.20)', '078 Duncan 2014 (z = 6.80 - 7.20)', '079 Song 2009 (z = 3.50 - 4.50)', '080 Song 2009 (z = 4.50 - 5.50)', '081 Song 2009 (z = 5.50 - 6.50)', '082 Song 2009 (z = 6.50 - 7.50)', '083 Song 2009 (z = 7.50 - 8.50)', '084 Grazian 2015 (z = 3.50 - 4.50)', '085 Grazian 2015  (z = 4.50 - 5.50)', '086 Grazian 2015 (z = 5.50 - 6.50)', '087 Grazian 2015 (z = 6.50 - 7.50)']\n"
     ]
    }
   ],
   "source": [
    "print(list(data['051 Caputi 2011 (z = 3.50 - 4.25)'])[4])\n",
    "print(list(data))\n",
    "#data?"
   ]
  },
  {
   "cell_type": "code",
   "execution_count": 169,
   "metadata": {
    "scrolled": true
   },
   "outputs": [
    {
     "name": "stdout",
     "output_type": "stream",
     "text": [
      "0.09090909090909091 1.0 \n",
      "\n",
      "[b'Li & White 2009', b'Baldry 2012', b'Bernardi 2013', b'Perez-Gonzalez 2008', b'Perez-Gonzalez 2008', b'Perez-Gonzalez 2008', b'Perez-Gonzalez 2008', b'Perez-Gonzalez 2008', b'Perez-Gonzalez 2008', b'Perez-Gonzalez 2008', b'Perez-Gonzalez 2008', b'Perez-Gonzalez 2008', b'Perez-Gonzalez 2008', b'Perez-Gonzalez 2008', b'Perez-Gonzalez 2008', b'Santini 2012', b'Santini 2012', b'Santini 2012', b'Santini 2012', b'Santini 2012', b'Santini 2012', b'Ilbert 2013', b'Ilbert 2013', b'Ilbert 2013', b'Ilbert 2013', b'Ilbert 2013', b'Ilbert 2013', b'Ilbert 2013', b'Ilbert 2013', b'Ilbert 2010', b'Ilbert 2010', b'Ilbert 2010', b'Ilbert 2010', b'Ilbert 2010', b'Ilbert 2010', b'Ilbert 2010', b'Ilbert 2010', b'Moustakas 2013', b'Moustakas 2013', b'Moustakas 2013', b'Moustakas 2013', b'Moustakas 2013', b'Moustakas 2013', b'Muzzin 2013', b'Muzzin 2013', b'Muzzin 2013', b'Muzzin 2013', b'Muzzin 2013', b'Muzzin 2013', b'Muzzin 2013', b'Caputi 2011', b'Caputi 2011', b'Caputi 2011', b'Pozzetti 2010', b'Pozzetti 2010', b'Pozzetti 2010', b'Pozzetti 2010', b'Marchesini 2009', b'Marchesini 2009', b'Marchesini 2009', b'Kajisawa 2009', b'Kajisawa 2009', b'Kajisawa 2009', b'Kajisawa 2009', b'Mortlock 2011', b'Mortlock 2011', b'Mortlock 2011', b'Mortlock 2011', b'Mortlock 2011', b'Lee 2012', b'Lee 2012', b'Gonzalez 2011', b'Gonzalez 2011', b'Gonzalez 2011', b'Gonzalez 2011', b'Duncan 2014', b'Duncan 2014', b'Duncan 2014', b'Duncan 2014', b'Song 2009', b'Song 2009', b'Song 2009', b'Song 2009', b'Song 2009', b'Grazian 2015', b'Grazian 2015 ', b'Grazian 2015', b'Grazian 2015']\n",
      "[0.9166667, 0.9166667, 0.9166667, 0.9166667, 0.9166667, 0.9166667, 0.9166667, 0.9166667, 0.9166667, 0.9166667, 0.9166667, 0.9166667, 0.9166667, 0.9166667, 0.9166667, 0.9166667, 0.9166667, 0.9166667, 0.9166667, 0.9166667, 0.9166667, 0.9166667, 0.9166667, 0.9166667, 0.9166667, 0.9166667, 0.9166667, 0.9166667, 0.9166667, 0.9166667, 0.9166667, 0.9166667, 0.9166667, 0.9166667, 0.9166667, 0.9166667, 0.9166667, 0.9166667, 0.9166667, 0.9716981, 0.9716981, 0.9716981, 0.9716981, 0.9716981, 0.9716981, 0.9716981, 0.9716981, 0.9716981, 0.9716981, 0.9716981, 0.9716981, 0.9716981, 0.9716981, 0.9716981, 0.9716981, 0.9716981, 0.9716981, 0.9716981, 0.9716981, 0.9716981, 0.9166667, 0.9166667, 0.9166667, 0.9166667, 0.9166667, 0.9166667, 0.9166667, 0.9166667, 0.9166667, 0.9166667, 0.9166667, 0.9166667, 0.9166667, 0.9166667, 0.9166667, 0.9166667, 0.9166667, 0.9166667, 0.9166667, 0.9166667, 0.9166667, 0.9166667, 0.9166667, 0.9166667, 0.9166667, 0.9166667, 0.9166667, 0.9166667, 0.9166667, 0.9166667, 0.9166667, 0.9166667, 0.9166667, 0.9166667, 0.9166667, 0.9166667, 0.9166667, 0.9166667, 0.9166667, 0.9166667, 0.9166667, 0.9166667, 0.9166667, 0.9166667, 0.9166667, 0.9166667, 0.9166667, 0.9166667, 0.9166667, 0.9166667, 0.9166667, 0.9166667, 0.7738095, 0.7738095, 0.7738095, 0.7738095, 0.7738095, 0.7738095, 0.7738095, 0.7738095, 0.7738095, 0.7738095, 0.7738095, 0.7738095, 0.7738095, 0.7738095, 0.7738095, 0.7738095, 0.7738095, 0.7738095, 0.7738095, 0.7738095, 0.66964287, 0.66964287, 0.66964287, 0.66964287, 0.66964287, 0.66964287, 0.66964287, 0.66964287, 0.66964287, 0.66964287, 0.66964287, 0.66964287, 0.66964287, 0.66964287, 0.66964287, 0.66964287, 0.66964287, 0.5902778, 0.5902778, 0.5902778, 0.5902778, 0.5902778, 0.5902778, 0.5902778, 0.5902778, 0.5902778, 0.5902778, 0.5902778, 0.5902778, 0.5902778, 0.5902778, 0.5277778, 0.5277778, 0.5277778, 0.5277778, 0.5277778, 0.5277778, 0.5277778, 0.5277778, 0.5277778, 0.5277778, 0.5277778, 0.5277778, 0.5277778, 0.4673913, 0.4673913, 0.4673913, 0.4673913, 0.4673913, 0.4673913, 0.4673913, 0.4673913, 0.4673913, 0.4673913, 0.4673913, 0.4673913, 0.4673913, 0.409699, 0.409699, 0.409699, 0.409699, 0.409699, 0.409699, 0.409699, 0.409699, 0.409699, 0.409699, 0.409699, 0.35897437, 0.35897437, 0.35897437, 0.35897437, 0.35897437, 0.35897437, 0.35897437, 0.35897437, 0.35897437, 0.35897437, 0.30952382, 0.30952382, 0.30952382, 0.30952382, 0.30952382, 0.30952382, 0.30952382, 0.30952382, 0.30952382, 0.26785713, 0.26785713, 0.26785713, 0.26785713, 0.26785713, 0.26785713, 0.26785713, 0.2361111, 0.2361111, 0.2361111, 0.2361111, 0.2361111, 0.2361111, 0.21111111, 0.21111111, 0.21111111, 0.21111111, 0.21111111, 0.21111111, 0.5625, 0.5625, 0.5625, 0.5625, 0.5625, 0.5625, 0.5625, 0.5625, 0.5625, 0.5625, 0.5625, 0.5625, 0.5625, 0.5625, 0.5625, 0.5625, 0.5625, 0.5625, 0.5625, 0.45833334, 0.45833334, 0.45833334, 0.45833334, 0.45833334, 0.45833334, 0.45833334, 0.45833334, 0.45833334, 0.45833334, 0.45833334, 0.45833334, 0.45833334, 0.45833334, 0.45833334, 0.38690478, 0.38690478, 0.38690478, 0.38690478, 0.38690478, 0.38690478, 0.38690478, 0.38690478, 0.38690478, 0.38690478, 0.38690478, 0.38690478, 0.38690478, 0.32142857, 0.32142857, 0.32142857, 0.32142857, 0.32142857, 0.32142857, 0.32142857, 0.32142857, 0.32142857, 0.32142857, 0.32142857, 0.25396827, 0.25396827, 0.25396827, 0.25396827, 0.25396827, 0.25396827, 0.25396827, 0.25396827, 0.25396827, 0.2020202, 0.2020202, 0.2020202, 0.2020202, 0.2020202, 0.2020202, 0.2020202, 0.2020202, 0.75, 0.75, 0.75, 0.75, 0.75, 0.75, 0.75, 0.75, 0.75, 0.75, 0.75, 0.75, 0.75, 0.75, 0.75, 0.6111111, 0.6111111, 0.6111111, 0.6111111, 0.6111111, 0.6111111, 0.6111111, 0.6111111, 0.6111111, 0.6111111, 0.6111111, 0.6111111, 0.6111111, 0.515873, 0.515873, 0.515873, 0.515873, 0.515873, 0.515873, 0.515873, 0.515873, 0.515873, 0.515873, 0.515873, 0.515873, 0.43809524, 0.43809524, 0.43809524, 0.43809524, 0.43809524, 0.43809524, 0.43809524, 0.43809524, 0.43809524, 0.43809524, 0.36666667, 0.36666667, 0.36666667, 0.36666667, 0.36666667, 0.36666667, 0.36666667, 0.36666667, 0.36666667, 0.36666667, 0.30952382, 0.30952382, 0.30952382, 0.30952382, 0.30952382, 0.30952382, 0.30952382, 0.30952382, 0.30952382, 0.30952382, 0.30952382, 0.30952382, 0.26785713, 0.26785713, 0.26785713, 0.26785713, 0.26785713, 0.26785713, 0.26785713, 0.26785713, 0.26785713, 0.26785713, 0.26785713, 0.225, 0.225, 0.225, 0.225, 0.225, 0.225, 0.225, 0.225, 0.225, 0.225, 0.225, 0.89285713, 0.89285713, 0.89285713, 0.89285713, 0.89285713, 0.89285713, 0.89285713, 0.89285713, 0.89285713, 0.89285713, 0.7738095, 0.7738095, 0.7738095, 0.7738095, 0.7738095, 0.7738095, 0.7738095, 0.7738095, 0.7738095, 0.7738095, 0.66964287, 0.66964287, 0.66964287, 0.66964287, 0.66964287, 0.66964287, 0.66964287, 0.66964287, 0.66964287, 0.66964287, 0.5902778, 0.5902778, 0.5902778, 0.5902778, 0.5902778, 0.5902778, 0.5902778, 0.5902778, 0.5902778, 0.5902778, 0.5277778, 0.5277778, 0.5277778, 0.5277778, 0.5277778, 0.5277778, 0.5277778, 0.5277778, 0.5277778, 0.5277778, 0.47727272, 0.47727272, 0.47727272, 0.47727272, 0.47727272, 0.47727272, 0.47727272, 0.47727272, 0.47727272, 0.47727272, 0.42727274, 0.42727274, 0.42727274, 0.42727274, 0.42727274, 0.42727274, 0.42727274, 0.42727274, 0.36666667, 0.36666667, 0.36666667, 0.36666667, 0.36666667, 0.36666667, 0.36666667, 0.36666667, 0.36666667, 0.36666667, 0.80128205, 0.80128205, 0.80128205, 0.80128205, 0.80128205, 0.80128205, 0.80128205, 0.80128205, 0.80128205, 0.80128205, 0.80128205, 0.80128205, 0.80128205, 0.80128205, 0.80128205, 0.80128205, 0.80128205, 0.80128205, 0.80128205, 0.80128205, 0.80128205, 0.80128205, 0.80128205, 0.80128205, 0.80128205, 0.80128205, 0.7417582, 0.7417582, 0.7417582, 0.7417582, 0.7417582, 0.7417582, 0.7417582, 0.7417582, 0.7417582, 0.7417582, 0.7417582, 0.7417582, 0.7417582, 0.7417582, 0.7417582, 0.7417582, 0.7417582, 0.7417582, 0.7417582, 0.7417582, 0.7417582, 0.7417582, 0.7417582, 0.7417582, 0.6904762, 0.6904762, 0.6904762, 0.6904762, 0.6904762, 0.6904762, 0.6904762, 0.6904762, 0.6904762, 0.6904762, 0.6904762, 0.6904762, 0.6904762, 0.6904762, 0.6904762, 0.6904762, 0.6904762, 0.6904762, 0.6904762, 0.6904762, 0.6904762, 0.6904762, 0.6904762, 0.6363636, 0.6363636, 0.6363636, 0.6363636, 0.6363636, 0.6363636, 0.6363636, 0.6363636, 0.6363636, 0.6363636, 0.6363636, 0.6363636, 0.6363636, 0.6363636, 0.6363636, 0.6363636, 0.6363636, 0.6363636, 0.5808081, 0.5808081, 0.5808081, 0.5808081, 0.5808081, 0.5808081, 0.5808081, 0.5808081, 0.5808081, 0.5808081, 0.5808081, 0.5808081, 0.5808081, 0.5808081, 0.5808081, 0.5808081, 0.5808081, 0.5277778, 0.5277778, 0.5277778, 0.5277778, 0.5277778, 0.5277778, 0.5277778, 0.5277778, 0.5277778, 0.5277778, 0.5277778, 0.75, 0.75, 0.75, 0.75, 0.75, 0.75, 0.75, 0.75, 0.75, 0.75, 0.75, 0.75, 0.75, 0.75, 0.75, 0.75, 0.75, 0.75, 0.75, 0.75, 0.75, 0.75, 0.75, 0.75, 0.75, 0.75, 0.75, 0.75, 0.75, 0.75, 0.75, 0.75, 0.75, 0.75, 0.75, 0.75, 0.75, 0.5833333, 0.5833333, 0.5833333, 0.5833333, 0.5833333, 0.5833333, 0.5833333, 0.5833333, 0.5833333, 0.5833333, 0.5833333, 0.5833333, 0.5833333, 0.5833333, 0.5833333, 0.5833333, 0.5833333, 0.5833333, 0.5833333, 0.5833333, 0.5833333, 0.5833333, 0.5833333, 0.5833333, 0.5833333, 0.5833333, 0.5833333, 0.5833333, 0.5833333, 0.45, 0.45, 0.45, 0.45, 0.45, 0.45, 0.45, 0.45, 0.45, 0.45, 0.45, 0.45, 0.45, 0.45, 0.45, 0.45, 0.45, 0.45, 0.45, 0.45, 0.45, 0.45, 0.45, 0.45, 0.36666667, 0.36666667, 0.36666667, 0.36666667, 0.36666667, 0.36666667, 0.36666667, 0.36666667, 0.36666667, 0.36666667, 0.36666667, 0.36666667, 0.36666667, 0.36666667, 0.36666667, 0.36666667, 0.30952382, 0.30952382, 0.30952382, 0.30952382, 0.30952382, 0.30952382, 0.30952382, 0.30952382, 0.30952382, 0.30952382, 0.30952382, 0.30952382, 0.30952382, 0.26785713, 0.26785713, 0.26785713, 0.26785713, 0.26785713, 0.26785713, 0.225, 0.225, 0.225, 0.225, 0.225, 0.225, 0.2361111, 0.2361111, 0.2361111, 0.2361111, 0.2361111, 0.2361111, 0.2361111, 0.20634921, 0.20634921, 0.20634921, 0.20634921, 0.20634921, 0.20634921, 0.20634921, 0.17857143, 0.17857143, 0.17857143, 0.17857143, 0.17857143, 0.17857143, 0.8249158, 0.8249158, 0.8249158, 0.8249158, 0.8249158, 0.8249158, 0.8249158, 0.8249158, 0.8249158, 0.8249158, 0.8249158, 0.692951, 0.692951, 0.692951, 0.692951, 0.692951, 0.692951, 0.692951, 0.6082949, 0.6082949, 0.6082949, 0.6082949, 0.6082949, 0.53571427, 0.53571427, 0.53571427, 0.38405797, 0.38405797, 0.38405797, 0.38405797, 0.38405797, 0.38405797, 0.38405797, 0.38405797, 0.29166666, 0.29166666, 0.29166666, 0.29166666, 0.29166666, 0.29166666, 0.29166666, 0.225, 0.225, 0.225, 0.225, 0.225, 0.225, 0.5833333, 0.5833333, 0.5833333, 0.5833333, 0.5833333, 0.5833333, 0.5833333, 0.5833333, 0.5833333, 0.5833333, 0.5833333, 0.5833333, 0.5833333, 0.5833333, 0.45, 0.45, 0.45, 0.45, 0.45, 0.45, 0.45, 0.45, 0.45, 0.45, 0.34285715, 0.34285715, 0.34285715, 0.34285715, 0.34285715, 0.34285715, 0.34285715, 0.34285715, 0.34285715, 0.34285715, 0.25396827, 0.25396827, 0.25396827, 0.25396827, 0.25396827, 0.25396827, 0.45, 0.45, 0.45, 0.45, 0.45, 0.45, 0.45, 0.45, 0.45, 0.45, 0.45, 0.45, 0.45, 0.45, 0.36666667, 0.36666667, 0.36666667, 0.36666667, 0.36666667, 0.36666667, 0.36666667, 0.36666667, 0.36666667, 0.36666667, 0.36666667, 0.36666667, 0.30952382, 0.30952382, 0.30952382, 0.30952382, 0.30952382, 0.30952382, 0.30952382, 0.30952382, 0.30952382, 0.30952382, 0.30952382, 0.26785713, 0.26785713, 0.26785713, 0.26785713, 0.26785713, 0.26785713, 0.26785713, 0.26785713, 0.26785713, 0.26785713, 0.2361111, 0.2361111, 0.2361111, 0.2361111, 0.2361111, 0.2361111, 0.2361111, 0.2361111, 0.2361111, 0.2361111, 0.2361111, 0.21111111, 0.21111111, 0.21111111, 0.21111111, 0.21111111, 0.21111111, 0.21111111, 0.21111111, 0.21111111, 0.21111111, 0.16783217, 0.16783217, 0.16783217, 0.16783217, 0.16783217, 0.16783217, 0.16783217, 0.16783217, 0.16783217, 0.20979021, 0.20979021, 0.20979021, 0.20979021, 0.20979021, 0.20979021, 0.20979021, 0.16783217, 0.16783217, 0.16783217, 0.16783217, 0.16783217, 0.16783217, 0.16783217, 0.14541623, 0.14541623, 0.14541623, 0.14541623, 0.14541623, 0.14541623, 0.14541623, 0.12873411, 0.12873411, 0.12873411, 0.12873411, 0.12873411, 0.12873411, 0.20032051, 0.20032051, 0.20032051, 0.20032051, 0.20032051, 0.20032051, 0.20032051, 0.20032051, 0.20032051, 0.20032051, 0.16685206, 0.16685206, 0.16685206, 0.16685206, 0.16685206, 0.16685206, 0.16685206, 0.16685206, 0.16685206, 0.14297386, 0.14297386, 0.14297386, 0.14297386, 0.14297386, 0.14297386, 0.14297386, 0.12507817, 0.12507817, 0.12507817, 0.12507817, 0.2020202, 0.2020202, 0.2020202, 0.2020202, 0.2020202, 0.2020202, 0.2020202, 0.2020202, 0.2020202, 0.16783217, 0.16783217, 0.16783217, 0.16783217, 0.16783217, 0.16783217, 0.16783217, 0.16783217, 0.16783217, 0.14358975, 0.14358975, 0.14358975, 0.14358975, 0.14358975, 0.14358975, 0.14358975, 0.1254902, 0.1254902, 0.1254902, 0.1254902, 0.1254902, 0.1254902, 0.1254902, 0.1254902, 0.111455105, 0.111455105, 0.111455105, 0.111455105, 0.111455105, 0.111455105, 0.2020202, 0.2020202, 0.2020202, 0.2020202, 0.2020202, 0.2020202, 0.2020202, 0.2020202, 0.2020202, 0.2020202, 0.2020202, 0.2020202, 0.2020202, 0.2020202, 0.16783217, 0.16783217, 0.16783217, 0.16783217, 0.16783217, 0.16783217, 0.16783217, 0.16783217, 0.16783217, 0.16783217, 0.16783217, 0.16783217, 0.16783217, 0.14358975, 0.14358975, 0.14358975, 0.14358975, 0.14358975, 0.14358975, 0.14358975, 0.14358975, 0.1254902, 0.1254902, 0.1254902, 0.1254902, 0.1254902, 0.1254902]\n",
      "[8.387413, 8.487412, 8.587413, 8.687413, 8.787413, 8.887413, 8.987412, 9.087413, 9.187413, 9.287413, 9.387413, 9.487412, 9.587413, 9.687413, 9.787413, 9.887413, 9.987412, 10.087413, 10.187413, 10.287413, 10.387413, 10.487412, 10.587413, 10.687413, 10.787413, 10.887413, 10.987412, 11.087413, 11.187413, 11.287413, 11.387413, 11.487412, 11.587413, 11.687413, 11.787413, 11.887413, 11.987412, 12.087413, 12.187413, 7.3276086, 7.5276084, 7.727608, 7.9276085, 8.127609, 8.327609, 8.527609, 8.727609, 8.9276085, 9.127609, 9.327609, 9.527609, 9.727609, 9.9276085, 10.127609, 10.327609, 10.527609, 10.727609, 10.9276085, 11.127609, 11.327609, 9.077609, 9.1776085, 9.277609, 9.377609, 9.477609, 9.577609, 9.6776085, 9.777609, 9.877609, 9.977609, 10.077609, 10.1776085, 10.277609, 10.377609, 10.477609, 10.577609, 10.6776085, 10.777609, 10.877609, 10.977609, 11.077609, 11.1776085, 11.277609, 11.377609, 11.477609, 11.577609, 11.6776085, 11.777609, 11.877609, 11.977609, 12.077609, 12.1776085, 7.7876086, 7.9876084, 8.187608, 8.387609, 8.587608, 8.787608, 8.987608, 9.187608, 9.387609, 9.587608, 9.787608, 9.987608, 10.187608, 10.387609, 10.587608, 10.787608, 10.987608, 11.187608, 11.387609, 11.587608, 7.9876084, 8.187608, 8.387609, 8.587608, 8.787608, 8.987608, 9.187608, 9.387609, 9.587608, 9.787608, 9.987608, 10.187608, 10.387609, 10.587608, 10.787608, 10.987608, 11.187608, 11.387609, 11.587608, 11.787608, 8.587608, 8.787608, 8.987608, 9.187608, 9.387609, 9.587608, 9.787608, 9.987608, 10.187608, 10.387609, 10.587608, 10.787608, 10.987608, 11.187608, 11.387609, 11.587608, 11.787608, 8.987608, 9.187608, 9.387609, 9.587608, 9.787608, 9.987608, 10.187608, 10.387609, 10.587608, 10.787608, 10.987608, 11.187608, 11.387609, 11.587608, 9.187608, 9.387609, 9.587608, 9.787608, 9.987608, 10.187608, 10.387609, 10.587608, 10.787608, 10.987608, 11.187608, 11.387609, 11.587608, 9.387609, 9.587608, 9.787608, 9.987608, 10.187608, 10.387609, 10.587608, 10.787608, 10.987608, 11.187608, 11.387609, 11.587608, 11.787608, 9.787608, 9.987608, 10.187608, 10.387609, 10.587608, 10.787608, 10.987608, 11.187608, 11.387609, 11.587608, 11.787608, 9.987608, 10.187608, 10.387609, 10.587608, 10.787608, 10.987608, 11.187608, 11.387609, 11.587608, 11.787608, 10.187608, 10.387609, 10.587608, 10.787608, 10.987608, 11.187608, 11.387609, 11.587608, 11.787608, 10.587608, 10.787608, 10.987608, 11.187608, 11.387609, 11.587608, 11.787608, 10.787608, 10.987608, 11.187608, 11.387609, 11.587608, 11.787608, 10.787608, 10.987608, 11.187608, 11.387609, 11.587608, 11.787608, 8.017608, 8.217608, 8.417608, 8.617608, 8.817608, 9.017608, 9.217608, 9.417608, 9.617608, 9.817608, 10.017608, 10.217608, 10.417608, 10.617608, 10.817608, 11.017608, 11.217608, 11.417608, 11.617608, 8.647608, 8.847609, 9.047608, 9.247608, 9.447608, 9.647608, 9.847609, 10.047608, 10.247608, 10.447608, 10.647608, 10.847609, 11.047608, 11.247608, 11.447608, 9.007608, 9.207608, 9.407608, 9.607608, 9.807609, 10.007608, 10.207608, 10.407608, 10.607608, 10.807609, 11.007608, 11.207608, 11.407608, 9.297608, 9.497608, 9.697608, 9.897608, 10.097609, 10.297608, 10.497608, 10.697608, 10.897608, 11.097609, 11.297608, 9.667608, 9.867608, 10.067608, 10.267608, 10.467608, 10.667608, 10.867608, 11.067608, 11.267608, 10.007608, 10.207608, 10.407608, 10.607608, 10.807609, 11.007608, 11.207608, 11.607608, 8.102609, 8.387609, 8.672609, 8.957609, 9.242609, 9.527609, 9.812609, 10.097609, 10.382608, 10.667609, 10.952609, 11.237609, 11.522609, 11.807609, 12.092608, 8.827609, 9.077609, 9.327609, 9.577609, 9.827609, 10.077609, 10.327609, 10.577609, 10.827609, 11.077609, 11.327609, 11.577609, 11.827609, 9.277609, 9.527609, 9.777609, 10.027609, 10.277609, 10.527609, 10.777609, 11.027609, 11.277609, 11.527609, 11.777609, 12.027609, 9.527609, 9.777609, 10.027609, 10.277609, 10.527609, 10.777609, 11.027609, 11.277609, 11.527609, 11.777609, 9.527609, 9.777609, 10.027609, 10.277609, 10.527609, 10.777609, 11.027609, 11.277609, 11.527609, 11.777609, 9.577609, 9.777609, 9.977609, 10.1776085, 10.377609, 10.577609, 10.777609, 10.977609, 11.1776085, 11.377609, 11.577609, 11.777609, 10.187609, 10.347609, 10.507608, 10.667609, 10.827609, 10.987609, 11.147609, 11.307609, 11.467608, 11.627609, 11.787609, 10.207609, 10.367609, 10.527609, 10.687609, 10.847609, 11.007608, 11.167609, 11.327609, 11.487609, 11.647609, 11.807609, 7.2876086, 7.7176085, 8.147609, 8.577609, 9.007608, 9.437609, 9.867609, 10.297609, 10.727609, 11.157609, 8.977609, 9.277609, 9.577609, 9.877609, 10.1776085, 10.477609, 10.777609, 11.077609, 11.377609, 11.6776085, 9.317609, 9.602609, 9.887609, 10.172609, 10.457609, 10.742609, 11.027609, 11.312609, 11.597609, 11.882608, 9.507608, 9.747609, 9.987609, 10.227609, 10.467608, 10.707609, 10.947609, 11.187609, 11.4276085, 11.667609, 9.707609, 9.9276085, 10.147609, 10.367609, 10.587609, 10.807609, 11.027609, 11.247609, 11.467608, 11.687609, 9.917609, 10.097609, 10.277609, 10.457609, 10.637609, 10.817609, 10.997609, 11.1776085, 11.357609, 11.537609, 10.597609, 10.747609, 10.897609, 11.047609, 11.197609, 11.347609, 11.497609, 11.647609, 11.237609, 11.297609, 11.357609, 11.417609, 11.477609, 11.537609, 11.597609, 11.657609, 11.717608, 11.777609, 8.827609, 8.9276085, 9.027609, 9.127609, 9.227609, 9.327609, 9.4276085, 9.527609, 9.627609, 9.727609, 9.827609, 9.9276085, 10.027609, 10.127609, 10.227609, 10.327609, 10.4276085, 10.527609, 10.627609, 10.727609, 10.827609, 10.9276085, 11.027609, 11.127609, 11.227609, 11.327609, 9.227609, 9.327609, 9.4276085, 9.527609, 9.627609, 9.727609, 9.827609, 9.9276085, 10.027609, 10.127609, 10.227609, 10.327609, 10.4276085, 10.527609, 10.627609, 10.727609, 10.827609, 10.9276085, 11.027609, 11.127609, 11.227609, 11.327609, 11.4276085, 11.527609, 9.627609, 9.727609, 9.827609, 9.9276085, 10.027609, 10.127609, 10.227609, 10.327609, 10.4276085, 10.527609, 10.627609, 10.727609, 10.827609, 10.9276085, 11.027609, 11.127609, 11.227609, 11.327609, 11.4276085, 11.527609, 11.627609, 11.727609, 11.827609, 10.027609, 10.127609, 10.227609, 10.327609, 10.4276085, 10.527609, 10.627609, 10.727609, 10.827609, 10.9276085, 11.027609, 11.127609, 11.227609, 11.327609, 11.4276085, 11.527609, 11.627609, 11.727609, 10.4276085, 10.527609, 10.627609, 10.727609, 10.827609, 10.9276085, 11.027609, 11.127609, 11.227609, 11.327609, 11.4276085, 11.527609, 11.627609, 11.727609, 11.827609, 11.9276085, 12.027609, 10.827609, 10.9276085, 11.027609, 11.127609, 11.227609, 11.327609, 11.4276085, 11.527609, 11.627609, 11.727609, 11.827609, 8.397608, 8.497608, 8.597609, 8.697608, 8.797608, 8.897608, 8.997608, 9.097609, 9.197608, 9.297608, 9.397608, 9.497608, 9.597609, 9.697608, 9.797608, 9.897608, 9.997608, 10.097609, 10.197608, 10.297608, 10.397608, 10.497608, 10.597609, 10.697608, 10.797608, 10.897608, 10.997608, 11.097609, 11.197608, 11.297608, 11.397608, 11.497608, 11.597609, 11.697608, 11.797608, 11.897608, 11.997608, 8.897608, 8.997608, 9.097609, 9.197608, 9.297608, 9.397608, 9.497608, 9.597609, 9.697608, 9.797608, 9.897608, 9.997608, 10.097609, 10.197608, 10.297608, 10.397608, 10.497608, 10.597609, 10.697608, 10.797608, 10.897608, 10.997608, 11.097609, 11.197608, 11.297608, 11.397608, 11.497608, 11.597609, 11.697608, 9.497608, 9.597609, 9.697608, 9.797608, 9.897608, 9.997608, 10.097609, 10.197608, 10.297608, 10.397608, 10.497608, 10.597609, 10.697608, 10.797608, 10.897608, 10.997608, 11.097609, 11.197608, 11.297608, 11.397608, 11.497608, 11.597609, 11.697608, 11.797608, 10.097609, 10.197608, 10.297608, 10.397608, 10.497608, 10.597609, 10.697608, 10.797608, 10.897608, 10.997608, 11.097609, 11.197608, 11.297608, 11.397608, 11.497608, 11.597609, 10.497608, 10.597609, 10.697608, 10.797608, 10.897608, 10.997608, 11.097609, 11.197608, 11.297608, 11.397608, 11.497608, 11.597609, 11.697608, 10.797608, 10.997608, 11.197608, 11.397608, 11.597609, 11.797608, 10.997608, 11.197608, 11.397608, 11.597609, 11.797608, 11.997608, 10.187608, 10.387609, 10.587608, 10.787608, 10.987608, 11.187608, 11.387609, 10.187608, 10.387609, 10.587608, 10.787608, 10.987608, 11.187608, 11.387609, 10.187608, 10.387609, 10.587608, 10.787608, 10.987608, 11.187608, 8.527609, 8.817609, 9.107609, 9.397609, 9.687609, 9.977609, 10.267609, 10.557609, 10.847609, 11.137609, 11.4276085, 9.727609, 10.007608, 10.287609, 10.567609, 10.847609, 11.127609, 11.407609, 10.277609, 10.567609, 10.857609, 11.147609, 11.437609, 10.867609, 11.157609, 11.447609, 9.527608, 9.827608, 10.127608, 10.4276085, 10.727608, 11.027608, 11.327608, 11.627608, 9.887609, 10.1776085, 10.467608, 10.757608, 11.047608, 11.337608, 11.627608, 10.207608, 10.497608, 10.787608, 11.077608, 11.367608, 11.657608, 8.537608, 8.787608, 9.037608, 9.287608, 9.537608, 9.787608, 10.037608, 10.287608, 10.537608, 10.787608, 11.037608, 11.287608, 11.537608, 11.787608, 9.287608, 9.537608, 9.787608, 10.037608, 10.287608, 10.537608, 10.787608, 11.037608, 11.287608, 11.537608, 9.287608, 9.537608, 9.787608, 10.037608, 10.287608, 10.537608, 10.787608, 11.037608, 11.287608, 11.537608, 10.037608, 10.287608, 10.537608, 10.787608, 11.037608, 11.287608, 8.387609, 8.637609, 8.887609, 9.137609, 9.387609, 9.637609, 9.887609, 10.137609, 10.387609, 10.637609, 10.887609, 11.137609, 11.387609, 11.637609, 9.137609, 9.387609, 9.637609, 9.887609, 10.137609, 10.387609, 10.637609, 10.887609, 11.137609, 11.387609, 11.637609, 11.887609, 9.137609, 9.387609, 9.637609, 9.887609, 10.137609, 10.387609, 10.637609, 10.887609, 11.137609, 11.387609, 11.637609, 9.387609, 9.637609, 9.887609, 10.137609, 10.387609, 10.637609, 10.887609, 11.137609, 11.387609, 11.637609, 9.387609, 9.637609, 9.887609, 10.137609, 10.387609, 10.637609, 10.887609, 11.137609, 11.387609, 11.637609, 11.887609, 8.922077, 9.172077, 9.422077, 9.672077, 9.922077, 10.172077, 10.422077, 10.672077, 10.922077, 11.172077, 8.922077, 9.172077, 9.422077, 9.672077, 9.922077, 10.172077, 10.422077, 10.672077, 10.922077, 7.5376086, 8.037608, 8.537608, 9.037608, 9.537608, 10.037608, 10.537608, 7.5376086, 8.037608, 8.537608, 9.037608, 9.537608, 10.037608, 10.537608, 7.5376086, 8.037608, 8.537608, 9.037608, 9.537608, 10.037608, 10.537608, 7.5376086, 8.037608, 8.537608, 9.037608, 9.537608, 10.037608, 8.657609, 8.907609, 9.157609, 9.407609, 9.657609, 9.907609, 10.157609, 10.407609, 10.657609, 10.907609, 8.737609, 9.047609, 9.357609, 9.667609, 9.977609, 10.287609, 10.597609, 10.907609, 11.217608, 8.997609, 9.347609, 9.697609, 10.047609, 10.397609, 10.747609, 11.097609, 9.327609, 9.687609, 10.047609, 10.407609, 7.0376086, 7.5376086, 8.037608, 8.537608, 9.037608, 9.537608, 10.037608, 10.537608, 11.037608, 7.0376086, 7.5376086, 8.037608, 8.537608, 9.037608, 9.537608, 10.037608, 10.537608, 11.037608, 7.0376086, 7.5376086, 8.037608, 8.537608, 9.037608, 9.537608, 10.037608, 7.0376086, 7.5376086, 8.037608, 8.537608, 9.037608, 9.537608, 10.037608, 10.537608, 7.0376086, 7.5376086, 8.037608, 8.537608, 9.037608, 9.537608, 8.717608, 8.917608, 9.117608, 9.317608, 9.517608, 9.717608, 9.917608, 10.117608, 10.317608, 10.517608, 10.717608, 10.917608, 11.117608, 11.517608, 9.107608, 9.307609, 9.507608, 9.707608, 9.907608, 10.107608, 10.307609, 10.507608, 10.707608, 10.907608, 11.107608, 11.307609, 11.507608, 9.287608, 9.487608, 9.687608, 9.887609, 10.087608, 10.287608, 10.487608, 10.687608, 9.537608, 9.737608, 9.937608, 10.137609, 10.337608, 10.537608]\n",
      "[-1.7221187, -1.8181188, -1.8221188, -1.8331188, -1.8501188, -1.8651187, -1.8801187, -1.9241188, -1.9451188, -1.9841188, -2.0201187, -2.0801187, -2.1051188, -2.1401186, -2.1701188, -2.1771188, -2.1991186, -2.2131188, -2.2121186, -2.2271187, -2.2501187, -2.3021188, -2.3601186, -2.4281187, -2.5121188, -2.6161187, -2.7551188, -2.9261189, -3.1231189, -3.3691187, -3.6561189, -3.9811187, -4.3621187, -4.7841187, -5.2511187, -5.8181186, -6.372119, -6.9421186, -7.288119, -1.4074129, -1.5414128, -1.4994128, -1.6054128, -1.5894128, -1.6704128, -1.7584128, -1.7864128, -1.8864129, -2.032413, -2.0594127, -2.171413, -2.2484128, -2.2844129, -2.300413, -2.3024127, -2.3324127, -2.4914129, -2.6594129, -2.9374127, -3.5124128, -2.063413, -2.046413, -2.030413, -2.069413, -2.1014128, -2.122413, -2.1514127, -2.1964128, -2.2034128, -2.2164128, -2.250413, -2.2524128, -2.2644129, -2.2814128, -2.2824128, -2.326413, -2.3804128, -2.4424129, -2.527413, -2.632413, -2.7624128, -2.9304128, -3.1384127, -3.3864129, -3.6664128, -3.9754128, -4.3204126, -4.717413, -5.1744127, -5.798413, -6.249413, -6.9904127, -1.3164128, -1.3664129, -1.3694128, -1.5264128, -1.6374128, -1.7394128, -1.8084128, -1.8474128, -1.8644128, -1.9314128, -2.006413, -1.9724128, -2.0934129, -2.1634128, -2.2184129, -2.352413, -2.632413, -3.063413, -3.3684127, -3.369413, -1.7314129, -1.7224128, -1.8584129, -1.8414128, -1.9384128, -2.0284128, -1.9944128, -2.083413, -2.1864128, -2.1544127, -2.2484128, -2.3044128, -2.3704128, -2.540413, -2.6464128, -2.839413, -2.9964128, -3.4994128, -4.081413, -5.078413, -2.0254128, -1.8994129, -2.0224128, -2.060413, -2.1114128, -2.1404128, -2.1864128, -2.234413, -2.2794127, -2.346413, -2.4554129, -2.6374128, -2.9274127, -3.3804128, -3.4234128, -3.9244127, -4.926413, -2.1084127, -2.0824127, -2.0914128, -2.1054127, -2.165413, -2.2154129, -2.2954128, -2.408413, -2.550413, -2.691413, -2.8714128, -3.3214128, -3.648413, -4.0834126, -2.0944128, -2.2034128, -2.244413, -2.2954128, -2.3674128, -2.4204128, -2.550413, -2.6404128, -2.783413, -2.9344127, -3.201413, -3.675413, -4.1544127, -2.326413, -2.3354127, -2.3964128, -2.5094128, -2.5494127, -2.6044128, -2.688413, -2.829413, -3.073413, -3.4334128, -3.7194128, -4.2734127, -4.704413, -2.6694129, -2.7184129, -2.777413, -2.8244128, -2.9014127, -3.0354128, -3.1864128, -3.3704128, -3.7414129, -4.6234126, -5.0234127, -2.9764128, -3.020413, -3.0084128, -3.1074128, -3.2484128, -3.3814127, -3.6264129, -3.9144127, -4.429413, -4.875413, -3.109413, -3.217413, -3.2754128, -3.408413, -3.540413, -3.7134128, -4.192413, -4.330413, -4.9194126, -3.5184128, -3.5364127, -3.632413, -3.8114128, -4.197413, -4.426413, -5.027413, -3.6514127, -3.7624128, -3.9664128, -4.318413, -4.539413, -5.183413, -3.7894127, -3.8574128, -4.125413, -4.396413, -4.9644127, -5.1424127, -1.3424128, -1.4904128, -1.7724128, -1.8454129, -1.8394128, -1.9734129, -2.1304128, -2.1894128, -2.2894127, -2.359413, -2.359413, -2.5454128, -2.5754128, -2.5754128, -2.6074128, -3.244413, -3.119413, -3.4204128, -3.721413, -1.4884129, -1.9394128, -2.096413, -2.2184129, -2.3374128, -2.3254128, -2.4834127, -2.6034129, -2.5594127, -2.7054129, -2.9274127, -2.767413, -2.9784129, -3.4044127, -3.8814127, -1.6104128, -2.1264129, -2.3674128, -2.5384128, -2.6114128, -2.7494128, -2.652413, -2.6744127, -3.1084127, -2.912413, -3.050413, -3.652413, -3.9534128, -1.6464128, -1.8614129, -2.3314128, -2.497413, -2.7534127, -2.7394128, -2.9294128, -2.951413, -3.0264127, -3.3274128, -3.9294128, -2.6054127, -2.6014128, -2.8344128, -3.1774127, -3.4364128, -3.4784129, -3.7004128, -4.177413, -4.4784126, -2.8374128, -3.2164128, -3.5394127, -3.9654129, -4.1414127, -3.9654129, -4.1414127, -4.442413, -1.6434128, -1.6644129, -1.7794129, -1.8834128, -2.010413, -2.1374128, -2.2494128, -2.3254128, -2.3714128, -2.4404128, -2.6204128, -2.9964128, -3.5184128, -4.268413, -5.258413, -1.9854128, -2.0384128, -2.1514127, -2.2884128, -2.4264128, -2.4894128, -2.5314128, -2.6204128, -2.7724128, -3.0394127, -3.5084128, -4.010413, -5.209413, -2.1834128, -2.2684128, -2.3894129, -2.500413, -2.5584128, -2.583413, -2.6574128, -2.846413, -3.1794128, -3.7924128, -4.7334127, -5.395413, -2.3114128, -2.3944128, -2.517413, -2.6244128, -2.701413, -2.8084128, -3.0524127, -3.5194128, -4.376413, -5.193413, -2.3284128, -2.412413, -2.5384128, -2.6504128, -2.7234128, -2.8354127, -3.0774128, -3.533413, -4.3914127, -5.2074127, -2.8504128, -2.8674128, -3.0484128, -3.0934129, -3.1204128, -3.1774127, -3.2644129, -3.4134128, -3.6844127, -4.078413, -4.509413, -5.288413, -3.040413, -3.2624128, -3.329413, -3.448413, -3.510413, -3.6564128, -3.8514128, -4.133413, -4.612413, -4.9394126, -5.679413, -3.4224129, -3.619413, -3.7524128, -3.9694128, -4.0494127, -4.2544127, -4.343413, -4.7024126, -5.021413, -5.060413, -5.895413, -0.99741286, -1.1604128, -1.4104128, -1.7494128, -1.9634129, -2.1894128, -2.3324127, -2.481413, -2.7164128, -3.1724129, -1.8944129, -2.0344129, -2.129413, -2.224413, -2.2824128, -2.3214128, -2.530413, -2.8044128, -3.2954128, -4.185413, -2.2654128, -2.4144127, -2.5124128, -2.5454128, -2.5824127, -2.6774127, -2.895413, -3.4334128, -4.034413, -5.1364126, -2.310413, -2.3834128, -2.461413, -2.5484128, -2.589413, -2.6594129, -2.8404129, -3.1564128, -3.7534127, -4.409413, -2.4174128, -2.441413, -2.461413, -2.5094128, -2.553413, -2.6164129, -2.8454127, -3.1574128, -3.721413, -4.5174127, -2.5954127, -2.6404128, -2.685413, -2.6834128, -2.7554128, -2.8614128, -3.0414128, -3.3384128, -3.8304129, -4.370413, -2.9264128, -2.971413, -3.1244128, -3.3124127, -3.652413, -4.005413, -4.783413, -5.686413, -4.025413, -3.9324129, -4.080413, -4.290413, -4.732413, -5.068413, -4.8924127, -5.545413, -5.369413, -5.8464127, -2.050413, -2.0804129, -2.201413, -2.2264128, -2.119413, -2.1264129, -2.1834128, -2.1964128, -2.165413, -2.2414129, -2.2534127, -2.283413, -2.2564127, -2.3614128, -2.326413, -2.3714128, -2.3914127, -2.421413, -2.4374127, -2.4634128, -2.583413, -2.6834128, -2.8254128, -2.8714128, -3.211413, -3.5814128, -2.1734128, -2.2514129, -2.231413, -2.224413, -2.323413, -2.2994127, -2.2764127, -2.2824128, -2.2494128, -2.329413, -2.2824128, -2.2744129, -2.3314128, -2.3244128, -2.3734128, -2.448413, -2.5134127, -2.6204128, -2.750413, -2.8604128, -3.1504128, -3.3814127, -3.6214128, -4.381413, -2.333413, -2.3884127, -2.3304129, -2.349413, -2.3664129, -2.2944129, -2.3834128, -2.4134128, -2.3684127, -2.3734128, -2.425413, -2.4014127, -2.5344129, -2.685413, -2.7754128, -3.0194128, -3.155413, -3.5014129, -3.711413, -4.1614127, -4.3914127, -5.131413, -5.091413, -2.4604127, -2.435413, -2.412413, -2.4294128, -2.4234128, -2.3874128, -2.4494128, -2.4724128, -2.543413, -2.6434128, -2.770413, -2.9624128, -3.1594129, -3.352413, -3.6904128, -3.8414128, -4.561413, -4.251413, -2.428413, -2.3614128, -2.3944128, -2.428413, -2.484413, -2.5284128, -2.6404128, -2.813413, -2.9604127, -3.2744129, -3.5114129, -3.971413, -4.2614126, -4.6414127, -4.981413, -4.521413, -5.521413, -2.6244128, -2.6994128, -2.7424128, -2.8834128, -3.0804129, -3.3374128, -3.494413, -3.8114128, -4.361413, -4.481413, -5.111413, -1.6404128, -1.7434129, -1.7494128, -1.7884128, -1.8734128, -1.9014128, -1.9354129, -1.9834129, -2.019413, -2.0804129, -2.142413, -2.152413, -2.211413, -2.2614129, -2.2524128, -2.2494128, -2.323413, -2.3604128, -2.362413, -2.398413, -2.382413, -2.4294128, -2.4334128, -2.507413, -2.6014128, -2.6574128, -2.757413, -2.8804128, -3.0904129, -3.1104128, -3.3204129, -3.6474128, -4.2674127, -4.2674127, -4.568413, -5.045413, -4.744413, -2.1164129, -2.109413, -2.1314127, -2.185413, -2.1704128, -2.1924129, -2.2424128, -2.3014128, -2.2754128, -2.313413, -2.3484128, -2.3894129, -2.4604127, -2.408413, -2.4434128, -2.458413, -2.5554128, -2.5414128, -2.5904129, -2.6724129, -2.7894127, -2.951413, -3.056413, -3.2624128, -3.4804127, -3.7454128, -4.015413, -4.236413, -4.634413, -2.415413, -2.4104128, -2.4194129, -2.4984128, -2.546413, -2.5814128, -2.662413, -2.6434128, -2.678413, -2.6894128, -2.721413, -2.744413, -2.8414128, -2.8934128, -3.0034127, -3.1234128, -3.290413, -3.507413, -3.869413, -4.041413, -4.475413, -4.691413, -5.223413, -5.922413, -2.754413, -2.846413, -2.8714128, -2.9424129, -2.9984128, -2.9954128, -3.0254128, -3.1864128, -3.1994128, -3.3554127, -3.6174128, -3.7744129, -4.119413, -4.4574127, -4.758413, -5.5114126, -3.316413, -3.339413, -3.3734128, -3.4864128, -3.5904129, -3.655413, -3.852413, -4.055413, -4.132413, -4.597413, -5.296413, -5.150413, -5.393413, -3.4954128, -3.8474128, -4.088413, -4.3924127, -5.086413, -5.512413, -4.402413, -4.897413, -5.038413, -5.2474127, -5.870413, -6.092413, -3.6214128, -3.731413, -3.9014127, -4.071413, -4.2614126, -4.711413, -5.211413, -3.961413, -4.091413, -4.381413, -4.591413, -4.7014127, -5.5314126, -5.961413, -4.521413, -4.9514127, -4.831413, -5.4314127, -5.501413, -5.8714128, -1.8004128, -1.8874128, -2.017413, -2.1114128, -2.2164128, -2.2794127, -2.3044128, -2.3174129, -2.5344129, -3.0284128, -3.918413, -2.1874127, -2.3914127, -2.441413, -2.504413, -2.6284127, -3.092413, -4.212413, -2.5354128, -2.5414128, -2.6894128, -2.9854128, -3.7884128, -2.819413, -3.0974128, -3.8374128, -2.6494129, -2.7714128, -2.8844128, -2.8024127, -2.9334128, -3.2304127, -3.7864127, -4.8584127, -2.681413, -3.4424129, -3.1604128, -3.4434128, -3.6114128, -3.9904127, -5.1084127, -3.1824129, -3.474413, -3.9704127, -4.066413, -4.323413, -4.8254128, -1.8094128, -1.8754128, -1.9244128, -1.9914129, -2.1054127, -2.237413, -2.2864127, -2.385413, -2.402413, -2.566413, -2.7464128, -3.3324127, -4.081413, -4.3914127, -2.0914128, -2.2534127, -2.4804127, -2.560413, -2.6734128, -2.704413, -2.9474127, -3.125413, -3.7264128, -4.2614126, -2.2494128, -2.4454129, -2.592413, -2.7234128, -2.8374128, -2.984413, -3.2454128, -3.4574127, -4.061413, -4.486413, -2.9204128, -3.198413, -3.4104128, -4.0294127, -3.8684127, -4.291413, -1.8314128, -1.8714129, -2.0314128, -2.1014128, -2.3514128, -2.441413, -2.5214128, -2.6414127, -2.711413, -2.5914128, -2.931413, -3.211413, -3.5114129, -4.211413, -2.421413, -2.4114127, -2.5814128, -2.6014128, -2.6114128, -2.681413, -2.721413, -3.0614128, -3.0814128, -3.5914128, -3.9914129, -4.291413, -2.211413, -2.191413, -2.2514129, -2.3614128, -2.6614127, -2.7414129, -2.931413, -3.4914129, -3.681413, -4.021413, -4.791413, -2.1114128, -2.2514129, -2.3514128, -2.721413, -3.0514128, -3.1314127, -3.8914127, -4.021413, -4.191413, -4.791413, -2.4914129, -2.6014128, -2.6614127, -2.921413, -3.0214128, -3.181413, -4.001413, -3.8214128, -4.001413, -4.001413, -4.001413, -2.5851164, -2.7801163, -2.9221165, -2.9591165, -3.1771164, -3.4391165, -3.7611165, -4.3011165, -4.8561163, -4.8631163, -3.2391164, -3.3811164, -3.4941163, -3.5621164, -3.7131164, -3.9011164, -4.3281164, -4.4641166, -5.0791163, -1.9414128, -2.0014129, -2.3414128, -2.5714128, -3.181413, -3.8414128, -4.4714127, -2.2514129, -2.3114128, -2.6414127, -2.8814127, -3.5014129, -4.1614127, -4.851413, -2.1314127, -2.201413, -2.5914128, -2.8514128, -3.5614128, -4.2614126, -5.0114126, -2.191413, -2.2714128, -2.7414129, -3.0514128, -3.8414128, -4.571413, -1.8124129, -1.9594128, -2.1614127, -2.4274127, -2.6564128, -3.0134127, -3.2614129, -3.5184128, -4.131413, -4.506413, -2.0084128, -2.3644128, -2.629413, -2.8664129, -2.984413, -3.3774128, -3.9174128, -4.4124126, -5.255413, -2.6054127, -2.9624128, -3.3834128, -3.685413, -4.005413, -4.838413, -5.764413, -3.0524127, -3.454413, -3.7554128, -4.4524126, -1.6114129, -1.8114128, -2.0414128, -2.2614129, -2.5614128, -2.951413, -3.4114127, -4.041413, -4.581413, -1.5114129, -1.7614129, -2.0514128, -2.3714128, -2.721413, -3.1614127, -3.5114129, -4.1614127, -4.921413, -1.5114129, -1.8514128, -2.3014128, -2.691413, -3.181413, -3.731413, -4.311413, -1.6714128, -2.1114128, -2.5314128, -3.0014129, -3.5114129, -4.151413, -4.651413, -5.2814126, -1.7714128, -2.3214128, -2.921413, -3.4914129, -4.251413, -5.351413, -1.9894128, -2.2494128, -2.451413, -2.5914128, -2.8454127, -3.0064127, -3.1824129, -3.4164128, -3.5824127, -3.9044127, -4.236413, -4.433413, -4.894413, -5.377413, -2.8514128, -2.8714128, -3.099413, -3.181413, -3.3414128, -3.6574128, -3.796413, -4.1224127, -4.375413, -4.639413, -5.022413, -5.3324127, -5.3274126, -2.8124127, -3.3054128, -3.3874128, -3.6574128, -3.8804128, -4.388413, -4.699413, -4.994413, -3.5284128, -4.384413, -4.295413, -4.916413, -5.2484126, -5.226413]\n",
      "[0.04560975, 0.051971145, 0.044634633, 0.04171629, 0.038810458, 0.03688156, 0.03162275, 0.034003645, 0.030675707, 0.03020344, 0.029261725, 0.029261725, 0.028324062, 0.030675765, 0.028324006, 0.025539208, 0.025539208, 0.022808993, 0.022360662, 0.020591266, 0.018027745, 0.017613932, 0.01720465, 0.016800277, 0.016007848, 0.016007755, 0.016007848, 0.016800277, 0.014142129, 0.015620472, 0.019293778, 0.01640123, 0.020591266, 0.028324228, 0.04707441, 0.083600186, 0.1438481, 0.17278975, 0.27418235, 0.089063205, 0.12789156, 0.10696842, 0.06774219, 0.04414752, 0.056393676, 0.029261725, 0.063788734, 0.052952796, 0.027390637, 0.026925802, 0.026000045, 0.027856799, 0.028324006, 0.028792314, 0.028792426, 0.029732136, 0.034481872, 0.043174002, 0.055901647, 0.11194744, 0.050990205, 0.04414752, 0.038327537, 0.034481928, 0.03162275, 0.028792426, 0.026925802, 0.02416616, 0.022360662, 0.020591266, 0.01972315, 0.018027745, 0.01640123, 0.015620563, 0.014866096, 0.014142129, 0.014142129, 0.013453666, 0.013453587, 0.013453587, 0.013453666, 0.014142129, 0.014866096, 0.01640123, 0.01886799, 0.022360662, 0.028792538, 0.039293867, 0.059841473, 0.11045375, 0.17328888, 0.39312708, 0.1563202, 0.15981318, 0.16530277, 0.19825232, 0.20524381, 0.22472261, 0.24120738, 0.2576941, 0.20524374, 0.24920079, 0.252698, 0.21373403, 0.21972768, 0.17029382, 0.12539937, 0.20274675, 5.1995096, 5.1995096, 5.1995096, 5.454509, 0.32675716, 0.33212385, 0.33255416, 0.3323387, 0.33320415, 0.35324532, 0.3762034, 0.37440088, 0.3696701, 0.36591017, 0.4079856, 0.4059585, 0.42532602, 0.401608, 0.4335539, 0.4452426, 0.3583518, 5.2081475, 3.1891415, 2.6932604, 0.32075262, 0.31575665, 0.32237247, 0.32292455, 0.32897568, 0.32461673, 0.33385962, 0.33277023, 0.34383717, 0.34262258, 0.3622278, 0.37680766, 0.42888486, 0.47401372, 0.35430533, 0.40866402, 2.7688003, 0.40494943, 0.34142202, 0.32538593, 0.31686592, 0.3151385, 0.31935915, 0.3202249, 0.323858, 0.33190963, 0.33999997, 0.36937818, 0.43211225, 0.4530565, 0.38987312, 0.31061268, 0.31194592, 0.31378976, 0.31408438, 0.3186789, 0.31901765, 0.32461667, 0.32461673, 0.34481883, 0.38263068, 0.42817077, 0.41655847, 0.36763602, 0.31010038, 0.31127, 0.31378976, 0.31607005, 0.3167053, 0.31901765, 0.32577446, 0.34238142, 0.3529816, 0.4235575, 0.4693836, 0.46325904, 2.879172, 0.3186789, 0.31970337, 0.3240467, 0.3285666, 0.33277023, 0.33630937, 0.3572618, 0.41551927, 0.43863428, 2.9194546, 0.3732078, 0.32404667, 0.3312707, 0.32596973, 0.33277017, 0.34506553, 0.38201082, 0.43499994, 0.5012008, 0.41482797, 0.49720433, 0.3251927, 0.33429965, 0.33407933, 0.34806937, 0.35510567, 0.39019254, 0.42674607, 0.4137935, 0.49600905, 0.36937818, 0.37084225, 0.36879563, 0.4079857, 0.4709235, 0.50481296, 0.43681383, 0.42817083, 0.39928976, 0.4207433, 0.42888486, 0.49045286, 2.6410935, 0.41899437, 0.39503035, 0.45530903, 0.42179644, 0.42355755, 0.47285348, 0.33744666, 0.30875394, 0.3066468, 0.30654365, 0.3066468, 0.30923292, 0.3130659, 0.3139367, 0.31718925, 0.3212865, 0.32366997, 0.33320418, 0.33298686, 0.3351869, 0.33407933, 0.48926705, 0.41760063, 0.60553783, 1.9023044, 0.31718922, 0.31010038, 0.30875397, 0.31048352, 0.31335324, 0.31393674, 0.31987652, 0.32755497, 0.323858, 0.33190966, 0.3553734, 0.3351869, 0.3553734, 0.454933, 1.8998357, 0.3176795, 0.3101004, 0.31194592, 0.31834298, 0.32218975, 0.33190966, 0.32695568, 0.32735458, 0.37084225, 0.34262264, 0.3564495, 0.52841747, 1.3868366, 0.31113702, 0.30482125, 0.30654365, 0.30947697, 0.31638622, 0.31751534, 0.32557988, 0.327756, 0.33364055, 0.36166838, 0.55001915, 0.33385962, 0.31867895, 0.3216458, 0.33169603, 0.35114992, 0.35671976, 0.39405614, 0.5454174, 1.1122234, 0.3508903, 0.33608368, 0.36677104, 0.48336414, 0.5496002, 0.48611337, 0.6269373, 1.6903349, 0.30491024, 0.30464572, 0.30464572, 0.3045591, 0.30464572, 0.3046457, 0.30482125, 0.30491024, 0.30518192, 0.30565053, 0.3066468, 0.30875394, 0.31438196, 0.34238136, 2.13023, 0.30265492, 0.30258924, 0.30265492, 0.3027214, 0.3027214, 0.3028568, 0.303066, 0.30343083, 0.30405635, 0.305367, 0.30840275, 0.3163862, 0.40394333, 0.30203477, 0.30209312, 0.30215228, 0.30227304, 0.3023971, 0.30265492, 0.30313733, 0.30405635, 0.30555522, 0.30960017, 0.3338596, 0.475176, 0.3013507, 0.30139843, 0.30180955, 0.3013507, 0.30121255, 0.3023971, 0.30258924, 0.30491024, 0.3129233, 0.36111078, 0.30121255, 0.3012578, 0.30130383, 0.30144694, 0.30175528, 0.30227306, 0.3032095, 0.30527407, 0.3126404, 0.3608326, 0.30012038, 0.30010664, 0.30154642, 0.30175528, 0.30203477, 0.3025244, 0.3032095, 0.30438834, 0.3063397, 0.31048352, 0.3202249, 0.36391762, 0.30012038, 0.30328247, 0.30373713, 0.3044733, 0.30555522, 0.30717424, 0.30984876, 0.31453183, 0.32735458, 0.3588997, 0.52882904, 0.30037478, 0.30335623, 0.30389515, 0.30555522, 0.30761015, 0.30984873, 0.31453183, 0.32636213, 0.32877082, 0.3905125, 2.1332002, 0.3106127, 0.30139843, 0.30088037, 0.3004813, 0.30060107, 0.30099875, 0.30139843, 0.3019205, 0.30335626, 0.30984876, 0.30016664, 0.30018368, 0.30022034, 0.3002603, 0.3003036, 0.3003265, 0.30053952, 0.30103987, 0.30313733, 0.32461664, 0.30016664, 0.3002016, 0.3002399, 0.30028155, 0.3003036, 0.30035022, 0.30060107, 0.30209312, 0.30840278, 0.41448283, 0.300135, 0.300135, 0.30018368, 0.3002016, 0.3002399, 0.3002603, 0.30042636, 0.30084258, 0.30335626, 0.31513843, 0.30012038, 0.300135, 0.3001504, 0.30016664, 0.30016664, 0.3002016, 0.3003265, 0.30066594, 0.3025244, 0.31591296, 0.3001837, 0.30022034, 0.30023992, 0.3002399, 0.30028155, 0.30035022, 0.30053952, 0.30103987, 0.3032095, 0.31140372, 0.30028155, 0.3003036, 0.30045342, 0.30066594, 0.30149627, 0.30328247, 0.31987655, 0.48650685, 0.30473307, 0.30389512, 0.30546072, 0.30875394, 0.324426, 0.3543054, 0.33563414, 0.48650706, 0.41448283, 0.7163449, 0.30430412, 0.3046457, 0.303066, 0.30373713, 0.30623886, 0.30546072, 0.30221227, 0.30197725, 0.30197725, 0.30209312, 0.30175528, 0.30180955, 0.30221227, 0.30209312, 0.30192053, 0.30221227, 0.30221227, 0.30233467, 0.3025244, 0.3027887, 0.30405635, 0.30574664, 0.31100482, 0.31378976, 0.42426404, 0.3905125, 0.3028568, 0.30265492, 0.30887252, 0.3044733, 0.30159742, 0.30139843, 0.30221227, 0.30130383, 0.30149627, 0.3016492, 0.30103987, 0.30112457, 0.30112457, 0.30112457, 0.3012578, 0.3014963, 0.30180955, 0.3027214, 0.30320948, 0.30405635, 0.30817243, 0.3140844, 0.33541018, 0.42426404, 0.3075, 0.30149627, 0.30139843, 0.3023971, 0.3012578, 0.31048352, 0.30139843, 0.30112457, 0.30197725, 0.30139843, 0.30121255, 0.30170184, 0.3013507, 0.30233467, 0.30233467, 0.30405635, 0.30623886, 0.31364354, 0.3162278, 0.39051256, 0.4242641, 0.7615771, 0.7615771, 0.30197725, 0.30116814, 0.30076945, 0.30112457, 0.30069962, 0.30063307, 0.30063307, 0.30063307, 0.30069962, 0.30095848, 0.30112457, 0.30170184, 0.3027214, 0.30509055, 0.3097241, 0.3162278, 0.36055505, 0.36055505, 0.30076945, 0.30112457, 0.30170184, 0.30130383, 0.30063307, 0.30084258, 0.30170184, 0.30121255, 0.3027214, 0.303066, 0.3046457, 0.31575665, 0.33541024, 0.3905125, 0.76157737, 0.76157737, 0.76157737, 0.30121255, 0.30084258, 0.30121255, 0.30121255, 0.30186465, 0.30233467, 0.30887252, 0.31468236, 0.31622782, 0.36055517, 0.42426404, 0.3116733, 0.30509058, 0.3043883, 0.30430412, 0.30405635, 0.30405635, 0.30413812, 0.30422074, 0.30430412, 0.30482125, 0.30491024, 0.3044733, 0.30491024, 0.3046457, 0.30491024, 0.305, 0.30546072, 0.30546072, 0.30565053, 0.3060396, 0.3059412, 0.30623886, 0.3063397, 0.30728203, 0.30783275, 0.30817243, 0.30911204, 0.3106127, 0.3151385, 0.31498572, 0.32200778, 0.33000943, 0.42004278, 0.39115345, 0.46059766, 0.74140674, 0.5210337, 0.3023971, 0.30154642, 0.30175528, 0.30175528, 0.3013507, 0.30144694, 0.30144694, 0.30139843, 0.3014963, 0.30144694, 0.30149627, 0.30159742, 0.30170184, 0.30170184, 0.30180955, 0.30180955, 0.30197725, 0.30209312, 0.30233467, 0.30258924, 0.3027214, 0.30335626, 0.30405635, 0.305367, 0.3066468, 0.31180924, 0.3140844, 0.32500002, 0.34985715, 0.30464572, 0.30170184, 0.30130383, 0.3013507, 0.30116814, 0.30121255, 0.3013507, 0.30154642, 0.30149627, 0.30149627, 0.30159742, 0.30197725, 0.30221227, 0.30215228, 0.30246034, 0.30292577, 0.30405635, 0.30491024, 0.30887255, 0.31087336, 0.327756, 0.34934363, 0.44266272, 0.78739077, 0.303066, 0.30358237, 0.30215228, 0.30186462, 0.30233467, 0.30221227, 0.30258924, 0.30358237, 0.30365935, 0.3047331, 0.30555522, 0.3067507, 0.31320918, 0.32310992, 0.33630937, 0.52471906, 0.305367, 0.305, 0.30405635, 0.30584353, 0.30574664, 0.3071742, 0.30923292, 0.31250003, 0.3214658, 0.32877082, 0.445982, 0.3996198, 0.5412488, 0.31194592, 0.30840275, 0.31292334, 0.3193591, 0.3636347, 0.447464, 0.32480803, 0.34286436, 0.34580916, 0.34985703, 0.45155987, 0.51086426, 0.30335626, 0.30335623, 0.30500004, 0.3069609, 0.31953087, 0.33105895, 0.38418746, 0.30500004, 0.3069609, 0.3212865, 0.33320415, 0.3212865, 0.6090156, 0.71589094, 0.34481883, 0.43139306, 0.40028107, 0.60466945, 0.59600747, 0.74323624, 0.3104835, 0.30306602, 0.30159742, 0.30154642, 0.30159742, 0.30099875, 0.30397534, 0.30227304, 0.303066, 0.3104835, 0.3431068, 0.31236038, 0.30509055, 0.30313733, 0.30159742, 0.30306602, 0.30633968, 0.33744666, 0.30509058, 0.303066, 0.303066, 0.30509058, 0.31222147, 0.30405635, 0.30313733, 0.3089919, 0.41760063, 0.38733062, 0.31817603, 0.30947697, 0.3195309, 0.30739063, 0.34383723, 0.4182969, 0.42497176, 0.42039296, 0.36908674, 0.32237247, 0.31718925, 0.320576, 0.45681518, 0.59169245, 0.55043817, 0.52226084, 0.37143108, 0.44266272, 0.54041684, 0.30016664, 0.30016664, 0.30016664, 0.30016664, 0.30016664, 0.30016664, 0.30016664, 0.30016664, 0.30016664, 0.30149627, 0.30923295, 0.33541018, 0.46097717, 0.7158912, 0.30016664, 0.30016664, 0.30016664, 0.30016664, 0.30016664, 0.30016664, 0.3014963, 0.30923295, 0.33541018, 0.715891, 0.30016664, 0.30016664, 0.30016664, 0.30016664, 0.30016664, 0.30016664, 0.30149627, 0.30923295, 0.33541015, 0.3905125, 0.30016664, 0.30016664, 0.30149627, 0.30923292, 0.3162278, 0.36055517, 0.3231099, 0.3231099, 0.3195309, 0.3231099, 0.32695568, 0.3231099, 0.32695568, 0.32695568, 0.32695568, 0.33105892, 0.33541018, 0.33541018, 0.34985715, 0.3841874, 0.3231099, 0.32695568, 0.3231099, 0.32695568, 0.32695568, 0.32695568, 0.32695568, 0.33105892, 0.33541018, 0.36055517, 0.3905124, 0.4036087, 0.3231099, 0.3231099, 0.3231099, 0.32695568, 0.32695568, 0.32695568, 0.32695568, 0.5161395, 0.54918116, 0.61773777, 1.8346933, 0.32695568, 0.3231099, 0.32695568, 0.33105892, 0.33105895, 0.33105892, 0.5575841, 0.5745432, 0.6090156, 0.8637708, 0.3231099, 0.32695568, 0.32695568, 0.33105892, 0.33105892, 0.33999997, 0.3605551, 0.34481883, 0.35510567, 0.35510567, 0.37202144, 0.33385962, 0.3154461, 0.3154461, 0.31113702, 0.31113702, 0.31113702, 0.3440818, 0.40629542, 0.5226701, 1.0067378, 0.32897568, 0.32897568, 0.35780585, 0.35167068, 0.32461673, 0.32596973, 0.34238136, 0.37741363, 0.96245015, 0.3212865, 0.32310987, 0.3178443, 0.3178443, 0.32500002, 0.3690868, 0.4686149, 0.35510567, 0.35510567, 0.34481877, 0.34481877, 0.35510567, 0.38733053, 0.49203667, 0.38108397, 0.3780212, 0.36335248, 0.36335248, 0.37202153, 0.42074344, 0.61773777, 0.49999997, 0.48023427, 0.46097726, 0.4534313, 0.47246695, 0.5830952, 0.31935915, 0.31935915, 0.3195309, 0.3195309, 0.3195309, 0.32616556, 0.32442608, 0.3443269, 0.3744009, 0.6454551, 0.3567198, 0.32816005, 0.32816, 0.32461667, 0.3519318, 0.36420086, 0.35430527, 0.54499996, 0.78970265, 0.3300095, 0.33190963, 0.33190963, 0.34481877, 0.5068257, 0.91743624, 1.2966814, 0.5800968, 1.2767462, 1.5596249, 1.8036246, 0.35245568, 0.33320415, 0.32128647, 0.31320918, 0.31320918, 0.31180924, 0.3178443, 0.37500003, 0.53667974, 0.37499997, 0.3605551, 0.34, 0.32500002, 0.3178443, 0.3162278, 0.33541018, 0.43500006, 0.5873882, 0.44969434, 0.3937321, 0.3524557, 0.33541018, 0.3212865, 0.32500002, 0.688767, 0.6177378, 0.5243091, 0.46097726, 0.43139306, 0.44969428, 0.5745432, 0.8263775, 0.793867, 0.9724325, 0.79849863, 0.72498274, 0.6574382, 0.7661755, 1.3585377, 0.37680766, 0.34023556, 0.3379057, 0.33452055, 0.33676255, 0.3342996, 0.33212382, 0.33342206, 0.33320418, 0.33342206, 0.33342212, 0.3661967, 0.4912443, 0.7331854, 0.4246178, 0.3379057, 0.33320415, 0.33541024, 0.33105892, 0.33105892, 0.33212388, 0.33212382, 0.3661967, 0.437541, 0.558849, 0.74460876, 0.725438, 0.42674616, 0.33790568, 0.33563414, 0.33452055, 0.3312707, 0.36908668, 0.4397298, 0.5634971, 0.45719254, 0.5354366, 0.38987303, 0.5354366, 0.75698406, 0.74781364]\n",
      "88\n",
      "1056\n",
      "1056\n",
      "1056\n",
      "1056\n"
     ]
    }
   ],
   "source": [
    "# Go through all of the data sets, store only data points within the redshifts the network has been trained to predict\n",
    "predicted_redshifts = [0, 10]\n",
    "\n",
    "max_redshift = np.max(predicted_redshifts)\n",
    "min_redshift = np.min(predicted_redshifts)\n",
    "min_scalefactor = 1 / (1 + max_redshift)\n",
    "max_scalefactor = 1 / (1 + min_redshift)\n",
    "print(min_scalefactor, max_scalefactor,'\\n')\n",
    "\n",
    "observable_data = {\n",
    "    'surveys': [],\n",
    "    'scale_factor': [],\n",
    "    'stellar_masses': [],\n",
    "    'abundances': [],\n",
    "    'errors': []\n",
    "}\n",
    "\n",
    "for i_key, key in enumerate(list(data)):\n",
    "    data_scalefactor = data[key][0][3]\n",
    "    if data_scalefactor >= min_scalefactor and data_scalefactor <= max_scalefactor:\n",
    "        observable_data['surveys'].append(list(sets)[i_key][-1])\n",
    "        observable_data['scale_factor'].extend([list(point)[3] for point in list(data[key])])\n",
    "        observable_data['stellar_masses'].extend([list(point)[0] for point in list(data[key])])\n",
    "        observable_data['abundances'].extend([list(point)[1] for point in list(data[key])])\n",
    "        observable_data['errors'].extend([list(point)[2] for point in list(data[key])])\n",
    "\n",
    "        \n",
    "print(observable_data['surveys'])\n",
    "print(observable_data['scale_factor'])\n",
    "print(observable_data['stellar_masses'])\n",
    "print(observable_data['abundances'])\n",
    "print(observable_data['errors'])\n",
    "\n",
    "print(len(observable_data['surveys']))\n",
    "print(len(observable_data['scale_factor']))\n",
    "print(len(observable_data['stellar_masses']))\n",
    "print(len(observable_data['abundances']))\n",
    "print(len(observable_data['errors']))"
   ]
  },
  {
   "cell_type": "code",
   "execution_count": null,
   "metadata": {},
   "outputs": [],
   "source": [
    "data_obj_0 = data[data_keys[0]]\n",
    "print(list(data_obj_0))\n",
    "#data_obj_0?"
   ]
  },
  {
   "cell_type": "code",
   "execution_count": 6,
   "metadata": {},
   "outputs": [
    {
     "name": "stdout",
     "output_type": "stream",
     "text": [
      "Keys:  ['Universe_0']\n"
     ]
    }
   ],
   "source": [
    "filename = '/home/magnus/data/observational_data/all_data.h5'\n",
    "file = h5py.File(filename, 'r')\n",
    "#file?\n",
    "# List all groups\n",
    "print(\"Keys: \", list(file.keys()))"
   ]
  },
  {
   "cell_type": "code",
   "execution_count": 7,
   "metadata": {},
   "outputs": [
    {
     "name": "stdout",
     "output_type": "stream",
     "text": [
      "Keys:  ['CSFRD', 'Clustering', 'FQ', 'Model_Parameters', 'SMF', 'SSFR']\n"
     ]
    }
   ],
   "source": [
    "# Get the universe\n",
    "universe_0 = file['Universe_0']\n",
    "#universe_0?\n",
    "# List all objects in the universe\n",
    "print(\"Keys: \", list(universe_0.keys()))"
   ]
  },
  {
   "cell_type": "code",
   "execution_count": 8,
   "metadata": {
    "scrolled": true
   },
   "outputs": [
    {
     "name": "stdout",
     "output_type": "stream",
     "text": [
      "Keys:  ['Data', 'Model', 'Sets']\n",
      "Keys of Data:  ['000 Li & White 2009 (z = 0.00 - 0.20)', '001 Baldry 2012 (z = 0.00 - 0.06)', '002 Bernardi 2013 (z = 0.00 - 0.20)', '003 Perez-Gonzalez 2008 (z = 0.00 - 0.20)', '004 Perez-Gonzalez 2008 (z = 0.20 - 0.40)', '005 Perez-Gonzalez 2008 (z = 0.40 - 0.60)', '006 Perez-Gonzalez 2008 (z = 0.60 - 0.80)', '007 Perez-Gonzalez 2008 (z = 0.80 - 1.00)', '008 Perez-Gonzalez 2008 (z = 1.00 - 1.30)', '009 Perez-Gonzalez 2008 (z = 1.30 - 1.60)', '010 Perez-Gonzalez 2008 (z = 1.60 - 2.00)', '011 Perez-Gonzalez 2008 (z = 2.00 - 2.50)', '012 Perez-Gonzalez 2008 (z = 2.50 - 3.00)', '013 Perez-Gonzalez 2008 (z = 3.00 - 3.50)', '014 Perez-Gonzalez 2008 (z = 3.50 - 4.00)', '015 Santini 2012 (z = 0.60 - 1.00)', '016 Santini 2012 (z = 1.00 - 1.40)', '017 Santini 2012 (z = 1.40 - 1.80)', '018 Santini 2012 (z = 1.80 - 2.50)', '019 Santini 2012 (z = 2.50 - 3.50)', '020 Santini 2012 (z = 3.50 - 4.50)', '021 Ilbert 2013 (z = 0.20 - 0.50)', '022 Ilbert 2013 (z = 0.50 - 0.80)', '023 Ilbert 2013 (z = 0.80 - 1.10)', '024 Ilbert 2013 (z = 1.10 - 1.50)', '025 Ilbert 2013 (z = 1.50 - 2.00)', '026 Ilbert 2013 (z = 2.00 - 2.50)', '027 Ilbert 2013 (z = 2.50 - 3.00)', '028 Ilbert 2013 (z = 3.00 - 4.00)', '029 Ilbert 2010 (z = 0.05 - 0.20)', '030 Ilbert 2010 (z = 0.20 - 0.40)', '031 Ilbert 2010 (z = 0.40 - 0.60)', '032 Ilbert 2010 (z = 0.60 - 0.80)', '033 Ilbert 2010 (z = 0.80 - 1.00)', '034 Ilbert 2010 (z = 1.00 - 1.20)', '035 Ilbert 2010 (z = 1.20 - 1.50)', '036 Ilbert 2010 (z = 1.50 - 2.00)', '037 Moustakas 2013 (z = 0.20 - 0.30)', '038 Moustakas 2013 (z = 0.30 - 0.40)', '039 Moustakas 2013 (z = 0.40 - 0.50)', '040 Moustakas 2013 (z = 0.50 - 0.65)', '041 Moustakas 2013 (z = 0.65 - 0.80)', '042 Moustakas 2013 (z = 0.80 - 1.00)', '043 Muzzin 2013 (z = 0.20 - 0.50)', '044 Muzzin 2013 (z = 0.50 - 1.00)', '045 Muzzin 2013 (z = 1.00 - 1.50)', '046 Muzzin 2013 (z = 1.50 - 2.00)', '047 Muzzin 2013 (z = 2.00 - 2.50)', '048 Muzzin 2013 (z = 2.50 - 3.00)', '049 Muzzin 2013 (z = 3.00 - 4.00)', '050 Caputi 2011 (z = 3.00 - 3.50)', '051 Caputi 2011 (z = 3.50 - 4.25)', '052 Caputi 2011 (z = 4.25 - 5.00)', '053 Pozzetti 2010 (z = 0.10 - 0.35)', '054 Pozzetti 2010 (z = 0.35 - 0.55)', '055 Pozzetti 2010 (z = 0.55 - 0.75)', '056 Pozzetti 2010 (z = 0.75 - 1.00)', '057 Marchesini 2009 (z = 1.30 - 2.00)', '058 Marchesini 2009 (z = 2.00 - 3.00)', '059 Marchesini 2009 (z = 3.00 - 4.00)', '060 Kajisawa 2009 (z = 0.50 - 1.00)', '061 Kajisawa 2009 (z = 1.00 - 1.50)', '062 Kajisawa 2009 (z = 1.50 - 2.50)', '063 Kajisawa 2009 (z = 2.50 - 3.50)', '064 Mortlock 2011 (z = 1.00 - 1.50)', '065 Mortlock 2011 (z = 1.50 - 2.00)', '066 Mortlock 2011 (z = 2.00 - 2.50)', '067 Mortlock 2011 (z = 2.50 - 3.00)', '068 Mortlock 2011 (z = 3.00 - 3.50)', '069 Lee 2012 (z = 3.50 - 4.00)', '070 Lee 2012 (z = 4.50 - 5.50)', '071 Gonzalez 2011 (z = 3.40 - 4.20)', '072 Gonzalez 2011 (z = 4.50 - 5.50)', '073 Gonzalez 2011 (z = 5.50 - 6.30)', '074 Gonzalez 2011 (z = 6.30 - 7.30)', '075 Duncan 2014 (z = 3.80 - 4.20)', '076 Duncan 2014 (z = 4.80 - 5.20)', '077 Duncan 2014 (z = 5.80 - 6.20)', '078 Duncan 2014 (z = 6.80 - 7.20)', '079 Song 2009 (z = 3.50 - 4.50)', '080 Song 2009 (z = 4.50 - 5.50)', '081 Song 2009 (z = 5.50 - 6.50)', '082 Song 2009 (z = 6.50 - 7.50)', '083 Song 2009 (z = 7.50 - 8.50)', '084 Grazian 2015 (z = 3.50 - 4.50)', '085 Grazian 2015  (z = 4.50 - 5.50)', '086 Grazian 2015 (z = 5.50 - 6.50)', '087 Grazian 2015 (z = 6.50 - 7.50)']\n"
     ]
    }
   ],
   "source": [
    "# Get the SMF objects from the universe\n",
    "smf = universe_0['SMF']\n",
    "#smf?\n",
    "# List all objects\n",
    "print(\"Keys: \", list(smf.keys()))\n",
    "# Get the dataset 'Data'\n",
    "data = smf['Data']\n",
    "print(\"Keys of Data: \", list(data.keys()))\n",
    "data_keys = list(data.keys())\n",
    "model = smf['Model']\n",
    "sets = smf['Sets']"
   ]
  },
  {
   "cell_type": "markdown",
   "metadata": {},
   "source": [
    "### Real data, sSFR"
   ]
  },
  {
   "cell_type": "code",
   "execution_count": 171,
   "metadata": {},
   "outputs": [
    {
     "name": "stdout",
     "output_type": "stream",
     "text": [
      "Keys:  ['CSFRD', 'Clustering', 'FQ', 'Model_Parameters', 'SMF', 'SSFR']\n"
     ]
    }
   ],
   "source": [
    "filename = '/home/magnus/data/observational_data/all_data.h5'\n",
    "file = h5py.File(filename, 'r')\n",
    "\n",
    "# Get the universe\n",
    "universe_0 = file['Universe_0']\n",
    "#universe_0?\n",
    "# List all objects in the universe\n",
    "print(\"Keys: \", list(universe_0.keys()))"
   ]
  },
  {
   "cell_type": "code",
   "execution_count": 172,
   "metadata": {
    "scrolled": true
   },
   "outputs": [
    {
     "name": "stdout",
     "output_type": "stream",
     "text": [
      "Keys:  ['Data', 'Model', 'Sets']\n",
      "Keys of Data:  ['000 Salim 2007 UV', '001 Zheng 2007 UV IR', '002 Twite 2012 Ha', '003 Noeske 2007', '004 Tadaki 2011', '005 Whitaker 2012', '006 Daddi 2007', '007 Salmi 2012', '008 Karim 2011', '009 Kajisawa 2010', '010 Reddy 2012', '011 Feulner 2006', '012 Gonzalez 2012', '013 Schaerer 2010', '014 Labbe 2013', '015 McLure 2011', '016 Duncan 2014']\n"
     ]
    }
   ],
   "source": [
    "# Get the SMF objects from the universe\n",
    "ssfr = universe_0['SSFR']\n",
    "# List all objects\n",
    "print(\"Keys: \", list(ssfr.keys()))\n",
    "# Get the dataset 'Data'\n",
    "data = ssfr['Data']\n",
    "print(\"Keys of Data: \", list(data.keys()))\n",
    "data_keys = list(data.keys())\n",
    "model = ssfr['Model']\n",
    "sets = ssfr['Sets']"
   ]
  },
  {
   "cell_type": "code",
   "execution_count": 173,
   "metadata": {},
   "outputs": [
    {
     "name": "stdout",
     "output_type": "stream",
     "text": [
      "[(7, 0, b'Salim 2007 UV'), (16, 7, b'Zheng 2007 UV/IR'), (1, 23, b'Twite 2012 Ha'), (46, 24, b'Noeske 2007'), (1, 70, b'Tadaki 2011'), (60, 71, b'Whitaker 2012'), (8, 131, b'Daddi 2007'), (7, 139, b'Salmi 2012'), (31, 146, b'Karim 2011'), (45, 177, b'Kajisawa 2010'), (8, 222, b'Reddy 2012'), (18, 230, b'Feulner 2006'), (6, 248, b'Gonzalez 2012'), (2, 254, b'Schaerer 2010'), (1, 256, b'Labbe 2013'), (1, 257, b'McLure 2011'), (4, 258, b'Duncan 2014')]\n"
     ]
    }
   ],
   "source": [
    "print(list(sets))"
   ]
  },
  {
   "cell_type": "code",
   "execution_count": 174,
   "metadata": {},
   "outputs": [
    {
     "name": "stdout",
     "output_type": "stream",
     "text": [
      "[(0.3, -9.45, 0.3354102, 9.277609, 0.25741458, 1.0229536), (0.3, -9.61, 0.3354102, 9.777609, 0.22101642, 1.02733), (0.3, -9.77, 0.3354102, 10.277609, 0.10755333, 1.0303218), (0.3, -10.17, 0.3354102, 10.777609, 0.03042315, 1.0354959), (0.5, -9.15, 0.3354102, 9.277609, 0.30782375, 1.0229212), (0.5, -9.29, 0.3354102, 9.777609, 0.3066111, 1.0284971), (0.5, -9.55, 0.3354102, 10.277609, 0.19478317, 1.0298146), (0.5, -9.87, 0.3354102, 10.777609, 0.06913193, 1.034656), (0.7, -8.95, 0.3354102, 9.277609, 0.39893788, 1.0229886), (0.7, -9.01, 0.3354102, 9.777609, 0.4029671, 1.0281191), (0.7, -9.32, 0.3354102, 10.277609, 0.2961835, 1.0319338), (0.7, -9.65, 0.3354102, 10.777609, 0.12164215, 1.0348758), (0.9, -8.79, 0.3354102, 9.277609, 0.48199463, 1.0233443), (0.9, -8.84, 0.3354102, 9.777609, 0.48585925, 1.028885), (0.9, -9.07, 0.3354102, 10.277609, 0.40208483, 1.0322409), (0.9, -9.58, 0.3354102, 10.777609, 0.19462804, 1.0357814)]\n",
      "001 Zheng 2007 UV IR\n",
      "['000 Salim 2007 UV', '001 Zheng 2007 UV IR', '002 Twite 2012 Ha', '003 Noeske 2007', '004 Tadaki 2011', '005 Whitaker 2012', '006 Daddi 2007', '007 Salmi 2012', '008 Karim 2011', '009 Kajisawa 2010', '010 Reddy 2012', '011 Feulner 2006', '012 Gonzalez 2012', '013 Schaerer 2010', '014 Labbe 2013', '015 McLure 2011', '016 Duncan 2014']\n"
     ]
    }
   ],
   "source": [
    "print(list(data[data_keys[1]]))\n",
    "print(data_keys[1])\n",
    "print(list(data))"
   ]
  },
  {
   "cell_type": "code",
   "execution_count": 180,
   "metadata": {},
   "outputs": [
    {
     "name": "stdout",
     "output_type": "stream",
     "text": [
      "0.09090909090909091 1.0 \n",
      "\n",
      "[b'Salim 2007 UV', b'Zheng 2007 UV/IR', b'Twite 2012 Ha', b'Noeske 2007', b'Tadaki 2011', b'Whitaker 2012', b'Daddi 2007', b'Salmi 2012', b'Karim 2011', b'Kajisawa 2010', b'Reddy 2012', b'Feulner 2006', b'Gonzalez 2012', b'Schaerer 2010', b'Labbe 2013', b'McLure 2011', b'Duncan 2014']\n",
      "17\n",
      "262\n",
      "262\n",
      "262\n",
      "262\n"
     ]
    }
   ],
   "source": [
    "# Go through all of the data sets, store only data points within the redshifts the network has been trained to predict\n",
    "predicted_redshifts = [0, 10]\n",
    "\n",
    "max_redshift = np.max(predicted_redshifts)\n",
    "min_redshift = np.min(predicted_redshifts)\n",
    "min_scalefactor = 1 / (1 + max_redshift)\n",
    "max_scalefactor = 1 / (1 + min_redshift)\n",
    "print(min_scalefactor, max_scalefactor,'\\n')\n",
    "\n",
    "observable_data = {\n",
    "    'surveys': [],\n",
    "    'scale_factor': [],\n",
    "    'stellar_masses': [],\n",
    "    'ssfr': [],\n",
    "    'errors': []\n",
    "}\n",
    "\n",
    "for i_key, key in enumerate(list(data)):\n",
    "    for data_point in list(data[key]):\n",
    "        redshift = data_point[0]\n",
    "        scale_factor = 1 / (1 + redshift)\n",
    "        \n",
    "        if scale_factor >= min_scalefactor and scale_factor <= max_scalefactor:\n",
    "            if list(sets)[i_key][-1] not in observable_data['surveys']:\n",
    "                observable_data['surveys'].append(list(sets)[i_key][-1])\n",
    "            observable_data['scale_factor'].append(scale_factor)\n",
    "            observable_data['stellar_masses'].append(data_point[3])\n",
    "            observable_data['ssfr'].append(data_point[1])\n",
    "            observable_data['errors'].append(data_point[2])\n",
    "\n",
    "print(observable_data['surveys'])\n",
    "# print(observable_data['scale_factor'])\n",
    "# print(observable_data['stellar_masses'])\n",
    "# print(observable_data['ssfr'])\n",
    "# print(observable_data['errors'])\n",
    "print(len(observable_data['surveys']))\n",
    "print(len(observable_data['scale_factor']))\n",
    "print(len(observable_data['stellar_masses']))\n",
    "print(len(observable_data['ssfr']))\n",
    "print(len(observable_data['errors']))"
   ]
  },
  {
   "cell_type": "markdown",
   "metadata": {},
   "source": [
    "### Real data, FQ"
   ]
  },
  {
   "cell_type": "code",
   "execution_count": 189,
   "metadata": {},
   "outputs": [
    {
     "name": "stdout",
     "output_type": "stream",
     "text": [
      "Keys:  ['CSFRD', 'Clustering', 'FQ', 'Model_Parameters', 'SMF', 'SSFR']\n"
     ]
    }
   ],
   "source": [
    "filename = '/home/magnus/data/observational_data/all_data.h5'\n",
    "file = h5py.File(filename, 'r')\n",
    "\n",
    "# Get the universe\n",
    "universe_0 = file['Universe_0']\n",
    "#universe_0?\n",
    "# List all objects in the universe\n",
    "print(\"Keys: \", list(universe_0.keys()))"
   ]
  },
  {
   "cell_type": "code",
   "execution_count": 190,
   "metadata": {
    "scrolled": true
   },
   "outputs": [
    {
     "name": "stdout",
     "output_type": "stream",
     "text": [
      "Keys:  ['Data', 'Model', 'Sets']\n",
      "Keys of Data:  ['000 Drory 2009 Cosmos (z = 0.20 - 0.40)', '001 Drory 2009 Cosmos (z = 0.40 - 0.60)', '002 Drory 2009 Cosmos (z = 0.60 - 0.80)', '003 Drory 2009 Cosmos (z = 0.80 - 1.00)', '004 Wetzel 2012 SDSS (z = 0.00 - 0.10)', '005 Wetzel 2012 SDSS (z = 0.40 - 0.60)', '006 Wetzel 2012 SDSS (z = 0.60 - 0.80)', '007 Wetzel 2012 SDSS (z = 0.80 - 1.00)', '008 Lin 2013 PanStarrs (z = 0.20 - 0.50)', '009 Lin 2013 PanStarrs (z = 0.50 - 0.80)', '010 Ilbert 2013 (z = 0.20 - 0.50)', '011 Ilbert 2013 (z = 0.50 - 0.80)', '012 Ilbert 2013 (z = 0.80 - 1.10)', '013 Ilbert 2013 (z = 1.10 - 1.50)', '014 Ilbert 2013 (z = 1.50 - 2.00)', '015 Ilbert 2013 (z = 2.00 - 2.50)', '016 Ilbert 2013 (z = 2.50 - 3.00)', '017 Moustakas 2013 (z = 0.20 - 0.30)', '018 Moustakas 2013 (z = 0.30 - 0.40)', '019 Moustakas 2013 (z = 0.40 - 0.50)', '020 Moustakas 2013 (z = 0.50 - 0.65)', '021 Moustakas 2013 (z = 0.65 - 0.80)', '022 Moustakas 2013 (z = 0.80 - 1.00)', '023 Muzzin 2013 (z = 0.20 - 0.50)', '024 Muzzin 2013 (z = 0.50 - 1.00)', '025 Muzzin 2013 (z = 1.00 - 1.50)', '026 Muzzin 2013 (z = 1.50 - 2.00)', '027 Muzzin 2013 (z = 2.00 - 2.50)', '028 Muzzin 2013 (z = 2.50 - 3.00)', '029 Muzzin 2013 (z = 3.00 - 4.00)']\n"
     ]
    }
   ],
   "source": [
    "# Get the SMF objects from the universe\n",
    "fq = universe_0['FQ']\n",
    "# List all objects\n",
    "print(\"Keys: \", list(fq.keys()))\n",
    "# Get the dataset 'Data'\n",
    "data = fq['Data']\n",
    "print(\"Keys of Data: \", list(data.keys()))\n",
    "data_keys = list(data.keys())\n",
    "model = fq['Model']\n",
    "sets = fq['Sets']"
   ]
  },
  {
   "cell_type": "code",
   "execution_count": 191,
   "metadata": {},
   "outputs": [
    {
     "name": "stdout",
     "output_type": "stream",
     "text": [
      "[(13, 0, 0.2, 0.4, b'Drory 2009 Cosmos'), (11, 13, 0.4, 0.6, b'Drory 2009 Cosmos'), (11, 24, 0.6, 0.8, b'Drory 2009 Cosmos'), (10, 35, 0.8, 1., b'Drory 2009 Cosmos'), (4, 45, 0., 0.1, b'Wetzel 2012 SDSS'), (4, 49, 0.4, 0.6, b'Wetzel 2012 SDSS'), (4, 53, 0.6, 0.8, b'Wetzel 2012 SDSS'), (4, 57, 0.8, 1., b'Wetzel 2012 SDSS'), (8, 61, 0.2, 0.5, b'Lin 2013 PanStarrs'), (8, 69, 0.5, 0.8, b'Lin 2013 PanStarrs'), (18, 77, 0.2, 0.5, b'Ilbert 2013'), (16, 95, 0.5, 0.8, b'Ilbert 2013'), (14, 111, 0.8, 1.1, b'Ilbert 2013'), (13, 125, 1.1, 1.5, b'Ilbert 2013'), (12, 138, 1.5, 2., b'Ilbert 2013'), (10, 150, 2., 2.5, b'Ilbert 2013'), (9, 160, 2.5, 3., b'Ilbert 2013'), (19, 169, 0.2, 0.3, b'Moustakas 2013'), (20, 188, 0.3, 0.4, b'Moustakas 2013'), (18, 208, 0.4, 0.5, b'Moustakas 2013'), (16, 226, 0.5, 0.65, b'Moustakas 2013'), (13, 242, 0.65, 0.8, b'Moustakas 2013'), (11, 255, 0.8, 1., b'Moustakas 2013'), (32, 266, 0.2, 0.5, b'Muzzin 2013'), (27, 298, 0.5, 1., b'Muzzin 2013'), (23, 325, 1., 1.5, b'Muzzin 2013'), (16, 348, 1.5, 2., b'Muzzin 2013'), (13, 364, 2., 2.5, b'Muzzin 2013'), (6, 377, 2.5, 3., b'Muzzin 2013'), (6, 383, 3., 4., b'Muzzin 2013')]\n"
     ]
    }
   ],
   "source": [
    "print(list(sets))"
   ]
  },
  {
   "cell_type": "code",
   "execution_count": 192,
   "metadata": {},
   "outputs": [
    {
     "name": "stdout",
     "output_type": "stream",
     "text": [
      "[(9.027609, 0.0655, 0.12275765, 0.66964287, 0.12755866, 0.00261202), (9.277609, 0.07411, 0.12315329, 0.66964287, 0.181272, 0.00414625), (9.527609, 0.06964, 0.12533078, 0.66964287, 0.20595632, 0.0053425), (9.777609, 0.10127, 0.12653418, 0.66964287, 0.23083355, 0.00654483), (10.027609, 0.12227, 0.12679197, 0.66964287, 0.24337044, 0.00723704), (10.277609, 0.23546, 0.12184803, 0.66964287, 0.25443494, 0.0075969), (10.527609, 0.30478, 0.12157442, 0.66964287, 0.27380073, 0.0088928), (10.777609, 0.3888, 0.12450377, 0.66964287, 0.44748366, 0.01548928), (11.027609, 0.58726, 0.12268808, 0.66964287, 0.6847525, 0.03000232), (11.277609, 0.71304, 0.1368204, 0.66964287, 0.90574515, 0.06450602), (11.527609, 0.82758, 0.18626896, 0.66964287, 0.97254443, 0.20212042)]\n",
      "001 Drory 2009 Cosmos (z = 0.40 - 0.60)\n",
      "['000 Drory 2009 Cosmos (z = 0.20 - 0.40)', '001 Drory 2009 Cosmos (z = 0.40 - 0.60)', '002 Drory 2009 Cosmos (z = 0.60 - 0.80)', '003 Drory 2009 Cosmos (z = 0.80 - 1.00)', '004 Wetzel 2012 SDSS (z = 0.00 - 0.10)', '005 Wetzel 2012 SDSS (z = 0.40 - 0.60)', '006 Wetzel 2012 SDSS (z = 0.60 - 0.80)', '007 Wetzel 2012 SDSS (z = 0.80 - 1.00)', '008 Lin 2013 PanStarrs (z = 0.20 - 0.50)', '009 Lin 2013 PanStarrs (z = 0.50 - 0.80)', '010 Ilbert 2013 (z = 0.20 - 0.50)', '011 Ilbert 2013 (z = 0.50 - 0.80)', '012 Ilbert 2013 (z = 0.80 - 1.10)', '013 Ilbert 2013 (z = 1.10 - 1.50)', '014 Ilbert 2013 (z = 1.50 - 2.00)', '015 Ilbert 2013 (z = 2.00 - 2.50)', '016 Ilbert 2013 (z = 2.50 - 3.00)', '017 Moustakas 2013 (z = 0.20 - 0.30)', '018 Moustakas 2013 (z = 0.30 - 0.40)', '019 Moustakas 2013 (z = 0.40 - 0.50)', '020 Moustakas 2013 (z = 0.50 - 0.65)', '021 Moustakas 2013 (z = 0.65 - 0.80)', '022 Moustakas 2013 (z = 0.80 - 1.00)', '023 Muzzin 2013 (z = 0.20 - 0.50)', '024 Muzzin 2013 (z = 0.50 - 1.00)', '025 Muzzin 2013 (z = 1.00 - 1.50)', '026 Muzzin 2013 (z = 1.50 - 2.00)', '027 Muzzin 2013 (z = 2.00 - 2.50)', '028 Muzzin 2013 (z = 2.50 - 3.00)', '029 Muzzin 2013 (z = 3.00 - 4.00)']\n"
     ]
    }
   ],
   "source": [
    "print(list(data[data_keys[1]]))\n",
    "print(data_keys[1])\n",
    "print(list(data))"
   ]
  },
  {
   "cell_type": "code",
   "execution_count": 197,
   "metadata": {},
   "outputs": [
    {
     "name": "stdout",
     "output_type": "stream",
     "text": [
      "0.09090909090909091 1.0 \n",
      "\n",
      "[0.12117769, 0.11937772, 0.119525395, 0.12178522, 0.12310662, 0.12382213, 0.12345753, 0.1196735, 0.118142575, 0.12245678, 0.12232417, 0.14314279, 0.2306007, 0.12275765, 0.12315329, 0.12533078, 0.12653418, 0.12679197, 0.12184803, 0.121574424, 0.12450377, 0.122688085, 0.1368204, 0.18626896, 0.12385162, 0.12441447, 0.12592395, 0.12508406, 0.122995906, 0.12207129, 0.12621623, 0.13334543, 0.14946158, 0.20951489, 0.33250377, 0.12897958, 0.12658322, 0.12539712, 0.12311245, 0.12372784, 0.12733486, 0.13643202, 0.15988296, 0.2523311, 0.8963953, 0.1118034, 0.1118034, 0.14142135, 0.1118034, 0.10440306, 0.1118034, 0.12806249, 0.14142135, 0.10440306, 0.1118034, 0.14142135, 0.1118034, 0.10440306, 0.1118034, 0.14142135, 0.1118034, 0.10440306, 0.10440306, 0.10440306, 0.10440306, 0.10440306, 0.10440306, 0.1077033, 0.1118034, 0.10440306, 0.10440306, 0.10440306, 0.10440306, 0.10440306, 0.10440306, 0.10440306, 0.10440306, 0.1372443, 0.1332066, 0.13254811, 0.13254811, 0.13254811, 0.13059862, 0.12744018, 0.12560254, 0.12621014, 0.123810336, 0.11981653, 0.12037026, 0.12560254, 0.13453624, 0.19723083, 0.42979532, 0.916472, 1.8167542, 0.150894, 0.13656135, 0.1332066, 0.13124405, 0.12744018, 0.125, 0.12206556, 0.11766053, 0.11271202, 0.109252, 0.110494345, 0.11412712, 0.14718696, 0.2618473, 0.46585944, 0.8022568, 0.14142135, 0.12806249, 0.12440257, 0.12206556, 0.11766053, 0.10965856, 0.1059481, 0.10440306, 0.10628264, 0.114612386, 0.14284258, 0.22360681, 0.38231006, 0.6823672, 0.1332066, 0.123810336, 0.12264176, 0.12149485, 0.11981653, 0.116619036, 0.11271202, 0.1100727, 0.11225417, 0.125, 0.18194504, 0.34003675, 0.72790176, 0.13862179, 0.12264176, 0.11981653, 0.12322337, 0.12092973, 0.115104295, 0.12206556, 0.123810336, 0.14071603, 0.19465096, 0.32287616, 0.8280604, 0.17286122, 0.13520725, 0.1332066, 0.13059862, 0.12037026, 0.12560254, 0.13124405, 0.16640012, 0.33526108, 0.8618213, 0.20329536, 0.16480595, 0.1632207, 0.16164467, 0.145, 0.18111046, 0.29355747, 0.62505114, 1.4005744, 0.15774663, 0.11713667, 0.11560276, 0.111359775, 0.11713667, 0.1118034, 0.11364858, 0.11317685, 0.110494345, 0.10807867, 0.109252, 0.10965856, 0.1100727, 0.1100727, 0.111359775, 0.116619036, 0.13059862, 0.15774663, 0.1585213, 0.11271202, 0.111359775, 0.10965856, 0.10965856, 0.109252, 0.1100727, 0.10530432, 0.10530432, 0.104995236, 0.10469479, 0.104995236, 0.1059481, 0.10807867, 0.111359775, 0.11412712, 0.12744018, 0.14792228, 0.17944637, 0.24257164, 1.034843, 0.1118034, 0.10885311, 0.16961426, 0.1077033, 0.10628264, 0.10697663, 0.1059481, 0.10530432, 0.10662551, 0.10562197, 0.109252, 0.1100727, 0.11713667, 0.12806249, 0.145, 0.24075091, 0.49618143, 0.6260383, 0.10530432, 0.10412012, 0.10307764, 0.10307764, 0.10283968, 0.102610916, 0.10283968, 0.10440306, 0.104995236, 0.10807867, 0.11317685, 0.13386934, 0.14355835, 0.20068881, 0.5138249, 0.40164787, 0.10412012, 0.10846197, 0.10662551, 0.10239141, 0.10332473, 0.10846197, 0.10530432, 0.11225417, 0.115104295, 0.12868954, 0.21648096, 0.36400548, 0.6793997, 0.104995236, 0.103580885, 0.10562197, 0.10628264, 0.10733592, 0.109252, 0.14213023, 0.19723083, 0.18614241, 0.36592895, 1.1055319, 0.18614241, 0.14142135, 0.13059862, 0.13059862, 0.1332066, 0.13189389, 0.13254811, 0.13453624, 0.13453624, 0.13793114, 0.13793114, 0.1332066, 0.13189389, 0.12744018, 0.12868954, 0.12322337, 0.12744018, 0.12206556, 0.12092973, 0.11872658, 0.11560276, 0.11412712, 0.11412712, 0.12092973, 0.12440257, 0.13520725, 0.14427751, 0.17449643, 0.20678733, 0.19636956, 0.25723335, 0.30203477, 0.12806249, 0.11819053, 0.11819053, 0.11872658, 0.115104295, 0.115104295, 0.11610771, 0.11560276, 0.11412712, 0.11317685, 0.110923395, 0.110494345, 0.10965856, 0.10733592, 0.10697663, 0.10530432, 0.104995236, 0.104995236, 0.10562197, 0.10628264, 0.1077033, 0.11225417, 0.12037026, 0.12995768, 0.14866069, 0.19636956, 0.22898908, 0.1608602, 0.1192686, 0.114612386, 0.114612386, 0.110923395, 0.10965856, 0.10965856, 0.10885311, 0.10628264, 0.10628264, 0.10530432, 0.10562197, 0.10562197, 0.10530432, 0.10662551, 0.10885311, 0.115104295, 0.12264176, 0.15315352, 0.17696327, 0.24988197, 0.3890707, 0.55803317, 0.12560254, 0.12092973, 0.116619036, 0.110494345, 0.109252, 0.10846197, 0.10807867, 0.110494345, 0.10885311, 0.114612386, 0.11713667, 0.12037026, 0.1358823, 0.17531686, 0.23440138, 0.6141954, 0.12744018, 0.12806249, 0.12206556, 0.13386934, 0.14718696, 0.12995768, 0.14645477, 0.18529975, 0.1777892, 0.20941825, 0.4785645, 0.5305102, 0.6299873, 0.1640122, 0.14427751, 0.17367786, 0.2059126, 0.43271354, 0.5994005, 0.24622144, 0.27856776, 0.27204594, 0.39003718, 0.7368175, 1.0039926]\n",
      "30\n",
      "389\n",
      "389\n",
      "389\n",
      "389\n"
     ]
    }
   ],
   "source": [
    "# Go through all of the data sets, store only data points within the redshifts the network has been trained to predict\n",
    "predicted_redshifts = [0, 10]\n",
    "\n",
    "max_redshift = np.max(predicted_redshifts)\n",
    "min_redshift = np.min(predicted_redshifts)\n",
    "min_scalefactor = 1 / (1 + max_redshift)\n",
    "max_scalefactor = 1 / (1 + min_redshift)\n",
    "print(min_scalefactor, max_scalefactor,'\\n')\n",
    "\n",
    "observable_data = {\n",
    "    'surveys': [],\n",
    "    'scale_factor': [],\n",
    "    'stellar_masses': [],\n",
    "    'fq': [],\n",
    "    'errors': []\n",
    "}\n",
    "\n",
    "for i_key, key in enumerate(list(data)):\n",
    "    scale_factor = data[key][0][3]\n",
    "        \n",
    "    if scale_factor >= min_scalefactor and scale_factor <= max_scalefactor:\n",
    "        observable_data['surveys'].append(list(sets)[i_key][-1])\n",
    "        observable_data['scale_factor'].extend([list(point)[3] for point in list(data[key])])\n",
    "        observable_data['stellar_masses'].extend([list(point)[0] for point in list(data[key])])\n",
    "        observable_data['fq'].extend([list(point)[1] for point in list(data[key])])\n",
    "        observable_data['errors'].extend([list(point)[2] for point in list(data[key])])\n",
    "\n",
    "# print(observable_data['surveys'])\n",
    "# print(observable_data['scale_factor'])\n",
    "# print(observable_data['stellar_masses'])\n",
    "# print(observable_data['fq'])\n",
    "print(observable_data['errors'])\n",
    "print(len(observable_data['surveys']))\n",
    "print(len(observable_data['scale_factor']))\n",
    "print(len(observable_data['stellar_masses']))\n",
    "print(len(observable_data['fq']))\n",
    "print(len(observable_data['errors']))"
   ]
  },
  {
   "cell_type": "markdown",
   "metadata": {},
   "source": [
    "### Using pandas"
   ]
  },
  {
   "cell_type": "code",
   "execution_count": 10,
   "metadata": {
    "scrolled": true
   },
   "outputs": [
    {
     "ename": "TypeError",
     "evalue": "cannot create a storer if the object is not existing nor a value are passed",
     "output_type": "error",
     "traceback": [
      "\u001b[0;31m---------------------------------------------------------------------------\u001b[0m",
      "\u001b[0;31mTypeError\u001b[0m                                 Traceback (most recent call last)",
      "\u001b[0;32m<ipython-input-10-13786dd61e1a>\u001b[0m in \u001b[0;36m<module>\u001b[0;34m()\u001b[0m\n\u001b[1;32m      1\u001b[0m \u001b[0mfile_name\u001b[0m \u001b[0;34m=\u001b[0m \u001b[0;34m'/home/magnus/data/observational_data/all_data.h5'\u001b[0m\u001b[0;34m\u001b[0m\u001b[0m\n\u001b[1;32m      2\u001b[0m \u001b[0;34m\u001b[0m\u001b[0m\n\u001b[0;32m----> 3\u001b[0;31m \u001b[0mfile\u001b[0m \u001b[0;34m=\u001b[0m \u001b[0mpd\u001b[0m\u001b[0;34m.\u001b[0m\u001b[0mread_hdf\u001b[0m\u001b[0;34m(\u001b[0m\u001b[0mfile_name\u001b[0m\u001b[0;34m,\u001b[0m \u001b[0mkey\u001b[0m\u001b[0;34m=\u001b[0m\u001b[0;34m'Universe_0'\u001b[0m\u001b[0;34m)\u001b[0m\u001b[0;34m\u001b[0m\u001b[0m\n\u001b[0m\u001b[1;32m      4\u001b[0m \u001b[0mfile_header\u001b[0m \u001b[0;34m=\u001b[0m \u001b[0mfile\u001b[0m\u001b[0;34m.\u001b[0m\u001b[0mkeys\u001b[0m\u001b[0;34m(\u001b[0m\u001b[0;34m)\u001b[0m\u001b[0;34m.\u001b[0m\u001b[0mtolist\u001b[0m\u001b[0;34m(\u001b[0m\u001b[0;34m)\u001b[0m\u001b[0;34m\u001b[0m\u001b[0m\n\u001b[1;32m      5\u001b[0m \u001b[0mprint\u001b[0m\u001b[0;34m(\u001b[0m\u001b[0mfile_header\u001b[0m\u001b[0;34m)\u001b[0m\u001b[0;34m\u001b[0m\u001b[0m\n",
      "\u001b[0;32m/opt/anaconda/lib/python3.6/site-packages/pandas/io/pytables.py\u001b[0m in \u001b[0;36mread_hdf\u001b[0;34m(path_or_buf, key, mode, **kwargs)\u001b[0m\n\u001b[1;32m    392\u001b[0m                                      'contains multiple datasets.')\n\u001b[1;32m    393\u001b[0m             \u001b[0mkey\u001b[0m \u001b[0;34m=\u001b[0m \u001b[0mcandidate_only_group\u001b[0m\u001b[0;34m.\u001b[0m\u001b[0m_v_pathname\u001b[0m\u001b[0;34m\u001b[0m\u001b[0m\n\u001b[0;32m--> 394\u001b[0;31m         \u001b[0;32mreturn\u001b[0m \u001b[0mstore\u001b[0m\u001b[0;34m.\u001b[0m\u001b[0mselect\u001b[0m\u001b[0;34m(\u001b[0m\u001b[0mkey\u001b[0m\u001b[0;34m,\u001b[0m \u001b[0mauto_close\u001b[0m\u001b[0;34m=\u001b[0m\u001b[0mauto_close\u001b[0m\u001b[0;34m,\u001b[0m \u001b[0;34m**\u001b[0m\u001b[0mkwargs\u001b[0m\u001b[0;34m)\u001b[0m\u001b[0;34m\u001b[0m\u001b[0m\n\u001b[0m\u001b[1;32m    395\u001b[0m     \u001b[0;32mexcept\u001b[0m\u001b[0;34m:\u001b[0m\u001b[0;34m\u001b[0m\u001b[0m\n\u001b[1;32m    396\u001b[0m         \u001b[0;31m# if there is an error, close the store\u001b[0m\u001b[0;34m\u001b[0m\u001b[0;34m\u001b[0m\u001b[0m\n",
      "\u001b[0;32m/opt/anaconda/lib/python3.6/site-packages/pandas/io/pytables.py\u001b[0m in \u001b[0;36mselect\u001b[0;34m(self, key, where, start, stop, columns, iterator, chunksize, auto_close, **kwargs)\u001b[0m\n\u001b[1;32m    725\u001b[0m         \u001b[0;31m# create the storer and axes\u001b[0m\u001b[0;34m\u001b[0m\u001b[0;34m\u001b[0m\u001b[0m\n\u001b[1;32m    726\u001b[0m         \u001b[0mwhere\u001b[0m \u001b[0;34m=\u001b[0m \u001b[0m_ensure_term\u001b[0m\u001b[0;34m(\u001b[0m\u001b[0mwhere\u001b[0m\u001b[0;34m,\u001b[0m \u001b[0mscope_level\u001b[0m\u001b[0;34m=\u001b[0m\u001b[0;36m1\u001b[0m\u001b[0;34m)\u001b[0m\u001b[0;34m\u001b[0m\u001b[0m\n\u001b[0;32m--> 727\u001b[0;31m         \u001b[0ms\u001b[0m \u001b[0;34m=\u001b[0m \u001b[0mself\u001b[0m\u001b[0;34m.\u001b[0m\u001b[0m_create_storer\u001b[0m\u001b[0;34m(\u001b[0m\u001b[0mgroup\u001b[0m\u001b[0;34m)\u001b[0m\u001b[0;34m\u001b[0m\u001b[0m\n\u001b[0m\u001b[1;32m    728\u001b[0m         \u001b[0ms\u001b[0m\u001b[0;34m.\u001b[0m\u001b[0minfer_axes\u001b[0m\u001b[0;34m(\u001b[0m\u001b[0;34m)\u001b[0m\u001b[0;34m\u001b[0m\u001b[0m\n\u001b[1;32m    729\u001b[0m \u001b[0;34m\u001b[0m\u001b[0m\n",
      "\u001b[0;32m/opt/anaconda/lib/python3.6/site-packages/pandas/io/pytables.py\u001b[0m in \u001b[0;36m_create_storer\u001b[0;34m(self, group, format, value, append, **kwargs)\u001b[0m\n\u001b[1;32m   1254\u001b[0m                 \u001b[0;32melse\u001b[0m\u001b[0;34m:\u001b[0m\u001b[0;34m\u001b[0m\u001b[0m\n\u001b[1;32m   1255\u001b[0m                     raise TypeError(\n\u001b[0;32m-> 1256\u001b[0;31m                         \u001b[0;34m\"cannot create a storer if the object is not existing \"\u001b[0m\u001b[0;34m\u001b[0m\u001b[0m\n\u001b[0m\u001b[1;32m   1257\u001b[0m                         \"nor a value are passed\")\n\u001b[1;32m   1258\u001b[0m             \u001b[0;32melse\u001b[0m\u001b[0;34m:\u001b[0m\u001b[0;34m\u001b[0m\u001b[0m\n",
      "\u001b[0;31mTypeError\u001b[0m: cannot create a storer if the object is not existing nor a value are passed"
     ]
    }
   ],
   "source": [
    "file_name = '/home/magnus/data/observational_data/all_data.h5'\n",
    "\n",
    "file = pd.read_hdf(file_name, key='Universe_0')\n",
    "file_header = file.keys().tolist()\n",
    "print(file_header)"
   ]
  },
  {
   "cell_type": "code",
   "execution_count": 69,
   "metadata": {},
   "outputs": [
    {
     "name": "stdout",
     "output_type": "stream",
     "text": [
      "Redshift 7.50 - 8.50. Survey b'Song 2009'\n"
     ]
    }
   ],
   "source": [
    "predicted_redshift = 8\n",
    "data_to_load = 'smf'\n",
    "\n",
    "data_dir = '/home/magnus/data/observational_data/all_data.h5'\n",
    "file = h5py.File(data_dir, 'r')\n",
    "universe_0 = file['Universe_0']\n",
    "\n",
    "if data_to_load == 'smf':\n",
    "    smf = universe_0['SMF']\n",
    "    data = smf['Data']\n",
    "    sets = smf['Sets']\n",
    "\n",
    "    for i_set, dataset in enumerate(list(sets)):\n",
    "        \n",
    "        if predicted_redshift >= dataset[2] and predicted_redshift <= dataset[3]:\n",
    "            print('Redshift {:.2f} - {:.2f}. Survey {}'.format(dataset[2], dataset[3], dataset[-1]))\n",
    "        \n",
    "        "
   ]
  },
  {
   "cell_type": "code",
   "execution_count": null,
   "metadata": {},
   "outputs": [],
   "source": [
    "\n",
    "\n",
    "\n",
    "\n",
    "\n",
    "\n",
    "\n",
    "\n",
    "\n",
    "\n",
    "\n",
    "\n",
    "\n",
    "\n",
    "\n",
    "\n",
    "\n",
    "\n",
    "\n"
   ]
  }
 ],
 "metadata": {
  "kernelspec": {
   "display_name": "Python 3",
   "language": "python",
   "name": "python3"
  },
  "language_info": {
   "codemirror_mode": {
    "name": "ipython",
    "version": 3
   },
   "file_extension": ".py",
   "mimetype": "text/x-python",
   "name": "python",
   "nbconvert_exporter": "python",
   "pygments_lexer": "ipython3",
   "version": "3.6.5"
  }
 },
 "nbformat": 4,
 "nbformat_minor": 2
}
