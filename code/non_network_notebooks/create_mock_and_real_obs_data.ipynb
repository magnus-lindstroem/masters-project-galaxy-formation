{
 "cells": [
  {
   "cell_type": "code",
   "execution_count": 261,
   "metadata": {},
   "outputs": [
    {
     "data": {
      "text/html": [
       "<style>.container { width:90% !important; }</style>"
      ],
      "text/plain": [
       "<IPython.core.display.HTML object>"
      ]
     },
     "metadata": {},
     "output_type": "display_data"
    },
    {
     "name": "stdout",
     "output_type": "stream",
     "text": [
      "The autoreload extension is already loaded. To reload it, use:\n",
      "  %reload_ext autoreload\n"
     ]
    }
   ],
   "source": [
    "from IPython.core.display import display, HTML\n",
    "display(HTML(\"<style>.container { width:90% !important; }</style>\"))\n",
    "\n",
    "import os\n",
    "from os.path import expanduser\n",
    "home_dir = expanduser(\"~\")\n",
    "module_path = home_dir + '/code/modules/'\n",
    "models_path = home_dir + '/models/'\n",
    "import sys\n",
    "sys.path.append(module_path)\n",
    "import numpy as np\n",
    "import pandas as pd\n",
    "import time\n",
    "import h5py\n",
    "import matplotlib.pyplot as plt\n",
    "from scipy import stats\n",
    "from scipy.interpolate import interp1d\n",
    "import json\n",
    "import pandas as pd\n",
    "%load_ext autoreload\n",
    "%autoreload 1\n",
    "%aimport data_processing\n",
    "from data_processing import *"
   ]
  },
  {
   "cell_type": "markdown",
   "metadata": {},
   "source": [
    "## Construct mock SMF"
   ]
  },
  {
   "cell_type": "code",
   "execution_count": null,
   "metadata": {},
   "outputs": [],
   "source": [
    "original_directory = '/home/magnus/data/galcats_nonzero_sfr_no_density_with_growth_rate_no_lastMajM/'\n",
    "destination_directory = '/home/magnus/data/mock_data/stellar_mass_functions/'\n",
    "\n",
    "redshifts = [0, .1, .2, .5, 1, 2, 3, 4, 6, 8]\n",
    "bin_width = .1\n",
    "error = .3\n",
    "\n",
    "for redshift in redshifts:\n",
    "\n",
    "    file_name = 'galaxies.Z{:02.0f}'.format(redshift*10)\n",
    "\n",
    "    galfile = pd.read_hdf(original_directory + file_name + '.h5')\n",
    "    galaxies = galfile.values\n",
    "    gal_header = galfile.keys().tolist()\n",
    "\n",
    "    data_keys = {}\n",
    "    for col_nr, key in enumerate(gal_header):\n",
    "        data_keys[key] = col_nr\n",
    "\n",
    "    # Remove the smaller haloes\n",
    "    galaxies = galaxies[galaxies[:,data_keys['Halo_mass']] > 10.5, :]\n",
    "\n",
    "  #  print(np.amax(galaxies[:, data_keys['Halo_mass']]))\n",
    "  #  print(np.amin(galaxies[:, data_keys['Halo_mass']]))\n",
    "\n",
    "    max_stellar_mass = np.amax(galaxies[:, data_keys['Stellar_mass']])\n",
    "    min_stellar_mass = np.amin(galaxies[:, data_keys['Stellar_mass']])\n",
    "    lower_bin_edge = np.floor(min_stellar_mass * 10)/10\n",
    "    upper_bin_edge = np.ceil(max_stellar_mass* 10)/10\n",
    "   # print(min_stellar_mass, max_stellar_mass)\n",
    "   # print(lower_bin_edge, upper_bin_edge)\n",
    "\n",
    "    bin_edges = np.arange(lower_bin_edge, upper_bin_edge + bin_width, bin_width)\n",
    "    n_bins = len(bin_edges)-1\n",
    "    bin_stats = stats.binned_statistic(galaxies[:, data_keys['Stellar_mass']], galaxies[:, data_keys['Stellar_mass']], \n",
    "                                       bins=bin_edges)\n",
    "\n",
    "    bin_counts = [np.sum(bin_stats[2] == i) for i in range(1, n_bins+1)]\n",
    "\n",
    "    bin_centers = [(bin_edges[i] + bin_edges[i+1])/2 for i in range(len(bin_edges)-1)]\n",
    "  #  print(bin_centers)\n",
    "\n",
    "    #plt.hist(galaxies[:, data_keys['Stellar_mass']], bins = bin_edges, density = False, label = 'Stellar_mass')\n",
    "  #  plt.scatter(bin_centers, bin_counts)\n",
    "\n",
    "  #  print(bin_counts)\n",
    "    bin_counts = [float('nan') if count == 0 else count for count in bin_counts]\n",
    "    bin_counts_arr = np.array(bin_counts, dtype=np.float)\n",
    "    bin_counts_per_mpc3 = bin_counts_arr / 200**3 / bin_width\n",
    "    bin_counts_per_mpc3[bin_counts_per_mpc3 > 0] = np.log10(bin_counts_per_mpc3[bin_counts_per_mpc3 > 0])\n",
    "  #  print(bin_counts_per_mpc3)\n",
    "\n",
    "    full_data_list = [[stell_mass, phi, error] for (stell_mass, phi) in zip(bin_centers, bin_counts_per_mpc3) \n",
    "                      if (not np.isnan(phi)) ]\n",
    "    full_data_list.insert(0, {'bin_widths': bin_width, 'bin_edges': bin_edges.tolist()})\n",
    "  #  print(full_data_list)\n",
    "\n",
    "    with open(destination_directory + file_name + '.json', 'w+') as f:\n",
    "        json.dump(full_data_list, f)\n",
    "    f.close()"
   ]
  },
  {
   "cell_type": "code",
   "execution_count": null,
   "metadata": {
    "scrolled": true
   },
   "outputs": [],
   "source": [
    "### Try loading a data file\n",
    "file_name = 'galaxies.Z00'\n",
    "with open(destination_directory + file_name + '.json', 'r') as f:\n",
    "    test = json.load(f)\n",
    "f.close()\n",
    "print(test)"
   ]
  },
  {
   "cell_type": "markdown",
   "metadata": {},
   "source": [
    "## Construct mock SSFR"
   ]
  },
  {
   "cell_type": "code",
   "execution_count": null,
   "metadata": {},
   "outputs": [],
   "source": [
    "original_directory = '/home/magnus/data/galcats_nonzero_sfr_no_density_with_growth_rate_no_lastMajM/'\n",
    "destination_directory = '/home/magnus/data/mock_data/ssfr/'\n",
    "redshifts = [0, .1, .2, .5, 1, 2, 3, 4, 6, 8]\n",
    "\n",
    "for redshift in redshifts:\n",
    "\n",
    "    file_name = 'galaxies.Z{:02.0f}'.format(redshift*10)\n",
    "    \n",
    "    bin_width = .2\n",
    "    error = .3\n",
    "\n",
    "    galfile = pd.read_hdf(original_directory + file_name + '.h5')\n",
    "    galaxies = galfile.values\n",
    "    gal_header = galfile.keys().tolist()\n",
    "\n",
    "    data_keys = {}\n",
    "    for col_nr, key in enumerate(gal_header):\n",
    "        data_keys[key] = col_nr\n",
    "\n",
    "    # Remove the smaller haloes\n",
    "    galaxies = galaxies[galaxies[:,data_keys['Halo_mass']] > 10.5, :]\n",
    "\n",
    "    # print(np.amax(galaxies[:, data_keys['Halo_mass']]))\n",
    "    # print(np.amin(galaxies[:, data_keys['Halo_mass']]))\n",
    "\n",
    "    sfr_log = galaxies[:, data_keys['SFR']]\n",
    "    sfr = np.power(10, sfr_log)\n",
    "    # print(np.amax(sfr))\n",
    "    # print(np.amin(sfr))\n",
    "\n",
    "    stellar_mass_log = galaxies[:, data_keys['Stellar_mass']]\n",
    "    stellar_mass = np.power(10, stellar_mass_log)\n",
    "    # print('{:.3e}'.format(np.amax(stellar_mass)))\n",
    "    # print('{:.3e}'.format(np.amin(stellar_mass)))\n",
    "\n",
    "    ssfr = sfr / stellar_mass\n",
    "    ssfr_log = np.log10(ssfr)\n",
    "\n",
    "    max_stellar_mass = np.amax(stellar_mass_log)\n",
    "    min_stellar_mass = np.amin(stellar_mass_log)\n",
    "    lower_bin_edge = np.floor(min_stellar_mass * 10)/10\n",
    "    upper_bin_edge = np.ceil(max_stellar_mass* 10)/10\n",
    "    # print(min_stellar_mass, max_stellar_mass)\n",
    "    # print(lower_bin_edge, upper_bin_edge)\n",
    "    if (upper_bin_edge - lower_bin_edge) % bin_width > 1e-5 and (upper_bin_edge - lower_bin_edge) % bin_width < bin_width - 1e-5:\n",
    "    #     print((upper_bin_edge - lower_bin_edge) % bin_width)\n",
    "    #     print('hej')\n",
    "        upper_bin_edge += (upper_bin_edge - lower_bin_edge) % bin_width\n",
    "    # print(lower_bin_edge, upper_bin_edge)\n",
    "\n",
    "    bin_edges = np.arange(lower_bin_edge, upper_bin_edge + bin_width, bin_width)\n",
    "    n_bins = len(bin_edges)-1\n",
    "    bin_stats_means = stats.binned_statistic(stellar_mass_log, ssfr_log, bins=bin_edges, statistic='mean')\n",
    "    bin_stats_stds = stats.binned_statistic(stellar_mass_log, ssfr_log, bins=bin_edges, statistic=np.std)\n",
    "    bin_means = bin_stats_means[0]\n",
    "    bin_stds = bin_stats_stds[0]\n",
    "    # print(bin_means)\n",
    "    # print(bin_stds)\n",
    "\n",
    "    bin_centers = [(bin_edges[i] + bin_edges[i+1])/2 for i in range(len(bin_edges)-1)]\n",
    "    # print(bin_edges)\n",
    "    # print(bin_centers)\n",
    "\n",
    "    # plt.errorbar(bin_centers, bin_means, yerr=bin_stds, fmt = 'bo')\n",
    "\n",
    "    full_data_list = [[stell_mass, mean_ssfr_log, error] for (stell_mass, mean_ssfr_log) in zip(bin_centers, bin_means)]\n",
    "    full_data_list.insert(0, {'bin_widths': bin_width, 'bin_edges': bin_edges.tolist()})\n",
    "    # print(full_data_list)\n",
    "\n",
    "    with open(destination_directory + file_name + '.json', 'w+') as f:\n",
    "        json.dump(full_data_list, f)\n",
    "    f.close()"
   ]
  },
  {
   "cell_type": "markdown",
   "metadata": {},
   "source": [
    "## Construct mock fraction of quenched galaxies"
   ]
  },
  {
   "cell_type": "code",
   "execution_count": 12,
   "metadata": {
    "scrolled": true
   },
   "outputs": [],
   "source": [
    "original_directory = '/home/magnus/data/galcats_nonzero_sfr_no_density_with_growth_rate_no_lastMajM/'\n",
    "destination_directory = '/home/magnus/data/mock_data/fq/'\n",
    "redshifts = [0, .1, .2, .5, 1, 2, 3, 4, 6, 8]\n",
    "\n",
    "np.seterr(invalid='raise')\n",
    "\n",
    "for i_red, redshift in enumerate(redshifts):\n",
    "    scale_factor = 1 / (1 + redshift)\n",
    "\n",
    "    h_0 = 67.81 / (3.09e19) # 1/s\n",
    "    h_0 = h_0 * 60 * 60 * 24 * 365 # 1/yr\n",
    "    h_r = h_0 * np.sqrt(1e-3*scale_factor**(-4) + 0.308*scale_factor**(-3) + 0*scale_factor**(-2) + 0.692)\n",
    "    ssfr_cutoff = 0.3*h_r\n",
    "    log_ssfr_cutoff = np.log10(ssfr_cutoff)\n",
    "\n",
    "    file_name = 'galaxies.Z{:02.0f}'.format(redshift*10)\n",
    "\n",
    "    bin_width = .25\n",
    "    error = .3\n",
    "\n",
    "    galfile = pd.read_hdf(original_directory + file_name + '.h5')\n",
    "    galaxies = galfile.values\n",
    "    gal_header = galfile.keys().tolist()\n",
    "\n",
    "    data_keys = {}\n",
    "    for col_nr, key in enumerate(gal_header):\n",
    "        data_keys[key] = col_nr\n",
    "\n",
    "    # Remove the smaller haloes\n",
    "    galaxies = galaxies[galaxies[:,data_keys['Halo_mass']] > 10.5, :]\n",
    "\n",
    "#     print(np.amax(galaxies[:, data_keys['Halo_mass']]))\n",
    "#     print(np.amin(galaxies[:, data_keys['Halo_mass']]))\n",
    "\n",
    "    sfr_log = galaxies[:, data_keys['SFR']]\n",
    "    sfr = np.power(10, sfr_log)\n",
    "    # print(np.amax(sfr))\n",
    "    # print(np.amin(sfr))\n",
    "\n",
    "    stellar_mass_log = galaxies[:, data_keys['Stellar_mass']]\n",
    "    stellar_mass = np.power(10, stellar_mass_log)\n",
    "    # print('{:.3e}'.format(np.amax(stellar_mass)))\n",
    "    # print('{:.3e}'.format(np.amin(stellar_mass)))\n",
    "\n",
    "    ssfr = sfr / stellar_mass\n",
    "\n",
    "    # print(np.min(ssfr), np.max(ssfr))\n",
    "    # print(h_r)\n",
    "\n",
    "    ssfr_log = np.log10(ssfr)\n",
    "\n",
    "    max_stellar_mass = np.amax(stellar_mass_log)\n",
    "    min_stellar_mass = np.amin(stellar_mass_log)\n",
    "    lower_bin_edge = np.floor(min_stellar_mass * 1/bin_width)*bin_width\n",
    "    upper_bin_edge = np.ceil(max_stellar_mass * 1/bin_width)*bin_width\n",
    "#     print(min_stellar_mass, max_stellar_mass)\n",
    "#     print(lower_bin_edge, upper_bin_edge)\n",
    "    if (upper_bin_edge - lower_bin_edge) % bin_width > 1e-5 and (upper_bin_edge - lower_bin_edge) % bin_width < bin_width - 1e-5:\n",
    "    #     print((upper_bin_edge - lower_bin_edge) % bin_width)\n",
    "        upper_bin_edge += (upper_bin_edge - lower_bin_edge) % bin_width\n",
    "#     print(lower_bin_edge, upper_bin_edge)\n",
    "\n",
    "    bin_edges = np.arange(lower_bin_edge, upper_bin_edge + bin_width, bin_width)\n",
    "    n_bins = len(bin_edges)-1\n",
    "    bin_means, bin_edges, bin_numbers = stats.binned_statistic(stellar_mass_log, ssfr_log, bins=bin_edges, statistic='mean')\n",
    "\n",
    "    bin_fqs = []\n",
    "    for bin_num in range(1, n_bins+1):\n",
    "        try:\n",
    "            fq = np.sum(ssfr_log[bin_numbers == bin_num] < log_ssfr_cutoff) / len(ssfr_log[bin_numbers == bin_num])\n",
    "        except:\n",
    "            if len(ssfr_log[bin_numbers == bin_num]) == 0:\n",
    "                print('bin number {:d} contains 0 points'.format(bin_num))\n",
    "                fq = 0\n",
    "            else:\n",
    "                print('some other error')\n",
    "        bin_fqs.append(fq)\n",
    "\n",
    "    bin_centers = [(bin_edges[i] + bin_edges[i+1])/2 for i in range(len(bin_edges)-1)]\n",
    "#     fig = plt.figure(i_red, figsize=(10,7))\n",
    "#     ax = plt.gca()\n",
    "#     plt.plot(bin_centers, bin_fqs)\n",
    "#     ax.set_ylim(bottom=0)\n",
    "#     ax.set_ylim(top=1)\n",
    "# #     ax.set_xlim(left=8)\n",
    "# #     ax.set_xlim(right=12)\n",
    "#     plt.title('Fraction of quenched galaxies at redshift {:.1f}'.format(redshift))\n",
    "# #     fig.savefig('fq_Z{:02.0f}.png'.format(redshift*10), bbox_inches = 'tight')\n",
    "#     plt.show()\n",
    "\n",
    "# print(bin_edges)\n",
    "# print(bin_centers)\n",
    "\n",
    "# plt.errorbar(bin_centers, bin_means, yerr=bin_stds, fmt = 'bo')\n",
    "\n",
    "    full_data_list = [[stell_mass, fq, error] for (stell_mass, fq) in zip(bin_centers, bin_fqs)]\n",
    "    full_data_list.insert(0, {'bin_widths': bin_width, 'bin_edges': bin_edges.tolist()})\n",
    "\n",
    "    with open(destination_directory + file_name + '.json', 'w+') as f:\n",
    "        json.dump(full_data_list, f)\n",
    "    f.close()"
   ]
  },
  {
   "cell_type": "markdown",
   "metadata": {},
   "source": [
    "### Mock stellar mass halo mass relationship"
   ]
  },
  {
   "cell_type": "code",
   "execution_count": null,
   "metadata": {},
   "outputs": [],
   "source": [
    "original_directory = '/home/magnus/data/galcats_nonzero_sfr_no_density_with_growth_rate_no_lastMajM/'\n",
    "destination_directory = '/home/magnus/data/mock_data/stellar_halo_mass_relations/'\n",
    "redshifts = [0, .1, .2, .5, 1, 2, 3, 4, 6, 8]\n",
    "\n",
    "np.seterr(invalid='raise')\n",
    "\n",
    "for i_red, redshift in enumerate(redshifts):\n",
    "\n",
    "    file_name = 'galaxies.Z{:02.0f}'.format(redshift*10)\n",
    "\n",
    "    bin_width = .2\n",
    "    error = .3\n",
    "\n",
    "    galfile = pd.read_hdf(original_directory + file_name + '.h5')\n",
    "    galaxies = galfile.values\n",
    "    gal_header = galfile.keys().tolist()\n",
    "\n",
    "    data_keys = {}\n",
    "    for col_nr, key in enumerate(gal_header):\n",
    "        data_keys[key] = col_nr\n",
    "\n",
    "    # Remove the smaller haloes\n",
    "    galaxies = galaxies[galaxies[:,data_keys['Halo_mass']] > 10.5, :]\n",
    "\n",
    "    halo_mass = galaxies[:, data_keys['Halo_mass']]\n",
    "    stellar_mass = galaxies[:, data_keys['Stellar_mass']]\n",
    "\n",
    "    min_halo_mass = np.amin(halo_mass)\n",
    "    max_halo_mass = np.amax(halo_mass)\n",
    "    \n",
    "    lower_bin_edge = np.floor(min_halo_mass * 1/bin_width)*bin_width\n",
    "    upper_bin_edge = np.ceil(max_halo_mass * 1/bin_width)*bin_width\n",
    "    print(min_halo_mass, max_halo_mass)\n",
    "    print(lower_bin_edge, upper_bin_edge)\n",
    "\n",
    "    if (upper_bin_edge - lower_bin_edge) % bin_width > 1e-5 and (upper_bin_edge - lower_bin_edge) % bin_width < bin_width - 1e-5:\n",
    "        print((upper_bin_edge - lower_bin_edge) % bin_width)\n",
    "        upper_bin_edge += (upper_bin_edge - lower_bin_edge) % bin_width\n",
    "#     print(lower_bin_edge, upper_bin_edge)\n",
    "\n",
    "    bin_edges = np.arange(lower_bin_edge, upper_bin_edge + bin_width, bin_width)\n",
    "    n_bins = len(bin_edges)-1\n",
    "    bin_means, bin_edges, bin_numbers = stats.binned_statistic(halo_mass, stellar_mass, bins=bin_edges, statistic='mean')\n",
    "\n",
    "    bin_centers = [(bin_edges[i] + bin_edges[i+1])/2 for i in range(len(bin_edges)-1)]\n",
    "    fig = plt.figure(i_red, figsize=(15,5))\n",
    "    ax = plt.subplot(121)\n",
    "    ax.errorbar(bin_centers, bin_means, yerr=error*np.ones(len(bin_centers)), fmt = 'bo')\n",
    "    ax = plt.subplot(122)\n",
    "    ax.plot(halo_mass[:10000], stellar_mass[:10000], 'b.', markersize=1)\n",
    "    plt.suptitle('Stellar masses at redshift {:.1f}'.format(redshift))\n",
    "    plt.show()\n",
    "\n",
    "    \n",
    "\n",
    "    full_data_list = [[halo_mass, stellar_mass, error] for (halo_mass, stellar_mass) in zip(bin_centers, bin_means)]\n",
    "    full_data_list.insert(0, {'bin_widths': bin_width, 'bin_edges': bin_edges.tolist()})\n",
    "\n",
    "    with open(destination_directory + file_name + '.json', 'w+') as f:\n",
    "        json.dump(full_data_list, f)\n",
    "    f.close()"
   ]
  },
  {
   "cell_type": "markdown",
   "metadata": {},
   "source": [
    "### Real data, SMF"
   ]
  },
  {
   "cell_type": "code",
   "execution_count": 312,
   "metadata": {},
   "outputs": [
    {
     "name": "stdout",
     "output_type": "stream",
     "text": [
      "Keys:  ['Universe_0']\n"
     ]
    }
   ],
   "source": [
    "filename = '/home/magnus/data/observational_data/all_data.h5'\n",
    "file = h5py.File(filename, 'r')\n",
    "#file?\n",
    "# List all groups\n",
    "print(\"Keys: \", list(file.keys()))"
   ]
  },
  {
   "cell_type": "code",
   "execution_count": 313,
   "metadata": {},
   "outputs": [
    {
     "name": "stdout",
     "output_type": "stream",
     "text": [
      "Keys:  ['CSFRD', 'Clustering', 'FQ', 'Model_Parameters', 'SMF', 'SSFR']\n"
     ]
    }
   ],
   "source": [
    "# Get the universe\n",
    "universe_0 = file['Universe_0']\n",
    "#universe_0?\n",
    "# List all objects in the universe\n",
    "print(\"Keys: \", list(universe_0.keys()))"
   ]
  },
  {
   "cell_type": "code",
   "execution_count": 314,
   "metadata": {
    "scrolled": true
   },
   "outputs": [
    {
     "name": "stdout",
     "output_type": "stream",
     "text": [
      "Keys:  ['Data', 'Model', 'Sets']\n",
      "Keys of Data:  ['000 Li & White 2009 (z = 0.00 - 0.20)', '001 Baldry 2012 (z = 0.00 - 0.06)', '002 Bernardi 2013 (z = 0.00 - 0.20)', '003 Perez-Gonzalez 2008 (z = 0.00 - 0.20)', '004 Perez-Gonzalez 2008 (z = 0.20 - 0.40)', '005 Perez-Gonzalez 2008 (z = 0.40 - 0.60)', '006 Perez-Gonzalez 2008 (z = 0.60 - 0.80)', '007 Perez-Gonzalez 2008 (z = 0.80 - 1.00)', '008 Perez-Gonzalez 2008 (z = 1.00 - 1.30)', '009 Perez-Gonzalez 2008 (z = 1.30 - 1.60)', '010 Perez-Gonzalez 2008 (z = 1.60 - 2.00)', '011 Perez-Gonzalez 2008 (z = 2.00 - 2.50)', '012 Perez-Gonzalez 2008 (z = 2.50 - 3.00)', '013 Perez-Gonzalez 2008 (z = 3.00 - 3.50)', '014 Perez-Gonzalez 2008 (z = 3.50 - 4.00)', '015 Santini 2012 (z = 0.60 - 1.00)', '016 Santini 2012 (z = 1.00 - 1.40)', '017 Santini 2012 (z = 1.40 - 1.80)', '018 Santini 2012 (z = 1.80 - 2.50)', '019 Santini 2012 (z = 2.50 - 3.50)', '020 Santini 2012 (z = 3.50 - 4.50)', '021 Ilbert 2013 (z = 0.20 - 0.50)', '022 Ilbert 2013 (z = 0.50 - 0.80)', '023 Ilbert 2013 (z = 0.80 - 1.10)', '024 Ilbert 2013 (z = 1.10 - 1.50)', '025 Ilbert 2013 (z = 1.50 - 2.00)', '026 Ilbert 2013 (z = 2.00 - 2.50)', '027 Ilbert 2013 (z = 2.50 - 3.00)', '028 Ilbert 2013 (z = 3.00 - 4.00)', '029 Ilbert 2010 (z = 0.05 - 0.20)', '030 Ilbert 2010 (z = 0.20 - 0.40)', '031 Ilbert 2010 (z = 0.40 - 0.60)', '032 Ilbert 2010 (z = 0.60 - 0.80)', '033 Ilbert 2010 (z = 0.80 - 1.00)', '034 Ilbert 2010 (z = 1.00 - 1.20)', '035 Ilbert 2010 (z = 1.20 - 1.50)', '036 Ilbert 2010 (z = 1.50 - 2.00)', '037 Moustakas 2013 (z = 0.20 - 0.30)', '038 Moustakas 2013 (z = 0.30 - 0.40)', '039 Moustakas 2013 (z = 0.40 - 0.50)', '040 Moustakas 2013 (z = 0.50 - 0.65)', '041 Moustakas 2013 (z = 0.65 - 0.80)', '042 Moustakas 2013 (z = 0.80 - 1.00)', '043 Muzzin 2013 (z = 0.20 - 0.50)', '044 Muzzin 2013 (z = 0.50 - 1.00)', '045 Muzzin 2013 (z = 1.00 - 1.50)', '046 Muzzin 2013 (z = 1.50 - 2.00)', '047 Muzzin 2013 (z = 2.00 - 2.50)', '048 Muzzin 2013 (z = 2.50 - 3.00)', '049 Muzzin 2013 (z = 3.00 - 4.00)', '050 Caputi 2011 (z = 3.00 - 3.50)', '051 Caputi 2011 (z = 3.50 - 4.25)', '052 Caputi 2011 (z = 4.25 - 5.00)', '053 Pozzetti 2010 (z = 0.10 - 0.35)', '054 Pozzetti 2010 (z = 0.35 - 0.55)', '055 Pozzetti 2010 (z = 0.55 - 0.75)', '056 Pozzetti 2010 (z = 0.75 - 1.00)', '057 Marchesini 2009 (z = 1.30 - 2.00)', '058 Marchesini 2009 (z = 2.00 - 3.00)', '059 Marchesini 2009 (z = 3.00 - 4.00)', '060 Kajisawa 2009 (z = 0.50 - 1.00)', '061 Kajisawa 2009 (z = 1.00 - 1.50)', '062 Kajisawa 2009 (z = 1.50 - 2.50)', '063 Kajisawa 2009 (z = 2.50 - 3.50)', '064 Mortlock 2011 (z = 1.00 - 1.50)', '065 Mortlock 2011 (z = 1.50 - 2.00)', '066 Mortlock 2011 (z = 2.00 - 2.50)', '067 Mortlock 2011 (z = 2.50 - 3.00)', '068 Mortlock 2011 (z = 3.00 - 3.50)', '069 Lee 2012 (z = 3.50 - 4.00)', '070 Lee 2012 (z = 4.50 - 5.50)', '071 Gonzalez 2011 (z = 3.40 - 4.20)', '072 Gonzalez 2011 (z = 4.50 - 5.50)', '073 Gonzalez 2011 (z = 5.50 - 6.30)', '074 Gonzalez 2011 (z = 6.30 - 7.30)', '075 Duncan 2014 (z = 3.80 - 4.20)', '076 Duncan 2014 (z = 4.80 - 5.20)', '077 Duncan 2014 (z = 5.80 - 6.20)', '078 Duncan 2014 (z = 6.80 - 7.20)', '079 Song 2009 (z = 3.50 - 4.50)', '080 Song 2009 (z = 4.50 - 5.50)', '081 Song 2009 (z = 5.50 - 6.50)', '082 Song 2009 (z = 6.50 - 7.50)', '083 Song 2009 (z = 7.50 - 8.50)', '084 Grazian 2015 (z = 3.50 - 4.50)', '085 Grazian 2015  (z = 4.50 - 5.50)', '086 Grazian 2015 (z = 5.50 - 6.50)', '087 Grazian 2015 (z = 6.50 - 7.50)']\n"
     ]
    }
   ],
   "source": [
    "# Get the SMF objects from the universe\n",
    "smf = universe_0['SMF']\n",
    "#smf?\n",
    "# List all objects\n",
    "print(\"Keys: \", list(smf.keys()))\n",
    "# Get the dataset 'Data'\n",
    "data = smf['Data']\n",
    "print(\"Keys of Data: \", list(data.keys()))\n",
    "data_keys = list(data.keys())\n",
    "model = smf['Model']\n",
    "sets = smf['Sets']"
   ]
  },
  {
   "cell_type": "code",
   "execution_count": 315,
   "metadata": {},
   "outputs": [
    {
     "name": "stdout",
     "output_type": "stream",
     "text": [
      "[(39, 0, 0., 0.2, b'Li & White 2009'), (21, 39, 0., 0.06, b'Baldry 2012'), (32, 60, 0., 0.2, b'Bernardi 2013'), (20, 92, 0., 0.2, b'Perez-Gonzalez 2008'), (20, 112, 0.2, 0.4, b'Perez-Gonzalez 2008'), (17, 132, 0.4, 0.6, b'Perez-Gonzalez 2008'), (14, 149, 0.6, 0.8, b'Perez-Gonzalez 2008'), (13, 163, 0.8, 1., b'Perez-Gonzalez 2008'), (13, 176, 1., 1.3, b'Perez-Gonzalez 2008'), (11, 189, 1.3, 1.6, b'Perez-Gonzalez 2008'), (10, 200, 1.6, 2., b'Perez-Gonzalez 2008'), (9, 210, 2., 2.5, b'Perez-Gonzalez 2008'), (7, 219, 2.5, 3., b'Perez-Gonzalez 2008'), (6, 226, 3., 3.5, b'Perez-Gonzalez 2008'), (6, 232, 3.5, 4., b'Perez-Gonzalez 2008'), (19, 238, 0.6, 1., b'Santini 2012'), (15, 257, 1., 1.4, b'Santini 2012'), (13, 272, 1.4, 1.8, b'Santini 2012'), (11, 285, 1.8, 2.5, b'Santini 2012'), (9, 296, 2.5, 3.5, b'Santini 2012'), (8, 305, 3.5, 4.5, b'Santini 2012'), (15, 313, 0.2, 0.5, b'Ilbert 2013'), (13, 328, 0.5, 0.8, b'Ilbert 2013'), (12, 341, 0.8, 1.1, b'Ilbert 2013'), (10, 353, 1.1, 1.5, b'Ilbert 2013'), (10, 363, 1.5, 2., b'Ilbert 2013'), (12, 373, 2., 2.5, b'Ilbert 2013'), (11, 385, 2.5, 3., b'Ilbert 2013'), (11, 396, 3., 4., b'Ilbert 2013'), (10, 407, 0.05, 0.2, b'Ilbert 2010'), (10, 417, 0.2, 0.4, b'Ilbert 2010'), (10, 427, 0.4, 0.6, b'Ilbert 2010'), (10, 437, 0.6, 0.8, b'Ilbert 2010'), (10, 447, 0.8, 1., b'Ilbert 2010'), (10, 457, 1., 1.2, b'Ilbert 2010'), (8, 467, 1.2, 1.5, b'Ilbert 2010'), (10, 475, 1.5, 2., b'Ilbert 2010'), (26, 485, 0.2, 0.3, b'Moustakas 2013'), (24, 511, 0.3, 0.4, b'Moustakas 2013'), (23, 535, 0.4, 0.5, b'Moustakas 2013'), (18, 558, 0.5, 0.65, b'Moustakas 2013'), (17, 576, 0.65, 0.8, b'Moustakas 2013'), (11, 593, 0.8, 1., b'Moustakas 2013'), (37, 604, 0.2, 0.5, b'Muzzin 2013'), (29, 641, 0.5, 1., b'Muzzin 2013'), (24, 670, 1., 1.5, b'Muzzin 2013'), (16, 694, 1.5, 2., b'Muzzin 2013'), (13, 710, 2., 2.5, b'Muzzin 2013'), (6, 723, 2.5, 3., b'Muzzin 2013'), (6, 729, 3., 4., b'Muzzin 2013'), (7, 735, 3., 3.5, b'Caputi 2011'), (7, 742, 3.5, 4.25, b'Caputi 2011'), (6, 749, 4.25, 5., b'Caputi 2011'), (11, 755, 0.1, 0.35, b'Pozzetti 2010'), (7, 766, 0.35, 0.55, b'Pozzetti 2010'), (5, 773, 0.55, 0.75, b'Pozzetti 2010'), (3, 778, 0.75, 1., b'Pozzetti 2010'), (8, 781, 1.3, 2., b'Marchesini 2009'), (7, 789, 2., 3., b'Marchesini 2009'), (6, 796, 3., 4., b'Marchesini 2009'), (14, 802, 0.5, 1., b'Kajisawa 2009'), (10, 816, 1., 1.5, b'Kajisawa 2009'), (10, 826, 1.5, 2.5, b'Kajisawa 2009'), (6, 836, 2.5, 3.5, b'Kajisawa 2009'), (14, 842, 1., 1.5, b'Mortlock 2011'), (12, 856, 1.5, 2., b'Mortlock 2011'), (11, 868, 2., 2.5, b'Mortlock 2011'), (10, 879, 2.5, 3., b'Mortlock 2011'), (11, 889, 3., 3.5, b'Mortlock 2011'), (10, 900, 3.5, 4., b'Lee 2012'), (9, 910, 4.5, 5.5, b'Lee 2012'), (7, 919, 3.4, 4.2, b'Gonzalez 2011'), (7, 926, 4.5, 5.5, b'Gonzalez 2011'), (7, 933, 5.5, 6.3, b'Gonzalez 2011'), (6, 940, 6.3, 7.3, b'Gonzalez 2011'), (10, 946, 3.8, 4.2, b'Duncan 2014'), (9, 956, 4.8, 5.2, b'Duncan 2014'), (7, 965, 5.8, 6.2, b'Duncan 2014'), (4, 972, 6.8, 7.2, b'Duncan 2014'), (9, 976, 3.5, 4.5, b'Song 2009'), (9, 985, 4.5, 5.5, b'Song 2009'), (7, 994, 5.5, 6.5, b'Song 2009'), (8, 1001, 6.5, 7.5, b'Song 2009'), (6, 1009, 7.5, 8.5, b'Song 2009'), (14, 1015, 3.5, 4.5, b'Grazian 2015'), (13, 1029, 4.5, 5.5, b'Grazian 2015 '), (8, 1042, 5.5, 6.5, b'Grazian 2015'), (6, 1050, 6.5, 7.5, b'Grazian 2015')]\n"
     ]
    }
   ],
   "source": [
    "print(list(sets))\n",
    "#sets?"
   ]
  },
  {
   "cell_type": "code",
   "execution_count": null,
   "metadata": {},
   "outputs": [],
   "source": [
    "print(list(model))\n",
    "#model?"
   ]
  },
  {
   "cell_type": "code",
   "execution_count": 316,
   "metadata": {
    "scrolled": true
   },
   "outputs": [
    {
     "name": "stdout",
     "output_type": "stream",
     "text": [
      "[(10.187608, -3.961413, 0.30500004, 0.20634921, -3.1224778, 0.03399385), (10.387609, -4.091413, 0.3069609, 0.20634921, -3.280467, 0.040468), (10.587608, -4.381413, 0.3212865, 0.20634921, -3.4284415, 0.04758609), (10.787608, -4.591413, 0.33320415, 0.20634921, -3.5455637, 0.05404417), (10.987608, -4.7014127, 0.3212865, 0.20634921, -3.5870438, 0.05652275), (11.187608, -5.5314126, 0.6090156, 0.20634921, -3.8794188, 0.07723092), (11.387609, -5.961413, 0.71589094, 0.20634921, -4.661877, 0.16999672)]\n",
      "['000 Li & White 2009 (z = 0.00 - 0.20)', '001 Baldry 2012 (z = 0.00 - 0.06)', '002 Bernardi 2013 (z = 0.00 - 0.20)', '003 Perez-Gonzalez 2008 (z = 0.00 - 0.20)', '004 Perez-Gonzalez 2008 (z = 0.20 - 0.40)', '005 Perez-Gonzalez 2008 (z = 0.40 - 0.60)', '006 Perez-Gonzalez 2008 (z = 0.60 - 0.80)', '007 Perez-Gonzalez 2008 (z = 0.80 - 1.00)', '008 Perez-Gonzalez 2008 (z = 1.00 - 1.30)', '009 Perez-Gonzalez 2008 (z = 1.30 - 1.60)', '010 Perez-Gonzalez 2008 (z = 1.60 - 2.00)', '011 Perez-Gonzalez 2008 (z = 2.00 - 2.50)', '012 Perez-Gonzalez 2008 (z = 2.50 - 3.00)', '013 Perez-Gonzalez 2008 (z = 3.00 - 3.50)', '014 Perez-Gonzalez 2008 (z = 3.50 - 4.00)', '015 Santini 2012 (z = 0.60 - 1.00)', '016 Santini 2012 (z = 1.00 - 1.40)', '017 Santini 2012 (z = 1.40 - 1.80)', '018 Santini 2012 (z = 1.80 - 2.50)', '019 Santini 2012 (z = 2.50 - 3.50)', '020 Santini 2012 (z = 3.50 - 4.50)', '021 Ilbert 2013 (z = 0.20 - 0.50)', '022 Ilbert 2013 (z = 0.50 - 0.80)', '023 Ilbert 2013 (z = 0.80 - 1.10)', '024 Ilbert 2013 (z = 1.10 - 1.50)', '025 Ilbert 2013 (z = 1.50 - 2.00)', '026 Ilbert 2013 (z = 2.00 - 2.50)', '027 Ilbert 2013 (z = 2.50 - 3.00)', '028 Ilbert 2013 (z = 3.00 - 4.00)', '029 Ilbert 2010 (z = 0.05 - 0.20)', '030 Ilbert 2010 (z = 0.20 - 0.40)', '031 Ilbert 2010 (z = 0.40 - 0.60)', '032 Ilbert 2010 (z = 0.60 - 0.80)', '033 Ilbert 2010 (z = 0.80 - 1.00)', '034 Ilbert 2010 (z = 1.00 - 1.20)', '035 Ilbert 2010 (z = 1.20 - 1.50)', '036 Ilbert 2010 (z = 1.50 - 2.00)', '037 Moustakas 2013 (z = 0.20 - 0.30)', '038 Moustakas 2013 (z = 0.30 - 0.40)', '039 Moustakas 2013 (z = 0.40 - 0.50)', '040 Moustakas 2013 (z = 0.50 - 0.65)', '041 Moustakas 2013 (z = 0.65 - 0.80)', '042 Moustakas 2013 (z = 0.80 - 1.00)', '043 Muzzin 2013 (z = 0.20 - 0.50)', '044 Muzzin 2013 (z = 0.50 - 1.00)', '045 Muzzin 2013 (z = 1.00 - 1.50)', '046 Muzzin 2013 (z = 1.50 - 2.00)', '047 Muzzin 2013 (z = 2.00 - 2.50)', '048 Muzzin 2013 (z = 2.50 - 3.00)', '049 Muzzin 2013 (z = 3.00 - 4.00)', '050 Caputi 2011 (z = 3.00 - 3.50)', '051 Caputi 2011 (z = 3.50 - 4.25)', '052 Caputi 2011 (z = 4.25 - 5.00)', '053 Pozzetti 2010 (z = 0.10 - 0.35)', '054 Pozzetti 2010 (z = 0.35 - 0.55)', '055 Pozzetti 2010 (z = 0.55 - 0.75)', '056 Pozzetti 2010 (z = 0.75 - 1.00)', '057 Marchesini 2009 (z = 1.30 - 2.00)', '058 Marchesini 2009 (z = 2.00 - 3.00)', '059 Marchesini 2009 (z = 3.00 - 4.00)', '060 Kajisawa 2009 (z = 0.50 - 1.00)', '061 Kajisawa 2009 (z = 1.00 - 1.50)', '062 Kajisawa 2009 (z = 1.50 - 2.50)', '063 Kajisawa 2009 (z = 2.50 - 3.50)', '064 Mortlock 2011 (z = 1.00 - 1.50)', '065 Mortlock 2011 (z = 1.50 - 2.00)', '066 Mortlock 2011 (z = 2.00 - 2.50)', '067 Mortlock 2011 (z = 2.50 - 3.00)', '068 Mortlock 2011 (z = 3.00 - 3.50)', '069 Lee 2012 (z = 3.50 - 4.00)', '070 Lee 2012 (z = 4.50 - 5.50)', '071 Gonzalez 2011 (z = 3.40 - 4.20)', '072 Gonzalez 2011 (z = 4.50 - 5.50)', '073 Gonzalez 2011 (z = 5.50 - 6.30)', '074 Gonzalez 2011 (z = 6.30 - 7.30)', '075 Duncan 2014 (z = 3.80 - 4.20)', '076 Duncan 2014 (z = 4.80 - 5.20)', '077 Duncan 2014 (z = 5.80 - 6.20)', '078 Duncan 2014 (z = 6.80 - 7.20)', '079 Song 2009 (z = 3.50 - 4.50)', '080 Song 2009 (z = 4.50 - 5.50)', '081 Song 2009 (z = 5.50 - 6.50)', '082 Song 2009 (z = 6.50 - 7.50)', '083 Song 2009 (z = 7.50 - 8.50)', '084 Grazian 2015 (z = 3.50 - 4.50)', '085 Grazian 2015  (z = 4.50 - 5.50)', '086 Grazian 2015 (z = 5.50 - 6.50)', '087 Grazian 2015 (z = 6.50 - 7.50)']\n"
     ]
    }
   ],
   "source": [
    "print(list(data['051 Caputi 2011 (z = 3.50 - 4.25)']))\n",
    "print(list(data))\n",
    "#data?"
   ]
  },
  {
   "cell_type": "code",
   "execution_count": 317,
   "metadata": {},
   "outputs": [
    {
     "name": "stdout",
     "output_type": "stream",
     "text": [
      "0.20512820512820512\n",
      "0.20634920634920634\n"
     ]
    }
   ],
   "source": [
    "midz = (3.5 + 4.25)/2\n",
    "mida = 1 / (1 + midz)\n",
    "print(mida)\n",
    "\n",
    "lowera = 1 / (1 + 4.25)\n",
    "uppera = 1 / (1 + 3.5)\n",
    "mida = (uppera + lowera) / 2\n",
    "print(mida)"
   ]
  },
  {
   "cell_type": "code",
   "execution_count": 323,
   "metadata": {
    "scrolled": true
   },
   "outputs": [
    {
     "name": "stdout",
     "output_type": "stream",
     "text": [
      "0.09090909090909091 1.0 \n",
      "\n",
      "[[0.8333333312637277, 1.0], [0.8333333312637277, 1.0], [0.8333333312637277, 1.0], [0.8333333312637277, 1.0], [0.8333333312637277, 1.0], [0.8333333312637277, 1.0], [0.8333333312637277, 1.0], [0.8333333312637277, 1.0], [0.8333333312637277, 1.0], [0.8333333312637277, 1.0], [0.8333333312637277, 1.0], [0.8333333312637277, 1.0], [0.8333333312637277, 1.0], [0.8333333312637277, 1.0], [0.8333333312637277, 1.0], [0.8333333312637277, 1.0], [0.8333333312637277, 1.0], [0.8333333312637277, 1.0], [0.8333333312637277, 1.0], [0.8333333312637277, 1.0], [0.8333333312637277, 1.0], [0.8333333312637277, 1.0], [0.8333333312637277, 1.0], [0.8333333312637277, 1.0], [0.8333333312637277, 1.0], [0.8333333312637277, 1.0], [0.8333333312637277, 1.0], [0.8333333312637277, 1.0], [0.8333333312637277, 1.0], [0.8333333312637277, 1.0], [0.8333333312637277, 1.0], [0.8333333312637277, 1.0], [0.8333333312637277, 1.0], [0.8333333312637277, 1.0], [0.8333333312637277, 1.0], [0.8333333312637277, 1.0], [0.8333333312637277, 1.0], [0.8333333312637277, 1.0], [0.8333333312637277, 1.0], [0.9433962276086726, 1.0], [0.9433962276086726, 1.0], [0.9433962276086726, 1.0], [0.9433962276086726, 1.0], [0.9433962276086726, 1.0], [0.9433962276086726, 1.0], [0.9433962276086726, 1.0], [0.9433962276086726, 1.0], [0.9433962276086726, 1.0], [0.9433962276086726, 1.0], [0.9433962276086726, 1.0], [0.9433962276086726, 1.0], [0.9433962276086726, 1.0], [0.9433962276086726, 1.0], [0.9433962276086726, 1.0], [0.9433962276086726, 1.0], [0.9433962276086726, 1.0], [0.9433962276086726, 1.0], [0.9433962276086726, 1.0], [0.9433962276086726, 1.0], [0.9433962276086726, 1.0], [0.8333333312637277, 1.0], [0.8333333312637277, 1.0], [0.8333333312637277, 1.0], [0.8333333312637277, 1.0], [0.8333333312637277, 1.0], [0.8333333312637277, 1.0], [0.8333333312637277, 1.0], [0.8333333312637277, 1.0], [0.8333333312637277, 1.0], [0.8333333312637277, 1.0], [0.8333333312637277, 1.0], [0.8333333312637277, 1.0], [0.8333333312637277, 1.0], [0.8333333312637277, 1.0], [0.8333333312637277, 1.0], [0.8333333312637277, 1.0], [0.8333333312637277, 1.0], [0.8333333312637277, 1.0], [0.8333333312637277, 1.0], [0.8333333312637277, 1.0], [0.8333333312637277, 1.0], [0.8333333312637277, 1.0], [0.8333333312637277, 1.0], [0.8333333312637277, 1.0], [0.8333333312637277, 1.0], [0.8333333312637277, 1.0], [0.8333333312637277, 1.0], [0.8333333312637277, 1.0], [0.8333333312637277, 1.0], [0.8333333312637277, 1.0], [0.8333333312637277, 1.0], [0.8333333312637277, 1.0], [0.8333333312637277, 1.0], [0.8333333312637277, 1.0], [0.8333333312637277, 1.0], [0.8333333312637277, 1.0], [0.8333333312637277, 1.0], [0.8333333312637277, 1.0], [0.8333333312637277, 1.0], [0.8333333312637277, 1.0], [0.8333333312637277, 1.0], [0.8333333312637277, 1.0], [0.8333333312637277, 1.0], [0.8333333312637277, 1.0], [0.8333333312637277, 1.0], [0.8333333312637277, 1.0], [0.8333333312637277, 1.0], [0.8333333312637277, 1.0], [0.8333333312637277, 1.0], [0.8333333312637277, 1.0], [0.8333333312637277, 1.0], [0.8333333312637277, 1.0], [0.714285711244661, 0.8333333312637277], [0.714285711244661, 0.8333333312637277], [0.714285711244661, 0.8333333312637277], [0.714285711244661, 0.8333333312637277], [0.714285711244661, 0.8333333312637277], [0.714285711244661, 0.8333333312637277], [0.714285711244661, 0.8333333312637277], [0.714285711244661, 0.8333333312637277], [0.714285711244661, 0.8333333312637277], [0.714285711244661, 0.8333333312637277], [0.714285711244661, 0.8333333312637277], [0.714285711244661, 0.8333333312637277], [0.714285711244661, 0.8333333312637277], [0.714285711244661, 0.8333333312637277], [0.714285711244661, 0.8333333312637277], [0.714285711244661, 0.8333333312637277], [0.714285711244661, 0.8333333312637277], [0.714285711244661, 0.8333333312637277], [0.714285711244661, 0.8333333312637277], [0.714285711244661, 0.8333333312637277], [0.6249999906867744, 0.714285711244661], [0.6249999906867744, 0.714285711244661], [0.6249999906867744, 0.714285711244661], [0.6249999906867744, 0.714285711244661], [0.6249999906867744, 0.714285711244661], [0.6249999906867744, 0.714285711244661], [0.6249999906867744, 0.714285711244661], [0.6249999906867744, 0.714285711244661], [0.6249999906867744, 0.714285711244661], [0.6249999906867744, 0.714285711244661], [0.6249999906867744, 0.714285711244661], [0.6249999906867744, 0.714285711244661], [0.6249999906867744, 0.714285711244661], [0.6249999906867744, 0.714285711244661], [0.6249999906867744, 0.714285711244661], [0.6249999906867744, 0.714285711244661], [0.6249999906867744, 0.714285711244661], [0.5555555518762565, 0.6249999906867744], [0.5555555518762565, 0.6249999906867744], [0.5555555518762565, 0.6249999906867744], [0.5555555518762565, 0.6249999906867744], [0.5555555518762565, 0.6249999906867744], [0.5555555518762565, 0.6249999906867744], [0.5555555518762565, 0.6249999906867744], [0.5555555518762565, 0.6249999906867744], [0.5555555518762565, 0.6249999906867744], [0.5555555518762565, 0.6249999906867744], [0.5555555518762565, 0.6249999906867744], [0.5555555518762565, 0.6249999906867744], [0.5555555518762565, 0.6249999906867744], [0.5555555518762565, 0.6249999906867744], [0.5, 0.5555555518762565], [0.5, 0.5555555518762565], [0.5, 0.5555555518762565], [0.5, 0.5555555518762565], [0.5, 0.5555555518762565], [0.5, 0.5555555518762565], [0.5, 0.5555555518762565], [0.5, 0.5555555518762565], [0.5, 0.5555555518762565], [0.5, 0.5555555518762565], [0.5, 0.5555555518762565], [0.5, 0.5555555518762565], [0.5, 0.5555555518762565], [0.4347826177095873, 0.5], [0.4347826177095873, 0.5], [0.4347826177095873, 0.5], [0.4347826177095873, 0.5], [0.4347826177095873, 0.5], [0.4347826177095873, 0.5], [0.4347826177095873, 0.5], [0.4347826177095873, 0.5], [0.4347826177095873, 0.5], [0.4347826177095873, 0.5], [0.4347826177095873, 0.5], [0.4347826177095873, 0.5], [0.4347826177095873, 0.5], [0.3846153810884826, 0.4347826177095873], [0.3846153810884826, 0.4347826177095873], [0.3846153810884826, 0.4347826177095873], [0.3846153810884826, 0.4347826177095873], [0.3846153810884826, 0.4347826177095873], [0.3846153810884826, 0.4347826177095873], [0.3846153810884826, 0.4347826177095873], [0.3846153810884826, 0.4347826177095873], [0.3846153810884826, 0.4347826177095873], [0.3846153810884826, 0.4347826177095873], [0.3846153810884826, 0.4347826177095873], [0.3333333333333333, 0.3846153810884826], [0.3333333333333333, 0.3846153810884826], [0.3333333333333333, 0.3846153810884826], [0.3333333333333333, 0.3846153810884826], [0.3333333333333333, 0.3846153810884826], [0.3333333333333333, 0.3846153810884826], [0.3333333333333333, 0.3846153810884826], [0.3333333333333333, 0.3846153810884826], [0.3333333333333333, 0.3846153810884826], [0.3333333333333333, 0.3846153810884826], [0.2857142857142857, 0.3333333333333333], [0.2857142857142857, 0.3333333333333333], [0.2857142857142857, 0.3333333333333333], [0.2857142857142857, 0.3333333333333333], [0.2857142857142857, 0.3333333333333333], [0.2857142857142857, 0.3333333333333333], [0.2857142857142857, 0.3333333333333333], [0.2857142857142857, 0.3333333333333333], [0.2857142857142857, 0.3333333333333333], [0.25, 0.2857142857142857], [0.25, 0.2857142857142857], [0.25, 0.2857142857142857], [0.25, 0.2857142857142857], [0.25, 0.2857142857142857], [0.25, 0.2857142857142857], [0.25, 0.2857142857142857], [0.2222222222222222, 0.25], [0.2222222222222222, 0.25], [0.2222222222222222, 0.25], [0.2222222222222222, 0.25], [0.2222222222222222, 0.25], [0.2222222222222222, 0.25], [0.2, 0.2222222222222222], [0.2, 0.2222222222222222], [0.2, 0.2222222222222222], [0.2, 0.2222222222222222], [0.2, 0.2222222222222222], [0.2, 0.2222222222222222], [0.5, 0.6249999906867744], [0.5, 0.6249999906867744], [0.5, 0.6249999906867744], [0.5, 0.6249999906867744], [0.5, 0.6249999906867744], [0.5, 0.6249999906867744], [0.5, 0.6249999906867744], [0.5, 0.6249999906867744], [0.5, 0.6249999906867744], [0.5, 0.6249999906867744], [0.5, 0.6249999906867744], [0.5, 0.6249999906867744], [0.5, 0.6249999906867744], [0.5, 0.6249999906867744], [0.5, 0.6249999906867744], [0.5, 0.6249999906867744], [0.5, 0.6249999906867744], [0.5, 0.6249999906867744], [0.5, 0.6249999906867744], [0.41666667080587816, 0.5], [0.41666667080587816, 0.5], [0.41666667080587816, 0.5], [0.41666667080587816, 0.5], [0.41666667080587816, 0.5], [0.41666667080587816, 0.5], [0.41666667080587816, 0.5], [0.41666667080587816, 0.5], [0.41666667080587816, 0.5], [0.41666667080587816, 0.5], [0.41666667080587816, 0.5], [0.41666667080587816, 0.5], [0.41666667080587816, 0.5], [0.41666667080587816, 0.5], [0.41666667080587816, 0.5], [0.35714286322496386, 0.41666667080587816], [0.35714286322496386, 0.41666667080587816], [0.35714286322496386, 0.41666667080587816], [0.35714286322496386, 0.41666667080587816], [0.35714286322496386, 0.41666667080587816], [0.35714286322496386, 0.41666667080587816], [0.35714286322496386, 0.41666667080587816], [0.35714286322496386, 0.41666667080587816], [0.35714286322496386, 0.41666667080587816], [0.35714286322496386, 0.41666667080587816], [0.35714286322496386, 0.41666667080587816], [0.35714286322496386, 0.41666667080587816], [0.35714286322496386, 0.41666667080587816], [0.2857142857142857, 0.35714286322496386], [0.2857142857142857, 0.35714286322496386], [0.2857142857142857, 0.35714286322496386], [0.2857142857142857, 0.35714286322496386], [0.2857142857142857, 0.35714286322496386], [0.2857142857142857, 0.35714286322496386], [0.2857142857142857, 0.35714286322496386], [0.2857142857142857, 0.35714286322496386], [0.2857142857142857, 0.35714286322496386], [0.2857142857142857, 0.35714286322496386], [0.2857142857142857, 0.35714286322496386], [0.2222222222222222, 0.2857142857142857], [0.2222222222222222, 0.2857142857142857], [0.2222222222222222, 0.2857142857142857], [0.2222222222222222, 0.2857142857142857], [0.2222222222222222, 0.2857142857142857], [0.2222222222222222, 0.2857142857142857], [0.2222222222222222, 0.2857142857142857], [0.2222222222222222, 0.2857142857142857], [0.2222222222222222, 0.2857142857142857], [0.18181818181818182, 0.2222222222222222], [0.18181818181818182, 0.2222222222222222], [0.18181818181818182, 0.2222222222222222], [0.18181818181818182, 0.2222222222222222], [0.18181818181818182, 0.2222222222222222], [0.18181818181818182, 0.2222222222222222], [0.18181818181818182, 0.2222222222222222], [0.18181818181818182, 0.2222222222222222], [0.6666666666666666, 0.8333333312637277], [0.6666666666666666, 0.8333333312637277], [0.6666666666666666, 0.8333333312637277], [0.6666666666666666, 0.8333333312637277], [0.6666666666666666, 0.8333333312637277], [0.6666666666666666, 0.8333333312637277], [0.6666666666666666, 0.8333333312637277], [0.6666666666666666, 0.8333333312637277], [0.6666666666666666, 0.8333333312637277], [0.6666666666666666, 0.8333333312637277], [0.6666666666666666, 0.8333333312637277], [0.6666666666666666, 0.8333333312637277], [0.6666666666666666, 0.8333333312637277], [0.6666666666666666, 0.8333333312637277], [0.6666666666666666, 0.8333333312637277], [0.5555555518762565, 0.6666666666666666], [0.5555555518762565, 0.6666666666666666], [0.5555555518762565, 0.6666666666666666], [0.5555555518762565, 0.6666666666666666], [0.5555555518762565, 0.6666666666666666], [0.5555555518762565, 0.6666666666666666], [0.5555555518762565, 0.6666666666666666], [0.5555555518762565, 0.6666666666666666], [0.5555555518762565, 0.6666666666666666], [0.5555555518762565, 0.6666666666666666], [0.5555555518762565, 0.6666666666666666], [0.5555555518762565, 0.6666666666666666], [0.5555555518762565, 0.6666666666666666], [0.47619047078415927, 0.5555555518762565], [0.47619047078415927, 0.5555555518762565], [0.47619047078415927, 0.5555555518762565], [0.47619047078415927, 0.5555555518762565], [0.47619047078415927, 0.5555555518762565], [0.47619047078415927, 0.5555555518762565], [0.47619047078415927, 0.5555555518762565], [0.47619047078415927, 0.5555555518762565], [0.47619047078415927, 0.5555555518762565], [0.47619047078415927, 0.5555555518762565], [0.47619047078415927, 0.5555555518762565], [0.47619047078415927, 0.5555555518762565], [0.4, 0.47619047078415927], [0.4, 0.47619047078415927], [0.4, 0.47619047078415927], [0.4, 0.47619047078415927], [0.4, 0.47619047078415927], [0.4, 0.47619047078415927], [0.4, 0.47619047078415927], [0.4, 0.47619047078415927], [0.4, 0.47619047078415927], [0.4, 0.47619047078415927], [0.3333333333333333, 0.4], [0.3333333333333333, 0.4], [0.3333333333333333, 0.4], [0.3333333333333333, 0.4], [0.3333333333333333, 0.4], [0.3333333333333333, 0.4], [0.3333333333333333, 0.4], [0.3333333333333333, 0.4], [0.3333333333333333, 0.4], [0.3333333333333333, 0.4], [0.2857142857142857, 0.3333333333333333], [0.2857142857142857, 0.3333333333333333], [0.2857142857142857, 0.3333333333333333], [0.2857142857142857, 0.3333333333333333], [0.2857142857142857, 0.3333333333333333], [0.2857142857142857, 0.3333333333333333], [0.2857142857142857, 0.3333333333333333], [0.2857142857142857, 0.3333333333333333], [0.2857142857142857, 0.3333333333333333], [0.2857142857142857, 0.3333333333333333], [0.2857142857142857, 0.3333333333333333], [0.2857142857142857, 0.3333333333333333], [0.25, 0.2857142857142857], [0.25, 0.2857142857142857], [0.25, 0.2857142857142857], [0.25, 0.2857142857142857], [0.25, 0.2857142857142857], [0.25, 0.2857142857142857], [0.25, 0.2857142857142857], [0.25, 0.2857142857142857], [0.25, 0.2857142857142857], [0.25, 0.2857142857142857], [0.25, 0.2857142857142857], [0.2, 0.25], [0.2, 0.25], [0.2, 0.25], [0.2, 0.25], [0.2, 0.25], [0.2, 0.25], [0.2, 0.25], [0.2, 0.25], [0.2, 0.25], [0.2, 0.25], [0.2, 0.25], [0.8333333312637277, 0.9523809517051628], [0.8333333312637277, 0.9523809517051628], [0.8333333312637277, 0.9523809517051628], [0.8333333312637277, 0.9523809517051628], [0.8333333312637277, 0.9523809517051628], [0.8333333312637277, 0.9523809517051628], [0.8333333312637277, 0.9523809517051628], [0.8333333312637277, 0.9523809517051628], [0.8333333312637277, 0.9523809517051628], [0.8333333312637277, 0.9523809517051628], [0.714285711244661, 0.8333333312637277], [0.714285711244661, 0.8333333312637277], [0.714285711244661, 0.8333333312637277], [0.714285711244661, 0.8333333312637277], [0.714285711244661, 0.8333333312637277], [0.714285711244661, 0.8333333312637277], [0.714285711244661, 0.8333333312637277], [0.714285711244661, 0.8333333312637277], [0.714285711244661, 0.8333333312637277], [0.714285711244661, 0.8333333312637277], [0.6249999906867744, 0.714285711244661], [0.6249999906867744, 0.714285711244661], [0.6249999906867744, 0.714285711244661], [0.6249999906867744, 0.714285711244661], [0.6249999906867744, 0.714285711244661], [0.6249999906867744, 0.714285711244661], [0.6249999906867744, 0.714285711244661], [0.6249999906867744, 0.714285711244661], [0.6249999906867744, 0.714285711244661], [0.6249999906867744, 0.714285711244661], [0.5555555518762565, 0.6249999906867744], [0.5555555518762565, 0.6249999906867744], [0.5555555518762565, 0.6249999906867744], [0.5555555518762565, 0.6249999906867744], [0.5555555518762565, 0.6249999906867744], [0.5555555518762565, 0.6249999906867744], [0.5555555518762565, 0.6249999906867744], [0.5555555518762565, 0.6249999906867744], [0.5555555518762565, 0.6249999906867744], [0.5555555518762565, 0.6249999906867744], [0.5, 0.5555555518762565], [0.5, 0.5555555518762565], [0.5, 0.5555555518762565], [0.5, 0.5555555518762565], [0.5, 0.5555555518762565], [0.5, 0.5555555518762565], [0.5, 0.5555555518762565], [0.5, 0.5555555518762565], [0.5, 0.5555555518762565], [0.5, 0.5555555518762565], [0.4545454446934474, 0.5], [0.4545454446934474, 0.5], [0.4545454446934474, 0.5], [0.4545454446934474, 0.5], [0.4545454446934474, 0.5], [0.4545454446934474, 0.5], [0.4545454446934474, 0.5], [0.4545454446934474, 0.5], [0.4545454446934474, 0.5], [0.4545454446934474, 0.5], [0.4, 0.4545454446934474], [0.4, 0.4545454446934474], [0.4, 0.4545454446934474], [0.4, 0.4545454446934474], [0.4, 0.4545454446934474], [0.4, 0.4545454446934474], [0.4, 0.4545454446934474], [0.4, 0.4545454446934474], [0.3333333333333333, 0.4], [0.3333333333333333, 0.4], [0.3333333333333333, 0.4], [0.3333333333333333, 0.4], [0.3333333333333333, 0.4], [0.3333333333333333, 0.4], [0.3333333333333333, 0.4], [0.3333333333333333, 0.4], [0.3333333333333333, 0.4], [0.3333333333333333, 0.4], [0.7692307621769652, 0.8333333312637277], [0.7692307621769652, 0.8333333312637277], [0.7692307621769652, 0.8333333312637277], [0.7692307621769652, 0.8333333312637277], [0.7692307621769652, 0.8333333312637277], [0.7692307621769652, 0.8333333312637277], [0.7692307621769652, 0.8333333312637277], [0.7692307621769652, 0.8333333312637277], [0.7692307621769652, 0.8333333312637277], [0.7692307621769652, 0.8333333312637277], [0.7692307621769652, 0.8333333312637277], [0.7692307621769652, 0.8333333312637277], [0.7692307621769652, 0.8333333312637277], [0.7692307621769652, 0.8333333312637277], [0.7692307621769652, 0.8333333312637277], [0.7692307621769652, 0.8333333312637277], [0.7692307621769652, 0.8333333312637277], [0.7692307621769652, 0.8333333312637277], [0.7692307621769652, 0.8333333312637277], [0.7692307621769652, 0.8333333312637277], [0.7692307621769652, 0.8333333312637277], [0.7692307621769652, 0.8333333312637277], [0.7692307621769652, 0.8333333312637277], [0.7692307621769652, 0.8333333312637277], [0.7692307621769652, 0.8333333312637277], [0.7692307621769652, 0.8333333312637277], [0.714285711244661, 0.7692307621769652], [0.714285711244661, 0.7692307621769652], [0.714285711244661, 0.7692307621769652], [0.714285711244661, 0.7692307621769652], [0.714285711244661, 0.7692307621769652], [0.714285711244661, 0.7692307621769652], [0.714285711244661, 0.7692307621769652], [0.714285711244661, 0.7692307621769652], [0.714285711244661, 0.7692307621769652], [0.714285711244661, 0.7692307621769652], [0.714285711244661, 0.7692307621769652], [0.714285711244661, 0.7692307621769652], [0.714285711244661, 0.7692307621769652], [0.714285711244661, 0.7692307621769652], [0.714285711244661, 0.7692307621769652], [0.714285711244661, 0.7692307621769652], [0.714285711244661, 0.7692307621769652], [0.714285711244661, 0.7692307621769652], [0.714285711244661, 0.7692307621769652], [0.714285711244661, 0.7692307621769652], [0.714285711244661, 0.7692307621769652], [0.714285711244661, 0.7692307621769652], [0.714285711244661, 0.7692307621769652], [0.714285711244661, 0.7692307621769652], [0.6666666666666666, 0.714285711244661], [0.6666666666666666, 0.714285711244661], [0.6666666666666666, 0.714285711244661], [0.6666666666666666, 0.714285711244661], [0.6666666666666666, 0.714285711244661], [0.6666666666666666, 0.714285711244661], [0.6666666666666666, 0.714285711244661], [0.6666666666666666, 0.714285711244661], [0.6666666666666666, 0.714285711244661], [0.6666666666666666, 0.714285711244661], [0.6666666666666666, 0.714285711244661], [0.6666666666666666, 0.714285711244661], [0.6666666666666666, 0.714285711244661], [0.6666666666666666, 0.714285711244661], [0.6666666666666666, 0.714285711244661], [0.6666666666666666, 0.714285711244661], [0.6666666666666666, 0.714285711244661], [0.6666666666666666, 0.714285711244661], [0.6666666666666666, 0.714285711244661], [0.6666666666666666, 0.714285711244661], [0.6666666666666666, 0.714285711244661], [0.6666666666666666, 0.714285711244661], [0.6666666666666666, 0.714285711244661], [0.6060606148179462, 0.6666666666666666], [0.6060606148179462, 0.6666666666666666], [0.6060606148179462, 0.6666666666666666], [0.6060606148179462, 0.6666666666666666], [0.6060606148179462, 0.6666666666666666], [0.6060606148179462, 0.6666666666666666], [0.6060606148179462, 0.6666666666666666], [0.6060606148179462, 0.6666666666666666], [0.6060606148179462, 0.6666666666666666], [0.6060606148179462, 0.6666666666666666], [0.6060606148179462, 0.6666666666666666], [0.6060606148179462, 0.6666666666666666], [0.6060606148179462, 0.6666666666666666], [0.6060606148179462, 0.6666666666666666], [0.6060606148179462, 0.6666666666666666], [0.6060606148179462, 0.6666666666666666], [0.6060606148179462, 0.6666666666666666], [0.6060606148179462, 0.6666666666666666], [0.5555555518762565, 0.6060606148179462], [0.5555555518762565, 0.6060606148179462], [0.5555555518762565, 0.6060606148179462], [0.5555555518762565, 0.6060606148179462], [0.5555555518762565, 0.6060606148179462], [0.5555555518762565, 0.6060606148179462], [0.5555555518762565, 0.6060606148179462], [0.5555555518762565, 0.6060606148179462], [0.5555555518762565, 0.6060606148179462], [0.5555555518762565, 0.6060606148179462], [0.5555555518762565, 0.6060606148179462], [0.5555555518762565, 0.6060606148179462], [0.5555555518762565, 0.6060606148179462], [0.5555555518762565, 0.6060606148179462], [0.5555555518762565, 0.6060606148179462], [0.5555555518762565, 0.6060606148179462], [0.5555555518762565, 0.6060606148179462], [0.5, 0.5555555518762565], [0.5, 0.5555555518762565], [0.5, 0.5555555518762565], [0.5, 0.5555555518762565], [0.5, 0.5555555518762565], [0.5, 0.5555555518762565], [0.5, 0.5555555518762565], [0.5, 0.5555555518762565], [0.5, 0.5555555518762565], [0.5, 0.5555555518762565], [0.5, 0.5555555518762565], [0.6666666666666666, 0.8333333312637277], [0.6666666666666666, 0.8333333312637277], [0.6666666666666666, 0.8333333312637277], [0.6666666666666666, 0.8333333312637277], [0.6666666666666666, 0.8333333312637277], [0.6666666666666666, 0.8333333312637277], [0.6666666666666666, 0.8333333312637277], [0.6666666666666666, 0.8333333312637277], [0.6666666666666666, 0.8333333312637277], [0.6666666666666666, 0.8333333312637277], [0.6666666666666666, 0.8333333312637277], [0.6666666666666666, 0.8333333312637277], [0.6666666666666666, 0.8333333312637277], [0.6666666666666666, 0.8333333312637277], [0.6666666666666666, 0.8333333312637277], [0.6666666666666666, 0.8333333312637277], [0.6666666666666666, 0.8333333312637277], [0.6666666666666666, 0.8333333312637277], [0.6666666666666666, 0.8333333312637277], [0.6666666666666666, 0.8333333312637277], [0.6666666666666666, 0.8333333312637277], [0.6666666666666666, 0.8333333312637277], [0.6666666666666666, 0.8333333312637277], [0.6666666666666666, 0.8333333312637277], [0.6666666666666666, 0.8333333312637277], [0.6666666666666666, 0.8333333312637277], [0.6666666666666666, 0.8333333312637277], [0.6666666666666666, 0.8333333312637277], [0.6666666666666666, 0.8333333312637277], [0.6666666666666666, 0.8333333312637277], [0.6666666666666666, 0.8333333312637277], [0.6666666666666666, 0.8333333312637277], [0.6666666666666666, 0.8333333312637277], [0.6666666666666666, 0.8333333312637277], [0.6666666666666666, 0.8333333312637277], [0.6666666666666666, 0.8333333312637277], [0.6666666666666666, 0.8333333312637277], [0.5, 0.6666666666666666], [0.5, 0.6666666666666666], [0.5, 0.6666666666666666], [0.5, 0.6666666666666666], [0.5, 0.6666666666666666], [0.5, 0.6666666666666666], [0.5, 0.6666666666666666], [0.5, 0.6666666666666666], [0.5, 0.6666666666666666], [0.5, 0.6666666666666666], [0.5, 0.6666666666666666], [0.5, 0.6666666666666666], [0.5, 0.6666666666666666], [0.5, 0.6666666666666666], [0.5, 0.6666666666666666], [0.5, 0.6666666666666666], [0.5, 0.6666666666666666], [0.5, 0.6666666666666666], [0.5, 0.6666666666666666], [0.5, 0.6666666666666666], [0.5, 0.6666666666666666], [0.5, 0.6666666666666666], [0.5, 0.6666666666666666], [0.5, 0.6666666666666666], [0.5, 0.6666666666666666], [0.5, 0.6666666666666666], [0.5, 0.6666666666666666], [0.5, 0.6666666666666666], [0.5, 0.6666666666666666], [0.4, 0.5], [0.4, 0.5], [0.4, 0.5], [0.4, 0.5], [0.4, 0.5], [0.4, 0.5], [0.4, 0.5], [0.4, 0.5], [0.4, 0.5], [0.4, 0.5], [0.4, 0.5], [0.4, 0.5], [0.4, 0.5], [0.4, 0.5], [0.4, 0.5], [0.4, 0.5], [0.4, 0.5], [0.4, 0.5], [0.4, 0.5], [0.4, 0.5], [0.4, 0.5], [0.4, 0.5], [0.4, 0.5], [0.4, 0.5], [0.3333333333333333, 0.4], [0.3333333333333333, 0.4], [0.3333333333333333, 0.4], [0.3333333333333333, 0.4], [0.3333333333333333, 0.4], [0.3333333333333333, 0.4], [0.3333333333333333, 0.4], [0.3333333333333333, 0.4], [0.3333333333333333, 0.4], [0.3333333333333333, 0.4], [0.3333333333333333, 0.4], [0.3333333333333333, 0.4], [0.3333333333333333, 0.4], [0.3333333333333333, 0.4], [0.3333333333333333, 0.4], [0.3333333333333333, 0.4], [0.2857142857142857, 0.3333333333333333], [0.2857142857142857, 0.3333333333333333], [0.2857142857142857, 0.3333333333333333], [0.2857142857142857, 0.3333333333333333], [0.2857142857142857, 0.3333333333333333], [0.2857142857142857, 0.3333333333333333], [0.2857142857142857, 0.3333333333333333], [0.2857142857142857, 0.3333333333333333], [0.2857142857142857, 0.3333333333333333], [0.2857142857142857, 0.3333333333333333], [0.2857142857142857, 0.3333333333333333], [0.2857142857142857, 0.3333333333333333], [0.2857142857142857, 0.3333333333333333], [0.25, 0.2857142857142857], [0.25, 0.2857142857142857], [0.25, 0.2857142857142857], [0.25, 0.2857142857142857], [0.25, 0.2857142857142857], [0.25, 0.2857142857142857], [0.2, 0.25], [0.2, 0.25], [0.2, 0.25], [0.2, 0.25], [0.2, 0.25], [0.2, 0.25], [0.2222222222222222, 0.25], [0.2222222222222222, 0.25], [0.2222222222222222, 0.25], [0.2222222222222222, 0.25], [0.2222222222222222, 0.25], [0.2222222222222222, 0.25], [0.2222222222222222, 0.25], [0.19047619047619047, 0.2222222222222222], [0.19047619047619047, 0.2222222222222222], [0.19047619047619047, 0.2222222222222222], [0.19047619047619047, 0.2222222222222222], [0.19047619047619047, 0.2222222222222222], [0.19047619047619047, 0.2222222222222222], [0.19047619047619047, 0.2222222222222222], [0.16666666666666666, 0.19047619047619047], [0.16666666666666666, 0.19047619047619047], [0.16666666666666666, 0.19047619047619047], [0.16666666666666666, 0.19047619047619047], [0.16666666666666666, 0.19047619047619047], [0.16666666666666666, 0.19047619047619047], [0.7407407440112288, 0.9090909078594082], [0.7407407440112288, 0.9090909078594082], [0.7407407440112288, 0.9090909078594082], [0.7407407440112288, 0.9090909078594082], [0.7407407440112288, 0.9090909078594082], [0.7407407440112288, 0.9090909078594082], [0.7407407440112288, 0.9090909078594082], [0.7407407440112288, 0.9090909078594082], [0.7407407440112288, 0.9090909078594082], [0.7407407440112288, 0.9090909078594082], [0.7407407440112288, 0.9090909078594082], [0.6451612853606956, 0.7407407440112288], [0.6451612853606956, 0.7407407440112288], [0.6451612853606956, 0.7407407440112288], [0.6451612853606956, 0.7407407440112288], [0.6451612853606956, 0.7407407440112288], [0.6451612853606956, 0.7407407440112288], [0.6451612853606956, 0.7407407440112288], [0.5714285714285714, 0.6451612853606956], [0.5714285714285714, 0.6451612853606956], [0.5714285714285714, 0.6451612853606956], [0.5714285714285714, 0.6451612853606956], [0.5714285714285714, 0.6451612853606956], [0.5, 0.5714285714285714], [0.5, 0.5714285714285714], [0.5, 0.5714285714285714], [0.3333333333333333, 0.4347826177095873], [0.3333333333333333, 0.4347826177095873], [0.3333333333333333, 0.4347826177095873], [0.3333333333333333, 0.4347826177095873], [0.3333333333333333, 0.4347826177095873], [0.3333333333333333, 0.4347826177095873], [0.3333333333333333, 0.4347826177095873], [0.3333333333333333, 0.4347826177095873], [0.25, 0.3333333333333333], [0.25, 0.3333333333333333], [0.25, 0.3333333333333333], [0.25, 0.3333333333333333], [0.25, 0.3333333333333333], [0.25, 0.3333333333333333], [0.25, 0.3333333333333333], [0.2, 0.25], [0.2, 0.25], [0.2, 0.25], [0.2, 0.25], [0.2, 0.25], [0.2, 0.25], [0.5, 0.6666666666666666], [0.5, 0.6666666666666666], [0.5, 0.6666666666666666], [0.5, 0.6666666666666666], [0.5, 0.6666666666666666], [0.5, 0.6666666666666666], [0.5, 0.6666666666666666], [0.5, 0.6666666666666666], [0.5, 0.6666666666666666], [0.5, 0.6666666666666666], [0.5, 0.6666666666666666], [0.5, 0.6666666666666666], [0.5, 0.6666666666666666], [0.5, 0.6666666666666666], [0.4, 0.5], [0.4, 0.5], [0.4, 0.5], [0.4, 0.5], [0.4, 0.5], [0.4, 0.5], [0.4, 0.5], [0.4, 0.5], [0.4, 0.5], [0.4, 0.5], [0.2857142857142857, 0.4], [0.2857142857142857, 0.4], [0.2857142857142857, 0.4], [0.2857142857142857, 0.4], [0.2857142857142857, 0.4], [0.2857142857142857, 0.4], [0.2857142857142857, 0.4], [0.2857142857142857, 0.4], [0.2857142857142857, 0.4], [0.2857142857142857, 0.4], [0.2222222222222222, 0.2857142857142857], [0.2222222222222222, 0.2857142857142857], [0.2222222222222222, 0.2857142857142857], [0.2222222222222222, 0.2857142857142857], [0.2222222222222222, 0.2857142857142857], [0.2222222222222222, 0.2857142857142857], [0.4, 0.5], [0.4, 0.5], [0.4, 0.5], [0.4, 0.5], [0.4, 0.5], [0.4, 0.5], [0.4, 0.5], [0.4, 0.5], [0.4, 0.5], [0.4, 0.5], [0.4, 0.5], [0.4, 0.5], [0.4, 0.5], [0.4, 0.5], [0.3333333333333333, 0.4], [0.3333333333333333, 0.4], [0.3333333333333333, 0.4], [0.3333333333333333, 0.4], [0.3333333333333333, 0.4], [0.3333333333333333, 0.4], [0.3333333333333333, 0.4], [0.3333333333333333, 0.4], [0.3333333333333333, 0.4], [0.3333333333333333, 0.4], [0.3333333333333333, 0.4], [0.3333333333333333, 0.4], [0.2857142857142857, 0.3333333333333333], [0.2857142857142857, 0.3333333333333333], [0.2857142857142857, 0.3333333333333333], [0.2857142857142857, 0.3333333333333333], [0.2857142857142857, 0.3333333333333333], [0.2857142857142857, 0.3333333333333333], [0.2857142857142857, 0.3333333333333333], [0.2857142857142857, 0.3333333333333333], [0.2857142857142857, 0.3333333333333333], [0.2857142857142857, 0.3333333333333333], [0.2857142857142857, 0.3333333333333333], [0.25, 0.2857142857142857], [0.25, 0.2857142857142857], [0.25, 0.2857142857142857], [0.25, 0.2857142857142857], [0.25, 0.2857142857142857], [0.25, 0.2857142857142857], [0.25, 0.2857142857142857], [0.25, 0.2857142857142857], [0.25, 0.2857142857142857], [0.25, 0.2857142857142857], [0.2222222222222222, 0.25], [0.2222222222222222, 0.25], [0.2222222222222222, 0.25], [0.2222222222222222, 0.25], [0.2222222222222222, 0.25], [0.2222222222222222, 0.25], [0.2222222222222222, 0.25], [0.2222222222222222, 0.25], [0.2222222222222222, 0.25], [0.2222222222222222, 0.25], [0.2222222222222222, 0.25], [0.2, 0.2222222222222222], [0.2, 0.2222222222222222], [0.2, 0.2222222222222222], [0.2, 0.2222222222222222], [0.2, 0.2222222222222222], [0.2, 0.2222222222222222], [0.2, 0.2222222222222222], [0.2, 0.2222222222222222], [0.2, 0.2222222222222222], [0.2, 0.2222222222222222], [0.15384615384615385, 0.18181818181818182], [0.15384615384615385, 0.18181818181818182], [0.15384615384615385, 0.18181818181818182], [0.15384615384615385, 0.18181818181818182], [0.15384615384615385, 0.18181818181818182], [0.15384615384615385, 0.18181818181818182], [0.15384615384615385, 0.18181818181818182], [0.15384615384615385, 0.18181818181818182], [0.15384615384615385, 0.18181818181818182], [0.1923076993614967, 0.2272727223467237], [0.1923076993614967, 0.2272727223467237], [0.1923076993614967, 0.2272727223467237], [0.1923076993614967, 0.2272727223467237], [0.1923076993614967, 0.2272727223467237], [0.1923076993614967, 0.2272727223467237], [0.1923076993614967, 0.2272727223467237], [0.15384615384615385, 0.18181818181818182], [0.15384615384615385, 0.18181818181818182], [0.15384615384615385, 0.18181818181818182], [0.15384615384615385, 0.18181818181818182], [0.15384615384615385, 0.18181818181818182], [0.15384615384615385, 0.18181818181818182], [0.15384615384615385, 0.18181818181818182], [0.13698629779067634, 0.15384615384615385], [0.13698629779067634, 0.15384615384615385], [0.13698629779067634, 0.15384615384615385], [0.13698629779067634, 0.15384615384615385], [0.13698629779067634, 0.15384615384615385], [0.13698629779067634, 0.15384615384615385], [0.13698629779067634, 0.15384615384615385], [0.1204819249421562, 0.13698629779067634], [0.1204819249421562, 0.13698629779067634], [0.1204819249421562, 0.13698629779067634], [0.1204819249421562, 0.13698629779067634], [0.1204819249421562, 0.13698629779067634], [0.1204819249421562, 0.13698629779067634], [0.1923076993614967, 0.20833333540293908], [0.1923076993614967, 0.20833333540293908], [0.1923076993614967, 0.20833333540293908], [0.1923076993614967, 0.20833333540293908], [0.1923076993614967, 0.20833333540293908], [0.1923076993614967, 0.20833333540293908], [0.1923076993614967, 0.20833333540293908], [0.1923076993614967, 0.20833333540293908], [0.1923076993614967, 0.20833333540293908], [0.1923076993614967, 0.20833333540293908], [0.16129032754253042, 0.17241378743356547], [0.16129032754253042, 0.17241378743356547], [0.16129032754253042, 0.17241378743356547], [0.16129032754253042, 0.17241378743356547], [0.16129032754253042, 0.17241378743356547], [0.16129032754253042, 0.17241378743356547], [0.16129032754253042, 0.17241378743356547], [0.16129032754253042, 0.17241378743356547], [0.16129032754253042, 0.17241378743356547], [0.13888889256818804, 0.14705881940452298], [0.13888889256818804, 0.14705881940452298], [0.13888889256818804, 0.14705881940452298], [0.13888889256818804, 0.14705881940452298], [0.13888889256818804, 0.14705881940452298], [0.13888889256818804, 0.14705881940452298], [0.13888889256818804, 0.14705881940452298], [0.12195122234882314, 0.12820512507010423], [0.12195122234882314, 0.12820512507010423], [0.12195122234882314, 0.12820512507010423], [0.12195122234882314, 0.12820512507010423], [0.18181818181818182, 0.2222222222222222], [0.18181818181818182, 0.2222222222222222], [0.18181818181818182, 0.2222222222222222], [0.18181818181818182, 0.2222222222222222], [0.18181818181818182, 0.2222222222222222], [0.18181818181818182, 0.2222222222222222], [0.18181818181818182, 0.2222222222222222], [0.18181818181818182, 0.2222222222222222], [0.18181818181818182, 0.2222222222222222], [0.15384615384615385, 0.18181818181818182], [0.15384615384615385, 0.18181818181818182], [0.15384615384615385, 0.18181818181818182], [0.15384615384615385, 0.18181818181818182], [0.15384615384615385, 0.18181818181818182], [0.15384615384615385, 0.18181818181818182], [0.15384615384615385, 0.18181818181818182], [0.15384615384615385, 0.18181818181818182], [0.15384615384615385, 0.18181818181818182], [0.13333333333333333, 0.15384615384615385], [0.13333333333333333, 0.15384615384615385], [0.13333333333333333, 0.15384615384615385], [0.13333333333333333, 0.15384615384615385], [0.13333333333333333, 0.15384615384615385], [0.13333333333333333, 0.15384615384615385], [0.13333333333333333, 0.15384615384615385], [0.11764705882352941, 0.13333333333333333], [0.11764705882352941, 0.13333333333333333], [0.11764705882352941, 0.13333333333333333], [0.11764705882352941, 0.13333333333333333], [0.11764705882352941, 0.13333333333333333], [0.11764705882352941, 0.13333333333333333], [0.11764705882352941, 0.13333333333333333], [0.11764705882352941, 0.13333333333333333], [0.10526315789473684, 0.11764705882352941], [0.10526315789473684, 0.11764705882352941], [0.10526315789473684, 0.11764705882352941], [0.10526315789473684, 0.11764705882352941], [0.10526315789473684, 0.11764705882352941], [0.10526315789473684, 0.11764705882352941], [0.18181818181818182, 0.2222222222222222], [0.18181818181818182, 0.2222222222222222], [0.18181818181818182, 0.2222222222222222], [0.18181818181818182, 0.2222222222222222], [0.18181818181818182, 0.2222222222222222], [0.18181818181818182, 0.2222222222222222], [0.18181818181818182, 0.2222222222222222], [0.18181818181818182, 0.2222222222222222], [0.18181818181818182, 0.2222222222222222], [0.18181818181818182, 0.2222222222222222], [0.18181818181818182, 0.2222222222222222], [0.18181818181818182, 0.2222222222222222], [0.18181818181818182, 0.2222222222222222], [0.18181818181818182, 0.2222222222222222], [0.15384615384615385, 0.18181818181818182], [0.15384615384615385, 0.18181818181818182], [0.15384615384615385, 0.18181818181818182], [0.15384615384615385, 0.18181818181818182], [0.15384615384615385, 0.18181818181818182], [0.15384615384615385, 0.18181818181818182], [0.15384615384615385, 0.18181818181818182], [0.15384615384615385, 0.18181818181818182], [0.15384615384615385, 0.18181818181818182], [0.15384615384615385, 0.18181818181818182], [0.15384615384615385, 0.18181818181818182], [0.15384615384615385, 0.18181818181818182], [0.15384615384615385, 0.18181818181818182], [0.13333333333333333, 0.15384615384615385], [0.13333333333333333, 0.15384615384615385], [0.13333333333333333, 0.15384615384615385], [0.13333333333333333, 0.15384615384615385], [0.13333333333333333, 0.15384615384615385], [0.13333333333333333, 0.15384615384615385], [0.13333333333333333, 0.15384615384615385], [0.13333333333333333, 0.15384615384615385], [0.11764705882352941, 0.13333333333333333], [0.11764705882352941, 0.13333333333333333], [0.11764705882352941, 0.13333333333333333], [0.11764705882352941, 0.13333333333333333], [0.11764705882352941, 0.13333333333333333], [0.11764705882352941, 0.13333333333333333]]\n",
      "[0.9166667, 0.9166667, 0.9166667, 0.9166667, 0.9166667, 0.9166667, 0.9166667, 0.9166667, 0.9166667, 0.9166667, 0.9166667, 0.9166667, 0.9166667, 0.9166667, 0.9166667, 0.9166667, 0.9166667, 0.9166667, 0.9166667, 0.9166667, 0.9166667, 0.9166667, 0.9166667, 0.9166667, 0.9166667, 0.9166667, 0.9166667, 0.9166667, 0.9166667, 0.9166667, 0.9166667, 0.9166667, 0.9166667, 0.9166667, 0.9166667, 0.9166667, 0.9166667, 0.9166667, 0.9166667, 0.9716981, 0.9716981, 0.9716981, 0.9716981, 0.9716981, 0.9716981, 0.9716981, 0.9716981, 0.9716981, 0.9716981, 0.9716981, 0.9716981, 0.9716981, 0.9716981, 0.9716981, 0.9716981, 0.9716981, 0.9716981, 0.9716981, 0.9716981, 0.9716981, 0.9166667, 0.9166667, 0.9166667, 0.9166667, 0.9166667, 0.9166667, 0.9166667, 0.9166667, 0.9166667, 0.9166667, 0.9166667, 0.9166667, 0.9166667, 0.9166667, 0.9166667, 0.9166667, 0.9166667, 0.9166667, 0.9166667, 0.9166667, 0.9166667, 0.9166667, 0.9166667, 0.9166667, 0.9166667, 0.9166667, 0.9166667, 0.9166667, 0.9166667, 0.9166667, 0.9166667, 0.9166667, 0.9166667, 0.9166667, 0.9166667, 0.9166667, 0.9166667, 0.9166667, 0.9166667, 0.9166667, 0.9166667, 0.9166667, 0.9166667, 0.9166667, 0.9166667, 0.9166667, 0.9166667, 0.9166667, 0.9166667, 0.9166667, 0.9166667, 0.9166667, 0.7738095, 0.7738095, 0.7738095, 0.7738095, 0.7738095, 0.7738095, 0.7738095, 0.7738095, 0.7738095, 0.7738095, 0.7738095, 0.7738095, 0.7738095, 0.7738095, 0.7738095, 0.7738095, 0.7738095, 0.7738095, 0.7738095, 0.7738095, 0.66964287, 0.66964287, 0.66964287, 0.66964287, 0.66964287, 0.66964287, 0.66964287, 0.66964287, 0.66964287, 0.66964287, 0.66964287, 0.66964287, 0.66964287, 0.66964287, 0.66964287, 0.66964287, 0.66964287, 0.5902778, 0.5902778, 0.5902778, 0.5902778, 0.5902778, 0.5902778, 0.5902778, 0.5902778, 0.5902778, 0.5902778, 0.5902778, 0.5902778, 0.5902778, 0.5902778, 0.5277778, 0.5277778, 0.5277778, 0.5277778, 0.5277778, 0.5277778, 0.5277778, 0.5277778, 0.5277778, 0.5277778, 0.5277778, 0.5277778, 0.5277778, 0.4673913, 0.4673913, 0.4673913, 0.4673913, 0.4673913, 0.4673913, 0.4673913, 0.4673913, 0.4673913, 0.4673913, 0.4673913, 0.4673913, 0.4673913, 0.409699, 0.409699, 0.409699, 0.409699, 0.409699, 0.409699, 0.409699, 0.409699, 0.409699, 0.409699, 0.409699, 0.35897437, 0.35897437, 0.35897437, 0.35897437, 0.35897437, 0.35897437, 0.35897437, 0.35897437, 0.35897437, 0.35897437, 0.30952382, 0.30952382, 0.30952382, 0.30952382, 0.30952382, 0.30952382, 0.30952382, 0.30952382, 0.30952382, 0.26785713, 0.26785713, 0.26785713, 0.26785713, 0.26785713, 0.26785713, 0.26785713, 0.2361111, 0.2361111, 0.2361111, 0.2361111, 0.2361111, 0.2361111, 0.21111111, 0.21111111, 0.21111111, 0.21111111, 0.21111111, 0.21111111, 0.5625, 0.5625, 0.5625, 0.5625, 0.5625, 0.5625, 0.5625, 0.5625, 0.5625, 0.5625, 0.5625, 0.5625, 0.5625, 0.5625, 0.5625, 0.5625, 0.5625, 0.5625, 0.5625, 0.45833334, 0.45833334, 0.45833334, 0.45833334, 0.45833334, 0.45833334, 0.45833334, 0.45833334, 0.45833334, 0.45833334, 0.45833334, 0.45833334, 0.45833334, 0.45833334, 0.45833334, 0.38690478, 0.38690478, 0.38690478, 0.38690478, 0.38690478, 0.38690478, 0.38690478, 0.38690478, 0.38690478, 0.38690478, 0.38690478, 0.38690478, 0.38690478, 0.32142857, 0.32142857, 0.32142857, 0.32142857, 0.32142857, 0.32142857, 0.32142857, 0.32142857, 0.32142857, 0.32142857, 0.32142857, 0.25396827, 0.25396827, 0.25396827, 0.25396827, 0.25396827, 0.25396827, 0.25396827, 0.25396827, 0.25396827, 0.2020202, 0.2020202, 0.2020202, 0.2020202, 0.2020202, 0.2020202, 0.2020202, 0.2020202, 0.75, 0.75, 0.75, 0.75, 0.75, 0.75, 0.75, 0.75, 0.75, 0.75, 0.75, 0.75, 0.75, 0.75, 0.75, 0.6111111, 0.6111111, 0.6111111, 0.6111111, 0.6111111, 0.6111111, 0.6111111, 0.6111111, 0.6111111, 0.6111111, 0.6111111, 0.6111111, 0.6111111, 0.515873, 0.515873, 0.515873, 0.515873, 0.515873, 0.515873, 0.515873, 0.515873, 0.515873, 0.515873, 0.515873, 0.515873, 0.43809524, 0.43809524, 0.43809524, 0.43809524, 0.43809524, 0.43809524, 0.43809524, 0.43809524, 0.43809524, 0.43809524, 0.36666667, 0.36666667, 0.36666667, 0.36666667, 0.36666667, 0.36666667, 0.36666667, 0.36666667, 0.36666667, 0.36666667, 0.30952382, 0.30952382, 0.30952382, 0.30952382, 0.30952382, 0.30952382, 0.30952382, 0.30952382, 0.30952382, 0.30952382, 0.30952382, 0.30952382, 0.26785713, 0.26785713, 0.26785713, 0.26785713, 0.26785713, 0.26785713, 0.26785713, 0.26785713, 0.26785713, 0.26785713, 0.26785713, 0.225, 0.225, 0.225, 0.225, 0.225, 0.225, 0.225, 0.225, 0.225, 0.225, 0.225, 0.89285713, 0.89285713, 0.89285713, 0.89285713, 0.89285713, 0.89285713, 0.89285713, 0.89285713, 0.89285713, 0.89285713, 0.7738095, 0.7738095, 0.7738095, 0.7738095, 0.7738095, 0.7738095, 0.7738095, 0.7738095, 0.7738095, 0.7738095, 0.66964287, 0.66964287, 0.66964287, 0.66964287, 0.66964287, 0.66964287, 0.66964287, 0.66964287, 0.66964287, 0.66964287, 0.5902778, 0.5902778, 0.5902778, 0.5902778, 0.5902778, 0.5902778, 0.5902778, 0.5902778, 0.5902778, 0.5902778, 0.5277778, 0.5277778, 0.5277778, 0.5277778, 0.5277778, 0.5277778, 0.5277778, 0.5277778, 0.5277778, 0.5277778, 0.47727272, 0.47727272, 0.47727272, 0.47727272, 0.47727272, 0.47727272, 0.47727272, 0.47727272, 0.47727272, 0.47727272, 0.42727274, 0.42727274, 0.42727274, 0.42727274, 0.42727274, 0.42727274, 0.42727274, 0.42727274, 0.36666667, 0.36666667, 0.36666667, 0.36666667, 0.36666667, 0.36666667, 0.36666667, 0.36666667, 0.36666667, 0.36666667, 0.80128205, 0.80128205, 0.80128205, 0.80128205, 0.80128205, 0.80128205, 0.80128205, 0.80128205, 0.80128205, 0.80128205, 0.80128205, 0.80128205, 0.80128205, 0.80128205, 0.80128205, 0.80128205, 0.80128205, 0.80128205, 0.80128205, 0.80128205, 0.80128205, 0.80128205, 0.80128205, 0.80128205, 0.80128205, 0.80128205, 0.7417582, 0.7417582, 0.7417582, 0.7417582, 0.7417582, 0.7417582, 0.7417582, 0.7417582, 0.7417582, 0.7417582, 0.7417582, 0.7417582, 0.7417582, 0.7417582, 0.7417582, 0.7417582, 0.7417582, 0.7417582, 0.7417582, 0.7417582, 0.7417582, 0.7417582, 0.7417582, 0.7417582, 0.6904762, 0.6904762, 0.6904762, 0.6904762, 0.6904762, 0.6904762, 0.6904762, 0.6904762, 0.6904762, 0.6904762, 0.6904762, 0.6904762, 0.6904762, 0.6904762, 0.6904762, 0.6904762, 0.6904762, 0.6904762, 0.6904762, 0.6904762, 0.6904762, 0.6904762, 0.6904762, 0.6363636, 0.6363636, 0.6363636, 0.6363636, 0.6363636, 0.6363636, 0.6363636, 0.6363636, 0.6363636, 0.6363636, 0.6363636, 0.6363636, 0.6363636, 0.6363636, 0.6363636, 0.6363636, 0.6363636, 0.6363636, 0.5808081, 0.5808081, 0.5808081, 0.5808081, 0.5808081, 0.5808081, 0.5808081, 0.5808081, 0.5808081, 0.5808081, 0.5808081, 0.5808081, 0.5808081, 0.5808081, 0.5808081, 0.5808081, 0.5808081, 0.5277778, 0.5277778, 0.5277778, 0.5277778, 0.5277778, 0.5277778, 0.5277778, 0.5277778, 0.5277778, 0.5277778, 0.5277778, 0.75, 0.75, 0.75, 0.75, 0.75, 0.75, 0.75, 0.75, 0.75, 0.75, 0.75, 0.75, 0.75, 0.75, 0.75, 0.75, 0.75, 0.75, 0.75, 0.75, 0.75, 0.75, 0.75, 0.75, 0.75, 0.75, 0.75, 0.75, 0.75, 0.75, 0.75, 0.75, 0.75, 0.75, 0.75, 0.75, 0.75, 0.5833333, 0.5833333, 0.5833333, 0.5833333, 0.5833333, 0.5833333, 0.5833333, 0.5833333, 0.5833333, 0.5833333, 0.5833333, 0.5833333, 0.5833333, 0.5833333, 0.5833333, 0.5833333, 0.5833333, 0.5833333, 0.5833333, 0.5833333, 0.5833333, 0.5833333, 0.5833333, 0.5833333, 0.5833333, 0.5833333, 0.5833333, 0.5833333, 0.5833333, 0.45, 0.45, 0.45, 0.45, 0.45, 0.45, 0.45, 0.45, 0.45, 0.45, 0.45, 0.45, 0.45, 0.45, 0.45, 0.45, 0.45, 0.45, 0.45, 0.45, 0.45, 0.45, 0.45, 0.45, 0.36666667, 0.36666667, 0.36666667, 0.36666667, 0.36666667, 0.36666667, 0.36666667, 0.36666667, 0.36666667, 0.36666667, 0.36666667, 0.36666667, 0.36666667, 0.36666667, 0.36666667, 0.36666667, 0.30952382, 0.30952382, 0.30952382, 0.30952382, 0.30952382, 0.30952382, 0.30952382, 0.30952382, 0.30952382, 0.30952382, 0.30952382, 0.30952382, 0.30952382, 0.26785713, 0.26785713, 0.26785713, 0.26785713, 0.26785713, 0.26785713, 0.225, 0.225, 0.225, 0.225, 0.225, 0.225, 0.2361111, 0.2361111, 0.2361111, 0.2361111, 0.2361111, 0.2361111, 0.2361111, 0.20634921, 0.20634921, 0.20634921, 0.20634921, 0.20634921, 0.20634921, 0.20634921, 0.17857143, 0.17857143, 0.17857143, 0.17857143, 0.17857143, 0.17857143, 0.8249158, 0.8249158, 0.8249158, 0.8249158, 0.8249158, 0.8249158, 0.8249158, 0.8249158, 0.8249158, 0.8249158, 0.8249158, 0.692951, 0.692951, 0.692951, 0.692951, 0.692951, 0.692951, 0.692951, 0.6082949, 0.6082949, 0.6082949, 0.6082949, 0.6082949, 0.53571427, 0.53571427, 0.53571427, 0.38405797, 0.38405797, 0.38405797, 0.38405797, 0.38405797, 0.38405797, 0.38405797, 0.38405797, 0.29166666, 0.29166666, 0.29166666, 0.29166666, 0.29166666, 0.29166666, 0.29166666, 0.225, 0.225, 0.225, 0.225, 0.225, 0.225, 0.5833333, 0.5833333, 0.5833333, 0.5833333, 0.5833333, 0.5833333, 0.5833333, 0.5833333, 0.5833333, 0.5833333, 0.5833333, 0.5833333, 0.5833333, 0.5833333, 0.45, 0.45, 0.45, 0.45, 0.45, 0.45, 0.45, 0.45, 0.45, 0.45, 0.34285715, 0.34285715, 0.34285715, 0.34285715, 0.34285715, 0.34285715, 0.34285715, 0.34285715, 0.34285715, 0.34285715, 0.25396827, 0.25396827, 0.25396827, 0.25396827, 0.25396827, 0.25396827, 0.45, 0.45, 0.45, 0.45, 0.45, 0.45, 0.45, 0.45, 0.45, 0.45, 0.45, 0.45, 0.45, 0.45, 0.36666667, 0.36666667, 0.36666667, 0.36666667, 0.36666667, 0.36666667, 0.36666667, 0.36666667, 0.36666667, 0.36666667, 0.36666667, 0.36666667, 0.30952382, 0.30952382, 0.30952382, 0.30952382, 0.30952382, 0.30952382, 0.30952382, 0.30952382, 0.30952382, 0.30952382, 0.30952382, 0.26785713, 0.26785713, 0.26785713, 0.26785713, 0.26785713, 0.26785713, 0.26785713, 0.26785713, 0.26785713, 0.26785713, 0.2361111, 0.2361111, 0.2361111, 0.2361111, 0.2361111, 0.2361111, 0.2361111, 0.2361111, 0.2361111, 0.2361111, 0.2361111, 0.21111111, 0.21111111, 0.21111111, 0.21111111, 0.21111111, 0.21111111, 0.21111111, 0.21111111, 0.21111111, 0.21111111, 0.16783217, 0.16783217, 0.16783217, 0.16783217, 0.16783217, 0.16783217, 0.16783217, 0.16783217, 0.16783217, 0.20979021, 0.20979021, 0.20979021, 0.20979021, 0.20979021, 0.20979021, 0.20979021, 0.16783217, 0.16783217, 0.16783217, 0.16783217, 0.16783217, 0.16783217, 0.16783217, 0.14541623, 0.14541623, 0.14541623, 0.14541623, 0.14541623, 0.14541623, 0.14541623, 0.12873411, 0.12873411, 0.12873411, 0.12873411, 0.12873411, 0.12873411, 0.20032051, 0.20032051, 0.20032051, 0.20032051, 0.20032051, 0.20032051, 0.20032051, 0.20032051, 0.20032051, 0.20032051, 0.16685206, 0.16685206, 0.16685206, 0.16685206, 0.16685206, 0.16685206, 0.16685206, 0.16685206, 0.16685206, 0.14297386, 0.14297386, 0.14297386, 0.14297386, 0.14297386, 0.14297386, 0.14297386, 0.12507817, 0.12507817, 0.12507817, 0.12507817, 0.2020202, 0.2020202, 0.2020202, 0.2020202, 0.2020202, 0.2020202, 0.2020202, 0.2020202, 0.2020202, 0.16783217, 0.16783217, 0.16783217, 0.16783217, 0.16783217, 0.16783217, 0.16783217, 0.16783217, 0.16783217, 0.14358975, 0.14358975, 0.14358975, 0.14358975, 0.14358975, 0.14358975, 0.14358975, 0.1254902, 0.1254902, 0.1254902, 0.1254902, 0.1254902, 0.1254902, 0.1254902, 0.1254902, 0.111455105, 0.111455105, 0.111455105, 0.111455105, 0.111455105, 0.111455105, 0.2020202, 0.2020202, 0.2020202, 0.2020202, 0.2020202, 0.2020202, 0.2020202, 0.2020202, 0.2020202, 0.2020202, 0.2020202, 0.2020202, 0.2020202, 0.2020202, 0.16783217, 0.16783217, 0.16783217, 0.16783217, 0.16783217, 0.16783217, 0.16783217, 0.16783217, 0.16783217, 0.16783217, 0.16783217, 0.16783217, 0.16783217, 0.14358975, 0.14358975, 0.14358975, 0.14358975, 0.14358975, 0.14358975, 0.14358975, 0.14358975, 0.1254902, 0.1254902, 0.1254902, 0.1254902, 0.1254902, 0.1254902]\n",
      "88\n",
      "1056\n",
      "1056\n",
      "1056\n",
      "1056\n"
     ]
    }
   ],
   "source": [
    "# Go through all of the data sets, store only data points within the redshifts the network has been trained to predict\n",
    "predicted_redshifts = [0, 10]\n",
    "\n",
    "max_redshift = np.max(predicted_redshifts)\n",
    "min_redshift = np.min(predicted_redshifts)\n",
    "min_scalefactor = 1 / (1 + max_redshift)\n",
    "max_scalefactor = 1 / (1 + min_redshift)\n",
    "print(min_scalefactor, max_scalefactor,'\\n')\n",
    "\n",
    "observable_data = {\n",
    "    'surveys': [],\n",
    "    'scale_factor_range': [],\n",
    "    'scale_factor': [],\n",
    "    'stellar_masses': [],\n",
    "    'abundances': [],\n",
    "    'errors': []\n",
    "}\n",
    "\n",
    "for i_key, key in enumerate(list(data)):\n",
    "    data_scalefactor = data[key][0][3]\n",
    "    if data_scalefactor >= min_scalefactor and data_scalefactor <= max_scalefactor:\n",
    "        observable_data['surveys'].append(key)\n",
    "        observable_data['scale_factor_range'].extend([[1 / (1 + list(sets)[i_key][3]), 1 / (1 + list(sets)[i_key][2])]] * len(list(data[key])))        \n",
    "        observable_data['scale_factor'].extend([list(point)[3] for point in list(data[key])])\n",
    "        observable_data['stellar_masses'].extend([list(point)[0] for point in list(data[key])])\n",
    "        observable_data['abundances'].extend([list(point)[1] for point in list(data[key])])\n",
    "        observable_data['errors'].extend([list(point)[2] for point in list(data[key])])\n",
    "\n",
    "        \n",
    "# print(observable_data['surveys']) \n",
    "print(observable_data['scale_factor_range'])\n",
    "print(observable_data['scale_factor'])\n",
    "# print(observable_data['stellar_masses'])\n",
    "# print(observable_data['abundances'])\n",
    "# print(observable_data['errors'])\n",
    "\n",
    "print(len(observable_data['surveys']))\n",
    "print(len(observable_data['scale_factor']))\n",
    "print(len(observable_data['stellar_masses']))\n",
    "print(len(observable_data['abundances']))\n",
    "print(len(observable_data['errors']))"
   ]
  },
  {
   "cell_type": "code",
   "execution_count": 322,
   "metadata": {},
   "outputs": [
    {
     "name": "stdout",
     "output_type": "stream",
     "text": [
      "[[2], [2], [2], [2]]\n"
     ]
    }
   ],
   "source": [
    "a = [[2]] * 4\n",
    "print(a)"
   ]
  },
  {
   "cell_type": "code",
   "execution_count": null,
   "metadata": {},
   "outputs": [],
   "source": [
    "data_obj_0 = data[data_keys[0]]\n",
    "print(list(data_obj_0))\n",
    "#data_obj_0?"
   ]
  },
  {
   "cell_type": "code",
   "execution_count": 6,
   "metadata": {},
   "outputs": [
    {
     "name": "stdout",
     "output_type": "stream",
     "text": [
      "Keys:  ['Universe_0']\n"
     ]
    }
   ],
   "source": [
    "filename = '/home/magnus/data/observational_data/all_data.h5'\n",
    "file = h5py.File(filename, 'r')\n",
    "#file?\n",
    "# List all groups\n",
    "print(\"Keys: \", list(file.keys()))"
   ]
  },
  {
   "cell_type": "code",
   "execution_count": 7,
   "metadata": {},
   "outputs": [
    {
     "name": "stdout",
     "output_type": "stream",
     "text": [
      "Keys:  ['CSFRD', 'Clustering', 'FQ', 'Model_Parameters', 'SMF', 'SSFR']\n"
     ]
    }
   ],
   "source": [
    "# Get the universe\n",
    "universe_0 = file['Universe_0']\n",
    "#universe_0?\n",
    "# List all objects in the universe\n",
    "print(\"Keys: \", list(universe_0.keys()))"
   ]
  },
  {
   "cell_type": "code",
   "execution_count": 8,
   "metadata": {
    "scrolled": true
   },
   "outputs": [
    {
     "name": "stdout",
     "output_type": "stream",
     "text": [
      "Keys:  ['Data', 'Model', 'Sets']\n",
      "Keys of Data:  ['000 Li & White 2009 (z = 0.00 - 0.20)', '001 Baldry 2012 (z = 0.00 - 0.06)', '002 Bernardi 2013 (z = 0.00 - 0.20)', '003 Perez-Gonzalez 2008 (z = 0.00 - 0.20)', '004 Perez-Gonzalez 2008 (z = 0.20 - 0.40)', '005 Perez-Gonzalez 2008 (z = 0.40 - 0.60)', '006 Perez-Gonzalez 2008 (z = 0.60 - 0.80)', '007 Perez-Gonzalez 2008 (z = 0.80 - 1.00)', '008 Perez-Gonzalez 2008 (z = 1.00 - 1.30)', '009 Perez-Gonzalez 2008 (z = 1.30 - 1.60)', '010 Perez-Gonzalez 2008 (z = 1.60 - 2.00)', '011 Perez-Gonzalez 2008 (z = 2.00 - 2.50)', '012 Perez-Gonzalez 2008 (z = 2.50 - 3.00)', '013 Perez-Gonzalez 2008 (z = 3.00 - 3.50)', '014 Perez-Gonzalez 2008 (z = 3.50 - 4.00)', '015 Santini 2012 (z = 0.60 - 1.00)', '016 Santini 2012 (z = 1.00 - 1.40)', '017 Santini 2012 (z = 1.40 - 1.80)', '018 Santini 2012 (z = 1.80 - 2.50)', '019 Santini 2012 (z = 2.50 - 3.50)', '020 Santini 2012 (z = 3.50 - 4.50)', '021 Ilbert 2013 (z = 0.20 - 0.50)', '022 Ilbert 2013 (z = 0.50 - 0.80)', '023 Ilbert 2013 (z = 0.80 - 1.10)', '024 Ilbert 2013 (z = 1.10 - 1.50)', '025 Ilbert 2013 (z = 1.50 - 2.00)', '026 Ilbert 2013 (z = 2.00 - 2.50)', '027 Ilbert 2013 (z = 2.50 - 3.00)', '028 Ilbert 2013 (z = 3.00 - 4.00)', '029 Ilbert 2010 (z = 0.05 - 0.20)', '030 Ilbert 2010 (z = 0.20 - 0.40)', '031 Ilbert 2010 (z = 0.40 - 0.60)', '032 Ilbert 2010 (z = 0.60 - 0.80)', '033 Ilbert 2010 (z = 0.80 - 1.00)', '034 Ilbert 2010 (z = 1.00 - 1.20)', '035 Ilbert 2010 (z = 1.20 - 1.50)', '036 Ilbert 2010 (z = 1.50 - 2.00)', '037 Moustakas 2013 (z = 0.20 - 0.30)', '038 Moustakas 2013 (z = 0.30 - 0.40)', '039 Moustakas 2013 (z = 0.40 - 0.50)', '040 Moustakas 2013 (z = 0.50 - 0.65)', '041 Moustakas 2013 (z = 0.65 - 0.80)', '042 Moustakas 2013 (z = 0.80 - 1.00)', '043 Muzzin 2013 (z = 0.20 - 0.50)', '044 Muzzin 2013 (z = 0.50 - 1.00)', '045 Muzzin 2013 (z = 1.00 - 1.50)', '046 Muzzin 2013 (z = 1.50 - 2.00)', '047 Muzzin 2013 (z = 2.00 - 2.50)', '048 Muzzin 2013 (z = 2.50 - 3.00)', '049 Muzzin 2013 (z = 3.00 - 4.00)', '050 Caputi 2011 (z = 3.00 - 3.50)', '051 Caputi 2011 (z = 3.50 - 4.25)', '052 Caputi 2011 (z = 4.25 - 5.00)', '053 Pozzetti 2010 (z = 0.10 - 0.35)', '054 Pozzetti 2010 (z = 0.35 - 0.55)', '055 Pozzetti 2010 (z = 0.55 - 0.75)', '056 Pozzetti 2010 (z = 0.75 - 1.00)', '057 Marchesini 2009 (z = 1.30 - 2.00)', '058 Marchesini 2009 (z = 2.00 - 3.00)', '059 Marchesini 2009 (z = 3.00 - 4.00)', '060 Kajisawa 2009 (z = 0.50 - 1.00)', '061 Kajisawa 2009 (z = 1.00 - 1.50)', '062 Kajisawa 2009 (z = 1.50 - 2.50)', '063 Kajisawa 2009 (z = 2.50 - 3.50)', '064 Mortlock 2011 (z = 1.00 - 1.50)', '065 Mortlock 2011 (z = 1.50 - 2.00)', '066 Mortlock 2011 (z = 2.00 - 2.50)', '067 Mortlock 2011 (z = 2.50 - 3.00)', '068 Mortlock 2011 (z = 3.00 - 3.50)', '069 Lee 2012 (z = 3.50 - 4.00)', '070 Lee 2012 (z = 4.50 - 5.50)', '071 Gonzalez 2011 (z = 3.40 - 4.20)', '072 Gonzalez 2011 (z = 4.50 - 5.50)', '073 Gonzalez 2011 (z = 5.50 - 6.30)', '074 Gonzalez 2011 (z = 6.30 - 7.30)', '075 Duncan 2014 (z = 3.80 - 4.20)', '076 Duncan 2014 (z = 4.80 - 5.20)', '077 Duncan 2014 (z = 5.80 - 6.20)', '078 Duncan 2014 (z = 6.80 - 7.20)', '079 Song 2009 (z = 3.50 - 4.50)', '080 Song 2009 (z = 4.50 - 5.50)', '081 Song 2009 (z = 5.50 - 6.50)', '082 Song 2009 (z = 6.50 - 7.50)', '083 Song 2009 (z = 7.50 - 8.50)', '084 Grazian 2015 (z = 3.50 - 4.50)', '085 Grazian 2015  (z = 4.50 - 5.50)', '086 Grazian 2015 (z = 5.50 - 6.50)', '087 Grazian 2015 (z = 6.50 - 7.50)']\n"
     ]
    }
   ],
   "source": [
    "# Get the SMF objects from the universe\n",
    "smf = universe_0['SMF']\n",
    "#smf?\n",
    "# List all objects\n",
    "print(\"Keys: \", list(smf.keys()))\n",
    "# Get the dataset 'Data'\n",
    "data = smf['Data']\n",
    "print(\"Keys of Data: \", list(data.keys()))\n",
    "data_keys = list(data.keys())\n",
    "model = smf['Model']\n",
    "sets = smf['Sets']"
   ]
  },
  {
   "cell_type": "markdown",
   "metadata": {},
   "source": [
    "### Real data, sSFR"
   ]
  },
  {
   "cell_type": "code",
   "execution_count": 233,
   "metadata": {},
   "outputs": [
    {
     "name": "stdout",
     "output_type": "stream",
     "text": [
      "Keys:  ['CSFRD', 'Clustering', 'FQ', 'Model_Parameters', 'SMF', 'SSFR']\n"
     ]
    }
   ],
   "source": [
    "filename = '/home/magnus/data/observational_data/all_data.h5'\n",
    "file = h5py.File(filename, 'r')\n",
    "\n",
    "# Get the universe\n",
    "universe_0 = file['Universe_0']\n",
    "#universe_0?\n",
    "# List all objects in the universe\n",
    "print(\"Keys: \", list(universe_0.keys()))"
   ]
  },
  {
   "cell_type": "code",
   "execution_count": 234,
   "metadata": {
    "scrolled": true
   },
   "outputs": [
    {
     "name": "stdout",
     "output_type": "stream",
     "text": [
      "Keys:  ['Data', 'Model', 'Sets']\n",
      "Keys of Data:  ['000 Salim 2007 UV', '001 Zheng 2007 UV IR', '002 Twite 2012 Ha', '003 Noeske 2007', '004 Tadaki 2011', '005 Whitaker 2012', '006 Daddi 2007', '007 Salmi 2012', '008 Karim 2011', '009 Kajisawa 2010', '010 Reddy 2012', '011 Feulner 2006', '012 Gonzalez 2012', '013 Schaerer 2010', '014 Labbe 2013', '015 McLure 2011', '016 Duncan 2014']\n"
     ]
    }
   ],
   "source": [
    "# Get the SMF objects from the universe\n",
    "ssfr = universe_0['SSFR']\n",
    "# List all objects\n",
    "print(\"Keys: \", list(ssfr.keys()))\n",
    "# Get the dataset 'Data'\n",
    "data = ssfr['Data']\n",
    "print(\"Keys of Data: \", list(data.keys()))\n",
    "data_keys = list(data.keys())\n",
    "model = ssfr['Model']\n",
    "sets = ssfr['Sets']"
   ]
  },
  {
   "cell_type": "code",
   "execution_count": 235,
   "metadata": {},
   "outputs": [
    {
     "name": "stdout",
     "output_type": "stream",
     "text": [
      "[(7, 0, b'Salim 2007 UV'), (16, 7, b'Zheng 2007 UV/IR'), (1, 23, b'Twite 2012 Ha'), (46, 24, b'Noeske 2007'), (1, 70, b'Tadaki 2011'), (60, 71, b'Whitaker 2012'), (8, 131, b'Daddi 2007'), (7, 139, b'Salmi 2012'), (31, 146, b'Karim 2011'), (45, 177, b'Kajisawa 2010'), (8, 222, b'Reddy 2012'), (18, 230, b'Feulner 2006'), (6, 248, b'Gonzalez 2012'), (2, 254, b'Schaerer 2010'), (1, 256, b'Labbe 2013'), (1, 257, b'McLure 2011'), (4, 258, b'Duncan 2014')]\n"
     ]
    }
   ],
   "source": [
    "print(list(sets))"
   ]
  },
  {
   "cell_type": "code",
   "execution_count": 236,
   "metadata": {},
   "outputs": [
    {
     "name": "stdout",
     "output_type": "stream",
     "text": [
      "[(0.3, -9.45, 0.3354102, 9.277609, 0.25741458, 1.0229536), (0.3, -9.61, 0.3354102, 9.777609, 0.22101642, 1.02733), (0.3, -9.77, 0.3354102, 10.277609, 0.10755333, 1.0303218), (0.3, -10.17, 0.3354102, 10.777609, 0.03042315, 1.0354959), (0.5, -9.15, 0.3354102, 9.277609, 0.30782375, 1.0229212), (0.5, -9.29, 0.3354102, 9.777609, 0.3066111, 1.0284971), (0.5, -9.55, 0.3354102, 10.277609, 0.19478317, 1.0298146), (0.5, -9.87, 0.3354102, 10.777609, 0.06913193, 1.034656), (0.7, -8.95, 0.3354102, 9.277609, 0.39893788, 1.0229886), (0.7, -9.01, 0.3354102, 9.777609, 0.4029671, 1.0281191), (0.7, -9.32, 0.3354102, 10.277609, 0.2961835, 1.0319338), (0.7, -9.65, 0.3354102, 10.777609, 0.12164215, 1.0348758), (0.9, -8.79, 0.3354102, 9.277609, 0.48199463, 1.0233443), (0.9, -8.84, 0.3354102, 9.777609, 0.48585925, 1.028885), (0.9, -9.07, 0.3354102, 10.277609, 0.40208483, 1.0322409), (0.9, -9.58, 0.3354102, 10.777609, 0.19462804, 1.0357814)]\n",
      "001 Zheng 2007 UV IR\n",
      "['000 Salim 2007 UV', '001 Zheng 2007 UV IR', '002 Twite 2012 Ha', '003 Noeske 2007', '004 Tadaki 2011', '005 Whitaker 2012', '006 Daddi 2007', '007 Salmi 2012', '008 Karim 2011', '009 Kajisawa 2010', '010 Reddy 2012', '011 Feulner 2006', '012 Gonzalez 2012', '013 Schaerer 2010', '014 Labbe 2013', '015 McLure 2011', '016 Duncan 2014']\n"
     ]
    }
   ],
   "source": [
    "print(list(data[data_keys[1]]))\n",
    "print(data_keys[1])\n",
    "print(list(data))"
   ]
  },
  {
   "cell_type": "code",
   "execution_count": 238,
   "metadata": {},
   "outputs": [
    {
     "name": "stdout",
     "output_type": "stream",
     "text": [
      "0.09090909090909091 1.0 \n",
      "\n",
      "['000 Salim 2007 UV', '001 Zheng 2007 UV IR', '002 Twite 2012 Ha', '003 Noeske 2007', '004 Tadaki 2011', '005 Whitaker 2012', '006 Daddi 2007', '007 Salmi 2012', '008 Karim 2011', '009 Kajisawa 2010', '010 Reddy 2012', '011 Feulner 2006', '012 Gonzalez 2012', '013 Schaerer 2010', '014 Labbe 2013', '015 McLure 2011', '016 Duncan 2014']\n",
      "17\n",
      "262\n",
      "262\n",
      "262\n",
      "262\n"
     ]
    }
   ],
   "source": [
    "# Go through all of the data sets, store only data points within the redshifts the network has been trained to predict\n",
    "predicted_redshifts = [0, 10]\n",
    "\n",
    "max_redshift = np.max(predicted_redshifts)\n",
    "min_redshift = np.min(predicted_redshifts)\n",
    "min_scalefactor = 1 / (1 + max_redshift)\n",
    "max_scalefactor = 1 / (1 + min_redshift)\n",
    "print(min_scalefactor, max_scalefactor,'\\n')\n",
    "\n",
    "observable_data = {\n",
    "    'surveys': [],\n",
    "    'scale_factor': [],\n",
    "    'stellar_masses': [],\n",
    "    'ssfr': [],\n",
    "    'errors': []\n",
    "}\n",
    "\n",
    "for i_key, key in enumerate(list(data)):\n",
    "    for data_point in list(data[key]):\n",
    "        redshift = data_point[0]\n",
    "        scale_factor = 1 / (1 + redshift)\n",
    "        \n",
    "        if scale_factor >= min_scalefactor and scale_factor <= max_scalefactor:\n",
    "            if key not in observable_data['surveys']:\n",
    "                observable_data['surveys'].append(key)\n",
    "            observable_data['scale_factor'].append(scale_factor)\n",
    "            observable_data['stellar_masses'].append(data_point[3])\n",
    "            observable_data['ssfr'].append(data_point[1])\n",
    "            observable_data['errors'].append(data_point[2])\n",
    "\n",
    "print(observable_data['surveys'])\n",
    "# print(observable_data['scale_factor'])\n",
    "# print(observable_data['stellar_masses'])\n",
    "# print(observable_data['ssfr'])\n",
    "# print(observable_data['errors'])\n",
    "print(len(observable_data['surveys']))\n",
    "print(len(observable_data['scale_factor']))\n",
    "print(len(observable_data['stellar_masses']))\n",
    "print(len(observable_data['ssfr']))\n",
    "print(len(observable_data['errors']))"
   ]
  },
  {
   "cell_type": "markdown",
   "metadata": {},
   "source": [
    "### Real data, FQ"
   ]
  },
  {
   "cell_type": "code",
   "execution_count": 328,
   "metadata": {},
   "outputs": [
    {
     "name": "stdout",
     "output_type": "stream",
     "text": [
      "Keys:  ['CSFRD', 'Clustering', 'FQ', 'Model_Parameters', 'SMF', 'SSFR']\n"
     ]
    }
   ],
   "source": [
    "filename = '/home/magnus/data/observational_data/all_data.h5'\n",
    "file = h5py.File(filename, 'r')\n",
    "\n",
    "# Get the universe\n",
    "universe_0 = file['Universe_0']\n",
    "#universe_0?\n",
    "# List all objects in the universe\n",
    "print(\"Keys: \", list(universe_0.keys()))"
   ]
  },
  {
   "cell_type": "code",
   "execution_count": 329,
   "metadata": {
    "scrolled": true
   },
   "outputs": [
    {
     "name": "stdout",
     "output_type": "stream",
     "text": [
      "Keys:  ['Data', 'Model', 'Sets']\n",
      "Keys of Data:  ['000 Drory 2009 Cosmos (z = 0.20 - 0.40)', '001 Drory 2009 Cosmos (z = 0.40 - 0.60)', '002 Drory 2009 Cosmos (z = 0.60 - 0.80)', '003 Drory 2009 Cosmos (z = 0.80 - 1.00)', '004 Wetzel 2012 SDSS (z = 0.00 - 0.10)', '005 Wetzel 2012 SDSS (z = 0.40 - 0.60)', '006 Wetzel 2012 SDSS (z = 0.60 - 0.80)', '007 Wetzel 2012 SDSS (z = 0.80 - 1.00)', '008 Lin 2013 PanStarrs (z = 0.20 - 0.50)', '009 Lin 2013 PanStarrs (z = 0.50 - 0.80)', '010 Ilbert 2013 (z = 0.20 - 0.50)', '011 Ilbert 2013 (z = 0.50 - 0.80)', '012 Ilbert 2013 (z = 0.80 - 1.10)', '013 Ilbert 2013 (z = 1.10 - 1.50)', '014 Ilbert 2013 (z = 1.50 - 2.00)', '015 Ilbert 2013 (z = 2.00 - 2.50)', '016 Ilbert 2013 (z = 2.50 - 3.00)', '017 Moustakas 2013 (z = 0.20 - 0.30)', '018 Moustakas 2013 (z = 0.30 - 0.40)', '019 Moustakas 2013 (z = 0.40 - 0.50)', '020 Moustakas 2013 (z = 0.50 - 0.65)', '021 Moustakas 2013 (z = 0.65 - 0.80)', '022 Moustakas 2013 (z = 0.80 - 1.00)', '023 Muzzin 2013 (z = 0.20 - 0.50)', '024 Muzzin 2013 (z = 0.50 - 1.00)', '025 Muzzin 2013 (z = 1.00 - 1.50)', '026 Muzzin 2013 (z = 1.50 - 2.00)', '027 Muzzin 2013 (z = 2.00 - 2.50)', '028 Muzzin 2013 (z = 2.50 - 3.00)', '029 Muzzin 2013 (z = 3.00 - 4.00)']\n"
     ]
    }
   ],
   "source": [
    "# Get the SMF objects from the universe\n",
    "fq = universe_0['FQ']\n",
    "# List all objects\n",
    "print(\"Keys: \", list(fq.keys()))\n",
    "# Get the dataset 'Data'\n",
    "data = fq['Data']\n",
    "print(\"Keys of Data: \", list(data.keys()))\n",
    "data_keys = list(data.keys())\n",
    "model = fq['Model']\n",
    "sets = fq['Sets']"
   ]
  },
  {
   "cell_type": "code",
   "execution_count": 330,
   "metadata": {},
   "outputs": [
    {
     "name": "stdout",
     "output_type": "stream",
     "text": [
      "[(13, 0, 0.2, 0.4, b'Drory 2009 Cosmos'), (11, 13, 0.4, 0.6, b'Drory 2009 Cosmos'), (11, 24, 0.6, 0.8, b'Drory 2009 Cosmos'), (10, 35, 0.8, 1., b'Drory 2009 Cosmos'), (4, 45, 0., 0.1, b'Wetzel 2012 SDSS'), (4, 49, 0.4, 0.6, b'Wetzel 2012 SDSS'), (4, 53, 0.6, 0.8, b'Wetzel 2012 SDSS'), (4, 57, 0.8, 1., b'Wetzel 2012 SDSS'), (8, 61, 0.2, 0.5, b'Lin 2013 PanStarrs'), (8, 69, 0.5, 0.8, b'Lin 2013 PanStarrs'), (18, 77, 0.2, 0.5, b'Ilbert 2013'), (16, 95, 0.5, 0.8, b'Ilbert 2013'), (14, 111, 0.8, 1.1, b'Ilbert 2013'), (13, 125, 1.1, 1.5, b'Ilbert 2013'), (12, 138, 1.5, 2., b'Ilbert 2013'), (10, 150, 2., 2.5, b'Ilbert 2013'), (9, 160, 2.5, 3., b'Ilbert 2013'), (19, 169, 0.2, 0.3, b'Moustakas 2013'), (20, 188, 0.3, 0.4, b'Moustakas 2013'), (18, 208, 0.4, 0.5, b'Moustakas 2013'), (16, 226, 0.5, 0.65, b'Moustakas 2013'), (13, 242, 0.65, 0.8, b'Moustakas 2013'), (11, 255, 0.8, 1., b'Moustakas 2013'), (32, 266, 0.2, 0.5, b'Muzzin 2013'), (27, 298, 0.5, 1., b'Muzzin 2013'), (23, 325, 1., 1.5, b'Muzzin 2013'), (16, 348, 1.5, 2., b'Muzzin 2013'), (13, 364, 2., 2.5, b'Muzzin 2013'), (6, 377, 2.5, 3., b'Muzzin 2013'), (6, 383, 3., 4., b'Muzzin 2013')]\n"
     ]
    }
   ],
   "source": [
    "print(list(sets))"
   ]
  },
  {
   "cell_type": "code",
   "execution_count": 331,
   "metadata": {},
   "outputs": [
    {
     "name": "stdout",
     "output_type": "stream",
     "text": [
      "[(9.027609, 0.0655, 0.12275765, 0.66964287, 0.12755866, 0.00261202), (9.277609, 0.07411, 0.12315329, 0.66964287, 0.181272, 0.00414625), (9.527609, 0.06964, 0.12533078, 0.66964287, 0.20595632, 0.0053425), (9.777609, 0.10127, 0.12653418, 0.66964287, 0.23083355, 0.00654483), (10.027609, 0.12227, 0.12679197, 0.66964287, 0.24337044, 0.00723704), (10.277609, 0.23546, 0.12184803, 0.66964287, 0.25443494, 0.0075969), (10.527609, 0.30478, 0.12157442, 0.66964287, 0.27380073, 0.0088928), (10.777609, 0.3888, 0.12450377, 0.66964287, 0.44748366, 0.01548928), (11.027609, 0.58726, 0.12268808, 0.66964287, 0.6847525, 0.03000232), (11.277609, 0.71304, 0.1368204, 0.66964287, 0.90574515, 0.06450602), (11.527609, 0.82758, 0.18626896, 0.66964287, 0.97254443, 0.20212042)]\n",
      "001 Drory 2009 Cosmos (z = 0.40 - 0.60)\n",
      "['000 Drory 2009 Cosmos (z = 0.20 - 0.40)', '001 Drory 2009 Cosmos (z = 0.40 - 0.60)', '002 Drory 2009 Cosmos (z = 0.60 - 0.80)', '003 Drory 2009 Cosmos (z = 0.80 - 1.00)', '004 Wetzel 2012 SDSS (z = 0.00 - 0.10)', '005 Wetzel 2012 SDSS (z = 0.40 - 0.60)', '006 Wetzel 2012 SDSS (z = 0.60 - 0.80)', '007 Wetzel 2012 SDSS (z = 0.80 - 1.00)', '008 Lin 2013 PanStarrs (z = 0.20 - 0.50)', '009 Lin 2013 PanStarrs (z = 0.50 - 0.80)', '010 Ilbert 2013 (z = 0.20 - 0.50)', '011 Ilbert 2013 (z = 0.50 - 0.80)', '012 Ilbert 2013 (z = 0.80 - 1.10)', '013 Ilbert 2013 (z = 1.10 - 1.50)', '014 Ilbert 2013 (z = 1.50 - 2.00)', '015 Ilbert 2013 (z = 2.00 - 2.50)', '016 Ilbert 2013 (z = 2.50 - 3.00)', '017 Moustakas 2013 (z = 0.20 - 0.30)', '018 Moustakas 2013 (z = 0.30 - 0.40)', '019 Moustakas 2013 (z = 0.40 - 0.50)', '020 Moustakas 2013 (z = 0.50 - 0.65)', '021 Moustakas 2013 (z = 0.65 - 0.80)', '022 Moustakas 2013 (z = 0.80 - 1.00)', '023 Muzzin 2013 (z = 0.20 - 0.50)', '024 Muzzin 2013 (z = 0.50 - 1.00)', '025 Muzzin 2013 (z = 1.00 - 1.50)', '026 Muzzin 2013 (z = 1.50 - 2.00)', '027 Muzzin 2013 (z = 2.00 - 2.50)', '028 Muzzin 2013 (z = 2.50 - 3.00)', '029 Muzzin 2013 (z = 3.00 - 4.00)']\n"
     ]
    }
   ],
   "source": [
    "print(list(data[data_keys[1]]))\n",
    "print(data_keys[1])\n",
    "print(list(data))"
   ]
  },
  {
   "cell_type": "code",
   "execution_count": 333,
   "metadata": {},
   "outputs": [
    {
     "name": "stdout",
     "output_type": "stream",
     "text": [
      "0.09090909090909091 1.0 \n",
      "\n",
      "[[0.714285711244661, 0.8333333312637277], [0.714285711244661, 0.8333333312637277], [0.714285711244661, 0.8333333312637277], [0.714285711244661, 0.8333333312637277], [0.714285711244661, 0.8333333312637277], [0.714285711244661, 0.8333333312637277], [0.714285711244661, 0.8333333312637277], [0.714285711244661, 0.8333333312637277], [0.714285711244661, 0.8333333312637277], [0.714285711244661, 0.8333333312637277], [0.714285711244661, 0.8333333312637277], [0.714285711244661, 0.8333333312637277], [0.714285711244661, 0.8333333312637277], [0.6249999906867744, 0.714285711244661], [0.6249999906867744, 0.714285711244661], [0.6249999906867744, 0.714285711244661], [0.6249999906867744, 0.714285711244661], [0.6249999906867744, 0.714285711244661], [0.6249999906867744, 0.714285711244661], [0.6249999906867744, 0.714285711244661], [0.6249999906867744, 0.714285711244661], [0.6249999906867744, 0.714285711244661], [0.6249999906867744, 0.714285711244661], [0.6249999906867744, 0.714285711244661], [0.5555555518762565, 0.6249999906867744], [0.5555555518762565, 0.6249999906867744], [0.5555555518762565, 0.6249999906867744], [0.5555555518762565, 0.6249999906867744], [0.5555555518762565, 0.6249999906867744], [0.5555555518762565, 0.6249999906867744], [0.5555555518762565, 0.6249999906867744], [0.5555555518762565, 0.6249999906867744], [0.5555555518762565, 0.6249999906867744], [0.5555555518762565, 0.6249999906867744], [0.5555555518762565, 0.6249999906867744], [0.5, 0.5555555518762565], [0.5, 0.5555555518762565], [0.5, 0.5555555518762565], [0.5, 0.5555555518762565], [0.5, 0.5555555518762565], [0.5, 0.5555555518762565], [0.5, 0.5555555518762565], [0.5, 0.5555555518762565], [0.5, 0.5555555518762565], [0.5, 0.5555555518762565], [0.9090909078594082, 1.0], [0.9090909078594082, 1.0], [0.9090909078594082, 1.0], [0.9090909078594082, 1.0], [0.6249999906867744, 0.714285711244661], [0.6249999906867744, 0.714285711244661], [0.6249999906867744, 0.714285711244661], [0.6249999906867744, 0.714285711244661], [0.5555555518762565, 0.6249999906867744], [0.5555555518762565, 0.6249999906867744], [0.5555555518762565, 0.6249999906867744], [0.5555555518762565, 0.6249999906867744], [0.5, 0.5555555518762565], [0.5, 0.5555555518762565], [0.5, 0.5555555518762565], [0.5, 0.5555555518762565], [0.6666666666666666, 0.8333333312637277], [0.6666666666666666, 0.8333333312637277], [0.6666666666666666, 0.8333333312637277], [0.6666666666666666, 0.8333333312637277], [0.6666666666666666, 0.8333333312637277], [0.6666666666666666, 0.8333333312637277], [0.6666666666666666, 0.8333333312637277], [0.6666666666666666, 0.8333333312637277], [0.5555555518762565, 0.6666666666666666], [0.5555555518762565, 0.6666666666666666], [0.5555555518762565, 0.6666666666666666], [0.5555555518762565, 0.6666666666666666], [0.5555555518762565, 0.6666666666666666], [0.5555555518762565, 0.6666666666666666], [0.5555555518762565, 0.6666666666666666], [0.5555555518762565, 0.6666666666666666], [0.6666666666666666, 0.8333333312637277], [0.6666666666666666, 0.8333333312637277], [0.6666666666666666, 0.8333333312637277], [0.6666666666666666, 0.8333333312637277], [0.6666666666666666, 0.8333333312637277], [0.6666666666666666, 0.8333333312637277], [0.6666666666666666, 0.8333333312637277], [0.6666666666666666, 0.8333333312637277], [0.6666666666666666, 0.8333333312637277], [0.6666666666666666, 0.8333333312637277], [0.6666666666666666, 0.8333333312637277], [0.6666666666666666, 0.8333333312637277], [0.6666666666666666, 0.8333333312637277], [0.6666666666666666, 0.8333333312637277], [0.6666666666666666, 0.8333333312637277], [0.6666666666666666, 0.8333333312637277], [0.6666666666666666, 0.8333333312637277], [0.6666666666666666, 0.8333333312637277], [0.5555555518762565, 0.6666666666666666], [0.5555555518762565, 0.6666666666666666], [0.5555555518762565, 0.6666666666666666], [0.5555555518762565, 0.6666666666666666], [0.5555555518762565, 0.6666666666666666], [0.5555555518762565, 0.6666666666666666], [0.5555555518762565, 0.6666666666666666], [0.5555555518762565, 0.6666666666666666], [0.5555555518762565, 0.6666666666666666], [0.5555555518762565, 0.6666666666666666], [0.5555555518762565, 0.6666666666666666], [0.5555555518762565, 0.6666666666666666], [0.5555555518762565, 0.6666666666666666], [0.5555555518762565, 0.6666666666666666], [0.5555555518762565, 0.6666666666666666], [0.5555555518762565, 0.6666666666666666], [0.47619047078415927, 0.5555555518762565], [0.47619047078415927, 0.5555555518762565], [0.47619047078415927, 0.5555555518762565], [0.47619047078415927, 0.5555555518762565], [0.47619047078415927, 0.5555555518762565], [0.47619047078415927, 0.5555555518762565], [0.47619047078415927, 0.5555555518762565], [0.47619047078415927, 0.5555555518762565], [0.47619047078415927, 0.5555555518762565], [0.47619047078415927, 0.5555555518762565], [0.47619047078415927, 0.5555555518762565], [0.47619047078415927, 0.5555555518762565], [0.47619047078415927, 0.5555555518762565], [0.47619047078415927, 0.5555555518762565], [0.4, 0.47619047078415927], [0.4, 0.47619047078415927], [0.4, 0.47619047078415927], [0.4, 0.47619047078415927], [0.4, 0.47619047078415927], [0.4, 0.47619047078415927], [0.4, 0.47619047078415927], [0.4, 0.47619047078415927], [0.4, 0.47619047078415927], [0.4, 0.47619047078415927], [0.4, 0.47619047078415927], [0.4, 0.47619047078415927], [0.4, 0.47619047078415927], [0.3333333333333333, 0.4], [0.3333333333333333, 0.4], [0.3333333333333333, 0.4], [0.3333333333333333, 0.4], [0.3333333333333333, 0.4], [0.3333333333333333, 0.4], [0.3333333333333333, 0.4], [0.3333333333333333, 0.4], [0.3333333333333333, 0.4], [0.3333333333333333, 0.4], [0.3333333333333333, 0.4], [0.3333333333333333, 0.4], [0.2857142857142857, 0.3333333333333333], [0.2857142857142857, 0.3333333333333333], [0.2857142857142857, 0.3333333333333333], [0.2857142857142857, 0.3333333333333333], [0.2857142857142857, 0.3333333333333333], [0.2857142857142857, 0.3333333333333333], [0.2857142857142857, 0.3333333333333333], [0.2857142857142857, 0.3333333333333333], [0.2857142857142857, 0.3333333333333333], [0.2857142857142857, 0.3333333333333333], [0.25, 0.2857142857142857], [0.25, 0.2857142857142857], [0.25, 0.2857142857142857], [0.25, 0.2857142857142857], [0.25, 0.2857142857142857], [0.25, 0.2857142857142857], [0.25, 0.2857142857142857], [0.25, 0.2857142857142857], [0.25, 0.2857142857142857], [0.7692307621769652, 0.8333333312637277], [0.7692307621769652, 0.8333333312637277], [0.7692307621769652, 0.8333333312637277], [0.7692307621769652, 0.8333333312637277], [0.7692307621769652, 0.8333333312637277], [0.7692307621769652, 0.8333333312637277], [0.7692307621769652, 0.8333333312637277], [0.7692307621769652, 0.8333333312637277], [0.7692307621769652, 0.8333333312637277], [0.7692307621769652, 0.8333333312637277], [0.7692307621769652, 0.8333333312637277], [0.7692307621769652, 0.8333333312637277], [0.7692307621769652, 0.8333333312637277], [0.7692307621769652, 0.8333333312637277], [0.7692307621769652, 0.8333333312637277], [0.7692307621769652, 0.8333333312637277], [0.7692307621769652, 0.8333333312637277], [0.7692307621769652, 0.8333333312637277], [0.7692307621769652, 0.8333333312637277], [0.714285711244661, 0.7692307621769652], [0.714285711244661, 0.7692307621769652], [0.714285711244661, 0.7692307621769652], [0.714285711244661, 0.7692307621769652], [0.714285711244661, 0.7692307621769652], [0.714285711244661, 0.7692307621769652], [0.714285711244661, 0.7692307621769652], [0.714285711244661, 0.7692307621769652], [0.714285711244661, 0.7692307621769652], [0.714285711244661, 0.7692307621769652], [0.714285711244661, 0.7692307621769652], [0.714285711244661, 0.7692307621769652], [0.714285711244661, 0.7692307621769652], [0.714285711244661, 0.7692307621769652], [0.714285711244661, 0.7692307621769652], [0.714285711244661, 0.7692307621769652], [0.714285711244661, 0.7692307621769652], [0.714285711244661, 0.7692307621769652], [0.714285711244661, 0.7692307621769652], [0.714285711244661, 0.7692307621769652], [0.6666666666666666, 0.714285711244661], [0.6666666666666666, 0.714285711244661], [0.6666666666666666, 0.714285711244661], [0.6666666666666666, 0.714285711244661], [0.6666666666666666, 0.714285711244661], [0.6666666666666666, 0.714285711244661], [0.6666666666666666, 0.714285711244661], [0.6666666666666666, 0.714285711244661], [0.6666666666666666, 0.714285711244661], [0.6666666666666666, 0.714285711244661], [0.6666666666666666, 0.714285711244661], [0.6666666666666666, 0.714285711244661], [0.6666666666666666, 0.714285711244661], [0.6666666666666666, 0.714285711244661], [0.6666666666666666, 0.714285711244661], [0.6666666666666666, 0.714285711244661], [0.6666666666666666, 0.714285711244661], [0.6666666666666666, 0.714285711244661], [0.6060606148179462, 0.6666666666666666], [0.6060606148179462, 0.6666666666666666], [0.6060606148179462, 0.6666666666666666], [0.6060606148179462, 0.6666666666666666], [0.6060606148179462, 0.6666666666666666], [0.6060606148179462, 0.6666666666666666], [0.6060606148179462, 0.6666666666666666], [0.6060606148179462, 0.6666666666666666], [0.6060606148179462, 0.6666666666666666], [0.6060606148179462, 0.6666666666666666], [0.6060606148179462, 0.6666666666666666], [0.6060606148179462, 0.6666666666666666], [0.6060606148179462, 0.6666666666666666], [0.6060606148179462, 0.6666666666666666], [0.6060606148179462, 0.6666666666666666], [0.6060606148179462, 0.6666666666666666], [0.5555555518762565, 0.6060606148179462], [0.5555555518762565, 0.6060606148179462], [0.5555555518762565, 0.6060606148179462], [0.5555555518762565, 0.6060606148179462], [0.5555555518762565, 0.6060606148179462], [0.5555555518762565, 0.6060606148179462], [0.5555555518762565, 0.6060606148179462], [0.5555555518762565, 0.6060606148179462], [0.5555555518762565, 0.6060606148179462], [0.5555555518762565, 0.6060606148179462], [0.5555555518762565, 0.6060606148179462], [0.5555555518762565, 0.6060606148179462], [0.5555555518762565, 0.6060606148179462], [0.5, 0.5555555518762565], [0.5, 0.5555555518762565], [0.5, 0.5555555518762565], [0.5, 0.5555555518762565], [0.5, 0.5555555518762565], [0.5, 0.5555555518762565], [0.5, 0.5555555518762565], [0.5, 0.5555555518762565], [0.5, 0.5555555518762565], [0.5, 0.5555555518762565], [0.5, 0.5555555518762565], [0.6666666666666666, 0.8333333312637277], [0.6666666666666666, 0.8333333312637277], [0.6666666666666666, 0.8333333312637277], [0.6666666666666666, 0.8333333312637277], [0.6666666666666666, 0.8333333312637277], [0.6666666666666666, 0.8333333312637277], [0.6666666666666666, 0.8333333312637277], [0.6666666666666666, 0.8333333312637277], [0.6666666666666666, 0.8333333312637277], [0.6666666666666666, 0.8333333312637277], [0.6666666666666666, 0.8333333312637277], [0.6666666666666666, 0.8333333312637277], [0.6666666666666666, 0.8333333312637277], [0.6666666666666666, 0.8333333312637277], [0.6666666666666666, 0.8333333312637277], [0.6666666666666666, 0.8333333312637277], [0.6666666666666666, 0.8333333312637277], [0.6666666666666666, 0.8333333312637277], [0.6666666666666666, 0.8333333312637277], [0.6666666666666666, 0.8333333312637277], [0.6666666666666666, 0.8333333312637277], [0.6666666666666666, 0.8333333312637277], [0.6666666666666666, 0.8333333312637277], [0.6666666666666666, 0.8333333312637277], [0.6666666666666666, 0.8333333312637277], [0.6666666666666666, 0.8333333312637277], [0.6666666666666666, 0.8333333312637277], [0.6666666666666666, 0.8333333312637277], [0.6666666666666666, 0.8333333312637277], [0.6666666666666666, 0.8333333312637277], [0.6666666666666666, 0.8333333312637277], [0.6666666666666666, 0.8333333312637277], [0.5, 0.6666666666666666], [0.5, 0.6666666666666666], [0.5, 0.6666666666666666], [0.5, 0.6666666666666666], [0.5, 0.6666666666666666], [0.5, 0.6666666666666666], [0.5, 0.6666666666666666], [0.5, 0.6666666666666666], [0.5, 0.6666666666666666], [0.5, 0.6666666666666666], [0.5, 0.6666666666666666], [0.5, 0.6666666666666666], [0.5, 0.6666666666666666], [0.5, 0.6666666666666666], [0.5, 0.6666666666666666], [0.5, 0.6666666666666666], [0.5, 0.6666666666666666], [0.5, 0.6666666666666666], [0.5, 0.6666666666666666], [0.5, 0.6666666666666666], [0.5, 0.6666666666666666], [0.5, 0.6666666666666666], [0.5, 0.6666666666666666], [0.5, 0.6666666666666666], [0.5, 0.6666666666666666], [0.5, 0.6666666666666666], [0.5, 0.6666666666666666], [0.4, 0.5], [0.4, 0.5], [0.4, 0.5], [0.4, 0.5], [0.4, 0.5], [0.4, 0.5], [0.4, 0.5], [0.4, 0.5], [0.4, 0.5], [0.4, 0.5], [0.4, 0.5], [0.4, 0.5], [0.4, 0.5], [0.4, 0.5], [0.4, 0.5], [0.4, 0.5], [0.4, 0.5], [0.4, 0.5], [0.4, 0.5], [0.4, 0.5], [0.4, 0.5], [0.4, 0.5], [0.4, 0.5], [0.3333333333333333, 0.4], [0.3333333333333333, 0.4], [0.3333333333333333, 0.4], [0.3333333333333333, 0.4], [0.3333333333333333, 0.4], [0.3333333333333333, 0.4], [0.3333333333333333, 0.4], [0.3333333333333333, 0.4], [0.3333333333333333, 0.4], [0.3333333333333333, 0.4], [0.3333333333333333, 0.4], [0.3333333333333333, 0.4], [0.3333333333333333, 0.4], [0.3333333333333333, 0.4], [0.3333333333333333, 0.4], [0.3333333333333333, 0.4], [0.2857142857142857, 0.3333333333333333], [0.2857142857142857, 0.3333333333333333], [0.2857142857142857, 0.3333333333333333], [0.2857142857142857, 0.3333333333333333], [0.2857142857142857, 0.3333333333333333], [0.2857142857142857, 0.3333333333333333], [0.2857142857142857, 0.3333333333333333], [0.2857142857142857, 0.3333333333333333], [0.2857142857142857, 0.3333333333333333], [0.2857142857142857, 0.3333333333333333], [0.2857142857142857, 0.3333333333333333], [0.2857142857142857, 0.3333333333333333], [0.2857142857142857, 0.3333333333333333], [0.25, 0.2857142857142857], [0.25, 0.2857142857142857], [0.25, 0.2857142857142857], [0.25, 0.2857142857142857], [0.25, 0.2857142857142857], [0.25, 0.2857142857142857], [0.2, 0.25], [0.2, 0.25], [0.2, 0.25], [0.2, 0.25], [0.2, 0.25], [0.2, 0.25]]\n",
      "[0.7738095, 0.7738095, 0.7738095, 0.7738095, 0.7738095, 0.7738095, 0.7738095, 0.7738095, 0.7738095, 0.7738095, 0.7738095, 0.7738095, 0.7738095, 0.66964287, 0.66964287, 0.66964287, 0.66964287, 0.66964287, 0.66964287, 0.66964287, 0.66964287, 0.66964287, 0.66964287, 0.66964287, 0.5902778, 0.5902778, 0.5902778, 0.5902778, 0.5902778, 0.5902778, 0.5902778, 0.5902778, 0.5902778, 0.5902778, 0.5902778, 0.5277778, 0.5277778, 0.5277778, 0.5277778, 0.5277778, 0.5277778, 0.5277778, 0.5277778, 0.5277778, 0.5277778, 0.95454544, 0.95454544, 0.95454544, 0.95454544, 0.66964287, 0.66964287, 0.66964287, 0.66964287, 0.5902778, 0.5902778, 0.5902778, 0.5902778, 0.5277778, 0.5277778, 0.5277778, 0.5277778, 0.75, 0.75, 0.75, 0.75, 0.75, 0.75, 0.75, 0.75, 0.6111111, 0.6111111, 0.6111111, 0.6111111, 0.6111111, 0.6111111, 0.6111111, 0.6111111, 0.75, 0.75, 0.75, 0.75, 0.75, 0.75, 0.75, 0.75, 0.75, 0.75, 0.75, 0.75, 0.75, 0.75, 0.75, 0.75, 0.75, 0.75, 0.6111111, 0.6111111, 0.6111111, 0.6111111, 0.6111111, 0.6111111, 0.6111111, 0.6111111, 0.6111111, 0.6111111, 0.6111111, 0.6111111, 0.6111111, 0.6111111, 0.6111111, 0.6111111, 0.515873, 0.515873, 0.515873, 0.515873, 0.515873, 0.515873, 0.515873, 0.515873, 0.515873, 0.515873, 0.515873, 0.515873, 0.515873, 0.515873, 0.43809524, 0.43809524, 0.43809524, 0.43809524, 0.43809524, 0.43809524, 0.43809524, 0.43809524, 0.43809524, 0.43809524, 0.43809524, 0.43809524, 0.43809524, 0.36666667, 0.36666667, 0.36666667, 0.36666667, 0.36666667, 0.36666667, 0.36666667, 0.36666667, 0.36666667, 0.36666667, 0.36666667, 0.36666667, 0.30952382, 0.30952382, 0.30952382, 0.30952382, 0.30952382, 0.30952382, 0.30952382, 0.30952382, 0.30952382, 0.30952382, 0.26785713, 0.26785713, 0.26785713, 0.26785713, 0.26785713, 0.26785713, 0.26785713, 0.26785713, 0.26785713, 0.80128205, 0.80128205, 0.80128205, 0.80128205, 0.80128205, 0.80128205, 0.80128205, 0.80128205, 0.80128205, 0.80128205, 0.80128205, 0.80128205, 0.80128205, 0.80128205, 0.80128205, 0.80128205, 0.80128205, 0.80128205, 0.80128205, 0.7417582, 0.7417582, 0.7417582, 0.7417582, 0.7417582, 0.7417582, 0.7417582, 0.7417582, 0.7417582, 0.7417582, 0.7417582, 0.7417582, 0.7417582, 0.7417582, 0.7417582, 0.7417582, 0.7417582, 0.7417582, 0.7417582, 0.7417582, 0.6904762, 0.6904762, 0.6904762, 0.6904762, 0.6904762, 0.6904762, 0.6904762, 0.6904762, 0.6904762, 0.6904762, 0.6904762, 0.6904762, 0.6904762, 0.6904762, 0.6904762, 0.6904762, 0.6904762, 0.6904762, 0.6363636, 0.6363636, 0.6363636, 0.6363636, 0.6363636, 0.6363636, 0.6363636, 0.6363636, 0.6363636, 0.6363636, 0.6363636, 0.6363636, 0.6363636, 0.6363636, 0.6363636, 0.6363636, 0.5808081, 0.5808081, 0.5808081, 0.5808081, 0.5808081, 0.5808081, 0.5808081, 0.5808081, 0.5808081, 0.5808081, 0.5808081, 0.5808081, 0.5808081, 0.5277778, 0.5277778, 0.5277778, 0.5277778, 0.5277778, 0.5277778, 0.5277778, 0.5277778, 0.5277778, 0.5277778, 0.5277778, 0.75, 0.75, 0.75, 0.75, 0.75, 0.75, 0.75, 0.75, 0.75, 0.75, 0.75, 0.75, 0.75, 0.75, 0.75, 0.75, 0.75, 0.75, 0.75, 0.75, 0.75, 0.75, 0.75, 0.75, 0.75, 0.75, 0.75, 0.75, 0.75, 0.75, 0.75, 0.75, 0.5833333, 0.5833333, 0.5833333, 0.5833333, 0.5833333, 0.5833333, 0.5833333, 0.5833333, 0.5833333, 0.5833333, 0.5833333, 0.5833333, 0.5833333, 0.5833333, 0.5833333, 0.5833333, 0.5833333, 0.5833333, 0.5833333, 0.5833333, 0.5833333, 0.5833333, 0.5833333, 0.5833333, 0.5833333, 0.5833333, 0.5833333, 0.45, 0.45, 0.45, 0.45, 0.45, 0.45, 0.45, 0.45, 0.45, 0.45, 0.45, 0.45, 0.45, 0.45, 0.45, 0.45, 0.45, 0.45, 0.45, 0.45, 0.45, 0.45, 0.45, 0.36666667, 0.36666667, 0.36666667, 0.36666667, 0.36666667, 0.36666667, 0.36666667, 0.36666667, 0.36666667, 0.36666667, 0.36666667, 0.36666667, 0.36666667, 0.36666667, 0.36666667, 0.36666667, 0.30952382, 0.30952382, 0.30952382, 0.30952382, 0.30952382, 0.30952382, 0.30952382, 0.30952382, 0.30952382, 0.30952382, 0.30952382, 0.30952382, 0.30952382, 0.26785713, 0.26785713, 0.26785713, 0.26785713, 0.26785713, 0.26785713, 0.225, 0.225, 0.225, 0.225, 0.225, 0.225]\n",
      "30\n",
      "389\n",
      "389\n",
      "389\n",
      "389\n"
     ]
    }
   ],
   "source": [
    "# Go through all of the data sets, store only data points within the redshifts the network has been trained to predict\n",
    "predicted_redshifts = [0, 10]\n",
    "\n",
    "max_redshift = np.max(predicted_redshifts)\n",
    "min_redshift = np.min(predicted_redshifts)\n",
    "min_scalefactor = 1 / (1 + max_redshift)\n",
    "max_scalefactor = 1 / (1 + min_redshift)\n",
    "print(min_scalefactor, max_scalefactor,'\\n')\n",
    "\n",
    "observable_data = {\n",
    "    'surveys': [],\n",
    "    'scale_factor': [],\n",
    "    'scale_factor_range': [],\n",
    "    'stellar_masses': [],\n",
    "    'fq': [],\n",
    "    'errors': []\n",
    "}\n",
    "\n",
    "for i_key, key in enumerate(list(data)):\n",
    "    scale_factor = data[key][0][3]\n",
    "        \n",
    "    if scale_factor >= min_scalefactor and scale_factor <= max_scalefactor:\n",
    "        observable_data['surveys'].append(list(sets)[i_key][-1])\n",
    "        observable_data['scale_factor'].extend([list(point)[3] for point in list(data[key])])\n",
    "        observable_data['scale_factor_range'].extend([[1 / (1 + list(sets)[i_key][3]), 1 / (1 + list(sets)[i_key][2])]] * len(list(data[key])))        \n",
    "        observable_data['stellar_masses'].extend([list(point)[0] for point in list(data[key])])\n",
    "        observable_data['fq'].extend([list(point)[1] for point in list(data[key])])\n",
    "        observable_data['errors'].extend([list(point)[2] for point in list(data[key])])\n",
    "\n",
    "# print(observable_data['surveys'])\n",
    "print(observable_data['scale_factor_range'])\n",
    "print(observable_data['scale_factor'])\n",
    "\n",
    "# print(observable_data['stellar_masses'])\n",
    "# print(observable_data['fq'])\n",
    "# print(observable_data['errors'])\n",
    "print(len(observable_data['surveys']))\n",
    "print(len(observable_data['scale_factor']))\n",
    "print(len(observable_data['stellar_masses']))\n",
    "print(len(observable_data['fq']))\n",
    "print(len(observable_data['errors']))"
   ]
  },
  {
   "cell_type": "markdown",
   "metadata": {},
   "source": [
    "### Real data, CSFRD"
   ]
  },
  {
   "cell_type": "code",
   "execution_count": 296,
   "metadata": {},
   "outputs": [
    {
     "name": "stdout",
     "output_type": "stream",
     "text": [
      "Keys:  ['CSFRD', 'Clustering', 'FQ', 'Model_Parameters', 'SMF', 'SSFR']\n"
     ]
    }
   ],
   "source": [
    "filename = '/home/magnus/data/observational_data/all_data.h5'\n",
    "file = h5py.File(filename, 'r')\n",
    "\n",
    "# Get the universe\n",
    "universe_0 = file['Universe_0']\n",
    "#universe_0?\n",
    "# List all objects in the universe\n",
    "print(\"Keys: \", list(universe_0.keys()))"
   ]
  },
  {
   "cell_type": "code",
   "execution_count": 297,
   "metadata": {
    "scrolled": true
   },
   "outputs": [
    {
     "name": "stdout",
     "output_type": "stream",
     "text": [
      "Keys:  ['Data', 'Model', 'Sets']\n",
      "Keys of Data:  ['000 Robotham & Driver 2011 UV', '001 Salim 2007 UV', '002 Ly 2011 Ha', '003 Zheng 2006 UV IR', '004 Rujopakarn 2010 FIR', '005 Smolcic 2009 1.4GHz', '006 Shim 2009 Ha', '007 Tadaki 2011 Ha', '008 Sobral 2013 Ha', '009 Hayes 2010 Ha', '010 Karim 2011 1.4Ghz', '011 Ly 2011 UV', '012 Kajisawa 2010 UV IR', '013 Dunne 2009 1.4GHz', '014 Cucciati 2012 UV', '015 Le Borgne 2009 IR mm', '016 Van der Burg 2010 UV', '017 Oesch 2013 UV', '018 McLure 2013 UV', '019 Reddy & Steidel UV', '020 Burgarella 2013 UV IR', '021 Duncan 2014 UV', '022 Bourne 2016 UV IR', '023 Gunawardhana 2015 Ha']\n"
     ]
    }
   ],
   "source": [
    "# Get the CSFRD objects from the universe\n",
    "csfrd = universe_0['CSFRD']\n",
    "# List all objects\n",
    "print(\"Keys: \", list(fq.keys()))\n",
    "# Get the dataset 'Data'\n",
    "data = csfrd['Data']\n",
    "print(\"Keys of Data: \", list(data.keys()))\n",
    "data_keys = list(data.keys())\n",
    "model = csfrd['Model']\n",
    "sets = csfrd['Sets']"
   ]
  },
  {
   "cell_type": "code",
   "execution_count": 298,
   "metadata": {},
   "outputs": [
    {
     "name": "stdout",
     "output_type": "stream",
     "text": [
      "[(1, 0, b'Robotham & Driver 2011 UV'), (1, 1, b'Salim 2007 UV'), (1, 2, b'Ly 2011 Ha'), (4, 3, b'Zheng 2006 UV/IR'), (7, 7, b'Rujopakarn 2010 FIR'), (4, 14, b'Smolcic 2009 1.4GHz'), (2, 18, b'Shim 2009 Ha'), (1, 20, b'Tadaki 2011 Ha'), (4, 21, b'Sobral 2013 Ha'), (1, 25, b'Hayes 2010 Ha'), (9, 26, b'Karim 2011 1.4Ghz'), (1, 35, b'Ly 2011 UV'), (4, 36, b'Kajisawa 2010 UV/IR'), (14, 40, b'Dunne 2009 1.4GHz'), (10, 54, b'Cucciati 2012 UV'), (8, 64, b'Le Borgne 2009 IR/mm'), (3, 72, b'Van der Burg 2010 UV'), (15, 75, b'Oesch 2013 UV'), (5, 90, b'McLure 2013 UV'), (2, 95, b'Reddy & Steidel UV'), (9, 97, b'Burgarella 2013 UV/IR'), (4, 106, b'Duncan 2014 UV'), (4, 110, b'Bourne 2016 UV/IR'), (4, 114, b'Gunawardhana 2015 Ha')]\n"
     ]
    }
   ],
   "source": [
    "print(list(sets))"
   ]
  },
  {
   "cell_type": "code",
   "execution_count": 299,
   "metadata": {},
   "outputs": [
    {
     "name": "stdout",
     "output_type": "stream",
     "text": [
      "[(0.0565, -1.9145063, 0.11821719, -2.081195)]\n",
      "000 Robotham & Driver 2011 UV\n",
      "['000 Robotham & Driver 2011 UV', '001 Salim 2007 UV', '002 Ly 2011 Ha', '003 Zheng 2006 UV IR', '004 Rujopakarn 2010 FIR', '005 Smolcic 2009 1.4GHz', '006 Shim 2009 Ha', '007 Tadaki 2011 Ha', '008 Sobral 2013 Ha', '009 Hayes 2010 Ha', '010 Karim 2011 1.4Ghz', '011 Ly 2011 UV', '012 Kajisawa 2010 UV IR', '013 Dunne 2009 1.4GHz', '014 Cucciati 2012 UV', '015 Le Borgne 2009 IR mm', '016 Van der Burg 2010 UV', '017 Oesch 2013 UV', '018 McLure 2013 UV', '019 Reddy & Steidel UV', '020 Burgarella 2013 UV IR', '021 Duncan 2014 UV', '022 Bourne 2016 UV IR', '023 Gunawardhana 2015 Ha']\n"
     ]
    }
   ],
   "source": [
    "print(list(data[data_keys[0]]))\n",
    "print(data_keys[0])\n",
    "print(list(data))"
   ]
  },
  {
   "cell_type": "code",
   "execution_count": 300,
   "metadata": {},
   "outputs": [
    {
     "name": "stdout",
     "output_type": "stream",
     "text": [
      "0.08333333333333333 1.0 \n",
      "\n",
      "[0.118217185, 0.10230621, 0.24166091, 0.18370305, 0.14984846, 0.12533078, 0.13189389, 0.12806249, 0.12206556, 0.12806249, 0.12806249, 0.12206556, 0.14866069, 0.17204651, 0.106923446, 0.105446205, 0.10501049, 0.10300529, 0.34153286, 0.35603213, 0.2147091, 0.18069379, 0.12158011, 0.12056543, 0.11327065, 0.2179901, 0.149365, 0.13043796, 0.123839825, 0.10842329, 0.10412012, 0.10731776, 0.11896975, 0.109252, 0.11737165, 0.123839825, 0.1640122, 0.19723083, 0.2147091, 0.2879236, 0.41298968, 0.19546662, 0.16656002, 0.15070689, 0.1445661, 0.14113879, 0.13611951, 0.12464093, 0.12536092, 0.123194166, 0.11419948, 0.1154026, 0.11364858, 0.11981653, 0.2059126, 0.156205, 0.14142135, 0.13453624, 0.13124405, 0.13453624, 0.15239751, 0.30675724, 0.22808988, 0.28792357, 0.26925823, 0.18027756, 0.18027756, 0.18027756, 0.18027756, 0.26925823, 0.31622776, 0.31622776, 0.1874516, 0.16820394, 0.18069379, 0.10440306, 0.14142135, 0.156205, 0.1640122, 0.18027756, 0.18027756, 0.18027756, 0.26925823, 0.26925823, 0.43660626, 0.8062257, 0.8062257, 0.31622776, 0.31622776, 0.8062257, 0.1118034, 0.1118034, 0.1118034, 0.2059126, 0.156205, 0.14932786, 0.17107144, 0.2763757, 0.10905159, 0.11896975, 0.13156843, 0.13527457, 0.30954757, 0.32901505, 0.28038868, 0.43801782, 0.12806249, 0.1640122, 0.17204651, 0.27856776, 0.10536717, 0.10332473, 0.11500539, 0.13066296, 0.14142135, 0.14142135, 0.14142135, 0.14142135]\n",
      "24\n",
      "118\n",
      "118\n",
      "118\n"
     ]
    }
   ],
   "source": [
    "# Go through all of the data sets, store only data points within the redshifts the network has been trained to predict\n",
    "predicted_redshifts = [0, 11]\n",
    "\n",
    "max_redshift = np.max(predicted_redshifts)\n",
    "min_redshift = np.min(predicted_redshifts)\n",
    "min_scalefactor = 1 / (1 + max_redshift)\n",
    "max_scalefactor = 1 / (1 + min_redshift)\n",
    "print(min_scalefactor, max_scalefactor,'\\n')\n",
    "\n",
    "observable_data = {\n",
    "    'surveys': [],\n",
    "    'scale_factor': [],\n",
    "    'csfrd': [],\n",
    "    'errors': []\n",
    "}\n",
    "\n",
    "for i_key, key in enumerate(list(data)):\n",
    "    \n",
    "    for data_point in list(data[key]):\n",
    "        redshift = data_point[0]\n",
    "        scale_factor = 1 / (1 + redshift)\n",
    "        \n",
    "        if scale_factor >= min_scalefactor and scale_factor <= max_scalefactor:\n",
    "            if key not in observable_data['surveys']:\n",
    "                observable_data['surveys'].append(key)\n",
    "            observable_data['scale_factor'].append(scale_factor)\n",
    "            observable_data['csfrd'].append(data_point[1])\n",
    "            observable_data['errors'].append(data_point[2])\n",
    "# print(observable_data['surveys'])\n",
    "# print(observable_data['scale_factor'])\n",
    "# print(observable_data['csfrd'])\n",
    "print(observable_data['errors'])\n",
    "print(len(observable_data['surveys']))\n",
    "print(len(observable_data['scale_factor']))\n",
    "print(len(observable_data['csfrd']))\n",
    "print(len(observable_data['errors']))"
   ]
  },
  {
   "cell_type": "markdown",
   "metadata": {},
   "source": [
    "##### Create a spline functino that approximates the CSFRD"
   ]
  },
  {
   "cell_type": "code",
   "execution_count": 310,
   "metadata": {},
   "outputs": [
    {
     "data": {
      "image/png": "[encoded data removed]",
      "text/plain": [
       "<Figure size 2160x576 with 1 Axes>"
      ]
     },
     "metadata": {},
     "output_type": "display_data"
    }
   ],
   "source": [
    "sorted_x = []\n",
    "sorted_y = []\n",
    "errs = []\n",
    "\n",
    "for csfrd_, scale_factor, err in zip(observable_data['csfrd'], observable_data['scale_factor'], observable_data['errors']):\n",
    "    if scale_factor not in sorted_x:\n",
    "        sorted_x.append(scale_factor)\n",
    "        sorted_y.append(csfrd_)\n",
    "        errs.append(err)\n",
    "sort_inds = np.argsort(sorted_x)\n",
    "sorted_x = np.array(sorted_x)[sort_inds]\n",
    "sorted_y = np.array(sorted_y)[sort_inds]\n",
    "spline_func = interp1d(sorted_x, sorted_y, kind='cubic')\n",
    "new_x_points = np.linspace(np.min(observable_data['scale_factor']), np.max(observable_data['scale_factor']), 1000)\n",
    "fig = plt.figure(figsize=(30,8))\n",
    "plt.errorbar(sorted_x, sorted_y, yerr=errs, fmt='bo', markersize=3)\n",
    "plt.plot(new_x_points, spline_func(new_x_points))\n",
    "plt.show()"
   ]
  },
  {
   "cell_type": "code",
   "execution_count": 311,
   "metadata": {},
   "outputs": [
    {
     "ename": "TypeError",
     "evalue": "unsupported operand type(s) for +: 'int' and 'list'",
     "output_type": "error",
     "traceback": [
      "\u001b[0;31m---------------------------------------------------------------------------\u001b[0m",
      "\u001b[0;31mTypeError\u001b[0m                                 Traceback (most recent call last)",
      "\u001b[0;32m<ipython-input-311-b0703aa03618>\u001b[0m in \u001b[0;36m<module>\u001b[0;34m()\u001b[0m\n\u001b[1;32m      1\u001b[0m \u001b[0ma\u001b[0m \u001b[0;34m=\u001b[0m \u001b[0;34m[\u001b[0m\u001b[0;36m1\u001b[0m\u001b[0;34m,\u001b[0m\u001b[0;36m2\u001b[0m\u001b[0;34m,\u001b[0m\u001b[0;36m3\u001b[0m\u001b[0;34m,\u001b[0m\u001b[0;36m4\u001b[0m\u001b[0;34m]\u001b[0m\u001b[0;34m\u001b[0m\u001b[0m\n\u001b[0;32m----> 2\u001b[0;31m \u001b[0mb\u001b[0m \u001b[0;34m=\u001b[0m \u001b[0;36m1\u001b[0m \u001b[0;34m/\u001b[0m \u001b[0;34m(\u001b[0m\u001b[0;36m1\u001b[0m \u001b[0;34m+\u001b[0m \u001b[0ma\u001b[0m\u001b[0;34m)\u001b[0m\u001b[0;34m\u001b[0m\u001b[0m\n\u001b[0m\u001b[1;32m      3\u001b[0m \u001b[0mprint\u001b[0m\u001b[0;34m(\u001b[0m\u001b[0mb\u001b[0m\u001b[0;34m)\u001b[0m\u001b[0;34m\u001b[0m\u001b[0m\n",
      "\u001b[0;31mTypeError\u001b[0m: unsupported operand type(s) for +: 'int' and 'list'"
     ]
    }
   ],
   "source": [
    "a = [1,2,3,4]\n",
    "b = 1 / (1 + a)\n",
    "print(b)"
   ]
  },
  {
   "cell_type": "markdown",
   "metadata": {},
   "source": [
    "### Using pandas"
   ]
  },
  {
   "cell_type": "code",
   "execution_count": 10,
   "metadata": {
    "scrolled": true
   },
   "outputs": [
    {
     "ename": "TypeError",
     "evalue": "cannot create a storer if the object is not existing nor a value are passed",
     "output_type": "error",
     "traceback": [
      "\u001b[0;31m---------------------------------------------------------------------------\u001b[0m",
      "\u001b[0;31mTypeError\u001b[0m                                 Traceback (most recent call last)",
      "\u001b[0;32m<ipython-input-10-13786dd61e1a>\u001b[0m in \u001b[0;36m<module>\u001b[0;34m()\u001b[0m\n\u001b[1;32m      1\u001b[0m \u001b[0mfile_name\u001b[0m \u001b[0;34m=\u001b[0m \u001b[0;34m'/home/magnus/data/observational_data/all_data.h5'\u001b[0m\u001b[0;34m\u001b[0m\u001b[0m\n\u001b[1;32m      2\u001b[0m \u001b[0;34m\u001b[0m\u001b[0m\n\u001b[0;32m----> 3\u001b[0;31m \u001b[0mfile\u001b[0m \u001b[0;34m=\u001b[0m \u001b[0mpd\u001b[0m\u001b[0;34m.\u001b[0m\u001b[0mread_hdf\u001b[0m\u001b[0;34m(\u001b[0m\u001b[0mfile_name\u001b[0m\u001b[0;34m,\u001b[0m \u001b[0mkey\u001b[0m\u001b[0;34m=\u001b[0m\u001b[0;34m'Universe_0'\u001b[0m\u001b[0;34m)\u001b[0m\u001b[0;34m\u001b[0m\u001b[0m\n\u001b[0m\u001b[1;32m      4\u001b[0m \u001b[0mfile_header\u001b[0m \u001b[0;34m=\u001b[0m \u001b[0mfile\u001b[0m\u001b[0;34m.\u001b[0m\u001b[0mkeys\u001b[0m\u001b[0;34m(\u001b[0m\u001b[0;34m)\u001b[0m\u001b[0;34m.\u001b[0m\u001b[0mtolist\u001b[0m\u001b[0;34m(\u001b[0m\u001b[0;34m)\u001b[0m\u001b[0;34m\u001b[0m\u001b[0m\n\u001b[1;32m      5\u001b[0m \u001b[0mprint\u001b[0m\u001b[0;34m(\u001b[0m\u001b[0mfile_header\u001b[0m\u001b[0;34m)\u001b[0m\u001b[0;34m\u001b[0m\u001b[0m\n",
      "\u001b[0;32m/opt/anaconda/lib/python3.6/site-packages/pandas/io/pytables.py\u001b[0m in \u001b[0;36mread_hdf\u001b[0;34m(path_or_buf, key, mode, **kwargs)\u001b[0m\n\u001b[1;32m    392\u001b[0m                                      'contains multiple datasets.')\n\u001b[1;32m    393\u001b[0m             \u001b[0mkey\u001b[0m \u001b[0;34m=\u001b[0m \u001b[0mcandidate_only_group\u001b[0m\u001b[0;34m.\u001b[0m\u001b[0m_v_pathname\u001b[0m\u001b[0;34m\u001b[0m\u001b[0m\n\u001b[0;32m--> 394\u001b[0;31m         \u001b[0;32mreturn\u001b[0m \u001b[0mstore\u001b[0m\u001b[0;34m.\u001b[0m\u001b[0mselect\u001b[0m\u001b[0;34m(\u001b[0m\u001b[0mkey\u001b[0m\u001b[0;34m,\u001b[0m \u001b[0mauto_close\u001b[0m\u001b[0;34m=\u001b[0m\u001b[0mauto_close\u001b[0m\u001b[0;34m,\u001b[0m \u001b[0;34m**\u001b[0m\u001b[0mkwargs\u001b[0m\u001b[0;34m)\u001b[0m\u001b[0;34m\u001b[0m\u001b[0m\n\u001b[0m\u001b[1;32m    395\u001b[0m     \u001b[0;32mexcept\u001b[0m\u001b[0;34m:\u001b[0m\u001b[0;34m\u001b[0m\u001b[0m\n\u001b[1;32m    396\u001b[0m         \u001b[0;31m# if there is an error, close the store\u001b[0m\u001b[0;34m\u001b[0m\u001b[0;34m\u001b[0m\u001b[0m\n",
      "\u001b[0;32m/opt/anaconda/lib/python3.6/site-packages/pandas/io/pytables.py\u001b[0m in \u001b[0;36mselect\u001b[0;34m(self, key, where, start, stop, columns, iterator, chunksize, auto_close, **kwargs)\u001b[0m\n\u001b[1;32m    725\u001b[0m         \u001b[0;31m# create the storer and axes\u001b[0m\u001b[0;34m\u001b[0m\u001b[0;34m\u001b[0m\u001b[0m\n\u001b[1;32m    726\u001b[0m         \u001b[0mwhere\u001b[0m \u001b[0;34m=\u001b[0m \u001b[0m_ensure_term\u001b[0m\u001b[0;34m(\u001b[0m\u001b[0mwhere\u001b[0m\u001b[0;34m,\u001b[0m \u001b[0mscope_level\u001b[0m\u001b[0;34m=\u001b[0m\u001b[0;36m1\u001b[0m\u001b[0;34m)\u001b[0m\u001b[0;34m\u001b[0m\u001b[0m\n\u001b[0;32m--> 727\u001b[0;31m         \u001b[0ms\u001b[0m \u001b[0;34m=\u001b[0m \u001b[0mself\u001b[0m\u001b[0;34m.\u001b[0m\u001b[0m_create_storer\u001b[0m\u001b[0;34m(\u001b[0m\u001b[0mgroup\u001b[0m\u001b[0;34m)\u001b[0m\u001b[0;34m\u001b[0m\u001b[0m\n\u001b[0m\u001b[1;32m    728\u001b[0m         \u001b[0ms\u001b[0m\u001b[0;34m.\u001b[0m\u001b[0minfer_axes\u001b[0m\u001b[0;34m(\u001b[0m\u001b[0;34m)\u001b[0m\u001b[0;34m\u001b[0m\u001b[0m\n\u001b[1;32m    729\u001b[0m \u001b[0;34m\u001b[0m\u001b[0m\n",
      "\u001b[0;32m/opt/anaconda/lib/python3.6/site-packages/pandas/io/pytables.py\u001b[0m in \u001b[0;36m_create_storer\u001b[0;34m(self, group, format, value, append, **kwargs)\u001b[0m\n\u001b[1;32m   1254\u001b[0m                 \u001b[0;32melse\u001b[0m\u001b[0;34m:\u001b[0m\u001b[0;34m\u001b[0m\u001b[0m\n\u001b[1;32m   1255\u001b[0m                     raise TypeError(\n\u001b[0;32m-> 1256\u001b[0;31m                         \u001b[0;34m\"cannot create a storer if the object is not existing \"\u001b[0m\u001b[0;34m\u001b[0m\u001b[0m\n\u001b[0m\u001b[1;32m   1257\u001b[0m                         \"nor a value are passed\")\n\u001b[1;32m   1258\u001b[0m             \u001b[0;32melse\u001b[0m\u001b[0;34m:\u001b[0m\u001b[0;34m\u001b[0m\u001b[0m\n",
      "\u001b[0;31mTypeError\u001b[0m: cannot create a storer if the object is not existing nor a value are passed"
     ]
    }
   ],
   "source": [
    "file_name = '/home/magnus/data/observational_data/all_data.h5'\n",
    "\n",
    "file = pd.read_hdf(file_name, key='Universe_0')\n",
    "file_header = file.keys().tolist()\n",
    "print(file_header)"
   ]
  },
  {
   "cell_type": "code",
   "execution_count": 69,
   "metadata": {},
   "outputs": [
    {
     "name": "stdout",
     "output_type": "stream",
     "text": [
      "Redshift 7.50 - 8.50. Survey b'Song 2009'\n"
     ]
    }
   ],
   "source": [
    "predicted_redshift = 8\n",
    "data_to_load = 'smf'\n",
    "\n",
    "data_dir = '/home/magnus/data/observational_data/all_data.h5'\n",
    "file = h5py.File(data_dir, 'r')\n",
    "universe_0 = file['Universe_0']\n",
    "\n",
    "if data_to_load == 'smf':\n",
    "    smf = universe_0['SMF']\n",
    "    data = smf['Data']\n",
    "    sets = smf['Sets']\n",
    "\n",
    "    for i_set, dataset in enumerate(list(sets)):\n",
    "        \n",
    "        if predicted_redshift >= dataset[2] and predicted_redshift <= dataset[3]:\n",
    "            print('Redshift {:.2f} - {:.2f}. Survey {}'.format(dataset[2], dataset[3], dataset[-1]))\n",
    "        \n",
    "        "
   ]
  },
  {
   "cell_type": "code",
   "execution_count": null,
   "metadata": {},
   "outputs": [],
   "source": [
    "\n",
    "\n",
    "\n",
    "\n",
    "\n",
    "\n",
    "\n",
    "\n",
    "\n",
    "\n",
    "\n",
    "\n",
    "\n",
    "\n",
    "\n",
    "\n",
    "\n",
    "\n",
    "\n"
   ]
  }
 ],
 "metadata": {
  "kernelspec": {
   "display_name": "Python 3",
   "language": "python",
   "name": "python3"
  },
  "language_info": {
   "codemirror_mode": {
    "name": "ipython",
    "version": 3
   },
   "file_extension": ".py",
   "mimetype": "text/x-python",
   "name": "python",
   "nbconvert_exporter": "python",
   "pygments_lexer": "ipython3",
   "version": "3.6.5"
  }
 },
 "nbformat": 4,
 "nbformat_minor": 2
}
