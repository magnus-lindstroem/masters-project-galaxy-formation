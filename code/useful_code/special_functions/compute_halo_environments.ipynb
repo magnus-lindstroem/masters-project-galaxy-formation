{
 "cells": [
  {
   "cell_type": "code",
   "execution_count": 47,
   "metadata": {},
   "outputs": [],
   "source": [
    "import numpy as np\n",
    "import os\n",
    "from os.path import expanduser\n",
    "home_dir = expanduser(\"~\")\n",
    "module_path = home_dir + '/modules/'\n",
    "import sys\n",
    "sys.path.append(module_path)\n",
    "import pandas as pd\n",
    "from sklearn.neighbors import BallTree\n",
    "import math\n",
    "from itertools import permutations\n",
    "np.random.seed(999)"
   ]
  },
  {
   "cell_type": "code",
   "execution_count": 44,
   "metadata": {},
   "outputs": [
    {
     "name": "stdout",
     "output_type": "stream",
     "text": [
      "['X_pos', 'Y_pos', 'Z_pos', 'X_vel', 'Y_vel', 'Z_vel', 'Halo_mass', 'Stellar_mass', 'SFR', 'Intra_cluster_mass', 'Halo_mass_peak', 'Stellar_mass_obs', 'SFR_obs', 'Halo_radius', 'Concentration', 'Halo_spin', 'Scale_peak_mass', 'Scale_half_mass', 'Scale_last_MajM', 'Type']\n",
      "(10000, 20)\n"
     ]
    }
   ],
   "source": [
    "#galfile = pd.read_hdf('/scratch/data/galcats/P200/galaxies.Z01.h5')\n",
    "galfile = pd.read_hdf('test_galcat.h5')\n",
    "galaxies = galfile.as_matrix()\n",
    "gal_header = galfile.keys().tolist()\n",
    "print(gal_header)\n",
    "print(np.shape(galaxies))"
   ]
  },
  {
   "cell_type": "code",
   "execution_count": 45,
   "metadata": {},
   "outputs": [],
   "source": [
    "data_dict = {'X_pos': 0, 'Y_pos': 1, 'Z_pos': 2, 'X_vel': 3, 'Y_vel': 4, 'Z_vel': 5, 'Halo_mass': 6, \n",
    "             'Stellar_mass': 7, 'SFR': 8, 'Intra_cluster_mass': 9, 'Halo_mass_peak': 10, 'Stellar_mass_obs': 11, \n",
    "             'SFR_obs': 12, 'Halo_radius': 13, 'Concentration': 14, 'Halo_spin': 15, 'Scale_peak_mass': 16, \n",
    "             'Scale_half_mass': 17, 'Scale_last_MajM': 18, 'Type': 19}"
   ]
  },
  {
   "cell_type": "code",
   "execution_count": 46,
   "metadata": {},
   "outputs": [
    {
     "name": "stdout",
     "output_type": "stream",
     "text": [
      "0.029570606 199.99576\n",
      "0.005459643 199.99397\n",
      "0.024612661 199.9723\n"
     ]
    }
   ],
   "source": [
    "nr_neighbours_wanted = 4\n",
    "nr_dims = 3\n",
    "halo_masses = galaxies[:, 6]\n",
    "borders_list = [[0, 200], [0, 200], [0, 200]] # [[x1min, x1max], ... , [xNmin, xNmax]]\n",
    "\n",
    "### Make sure that the edges are what they should be\n",
    "print(np.min(galaxies[:, 0]), np.max(galaxies[:, 0]))\n",
    "print(np.min(galaxies[:, 1]), np.max(galaxies[:, 1]))\n",
    "print(np.min(galaxies[:, 2]), np.max(galaxies[:, 2]))"
   ]
  },
  {
   "cell_type": "code",
   "execution_count": 6,
   "metadata": {},
   "outputs": [
    {
     "name": "stdout",
     "output_type": "stream",
     "text": [
      "[[0, 200], [0, 200], [0, 200]]\n",
      "partitions: [[37.13271066890223, 162.86728933109777], [37.13271066890223, 162.86728933109777], [37.13271066890223, 162.86728933109777]]\n",
      "2136 7864\n",
      "0.2484701404190547 0.2136\n"
     ]
    }
   ],
   "source": [
    "### Start of func\n",
    "coordinates = galaxies[:, :nr_dims].tolist()\n",
    "if not isinstance(halo_masses, list):\n",
    "    masses = halo_masses.tolist()\n",
    "else:\n",
    "    masses = halo_masses\n",
    "nr_points = len(coordinates)\n",
    "volume = 1\n",
    "box_sides = [] # contains the length of the box in all dimensions\n",
    "for borders in borders_list:\n",
    "    volume *= (borders[1] - borders[0])\n",
    "    box_sides.append(borders[1] - borders[0])\n",
    "vol_per_point = volume / np.size(coordinates, 0)\n",
    "dist_between_points = np.power(vol_per_point, 1/3)\n",
    "buffer_dist = dist_between_points * nr_neighbours_wanted\n",
    "#print(borders_list)\n",
    "#print('%.1e' % (volume))\n",
    "#print('%.1e' % (vol_per_point))\n",
    "#print(dist_between_points)\n",
    "#print(buffer_dist)\n",
    "partitions_list = []\n",
    "\n",
    "for orig_borders in borders_list:\n",
    "    if (2*buffer_dist < orig_borders[1] - orig_borders[0]):\n",
    "        partitions_list.append([orig_borders[0] + buffer_dist, orig_borders[1] - buffer_dist])\n",
    "    else:\n",
    "        partitions_list.append([(orig_borders[1] - orig_borders[0])/2 + orig_borders[0],\n",
    "                       (orig_borders[1] - orig_borders[0])/2 + orig_borders[0]])\n",
    "\n",
    "print(borders_list)\n",
    "print('partitions:' ,partitions_list)\n",
    "\n",
    "inner_volume = 1\n",
    "for partitions in partitions_list:\n",
    "    inner_volume *= (partitions[1] - partitions[0])\n",
    "\n",
    "inner_points_indices = []\n",
    "outer_points_indices = []\n",
    "\n",
    "for i in range(nr_points):\n",
    "    outside_array = np.zeros(nr_dims) # +1: below lower bound, -1: above upper bound\n",
    "    for i_dim, partitions in enumerate(partitions_list):\n",
    "        if coordinates[i][i_dim] < partitions[0]: \n",
    "            outside_array[i_dim] = 1 \n",
    "        elif coordinates[i][i_dim] > partitions[1]:\n",
    "            outside_array[i_dim] = -1\n",
    "            \n",
    "    \n",
    "    if not np.any(outside_array): # check if point is inside inner box\n",
    "        \n",
    "        inner_points_indices.append(i)\n",
    "\n",
    "    else:\n",
    "        \n",
    "        dims_crossed = np.count_nonzero(outside_array)\n",
    "        \n",
    "        if dims_crossed == 1:\n",
    "            outer_points_indices.append(i)\n",
    "            masses.append(masses[i])\n",
    "\n",
    "            coordinates.append(coordinates[i])\n",
    "            coordinates[-1] += outside_array*box_sides\n",
    "        else:\n",
    "            'TODO: Make use of the permutations function and loop over \n",
    "            'the permutations of 2dims crossed and the take the 3dim\n",
    "            \n",
    "            crossed_dims_indices = np.nonzero(dims_crossed)\n",
    "            \n",
    "            # add across one dim\n",
    "            for i_dim in crossed_dims_indices:\n",
    "                outer_points_indices.append(i)\n",
    "                masses.append(masses[i])\n",
    "\n",
    "                addition_array = np.zeros(nr_dims)\n",
    "                addition_array[i_dim] = outside_array[i_dim]\n",
    "                coordinates.append(coordinates[i])\n",
    "                coordinates[-1] += addition_array*box_sides\n",
    "                \n",
    "            # add across both dims\n",
    "            outer_points_indices.append(i)\n",
    "            masses.append(masses[i])\n",
    "            \n",
    "            coordinates.append(coordinates[i])\n",
    "            coordinates[-1] += outside_array*box_sides\n",
    "            \n",
    "        \n",
    "print(len(inner_points_indices), len(outer_points_indices))\n",
    "print(inner_volume/volume, len(inner_points_indices)/nr_points)"
   ]
  },
  {
   "cell_type": "code",
   "execution_count": 55,
   "metadata": {},
   "outputs": [
    {
     "name": "stdout",
     "output_type": "stream",
     "text": [
      "1\n"
     ]
    }
   ],
   "source": [
    "a = [1,2,3]\n",
    "b = list(permutations(a))\n",
    "print(b[0][0])"
   ]
  },
  {
   "cell_type": "code",
   "execution_count": 7,
   "metadata": {},
   "outputs": [
    {
     "name": "stdout",
     "output_type": "stream",
     "text": [
      "2136 7864\n",
      "17864\n"
     ]
    }
   ],
   "source": [
    "print(len(inner_points_indices), len(outer_points_indices))\n",
    "print(len(coordinates))"
   ]
  },
  {
   "cell_type": "code",
   "execution_count": 33,
   "metadata": {},
   "outputs": [],
   "source": [
    "tree = BallTree(coordinates, leaf_size=2)\n",
    "neigh_densities = []\n",
    "for i_point in range(nr_points):\n",
    "    dist, ind = tree.query([coordinates[i_point]], k=nr_neighbours_wanted)\n",
    "#    print(type(ind[0]))\n",
    "#    print(dist, indices)\n",
    "    sphere_radius = np.max(dist)\n",
    "#    print(sphere_radius)\n",
    "    sphere_volume = (4/3) * math.pi * sphere_radius**3\n",
    "    neigh_masses = [masses[i] for i in ind[0]]\n",
    "    density =  sum(neigh_masses) / sphere_volume\n",
    "    neigh_densities.append(density)"
   ]
  },
  {
   "cell_type": "markdown",
   "metadata": {},
   "source": [
    "# Make a new pd dataset and save it"
   ]
  },
  {
   "cell_type": "code",
   "execution_count": 35,
   "metadata": {},
   "outputs": [],
   "source": [
    "pd_dataframe = pd.DataFrame(data=galaxies, columns=gal_header)\n",
    "pd_dataframe['Environmental_density'] = neigh_densities"
   ]
  },
  {
   "cell_type": "code",
   "execution_count": 36,
   "metadata": {},
   "outputs": [],
   "source": [
    "pd_dataframe.to_hdf('test_galcat_w_densities.h5', 'w')"
   ]
  },
  {
   "cell_type": "markdown",
   "metadata": {},
   "source": [
    "# Try loading the newly created galaxy catalogue"
   ]
  },
  {
   "cell_type": "code",
   "execution_count": 38,
   "metadata": {},
   "outputs": [
    {
     "name": "stdout",
     "output_type": "stream",
     "text": [
      "['X_pos', 'Y_pos', 'Z_pos', 'X_vel', 'Y_vel', 'Z_vel', 'Halo_mass', 'Stellar_mass', 'SFR', 'Intra_cluster_mass', 'Halo_mass_peak', 'Stellar_mass_obs', 'SFR_obs', 'Halo_radius', 'Concentration', 'Halo_spin', 'Scale_peak_mass', 'Scale_half_mass', 'Scale_last_MajM', 'Type', 'Environmental_density']\n",
      "(10000, 21)\n"
     ]
    }
   ],
   "source": [
    "galfile = pd.read_hdf('test_galcat_w_densities.h5')\n",
    "galaxies = galfile.as_matrix()\n",
    "gal_header = galfile.keys().tolist()\n",
    "print(gal_header)\n",
    "print(np.shape(galaxies))"
   ]
  },
  {
   "cell_type": "code",
   "execution_count": 42,
   "metadata": {},
   "outputs": [
    {
     "name": "stdout",
     "output_type": "stream",
     "text": [
      "64.79929873109062\n",
      "105017.9585237503\n"
     ]
    }
   ],
   "source": [
    "print(np.mean(galaxies[:,20]))\n",
    "print(np.sum(galaxies[:,6]))"
   ]
  }
 ],
 "metadata": {
  "kernelspec": {
   "display_name": "Python 3",
   "language": "python",
   "name": "python3"
  },
  "language_info": {
   "codemirror_mode": {
    "name": "ipython",
    "version": 3
   },
   "file_extension": ".py",
   "mimetype": "text/x-python",
   "name": "python",
   "nbconvert_exporter": "python",
   "pygments_lexer": "ipython3",
   "version": "3.6.4"
  }
 },
 "nbformat": 4,
 "nbformat_minor": 2
}
