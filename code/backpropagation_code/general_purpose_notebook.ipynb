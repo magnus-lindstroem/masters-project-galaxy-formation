{
 "cells": [
  {
   "cell_type": "code",
   "execution_count": 112,
   "metadata": {},
   "outputs": [
    {
     "name": "stdout",
     "output_type": "stream",
     "text": [
      "The autoreload extension is already loaded. To reload it, use:\n",
      "  %reload_ext autoreload\n"
     ]
    }
   ],
   "source": [
    "import os\n",
    "from os.path import expanduser\n",
    "home_dir = expanduser(\"~\")\n",
    "module_path = home_dir + '/code/modules/'\n",
    "import sys\n",
    "sys.path.append(module_path)\n",
    "fig_dir = 'figures/'\n",
    "import time\n",
    "import importlib\n",
    "import random\n",
    "import tensorflow as tf\n",
    "import pandas as pd\n",
    "from keras.models import Sequential, Model\n",
    "from keras.layers import Input, Dense\n",
    "from keras.callbacks import EarlyStopping\n",
    "import numpy as np\n",
    "import matplotlib.pyplot as plt\n",
    "from mpl_toolkits.mplot3d import Axes3D\n",
    "from scipy import stats\n",
    "#import model_management\n",
    "from scipy.special import comb\n",
    "import datetime\n",
    "import codecs, json\n",
    "from itertools import combinations\n",
    "%load_ext autoreload\n",
    "%autoreload 1\n",
    "%aimport environmental_density\n",
    "%aimport data_processing\n",
    "%aimport plotting\n",
    "from environmental_density import get_density_periodic\n",
    "from data_processing import weighted_mse_1, stellar_mass_weighted_mse, load_galfile, divide_train_data, \\\n",
    "                            normalise_data, get_test_score, predict_test_points\n",
    "from plotting import *\n",
    "\n",
    "np.random.seed(999)\n",
    "random.seed(999)\n",
    "\n",
    "loss_func_dict = {\n",
    "    'mse': 'mse',\n",
    "    'mae': 'mae',\n",
    "    'weighted_mse_1': weighted_mse_1,\n",
    "    'stellar_mass_weighted_mse': stellar_mass_weighted_mse\n",
    "}"
   ]
  },
  {
   "cell_type": "code",
   "execution_count": null,
   "metadata": {},
   "outputs": [],
   "source": [
    "if run_on_cpu:\n",
    "    os.environ[\"CUDA_VISIBLE_DEVICES\"] = \"\""
   ]
  },
  {
   "cell_type": "markdown",
   "metadata": {},
   "source": [
    "## Set parameter string"
   ]
  },
  {
   "cell_type": "code",
   "execution_count": 106,
   "metadata": {},
   "outputs": [
    {
     "name": "stdout",
     "output_type": "stream",
     "text": [
      "[[1 2 2]\n",
      " [3 4 4]\n",
      " [5 6 7]]\n",
      "3\n"
     ]
    },
    {
     "ename": "AttributeError",
     "evalue": "'Tensor' object has no attribute 'sh'",
     "output_type": "error",
     "traceback": [
      "\u001b[0;31m---------------------------------------------------------------------------\u001b[0m",
      "\u001b[0;31mAttributeError\u001b[0m                            Traceback (most recent call last)",
      "\u001b[0;32m<ipython-input-106-ca6cc7daec85>\u001b[0m in \u001b[0;36m<module>\u001b[0;34m()\u001b[0m\n\u001b[1;32m      3\u001b[0m \u001b[0mprint\u001b[0m\u001b[0;34m(\u001b[0m\u001b[0ma\u001b[0m\u001b[0;34m)\u001b[0m\u001b[0;34m\u001b[0m\u001b[0m\n\u001b[1;32m      4\u001b[0m \u001b[0mprint\u001b[0m\u001b[0;34m(\u001b[0m\u001b[0ma\u001b[0m\u001b[0;34m.\u001b[0m\u001b[0mshape\u001b[0m\u001b[0;34m[\u001b[0m\u001b[0;36m0\u001b[0m\u001b[0;34m]\u001b[0m\u001b[0;34m)\u001b[0m\u001b[0;34m\u001b[0m\u001b[0m\n\u001b[0;32m----> 5\u001b[0;31m \u001b[0mprint\u001b[0m\u001b[0;34m(\u001b[0m\u001b[0mK\u001b[0m\u001b[0;34m.\u001b[0m\u001b[0mshape\u001b[0m\u001b[0;34m(\u001b[0m\u001b[0ma\u001b[0m\u001b[0;34m)\u001b[0m\u001b[0;34m.\u001b[0m\u001b[0msh\u001b[0m\u001b[0;34m)\u001b[0m\u001b[0;34m\u001b[0m\u001b[0m\n\u001b[0m",
      "\u001b[0;31mAttributeError\u001b[0m: 'Tensor' object has no attribute 'sh'"
     ]
    }
   ],
   "source": [
    "from keras import backend as K\n",
    "a = np.array([[1,2,2],[3,4,4],[5,6,7]])\n",
    "print(a)\n",
    "print(a.shape[0])\n",
    "print(K.shape(a).sh)"
   ]
  },
  {
   "cell_type": "code",
   "execution_count": null,
   "metadata": {},
   "outputs": [],
   "source": [
    "### Set name ending with parameters for figures to be saved\n",
    "param_string = 'nLayers_%d_nNeurons_%d_actFun_%s_lossFunc_%s_nTrainSamples_%d_nEpochs_%d_batchSize_%d' % (\n",
    "    nLayers, neuronsPerLayer, activationFunction, loss_function, train_size, nEpochs, batchSize)\n",
    "print(param_string)"
   ]
  },
  {
   "cell_type": "code",
   "execution_count": null,
   "metadata": {},
   "outputs": [],
   "source": [
    "print(np.mean(y_test_norm, 0))\n",
    "print(np.std(y_test_norm, 0))\n",
    "print(np.min(x_test_norm, 0))\n",
    "print(np.max(x_test_norm, 0))"
   ]
  },
  {
   "cell_type": "code",
   "execution_count": null,
   "metadata": {},
   "outputs": [],
   "source": [
    "### Get a feel for the data\n",
    "for i in range(len(input_features)):\n",
    "    print(input_features[i],': min: %.2e, max: %.2e.' % (np.min(x_train[:,i]), np.max(x_train[:,i])))\n",
    "for i in range(len(output_features)):\n",
    "    print(output_features[i],': min: %.2e, max: %.2e.' % (np.min(y_train[:,i]), np.max(y_train[:,i])))"
   ]
  },
  {
   "cell_type": "code",
   "execution_count": null,
   "metadata": {
    "scrolled": true
   },
   "outputs": [],
   "source": [
    "### Visualisation for when we have 2 input features\n",
    "%matplotlib notebook\n",
    "input_feat_1 = 0\n",
    "input_feat_2 = 1\n",
    "output_feat = 1\n",
    "\n",
    "fig = plt.figure(1, figsize=(8,8))\n",
    "ax = fig.add_subplot(111, projection='3d')\n",
    "ax.scatter(x_train_norm[:500,input_feat_1], x_train_norm[:500,input_feat_2], \n",
    "           y_train_norm[:500,output_feat])\n",
    "ax.set_xlabel('%s log($M_{H}/M_{S}$)' % (input_features[input_feat_1]))\n",
    "ax.set_ylabel('%s log($M_{H}/M_{S}$)' % (input_features[input_feat_2]))\n",
    "ax.set_zlabel('%s log($M_{G}/M_{S}$)' % (output_features[output_feat]))\n",
    "plt.show()"
   ]
  },
  {
   "cell_type": "markdown",
   "metadata": {},
   "source": [
    "## Load an existing model"
   ]
  },
  {
   "cell_type": "code",
   "execution_count": null,
   "metadata": {},
   "outputs": [],
   "source": [
    "### Search for the model that you want\n",
    "importlib.reload(model_management)\n",
    "search_dict = {\n",
    "    'training_method': 'backprop'\n",
    "}\n",
    "[model_dicts, description_dicts] = model_management.SearchModel(search_dict, get_hits=True)\n",
    "print(description_dicts)\n",
    "print('\\n')\n",
    "for key in model_dicts:\n",
    "    print(key)\n",
    "    print(model_dicts[key])\n",
    "    print('\\n')\n"
   ]
  },
  {
   "cell_type": "code",
   "execution_count": null,
   "metadata": {},
   "outputs": [],
   "source": [
    "importlib.reload(model_management)\n",
    "model, model_dict, description = model_management.LoadModel(search_dict, 1)"
   ]
  },
  {
   "cell_type": "markdown",
   "metadata": {},
   "source": [
    "## Get the standard pictures"
   ]
  },
  {
   "cell_type": "code",
   "execution_count": 143,
   "metadata": {
    "scrolled": false
   },
   "outputs": [
    {
     "name": "stdout",
     "output_type": "stream",
     "text": [
      "25000/25000 [==============================] - 3s 105us/step\n"
     ]
    },
    {
     "name": "stderr",
     "output_type": "stream",
     "text": [
      "/opt/anaconda/lib/python3.6/site-packages/numpy/core/_methods.py:102: RuntimeWarning: overflow encountered in reduce\n",
      "  arrmean = umr_sum(arr, axis, dtype, keepdims=True)\n"
     ]
    },
    {
     "data": {
      "text/plain": [
       "<function matplotlib.pyplot.show>"
      ]
     },
     "execution_count": 143,
     "metadata": {},
     "output_type": "execute_result"
    },
    {
     "data": {
      "image/png": "[encoded data removed]",
      "text/plain": [
       "<matplotlib.figure.Figure at 0x7f97b40f06d8>"
      ]
     },
     "metadata": {},
     "output_type": "display_data"
    },
    {
     "data": {
      "image/png": "[encoded data removed]",
      "text/plain": [
       "<matplotlib.figure.Figure at 0x7f979c7b25c0>"
      ]
     },
     "metadata": {},
     "output_type": "display_data"
    },
    {
     "data": {
      "image/png": "[encoded data removed]",
      "text/plain": [
       "<matplotlib.figure.Figure at 0x7f979c7b23c8>"
      ]
     },
     "metadata": {},
     "output_type": "display_data"
    },
    {
     "data": {
      "image/png": "[encoded data removed]",
      "text/plain": [
       "<matplotlib.figure.Figure at 0x7f97847a0d68>"
      ]
     },
     "metadata": {},
     "output_type": "display_data"
    },
    {
     "data": {
      "image/png": "[encoded data removed]",
      "text/plain": [
       "<matplotlib.figure.Figure at 0x7f97846f0470>"
      ]
     },
     "metadata": {},
     "output_type": "display_data"
    }
   ],
   "source": [
    "norm_scores = model.evaluate(x=training_data_dict['input_test_dict'], y=training_data_dict['output_test_dict'],\n",
    "                                               verbose=1)\n",
    "tot_score = norm_scores[0]\n",
    "title = 'Inputs: %s\\ntest mse %.3e' % (', '.join(input_features), tot_score)\n",
    "fig1 = get_pred_vs_real_scatterplot(model, training_data_dict, unit_dict, data_keys, 'SFR', title=title)\n",
    "fig2 = get_real_vs_pred_boxplot(model, training_data_dict, unit_dict, data_keys, predicted_feat = 'Stellar_mass', \n",
    "                                binning_feat = 'Halo_mass', title=title)\n",
    "fig3 = get_scatter_comparison_plots(model, training_data_dict, unit_dict, x_axis_feature = 'Halo_mass', \n",
    "                                    y_axis_feature = 'Stellar_mass', title=title, y_max = None, y_min = None,\n",
    "                                    x_min = None, x_max = None)\n",
    "fig4 = get_real_vs_pred_boxplot(model, training_data_dict, unit_dict, data_keys, 'SFR', \n",
    "                                binning_feat = 'Halo_mass', title=title)\n",
    "fig5 = get_scatter_comparison_plots(model, training_data_dict, unit_dict, x_axis_feature = 'Stellar_mass', \n",
    "                                    y_axis_feature = 'SFR', title=title, y_max = 10, y_min = None,\n",
    "                                    x_min = None, x_max = None)\n",
    "plt.show"
   ]
  },
  {
   "cell_type": "code",
   "execution_count": 50,
   "metadata": {},
   "outputs": [],
   "source": [
    "### Save the figures\n",
    "fig1.savefig(fig_dir + '_'.join(input_features) + '_true_pred_sfr_scatter.png', bbox_inches = 'tight')\n",
    "fig2.savefig(fig_dir + '_'.join(input_features) + '_boxplot_stellar_mass.png', bbox_inches = 'tight')\n",
    "fig3.savefig(fig_dir + '_'.join(input_features) + '_scatter_comp_halo_vs_stellar_mass.png', bbox_inches = 'tight')\n",
    "fig4.savefig(fig_dir + '_'.join(input_features) + '_boxplot_sfr.png', bbox_inches = 'tight')\n",
    "fig5.savefig(fig_dir + '_'.join(input_features) + '_scatter_comp_stellar_mass_vs_sfr.png', bbox_inches = 'tight')"
   ]
  },
  {
   "cell_type": "markdown",
   "metadata": {},
   "source": [
    "## Create a new model"
   ]
  },
  {
   "cell_type": "code",
   "execution_count": 113,
   "metadata": {},
   "outputs": [],
   "source": [
    "### General parameters\n",
    "nr_steps = 1e4\n",
    "batch_size = 2.5e4\n",
    "total_set_size = 300000 # how many examples will be used for training+validation+testing\n",
    "train_size = 250000\n",
    "val_size = 25000\n",
    "test_size = 25000\n",
    "norm = 'zero_to_one' # 'none',   'zero_mean_unit_std',   'zero_to_one'\n",
    "input_features = ['Halo_mass', 'Halo_mass_peak', 'Scale_peak_mass', 'Scale_half_mass', 'Scale_last_MajM']\n",
    "output_features = ['Stellar_mass', 'SFR']\n",
    "loss_func_dict = {   # 'mse', 'weighted_mse_1' 'mae' 'stellar_mass_weighted_mse'\n",
    "    'Stellar_mass': 'mse',\n",
    "    'SFR': 'mae'\n",
    "} \n",
    "early_stop_patience = 200\n",
    "early_stop_monitor = 'val_loss'\n",
    "early_stop_min_delta = 1e-8\n",
    "\n",
    "nr_epochs = nr_steps * batch_size / train_size\n",
    "\n",
    "### Network parameters\n",
    "nLayers = 10\n",
    "activationFunction = 'tanh'\n",
    "neuronsPerLayer = 30\n"
   ]
  },
  {
   "cell_type": "code",
   "execution_count": 114,
   "metadata": {},
   "outputs": [],
   "source": [
    "# load the selected galaxyfile\n",
    "galaxies, data_keys, unit_dict = load_galfile()\n",
    "    \n",
    "# prepare the training data\n",
    "training_data_dict = divide_train_data(galaxies, data_keys, input_features, output_features, \n",
    "                                       total_set_size, train_size, val_size, test_size)\n",
    "galaxies = None\n",
    "training_data_dict = normalise_data(training_data_dict, norm)"
   ]
  },
  {
   "cell_type": "code",
   "execution_count": 43,
   "metadata": {},
   "outputs": [
    {
     "name": "stdout",
     "output_type": "stream",
     "text": [
      "{'X_pos': 0, 'Y_pos': 1, 'Z_pos': 2, 'X_vel': 3, 'Y_vel': 4, 'Z_vel': 5, 'Halo_mass': 6, 'Stellar_mass': 7, 'SFR': 8, 'Intra_cluster_mass': 9, 'Halo_mass_peak': 10, 'Stellar_mass_obs': 11, 'SFR_obs': 12, 'Halo_radius': 13, 'Concentration': 14, 'Halo_spin': 15, 'Scale_peak_mass': 16, 'Scale_half_mass': 17, 'Scale_last_MajM': 18, 'Type': 19, 'Environmental_density': 20}\n",
      "{'Type': 0, 'Environmental_density': 1}\n"
     ]
    }
   ],
   "source": [
    "print(data_keys)\n",
    "print(training_data_dict['x_data_keys'])"
   ]
  },
  {
   "cell_type": "code",
   "execution_count": 116,
   "metadata": {},
   "outputs": [
    {
     "name": "stdout",
     "output_type": "stream",
     "text": [
      "Train on 250000 samples, validate on 25000 samples\n",
      "Epoch 1/1000\n",
      "250000/250000 [==============================] - 1s 6us/step - loss: 2.0239 - Stellar_mass_loss: 1.1745 - SFR_loss: 0.8495 - val_loss: 0.8828 - val_Stellar_mass_loss: 0.1869 - val_SFR_loss: 0.6958\n",
      "Epoch 2/1000\n",
      "250000/250000 [==============================] - 0s 2us/step - loss: 0.6223 - Stellar_mass_loss: 0.1780 - SFR_loss: 0.4444 - val_loss: 0.3877 - val_Stellar_mass_loss: 0.1378 - val_SFR_loss: 0.2498\n",
      "Epoch 3/1000\n",
      "250000/250000 [==============================] - 0s 2us/step - loss: 0.2726 - Stellar_mass_loss: 0.0834 - SFR_loss: 0.1892 - val_loss: 0.1897 - val_Stellar_mass_loss: 0.0499 - val_SFR_loss: 0.1398\n",
      "Epoch 4/1000\n",
      "250000/250000 [==============================] - 0s 1us/step - loss: 0.1527 - Stellar_mass_loss: 0.0447 - SFR_loss: 0.1081 - val_loss: 0.1154 - val_Stellar_mass_loss: 0.0395 - val_SFR_loss: 0.0759\n",
      "Epoch 5/1000\n",
      "250000/250000 [==============================] - 0s 1us/step - loss: 0.1005 - Stellar_mass_loss: 0.0344 - SFR_loss: 0.0661 - val_loss: 0.0865 - val_Stellar_mass_loss: 0.0309 - val_SFR_loss: 0.0557\n",
      "Epoch 6/1000\n",
      "250000/250000 [==============================] - 0s 1us/step - loss: 0.0762 - Stellar_mass_loss: 0.0263 - SFR_loss: 0.0498 - val_loss: 0.0679 - val_Stellar_mass_loss: 0.0236 - val_SFR_loss: 0.0443\n",
      "Epoch 7/1000\n",
      "250000/250000 [==============================] - 0s 1us/step - loss: 0.0629 - Stellar_mass_loss: 0.0223 - SFR_loss: 0.0407 - val_loss: 0.0588 - val_Stellar_mass_loss: 0.0213 - val_SFR_loss: 0.0375\n",
      "Epoch 8/1000\n",
      "250000/250000 [==============================] - 0s 1us/step - loss: 0.0543 - Stellar_mass_loss: 0.0195 - SFR_loss: 0.0347 - val_loss: 0.0508 - val_Stellar_mass_loss: 0.0186 - val_SFR_loss: 0.0323\n",
      "Epoch 9/1000\n",
      "250000/250000 [==============================] - 0s 1us/step - loss: 0.0481 - Stellar_mass_loss: 0.0176 - SFR_loss: 0.0305 - val_loss: 0.0460 - val_Stellar_mass_loss: 0.0168 - val_SFR_loss: 0.0292\n",
      "Epoch 10/1000\n",
      "250000/250000 [==============================] - 0s 1us/step - loss: 0.0439 - Stellar_mass_loss: 0.0159 - SFR_loss: 0.0280 - val_loss: 0.0422 - val_Stellar_mass_loss: 0.0151 - val_SFR_loss: 0.0271\n",
      "Epoch 11/1000\n",
      "250000/250000 [==============================] - 0s 1us/step - loss: 0.0407 - Stellar_mass_loss: 0.0144 - SFR_loss: 0.0262 - val_loss: 0.0393 - val_Stellar_mass_loss: 0.0138 - val_SFR_loss: 0.0255\n",
      "Epoch 12/1000\n",
      "250000/250000 [==============================] - 0s 1us/step - loss: 0.0380 - Stellar_mass_loss: 0.0134 - SFR_loss: 0.0246 - val_loss: 0.0367 - val_Stellar_mass_loss: 0.0129 - val_SFR_loss: 0.0239\n",
      "Epoch 13/1000\n",
      "250000/250000 [==============================] - 0s 1us/step - loss: 0.0357 - Stellar_mass_loss: 0.0126 - SFR_loss: 0.0232 - val_loss: 0.0350 - val_Stellar_mass_loss: 0.0123 - val_SFR_loss: 0.0227\n",
      "Epoch 14/1000\n",
      "250000/250000 [==============================] - 0s 1us/step - loss: 0.0344 - Stellar_mass_loss: 0.0119 - SFR_loss: 0.0225 - val_loss: 0.0328 - val_Stellar_mass_loss: 0.0115 - val_SFR_loss: 0.0213\n",
      "Epoch 15/1000\n",
      "250000/250000 [==============================] - 0s 1us/step - loss: 0.0324 - Stellar_mass_loss: 0.0113 - SFR_loss: 0.0211 - val_loss: 0.0327 - val_Stellar_mass_loss: 0.0109 - val_SFR_loss: 0.0218\n",
      "Epoch 16/1000\n",
      "250000/250000 [==============================] - 0s 1us/step - loss: 0.0313 - Stellar_mass_loss: 0.0108 - SFR_loss: 0.0204 - val_loss: 0.0305 - val_Stellar_mass_loss: 0.0106 - val_SFR_loss: 0.0200\n",
      "Epoch 17/1000\n",
      "250000/250000 [==============================] - 0s 1us/step - loss: 0.0294 - Stellar_mass_loss: 0.0104 - SFR_loss: 0.0190 - val_loss: 0.0327 - val_Stellar_mass_loss: 0.0105 - val_SFR_loss: 0.0222\n",
      "Epoch 18/1000\n",
      "250000/250000 [==============================] - 0s 1us/step - loss: 0.0298 - Stellar_mass_loss: 0.0100 - SFR_loss: 0.0198 - val_loss: 0.0363 - val_Stellar_mass_loss: 0.0103 - val_SFR_loss: 0.0260\n",
      "Epoch 19/1000\n",
      "250000/250000 [==============================] - 0s 1us/step - loss: 0.0326 - Stellar_mass_loss: 0.0097 - SFR_loss: 0.0229 - val_loss: 0.0402 - val_Stellar_mass_loss: 0.0102 - val_SFR_loss: 0.0300\n",
      "Epoch 20/1000\n",
      "250000/250000 [==============================] - 0s 1us/step - loss: 0.0372 - Stellar_mass_loss: 0.0093 - SFR_loss: 0.0279 - val_loss: 0.0345 - val_Stellar_mass_loss: 0.0098 - val_SFR_loss: 0.0247\n",
      "Epoch 21/1000\n",
      "250000/250000 [==============================] - 0s 1us/step - loss: 0.0303 - Stellar_mass_loss: 0.0090 - SFR_loss: 0.0213 - val_loss: 0.0352 - val_Stellar_mass_loss: 0.0096 - val_SFR_loss: 0.0256\n",
      "Epoch 22/1000\n",
      "250000/250000 [==============================] - 0s 1us/step - loss: 0.0289 - Stellar_mass_loss: 0.0087 - SFR_loss: 0.0202 - val_loss: 0.0310 - val_Stellar_mass_loss: 0.0094 - val_SFR_loss: 0.0215\n",
      "Epoch 23/1000\n",
      "250000/250000 [==============================] - 0s 1us/step - loss: 0.0283 - Stellar_mass_loss: 0.0085 - SFR_loss: 0.0198 - val_loss: 0.0296 - val_Stellar_mass_loss: 0.0092 - val_SFR_loss: 0.0204\n",
      "Epoch 24/1000\n",
      "250000/250000 [==============================] - 0s 1us/step - loss: 0.0274 - Stellar_mass_loss: 0.0084 - SFR_loss: 0.0191 - val_loss: 0.0273 - val_Stellar_mass_loss: 0.0088 - val_SFR_loss: 0.0185\n",
      "Epoch 25/1000\n",
      "250000/250000 [==============================] - 0s 1us/step - loss: 0.0265 - Stellar_mass_loss: 0.0082 - SFR_loss: 0.0183 - val_loss: 0.0278 - val_Stellar_mass_loss: 0.0086 - val_SFR_loss: 0.0192\n",
      "Epoch 26/1000\n",
      "250000/250000 [==============================] - 0s 1us/step - loss: 0.0260 - Stellar_mass_loss: 0.0080 - SFR_loss: 0.0180 - val_loss: 0.0263 - val_Stellar_mass_loss: 0.0086 - val_SFR_loss: 0.0177\n",
      "Epoch 27/1000\n",
      "250000/250000 [==============================] - 0s 1us/step - loss: 0.0252 - Stellar_mass_loss: 0.0078 - SFR_loss: 0.0173 - val_loss: 0.0276 - val_Stellar_mass_loss: 0.0085 - val_SFR_loss: 0.0191\n",
      "Epoch 28/1000\n",
      "250000/250000 [==============================] - 0s 1us/step - loss: 0.0251 - Stellar_mass_loss: 0.0077 - SFR_loss: 0.0174 - val_loss: 0.0252 - val_Stellar_mass_loss: 0.0084 - val_SFR_loss: 0.0168\n",
      "Epoch 29/1000\n",
      "250000/250000 [==============================] - 0s 1us/step - loss: 0.0243 - Stellar_mass_loss: 0.0075 - SFR_loss: 0.0168 - val_loss: 0.0265 - val_Stellar_mass_loss: 0.0082 - val_SFR_loss: 0.0183\n",
      "Epoch 30/1000\n",
      "250000/250000 [==============================] - 0s 1us/step - loss: 0.0245 - Stellar_mass_loss: 0.0074 - SFR_loss: 0.0171 - val_loss: 0.0245 - val_Stellar_mass_loss: 0.0081 - val_SFR_loss: 0.0164\n",
      "Epoch 31/1000\n",
      "250000/250000 [==============================] - 0s 1us/step - loss: 0.0237 - Stellar_mass_loss: 0.0072 - SFR_loss: 0.0165 - val_loss: 0.0253 - val_Stellar_mass_loss: 0.0079 - val_SFR_loss: 0.0174\n",
      "Epoch 32/1000\n",
      "250000/250000 [==============================] - 0s 1us/step - loss: 0.0235 - Stellar_mass_loss: 0.0071 - SFR_loss: 0.0164 - val_loss: 0.0240 - val_Stellar_mass_loss: 0.0078 - val_SFR_loss: 0.0162\n",
      "Epoch 33/1000\n",
      "250000/250000 [==============================] - 0s 1us/step - loss: 0.0230 - Stellar_mass_loss: 0.0070 - SFR_loss: 0.0160 - val_loss: 0.0252 - val_Stellar_mass_loss: 0.0076 - val_SFR_loss: 0.0176\n",
      "Epoch 34/1000\n",
      "250000/250000 [==============================] - 0s 1us/step - loss: 0.0229 - Stellar_mass_loss: 0.0069 - SFR_loss: 0.0159 - val_loss: 0.0220 - val_Stellar_mass_loss: 0.0075 - val_SFR_loss: 0.0145\n",
      "Epoch 35/1000\n",
      "250000/250000 [==============================] - 0s 1us/step - loss: 0.0203 - Stellar_mass_loss: 0.0068 - SFR_loss: 0.0134 - val_loss: 0.0209 - val_Stellar_mass_loss: 0.0073 - val_SFR_loss: 0.0136\n",
      "Epoch 36/1000\n",
      "250000/250000 [==============================] - 0s 1us/step - loss: 0.0194 - Stellar_mass_loss: 0.0067 - SFR_loss: 0.0127 - val_loss: 0.0210 - val_Stellar_mass_loss: 0.0073 - val_SFR_loss: 0.0137\n",
      "Epoch 37/1000\n",
      "250000/250000 [==============================] - 0s 1us/step - loss: 0.0200 - Stellar_mass_loss: 0.0067 - SFR_loss: 0.0133 - val_loss: 0.0202 - val_Stellar_mass_loss: 0.0072 - val_SFR_loss: 0.0129\n",
      "Epoch 38/1000\n",
      "250000/250000 [==============================] - 0s 1us/step - loss: 0.0193 - Stellar_mass_loss: 0.0066 - SFR_loss: 0.0127 - val_loss: 0.0208 - val_Stellar_mass_loss: 0.0071 - val_SFR_loss: 0.0137\n",
      "Epoch 39/1000\n",
      "250000/250000 [==============================] - 0s 2us/step - loss: 0.0195 - Stellar_mass_loss: 0.0065 - SFR_loss: 0.0129 - val_loss: 0.0202 - val_Stellar_mass_loss: 0.0070 - val_SFR_loss: 0.0132\n"
     ]
    },
    {
     "name": "stdout",
     "output_type": "stream",
     "text": [
      "Epoch 40/1000\n",
      "250000/250000 [==============================] - 0s 2us/step - loss: 0.0193 - Stellar_mass_loss: 0.0064 - SFR_loss: 0.0128 - val_loss: 0.0203 - val_Stellar_mass_loss: 0.0069 - val_SFR_loss: 0.0134\n",
      "Epoch 41/1000\n",
      "250000/250000 [==============================] - 0s 1us/step - loss: 0.0192 - Stellar_mass_loss: 0.0063 - SFR_loss: 0.0128 - val_loss: 0.0200 - val_Stellar_mass_loss: 0.0068 - val_SFR_loss: 0.0132\n",
      "Epoch 42/1000\n",
      "250000/250000 [==============================] - 0s 1us/step - loss: 0.0212 - Stellar_mass_loss: 0.0062 - SFR_loss: 0.0150 - val_loss: 0.0208 - val_Stellar_mass_loss: 0.0067 - val_SFR_loss: 0.0141\n",
      "Epoch 43/1000\n",
      "250000/250000 [==============================] - 0s 1us/step - loss: 0.0195 - Stellar_mass_loss: 0.0061 - SFR_loss: 0.0134 - val_loss: 0.0238 - val_Stellar_mass_loss: 0.0066 - val_SFR_loss: 0.0172\n",
      "Epoch 44/1000\n",
      "250000/250000 [==============================] - 0s 1us/step - loss: 0.0200 - Stellar_mass_loss: 0.0061 - SFR_loss: 0.0139 - val_loss: 0.0203 - val_Stellar_mass_loss: 0.0065 - val_SFR_loss: 0.0138\n",
      "Epoch 45/1000\n",
      "250000/250000 [==============================] - 0s 1us/step - loss: 0.0207 - Stellar_mass_loss: 0.0060 - SFR_loss: 0.0148 - val_loss: 0.0181 - val_Stellar_mass_loss: 0.0064 - val_SFR_loss: 0.0118\n",
      "Epoch 46/1000\n",
      "250000/250000 [==============================] - 0s 1us/step - loss: 0.0205 - Stellar_mass_loss: 0.0059 - SFR_loss: 0.0146 - val_loss: 0.0208 - val_Stellar_mass_loss: 0.0063 - val_SFR_loss: 0.0145\n",
      "Epoch 47/1000\n",
      "250000/250000 [==============================] - 0s 1us/step - loss: 0.0208 - Stellar_mass_loss: 0.0058 - SFR_loss: 0.0150 - val_loss: 0.0215 - val_Stellar_mass_loss: 0.0062 - val_SFR_loss: 0.0152\n",
      "Epoch 48/1000\n",
      "250000/250000 [==============================] - 0s 1us/step - loss: 0.0207 - Stellar_mass_loss: 0.0057 - SFR_loss: 0.0150 - val_loss: 0.0216 - val_Stellar_mass_loss: 0.0061 - val_SFR_loss: 0.0155\n",
      "Epoch 49/1000\n",
      "250000/250000 [==============================] - 0s 1us/step - loss: 0.0203 - Stellar_mass_loss: 0.0057 - SFR_loss: 0.0146 - val_loss: 0.0206 - val_Stellar_mass_loss: 0.0060 - val_SFR_loss: 0.0146\n",
      "Epoch 50/1000\n",
      "250000/250000 [==============================] - 0s 1us/step - loss: 0.0201 - Stellar_mass_loss: 0.0056 - SFR_loss: 0.0145 - val_loss: 0.0211 - val_Stellar_mass_loss: 0.0059 - val_SFR_loss: 0.0151\n",
      "Epoch 51/1000\n",
      "250000/250000 [==============================] - 0s 1us/step - loss: 0.0200 - Stellar_mass_loss: 0.0056 - SFR_loss: 0.0144 - val_loss: 0.0200 - val_Stellar_mass_loss: 0.0058 - val_SFR_loss: 0.0142\n",
      "Epoch 52/1000\n",
      "250000/250000 [==============================] - 0s 1us/step - loss: 0.0197 - Stellar_mass_loss: 0.0055 - SFR_loss: 0.0142 - val_loss: 0.0204 - val_Stellar_mass_loss: 0.0058 - val_SFR_loss: 0.0146\n",
      "Epoch 53/1000\n",
      "250000/250000 [==============================] - 0s 1us/step - loss: 0.0195 - Stellar_mass_loss: 0.0054 - SFR_loss: 0.0141 - val_loss: 0.0195 - val_Stellar_mass_loss: 0.0057 - val_SFR_loss: 0.0138\n",
      "Epoch 54/1000\n",
      "250000/250000 [==============================] - 0s 1us/step - loss: 0.0194 - Stellar_mass_loss: 0.0054 - SFR_loss: 0.0140 - val_loss: 0.0202 - val_Stellar_mass_loss: 0.0056 - val_SFR_loss: 0.0145\n",
      "Epoch 55/1000\n",
      "250000/250000 [==============================] - 0s 1us/step - loss: 0.0189 - Stellar_mass_loss: 0.0053 - SFR_loss: 0.0136 - val_loss: 0.0191 - val_Stellar_mass_loss: 0.0055 - val_SFR_loss: 0.0136\n",
      "Epoch 56/1000\n",
      "250000/250000 [==============================] - 0s 1us/step - loss: 0.0188 - Stellar_mass_loss: 0.0053 - SFR_loss: 0.0135 - val_loss: 0.0186 - val_Stellar_mass_loss: 0.0055 - val_SFR_loss: 0.0131\n",
      "Epoch 57/1000\n",
      "250000/250000 [==============================] - 0s 1us/step - loss: 0.0180 - Stellar_mass_loss: 0.0052 - SFR_loss: 0.0128 - val_loss: 0.0201 - val_Stellar_mass_loss: 0.0055 - val_SFR_loss: 0.0146\n",
      "Epoch 58/1000\n",
      "250000/250000 [==============================] - 0s 1us/step - loss: 0.0172 - Stellar_mass_loss: 0.0052 - SFR_loss: 0.0120 - val_loss: 0.0166 - val_Stellar_mass_loss: 0.0054 - val_SFR_loss: 0.0112\n",
      "Epoch 59/1000\n",
      "250000/250000 [==============================] - 0s 1us/step - loss: 0.0160 - Stellar_mass_loss: 0.0052 - SFR_loss: 0.0108 - val_loss: 0.0158 - val_Stellar_mass_loss: 0.0053 - val_SFR_loss: 0.0105\n",
      "Epoch 60/1000\n",
      "250000/250000 [==============================] - 0s 1us/step - loss: 0.0151 - Stellar_mass_loss: 0.0051 - SFR_loss: 0.0099 - val_loss: 0.0155 - val_Stellar_mass_loss: 0.0052 - val_SFR_loss: 0.0102\n",
      "Epoch 61/1000\n",
      "250000/250000 [==============================] - 0s 1us/step - loss: 0.0148 - Stellar_mass_loss: 0.0051 - SFR_loss: 0.0097 - val_loss: 0.0152 - val_Stellar_mass_loss: 0.0052 - val_SFR_loss: 0.0100\n",
      "Epoch 62/1000\n",
      "250000/250000 [==============================] - 0s 1us/step - loss: 0.0147 - Stellar_mass_loss: 0.0051 - SFR_loss: 0.0096 - val_loss: 0.0150 - val_Stellar_mass_loss: 0.0052 - val_SFR_loss: 0.0098\n",
      "Epoch 63/1000\n",
      "250000/250000 [==============================] - 0s 2us/step - loss: 0.0146 - Stellar_mass_loss: 0.0051 - SFR_loss: 0.0095 - val_loss: 0.0149 - val_Stellar_mass_loss: 0.0052 - val_SFR_loss: 0.0097\n",
      "Epoch 64/1000\n",
      "250000/250000 [==============================] - 0s 1us/step - loss: 0.0145 - Stellar_mass_loss: 0.0051 - SFR_loss: 0.0094 - val_loss: 0.0148 - val_Stellar_mass_loss: 0.0051 - val_SFR_loss: 0.0097\n",
      "Epoch 65/1000\n",
      "250000/250000 [==============================] - 0s 1us/step - loss: 0.0144 - Stellar_mass_loss: 0.0050 - SFR_loss: 0.0093 - val_loss: 0.0147 - val_Stellar_mass_loss: 0.0051 - val_SFR_loss: 0.0096\n",
      "Epoch 66/1000\n",
      "250000/250000 [==============================] - 0s 1us/step - loss: 0.0143 - Stellar_mass_loss: 0.0050 - SFR_loss: 0.0093 - val_loss: 0.0146 - val_Stellar_mass_loss: 0.0050 - val_SFR_loss: 0.0096\n",
      "Epoch 67/1000\n",
      "250000/250000 [==============================] - 0s 1us/step - loss: 0.0142 - Stellar_mass_loss: 0.0050 - SFR_loss: 0.0092 - val_loss: 0.0145 - val_Stellar_mass_loss: 0.0050 - val_SFR_loss: 0.0095\n",
      "Epoch 68/1000\n",
      "250000/250000 [==============================] - 0s 1us/step - loss: 0.0141 - Stellar_mass_loss: 0.0049 - SFR_loss: 0.0092 - val_loss: 0.0144 - val_Stellar_mass_loss: 0.0049 - val_SFR_loss: 0.0094\n",
      "Epoch 69/1000\n",
      "250000/250000 [==============================] - 0s 1us/step - loss: 0.0140 - Stellar_mass_loss: 0.0049 - SFR_loss: 0.0091 - val_loss: 0.0142 - val_Stellar_mass_loss: 0.0049 - val_SFR_loss: 0.0094\n",
      "Epoch 70/1000\n",
      "250000/250000 [==============================] - 0s 2us/step - loss: 0.0140 - Stellar_mass_loss: 0.0049 - SFR_loss: 0.0091 - val_loss: 0.0141 - val_Stellar_mass_loss: 0.0048 - val_SFR_loss: 0.0093\n",
      "Epoch 71/1000\n",
      "250000/250000 [==============================] - 0s 2us/step - loss: 0.0139 - Stellar_mass_loss: 0.0049 - SFR_loss: 0.0090 - val_loss: 0.0141 - val_Stellar_mass_loss: 0.0048 - val_SFR_loss: 0.0093\n",
      "Epoch 72/1000\n",
      "250000/250000 [==============================] - 0s 1us/step - loss: 0.0138 - Stellar_mass_loss: 0.0048 - SFR_loss: 0.0090 - val_loss: 0.0139 - val_Stellar_mass_loss: 0.0048 - val_SFR_loss: 0.0091\n",
      "Epoch 73/1000\n",
      "250000/250000 [==============================] - 0s 1us/step - loss: 0.0137 - Stellar_mass_loss: 0.0048 - SFR_loss: 0.0089 - val_loss: 0.0138 - val_Stellar_mass_loss: 0.0047 - val_SFR_loss: 0.0091\n",
      "Epoch 74/1000\n",
      "250000/250000 [==============================] - 0s 1us/step - loss: 0.0137 - Stellar_mass_loss: 0.0048 - SFR_loss: 0.0089 - val_loss: 0.0137 - val_Stellar_mass_loss: 0.0047 - val_SFR_loss: 0.0090\n",
      "Epoch 75/1000\n",
      "250000/250000 [==============================] - 0s 1us/step - loss: 0.0136 - Stellar_mass_loss: 0.0047 - SFR_loss: 0.0088 - val_loss: 0.0137 - val_Stellar_mass_loss: 0.0047 - val_SFR_loss: 0.0090\n",
      "Epoch 76/1000\n",
      "250000/250000 [==============================] - 0s 1us/step - loss: 0.0135 - Stellar_mass_loss: 0.0047 - SFR_loss: 0.0088 - val_loss: 0.0137 - val_Stellar_mass_loss: 0.0046 - val_SFR_loss: 0.0090\n",
      "Epoch 77/1000\n",
      "250000/250000 [==============================] - 0s 1us/step - loss: 0.0134 - Stellar_mass_loss: 0.0047 - SFR_loss: 0.0087 - val_loss: 0.0136 - val_Stellar_mass_loss: 0.0046 - val_SFR_loss: 0.0090\n",
      "Epoch 78/1000\n",
      "250000/250000 [==============================] - 0s 1us/step - loss: 0.0134 - Stellar_mass_loss: 0.0046 - SFR_loss: 0.0087 - val_loss: 0.0135 - val_Stellar_mass_loss: 0.0045 - val_SFR_loss: 0.0089\n"
     ]
    },
    {
     "name": "stdout",
     "output_type": "stream",
     "text": [
      "Epoch 79/1000\n",
      "250000/250000 [==============================] - 0s 1us/step - loss: 0.0133 - Stellar_mass_loss: 0.0046 - SFR_loss: 0.0087 - val_loss: 0.0134 - val_Stellar_mass_loss: 0.0045 - val_SFR_loss: 0.0089\n",
      "Epoch 80/1000\n",
      "250000/250000 [==============================] - 0s 1us/step - loss: 0.0132 - Stellar_mass_loss: 0.0046 - SFR_loss: 0.0086 - val_loss: 0.0133 - val_Stellar_mass_loss: 0.0045 - val_SFR_loss: 0.0088\n",
      "Epoch 81/1000\n",
      "250000/250000 [==============================] - 0s 1us/step - loss: 0.0131 - Stellar_mass_loss: 0.0045 - SFR_loss: 0.0086 - val_loss: 0.0133 - val_Stellar_mass_loss: 0.0045 - val_SFR_loss: 0.0088\n",
      "Epoch 82/1000\n",
      "250000/250000 [==============================] - 0s 2us/step - loss: 0.0131 - Stellar_mass_loss: 0.0045 - SFR_loss: 0.0086 - val_loss: 0.0132 - val_Stellar_mass_loss: 0.0044 - val_SFR_loss: 0.0088\n",
      "Epoch 83/1000\n",
      "250000/250000 [==============================] - 0s 2us/step - loss: 0.0130 - Stellar_mass_loss: 0.0045 - SFR_loss: 0.0085 - val_loss: 0.0131 - val_Stellar_mass_loss: 0.0044 - val_SFR_loss: 0.0086\n",
      "Epoch 84/1000\n",
      "250000/250000 [==============================] - 0s 1us/step - loss: 0.0129 - Stellar_mass_loss: 0.0045 - SFR_loss: 0.0085 - val_loss: 0.0130 - val_Stellar_mass_loss: 0.0044 - val_SFR_loss: 0.0086\n",
      "Epoch 85/1000\n",
      "250000/250000 [==============================] - 0s 1us/step - loss: 0.0129 - Stellar_mass_loss: 0.0044 - SFR_loss: 0.0084 - val_loss: 0.0130 - val_Stellar_mass_loss: 0.0044 - val_SFR_loss: 0.0086\n",
      "Epoch 86/1000\n",
      "250000/250000 [==============================] - 0s 1us/step - loss: 0.0128 - Stellar_mass_loss: 0.0044 - SFR_loss: 0.0084 - val_loss: 0.0129 - val_Stellar_mass_loss: 0.0043 - val_SFR_loss: 0.0085\n",
      "Epoch 87/1000\n",
      "250000/250000 [==============================] - 0s 1us/step - loss: 0.0127 - Stellar_mass_loss: 0.0044 - SFR_loss: 0.0083 - val_loss: 0.0128 - val_Stellar_mass_loss: 0.0043 - val_SFR_loss: 0.0085\n",
      "Epoch 88/1000\n",
      "250000/250000 [==============================] - 0s 1us/step - loss: 0.0127 - Stellar_mass_loss: 0.0044 - SFR_loss: 0.0083 - val_loss: 0.0127 - val_Stellar_mass_loss: 0.0043 - val_SFR_loss: 0.0084\n",
      "Epoch 89/1000\n",
      "250000/250000 [==============================] - 0s 1us/step - loss: 0.0126 - Stellar_mass_loss: 0.0043 - SFR_loss: 0.0083 - val_loss: 0.0126 - val_Stellar_mass_loss: 0.0043 - val_SFR_loss: 0.0084\n",
      "Epoch 90/1000\n",
      "250000/250000 [==============================] - 0s 1us/step - loss: 0.0125 - Stellar_mass_loss: 0.0043 - SFR_loss: 0.0082 - val_loss: 0.0126 - val_Stellar_mass_loss: 0.0042 - val_SFR_loss: 0.0083\n",
      "Epoch 91/1000\n",
      "250000/250000 [==============================] - 0s 1us/step - loss: 0.0125 - Stellar_mass_loss: 0.0043 - SFR_loss: 0.0082 - val_loss: 0.0125 - val_Stellar_mass_loss: 0.0042 - val_SFR_loss: 0.0083\n",
      "Epoch 92/1000\n",
      "250000/250000 [==============================] - 0s 1us/step - loss: 0.0124 - Stellar_mass_loss: 0.0043 - SFR_loss: 0.0082 - val_loss: 0.0125 - val_Stellar_mass_loss: 0.0042 - val_SFR_loss: 0.0083\n",
      "Epoch 93/1000\n",
      "250000/250000 [==============================] - 0s 1us/step - loss: 0.0124 - Stellar_mass_loss: 0.0042 - SFR_loss: 0.0081 - val_loss: 0.0124 - val_Stellar_mass_loss: 0.0042 - val_SFR_loss: 0.0082\n",
      "Epoch 94/1000\n",
      "250000/250000 [==============================] - 0s 1us/step - loss: 0.0123 - Stellar_mass_loss: 0.0042 - SFR_loss: 0.0081 - val_loss: 0.0124 - val_Stellar_mass_loss: 0.0041 - val_SFR_loss: 0.0082\n",
      "Epoch 95/1000\n",
      "250000/250000 [==============================] - 0s 1us/step - loss: 0.0122 - Stellar_mass_loss: 0.0042 - SFR_loss: 0.0080 - val_loss: 0.0123 - val_Stellar_mass_loss: 0.0041 - val_SFR_loss: 0.0082\n",
      "Epoch 96/1000\n",
      "250000/250000 [==============================] - 0s 1us/step - loss: 0.0122 - Stellar_mass_loss: 0.0042 - SFR_loss: 0.0080 - val_loss: 0.0122 - val_Stellar_mass_loss: 0.0041 - val_SFR_loss: 0.0081\n",
      "Epoch 97/1000\n",
      "250000/250000 [==============================] - 0s 1us/step - loss: 0.0121 - Stellar_mass_loss: 0.0042 - SFR_loss: 0.0080 - val_loss: 0.0122 - val_Stellar_mass_loss: 0.0041 - val_SFR_loss: 0.0081\n",
      "Epoch 98/1000\n",
      "250000/250000 [==============================] - 0s 1us/step - loss: 0.0120 - Stellar_mass_loss: 0.0041 - SFR_loss: 0.0079 - val_loss: 0.0121 - val_Stellar_mass_loss: 0.0041 - val_SFR_loss: 0.0080\n",
      "Epoch 99/1000\n",
      "250000/250000 [==============================] - 0s 1us/step - loss: 0.0120 - Stellar_mass_loss: 0.0041 - SFR_loss: 0.0079 - val_loss: 0.0120 - val_Stellar_mass_loss: 0.0040 - val_SFR_loss: 0.0080\n",
      "Epoch 100/1000\n",
      "250000/250000 [==============================] - 0s 1us/step - loss: 0.0119 - Stellar_mass_loss: 0.0041 - SFR_loss: 0.0079 - val_loss: 0.0120 - val_Stellar_mass_loss: 0.0040 - val_SFR_loss: 0.0080\n",
      "Epoch 101/1000\n",
      "250000/250000 [==============================] - 0s 1us/step - loss: 0.0119 - Stellar_mass_loss: 0.0040 - SFR_loss: 0.0078 - val_loss: 0.0119 - val_Stellar_mass_loss: 0.0040 - val_SFR_loss: 0.0079\n",
      "Epoch 102/1000\n",
      "250000/250000 [==============================] - 0s 1us/step - loss: 0.0118 - Stellar_mass_loss: 0.0040 - SFR_loss: 0.0078 - val_loss: 0.0119 - val_Stellar_mass_loss: 0.0040 - val_SFR_loss: 0.0079\n",
      "Epoch 103/1000\n",
      "250000/250000 [==============================] - 0s 1us/step - loss: 0.0117 - Stellar_mass_loss: 0.0040 - SFR_loss: 0.0077 - val_loss: 0.0118 - val_Stellar_mass_loss: 0.0040 - val_SFR_loss: 0.0079\n",
      "Epoch 104/1000\n",
      "250000/250000 [==============================] - 0s 1us/step - loss: 0.0117 - Stellar_mass_loss: 0.0040 - SFR_loss: 0.0077 - val_loss: 0.0117 - val_Stellar_mass_loss: 0.0039 - val_SFR_loss: 0.0078\n",
      "Epoch 105/1000\n",
      "250000/250000 [==============================] - 0s 1us/step - loss: 0.0116 - Stellar_mass_loss: 0.0040 - SFR_loss: 0.0077 - val_loss: 0.0117 - val_Stellar_mass_loss: 0.0039 - val_SFR_loss: 0.0078\n",
      "Epoch 106/1000\n",
      "250000/250000 [==============================] - 0s 1us/step - loss: 0.0116 - Stellar_mass_loss: 0.0039 - SFR_loss: 0.0077 - val_loss: 0.0117 - val_Stellar_mass_loss: 0.0039 - val_SFR_loss: 0.0077\n",
      "Epoch 107/1000\n",
      "250000/250000 [==============================] - 0s 1us/step - loss: 0.0115 - Stellar_mass_loss: 0.0039 - SFR_loss: 0.0076 - val_loss: 0.0116 - val_Stellar_mass_loss: 0.0039 - val_SFR_loss: 0.0077\n",
      "Epoch 108/1000\n",
      "250000/250000 [==============================] - 0s 1us/step - loss: 0.0115 - Stellar_mass_loss: 0.0039 - SFR_loss: 0.0076 - val_loss: 0.0116 - val_Stellar_mass_loss: 0.0039 - val_SFR_loss: 0.0077\n",
      "Epoch 109/1000\n",
      "250000/250000 [==============================] - 0s 1us/step - loss: 0.0114 - Stellar_mass_loss: 0.0039 - SFR_loss: 0.0076 - val_loss: 0.0115 - val_Stellar_mass_loss: 0.0038 - val_SFR_loss: 0.0077\n",
      "Epoch 110/1000\n",
      "250000/250000 [==============================] - 0s 1us/step - loss: 0.0114 - Stellar_mass_loss: 0.0039 - SFR_loss: 0.0075 - val_loss: 0.0115 - val_Stellar_mass_loss: 0.0038 - val_SFR_loss: 0.0076\n",
      "Epoch 111/1000\n",
      "250000/250000 [==============================] - 0s 1us/step - loss: 0.0113 - Stellar_mass_loss: 0.0038 - SFR_loss: 0.0075 - val_loss: 0.0114 - val_Stellar_mass_loss: 0.0038 - val_SFR_loss: 0.0076\n",
      "Epoch 112/1000\n",
      "250000/250000 [==============================] - 0s 1us/step - loss: 0.0113 - Stellar_mass_loss: 0.0038 - SFR_loss: 0.0075 - val_loss: 0.0114 - val_Stellar_mass_loss: 0.0038 - val_SFR_loss: 0.0076\n",
      "Epoch 113/1000\n",
      "250000/250000 [==============================] - 0s 1us/step - loss: 0.0113 - Stellar_mass_loss: 0.0038 - SFR_loss: 0.0075 - val_loss: 0.0113 - val_Stellar_mass_loss: 0.0038 - val_SFR_loss: 0.0076\n",
      "Epoch 114/1000\n",
      "250000/250000 [==============================] - 0s 1us/step - loss: 0.0112 - Stellar_mass_loss: 0.0038 - SFR_loss: 0.0074 - val_loss: 0.0112 - val_Stellar_mass_loss: 0.0037 - val_SFR_loss: 0.0075\n",
      "Epoch 115/1000\n",
      "250000/250000 [==============================] - 0s 1us/step - loss: 0.0111 - Stellar_mass_loss: 0.0037 - SFR_loss: 0.0074 - val_loss: 0.0113 - val_Stellar_mass_loss: 0.0037 - val_SFR_loss: 0.0075\n",
      "Epoch 116/1000\n",
      "250000/250000 [==============================] - 0s 1us/step - loss: 0.0111 - Stellar_mass_loss: 0.0037 - SFR_loss: 0.0073 - val_loss: 0.0111 - val_Stellar_mass_loss: 0.0037 - val_SFR_loss: 0.0074\n",
      "Epoch 117/1000\n",
      "250000/250000 [==============================] - 0s 1us/step - loss: 0.0110 - Stellar_mass_loss: 0.0037 - SFR_loss: 0.0073 - val_loss: 0.0111 - val_Stellar_mass_loss: 0.0037 - val_SFR_loss: 0.0074\n"
     ]
    },
    {
     "name": "stdout",
     "output_type": "stream",
     "text": [
      "Epoch 118/1000\n",
      "250000/250000 [==============================] - 0s 1us/step - loss: 0.0110 - Stellar_mass_loss: 0.0037 - SFR_loss: 0.0073 - val_loss: 0.0111 - val_Stellar_mass_loss: 0.0037 - val_SFR_loss: 0.0074\n",
      "Epoch 119/1000\n",
      "250000/250000 [==============================] - 0s 1us/step - loss: 0.0109 - Stellar_mass_loss: 0.0037 - SFR_loss: 0.0073 - val_loss: 0.0110 - val_Stellar_mass_loss: 0.0036 - val_SFR_loss: 0.0074\n",
      "Epoch 120/1000\n",
      "250000/250000 [==============================] - 0s 1us/step - loss: 0.0109 - Stellar_mass_loss: 0.0036 - SFR_loss: 0.0072 - val_loss: 0.0110 - val_Stellar_mass_loss: 0.0036 - val_SFR_loss: 0.0074\n",
      "Epoch 121/1000\n",
      "250000/250000 [==============================] - 0s 1us/step - loss: 0.0108 - Stellar_mass_loss: 0.0036 - SFR_loss: 0.0072 - val_loss: 0.0109 - val_Stellar_mass_loss: 0.0036 - val_SFR_loss: 0.0073\n",
      "Epoch 122/1000\n",
      "250000/250000 [==============================] - 0s 1us/step - loss: 0.0108 - Stellar_mass_loss: 0.0036 - SFR_loss: 0.0072 - val_loss: 0.0109 - val_Stellar_mass_loss: 0.0036 - val_SFR_loss: 0.0073\n",
      "Epoch 123/1000\n",
      "250000/250000 [==============================] - 0s 1us/step - loss: 0.0108 - Stellar_mass_loss: 0.0036 - SFR_loss: 0.0072 - val_loss: 0.0109 - val_Stellar_mass_loss: 0.0036 - val_SFR_loss: 0.0073\n",
      "Epoch 124/1000\n",
      "250000/250000 [==============================] - 0s 1us/step - loss: 0.0107 - Stellar_mass_loss: 0.0036 - SFR_loss: 0.0071 - val_loss: 0.0108 - val_Stellar_mass_loss: 0.0036 - val_SFR_loss: 0.0073\n",
      "Epoch 125/1000\n",
      "250000/250000 [==============================] - 0s 1us/step - loss: 0.0107 - Stellar_mass_loss: 0.0035 - SFR_loss: 0.0071 - val_loss: 0.0108 - val_Stellar_mass_loss: 0.0035 - val_SFR_loss: 0.0072\n",
      "Epoch 126/1000\n",
      "250000/250000 [==============================] - 0s 1us/step - loss: 0.0106 - Stellar_mass_loss: 0.0035 - SFR_loss: 0.0071 - val_loss: 0.0107 - val_Stellar_mass_loss: 0.0035 - val_SFR_loss: 0.0072\n",
      "Epoch 127/1000\n",
      "250000/250000 [==============================] - 0s 1us/step - loss: 0.0106 - Stellar_mass_loss: 0.0035 - SFR_loss: 0.0071 - val_loss: 0.0107 - val_Stellar_mass_loss: 0.0035 - val_SFR_loss: 0.0072\n",
      "Epoch 128/1000\n",
      "250000/250000 [==============================] - 0s 1us/step - loss: 0.0105 - Stellar_mass_loss: 0.0035 - SFR_loss: 0.0070 - val_loss: 0.0107 - val_Stellar_mass_loss: 0.0035 - val_SFR_loss: 0.0072\n",
      "Epoch 129/1000\n",
      "250000/250000 [==============================] - 0s 1us/step - loss: 0.0105 - Stellar_mass_loss: 0.0035 - SFR_loss: 0.0070 - val_loss: 0.0106 - val_Stellar_mass_loss: 0.0035 - val_SFR_loss: 0.0072\n",
      "Epoch 130/1000\n",
      "250000/250000 [==============================] - 0s 1us/step - loss: 0.0105 - Stellar_mass_loss: 0.0035 - SFR_loss: 0.0070 - val_loss: 0.0106 - val_Stellar_mass_loss: 0.0035 - val_SFR_loss: 0.0071\n",
      "Epoch 131/1000\n",
      "250000/250000 [==============================] - 0s 1us/step - loss: 0.0104 - Stellar_mass_loss: 0.0034 - SFR_loss: 0.0070 - val_loss: 0.0106 - val_Stellar_mass_loss: 0.0035 - val_SFR_loss: 0.0071\n",
      "Epoch 132/1000\n",
      "250000/250000 [==============================] - 0s 1us/step - loss: 0.0104 - Stellar_mass_loss: 0.0034 - SFR_loss: 0.0070 - val_loss: 0.0105 - val_Stellar_mass_loss: 0.0034 - val_SFR_loss: 0.0071\n",
      "Epoch 133/1000\n",
      "250000/250000 [==============================] - 0s 1us/step - loss: 0.0103 - Stellar_mass_loss: 0.0034 - SFR_loss: 0.0069 - val_loss: 0.0105 - val_Stellar_mass_loss: 0.0034 - val_SFR_loss: 0.0070\n",
      "Epoch 134/1000\n",
      "250000/250000 [==============================] - 0s 1us/step - loss: 0.0103 - Stellar_mass_loss: 0.0034 - SFR_loss: 0.0069 - val_loss: 0.0104 - val_Stellar_mass_loss: 0.0034 - val_SFR_loss: 0.0070\n",
      "Epoch 135/1000\n",
      "250000/250000 [==============================] - 0s 1us/step - loss: 0.0103 - Stellar_mass_loss: 0.0034 - SFR_loss: 0.0069 - val_loss: 0.0104 - val_Stellar_mass_loss: 0.0034 - val_SFR_loss: 0.0070\n",
      "Epoch 136/1000\n",
      "250000/250000 [==============================] - 0s 1us/step - loss: 0.0120 - Stellar_mass_loss: 0.0034 - SFR_loss: 0.0087 - val_loss: 0.0118 - val_Stellar_mass_loss: 0.0034 - val_SFR_loss: 0.0085\n",
      "Epoch 137/1000\n",
      "250000/250000 [==============================] - 0s 1us/step - loss: 0.0213 - Stellar_mass_loss: 0.0033 - SFR_loss: 0.0180 - val_loss: 0.0191 - val_Stellar_mass_loss: 0.0034 - val_SFR_loss: 0.0157\n",
      "Epoch 138/1000\n",
      "250000/250000 [==============================] - 0s 1us/step - loss: 0.0246 - Stellar_mass_loss: 0.0034 - SFR_loss: 0.0213 - val_loss: 0.0388 - val_Stellar_mass_loss: 0.0036 - val_SFR_loss: 0.0352\n",
      "Epoch 139/1000\n",
      "250000/250000 [==============================] - 0s 1us/step - loss: 0.0295 - Stellar_mass_loss: 0.0034 - SFR_loss: 0.0260 - val_loss: 0.0351 - val_Stellar_mass_loss: 0.0033 - val_SFR_loss: 0.0317\n",
      "Epoch 140/1000\n",
      "250000/250000 [==============================] - 0s 1us/step - loss: 0.0326 - Stellar_mass_loss: 0.0033 - SFR_loss: 0.0293 - val_loss: 0.0286 - val_Stellar_mass_loss: 0.0035 - val_SFR_loss: 0.0251\n",
      "Epoch 141/1000\n",
      "250000/250000 [==============================] - 0s 1us/step - loss: 0.0230 - Stellar_mass_loss: 0.0034 - SFR_loss: 0.0196 - val_loss: 0.0200 - val_Stellar_mass_loss: 0.0034 - val_SFR_loss: 0.0166\n",
      "Epoch 142/1000\n",
      "250000/250000 [==============================] - 0s 1us/step - loss: 0.0161 - Stellar_mass_loss: 0.0033 - SFR_loss: 0.0128 - val_loss: 0.0120 - val_Stellar_mass_loss: 0.0032 - val_SFR_loss: 0.0088\n",
      "Epoch 143/1000\n",
      "250000/250000 [==============================] - 0s 1us/step - loss: 0.0142 - Stellar_mass_loss: 0.0032 - SFR_loss: 0.0109 - val_loss: 0.0147 - val_Stellar_mass_loss: 0.0032 - val_SFR_loss: 0.0115\n",
      "Epoch 144/1000\n",
      "250000/250000 [==============================] - 0s 1us/step - loss: 0.0151 - Stellar_mass_loss: 0.0032 - SFR_loss: 0.0120 - val_loss: 0.0119 - val_Stellar_mass_loss: 0.0032 - val_SFR_loss: 0.0087\n",
      "Epoch 145/1000\n",
      "250000/250000 [==============================] - 0s 1us/step - loss: 0.0266 - Stellar_mass_loss: 0.0033 - SFR_loss: 0.0234 - val_loss: 0.0206 - val_Stellar_mass_loss: 0.0033 - val_SFR_loss: 0.0173\n",
      "Epoch 146/1000\n",
      "250000/250000 [==============================] - 0s 1us/step - loss: 0.0340 - Stellar_mass_loss: 0.0035 - SFR_loss: 0.0306 - val_loss: 0.0322 - val_Stellar_mass_loss: 0.0040 - val_SFR_loss: 0.0282\n",
      "Epoch 147/1000\n",
      "250000/250000 [==============================] - 0s 1us/step - loss: 0.0324 - Stellar_mass_loss: 0.0034 - SFR_loss: 0.0290 - val_loss: 0.0396 - val_Stellar_mass_loss: 0.0034 - val_SFR_loss: 0.0362\n",
      "Epoch 148/1000\n",
      "250000/250000 [==============================] - 0s 1us/step - loss: 0.0309 - Stellar_mass_loss: 0.0033 - SFR_loss: 0.0277 - val_loss: 0.0229 - val_Stellar_mass_loss: 0.0033 - val_SFR_loss: 0.0196\n",
      "Epoch 149/1000\n",
      "250000/250000 [==============================] - 0s 1us/step - loss: 0.0279 - Stellar_mass_loss: 0.0032 - SFR_loss: 0.0246 - val_loss: 0.0312 - val_Stellar_mass_loss: 0.0032 - val_SFR_loss: 0.0281\n",
      "Epoch 150/1000\n",
      "250000/250000 [==============================] - 0s 1us/step - loss: 0.0286 - Stellar_mass_loss: 0.0036 - SFR_loss: 0.0250 - val_loss: 0.0300 - val_Stellar_mass_loss: 0.0031 - val_SFR_loss: 0.0268\n",
      "Epoch 151/1000\n",
      "250000/250000 [==============================] - 0s 1us/step - loss: 0.0294 - Stellar_mass_loss: 0.0044 - SFR_loss: 0.0251 - val_loss: 0.0160 - val_Stellar_mass_loss: 0.0036 - val_SFR_loss: 0.0125\n",
      "Epoch 152/1000\n",
      "250000/250000 [==============================] - 0s 1us/step - loss: 0.0243 - Stellar_mass_loss: 0.0040 - SFR_loss: 0.0204 - val_loss: 0.0308 - val_Stellar_mass_loss: 0.0037 - val_SFR_loss: 0.0271\n",
      "Epoch 153/1000\n",
      "250000/250000 [==============================] - 0s 1us/step - loss: 0.0253 - Stellar_mass_loss: 0.0034 - SFR_loss: 0.0219 - val_loss: 0.0236 - val_Stellar_mass_loss: 0.0030 - val_SFR_loss: 0.0207\n",
      "Epoch 154/1000\n",
      "250000/250000 [==============================] - 0s 1us/step - loss: 0.0184 - Stellar_mass_loss: 0.0031 - SFR_loss: 0.0153 - val_loss: 0.0200 - val_Stellar_mass_loss: 0.0030 - val_SFR_loss: 0.0170\n",
      "Epoch 155/1000\n",
      "250000/250000 [==============================] - 0s 1us/step - loss: 0.0160 - Stellar_mass_loss: 0.0030 - SFR_loss: 0.0131 - val_loss: 0.0107 - val_Stellar_mass_loss: 0.0030 - val_SFR_loss: 0.0077\n",
      "Epoch 156/1000\n",
      "250000/250000 [==============================] - 0s 1us/step - loss: 0.0146 - Stellar_mass_loss: 0.0028 - SFR_loss: 0.0117 - val_loss: 0.0149 - val_Stellar_mass_loss: 0.0028 - val_SFR_loss: 0.0121\n"
     ]
    },
    {
     "name": "stdout",
     "output_type": "stream",
     "text": [
      "Epoch 157/1000\n",
      "250000/250000 [==============================] - 0s 1us/step - loss: 0.0151 - Stellar_mass_loss: 0.0028 - SFR_loss: 0.0123 - val_loss: 0.0168 - val_Stellar_mass_loss: 0.0028 - val_SFR_loss: 0.0140\n",
      "Epoch 158/1000\n",
      "250000/250000 [==============================] - 0s 1us/step - loss: 0.0144 - Stellar_mass_loss: 0.0028 - SFR_loss: 0.0117 - val_loss: 0.0153 - val_Stellar_mass_loss: 0.0031 - val_SFR_loss: 0.0122\n",
      "Epoch 159/1000\n",
      "250000/250000 [==============================] - 0s 1us/step - loss: 0.0147 - Stellar_mass_loss: 0.0027 - SFR_loss: 0.0119 - val_loss: 0.0165 - val_Stellar_mass_loss: 0.0028 - val_SFR_loss: 0.0137\n",
      "Epoch 160/1000\n",
      "250000/250000 [==============================] - 0s 1us/step - loss: 0.0145 - Stellar_mass_loss: 0.0027 - SFR_loss: 0.0118 - val_loss: 0.0175 - val_Stellar_mass_loss: 0.0027 - val_SFR_loss: 0.0148\n",
      "Epoch 161/1000\n",
      "250000/250000 [==============================] - 0s 1us/step - loss: 0.0150 - Stellar_mass_loss: 0.0026 - SFR_loss: 0.0124 - val_loss: 0.0147 - val_Stellar_mass_loss: 0.0027 - val_SFR_loss: 0.0120\n",
      "Epoch 162/1000\n",
      "250000/250000 [==============================] - 0s 1us/step - loss: 0.0144 - Stellar_mass_loss: 0.0026 - SFR_loss: 0.0118 - val_loss: 0.0122 - val_Stellar_mass_loss: 0.0027 - val_SFR_loss: 0.0095\n",
      "Epoch 163/1000\n",
      "250000/250000 [==============================] - 0s 1us/step - loss: 0.0139 - Stellar_mass_loss: 0.0026 - SFR_loss: 0.0113 - val_loss: 0.0140 - val_Stellar_mass_loss: 0.0026 - val_SFR_loss: 0.0113\n",
      "Epoch 164/1000\n",
      "250000/250000 [==============================] - 0s 1us/step - loss: 0.0141 - Stellar_mass_loss: 0.0026 - SFR_loss: 0.0115 - val_loss: 0.0157 - val_Stellar_mass_loss: 0.0027 - val_SFR_loss: 0.0130\n",
      "Epoch 165/1000\n",
      "250000/250000 [==============================] - 0s 1us/step - loss: 0.0142 - Stellar_mass_loss: 0.0026 - SFR_loss: 0.0116 - val_loss: 0.0141 - val_Stellar_mass_loss: 0.0026 - val_SFR_loss: 0.0115\n",
      "Epoch 166/1000\n",
      "250000/250000 [==============================] - 0s 1us/step - loss: 0.0138 - Stellar_mass_loss: 0.0026 - SFR_loss: 0.0112 - val_loss: 0.0143 - val_Stellar_mass_loss: 0.0026 - val_SFR_loss: 0.0117\n",
      "Epoch 167/1000\n",
      "250000/250000 [==============================] - 0s 1us/step - loss: 0.0139 - Stellar_mass_loss: 0.0025 - SFR_loss: 0.0113 - val_loss: 0.0143 - val_Stellar_mass_loss: 0.0026 - val_SFR_loss: 0.0117\n",
      "Epoch 168/1000\n",
      "250000/250000 [==============================] - 0s 1us/step - loss: 0.0138 - Stellar_mass_loss: 0.0025 - SFR_loss: 0.0113 - val_loss: 0.0138 - val_Stellar_mass_loss: 0.0026 - val_SFR_loss: 0.0112\n",
      "Epoch 169/1000\n",
      "250000/250000 [==============================] - 0s 1us/step - loss: 0.0136 - Stellar_mass_loss: 0.0025 - SFR_loss: 0.0111 - val_loss: 0.0139 - val_Stellar_mass_loss: 0.0026 - val_SFR_loss: 0.0113\n",
      "Epoch 170/1000\n",
      "250000/250000 [==============================] - 0s 1us/step - loss: 0.0136 - Stellar_mass_loss: 0.0025 - SFR_loss: 0.0111 - val_loss: 0.0139 - val_Stellar_mass_loss: 0.0026 - val_SFR_loss: 0.0113\n",
      "Epoch 171/1000\n",
      "250000/250000 [==============================] - 0s 1us/step - loss: 0.0135 - Stellar_mass_loss: 0.0025 - SFR_loss: 0.0111 - val_loss: 0.0138 - val_Stellar_mass_loss: 0.0025 - val_SFR_loss: 0.0113\n",
      "Epoch 172/1000\n",
      "250000/250000 [==============================] - 0s 1us/step - loss: 0.0135 - Stellar_mass_loss: 0.0025 - SFR_loss: 0.0110 - val_loss: 0.0134 - val_Stellar_mass_loss: 0.0025 - val_SFR_loss: 0.0108\n",
      "Epoch 173/1000\n",
      "250000/250000 [==============================] - 0s 1us/step - loss: 0.0134 - Stellar_mass_loss: 0.0025 - SFR_loss: 0.0110 - val_loss: 0.0138 - val_Stellar_mass_loss: 0.0025 - val_SFR_loss: 0.0113\n",
      "Epoch 174/1000\n",
      "250000/250000 [==============================] - 0s 1us/step - loss: 0.0134 - Stellar_mass_loss: 0.0025 - SFR_loss: 0.0110 - val_loss: 0.0133 - val_Stellar_mass_loss: 0.0025 - val_SFR_loss: 0.0108\n",
      "Epoch 175/1000\n",
      "250000/250000 [==============================] - 0s 1us/step - loss: 0.0132 - Stellar_mass_loss: 0.0024 - SFR_loss: 0.0108 - val_loss: 0.0135 - val_Stellar_mass_loss: 0.0025 - val_SFR_loss: 0.0110\n",
      "Epoch 176/1000\n",
      "250000/250000 [==============================] - 0s 1us/step - loss: 0.0133 - Stellar_mass_loss: 0.0024 - SFR_loss: 0.0109 - val_loss: 0.0131 - val_Stellar_mass_loss: 0.0025 - val_SFR_loss: 0.0106\n",
      "Epoch 177/1000\n",
      "250000/250000 [==============================] - 0s 1us/step - loss: 0.0131 - Stellar_mass_loss: 0.0024 - SFR_loss: 0.0106 - val_loss: 0.0134 - val_Stellar_mass_loss: 0.0025 - val_SFR_loss: 0.0110\n",
      "Epoch 178/1000\n",
      "250000/250000 [==============================] - 0s 1us/step - loss: 0.0131 - Stellar_mass_loss: 0.0024 - SFR_loss: 0.0107 - val_loss: 0.0136 - val_Stellar_mass_loss: 0.0025 - val_SFR_loss: 0.0111\n",
      "Epoch 179/1000\n",
      "250000/250000 [==============================] - 0s 1us/step - loss: 0.0131 - Stellar_mass_loss: 0.0024 - SFR_loss: 0.0107 - val_loss: 0.0134 - val_Stellar_mass_loss: 0.0024 - val_SFR_loss: 0.0109\n",
      "Epoch 180/1000\n",
      "250000/250000 [==============================] - 0s 1us/step - loss: 0.0130 - Stellar_mass_loss: 0.0024 - SFR_loss: 0.0106 - val_loss: 0.0133 - val_Stellar_mass_loss: 0.0024 - val_SFR_loss: 0.0108\n",
      "Epoch 181/1000\n",
      "250000/250000 [==============================] - 0s 1us/step - loss: 0.0130 - Stellar_mass_loss: 0.0024 - SFR_loss: 0.0106 - val_loss: 0.0131 - val_Stellar_mass_loss: 0.0024 - val_SFR_loss: 0.0107\n",
      "Epoch 182/1000\n",
      "250000/250000 [==============================] - 0s 1us/step - loss: 0.0129 - Stellar_mass_loss: 0.0024 - SFR_loss: 0.0106 - val_loss: 0.0128 - val_Stellar_mass_loss: 0.0024 - val_SFR_loss: 0.0104\n",
      "Epoch 183/1000\n",
      "250000/250000 [==============================] - 0s 1us/step - loss: 0.0128 - Stellar_mass_loss: 0.0024 - SFR_loss: 0.0105 - val_loss: 0.0123 - val_Stellar_mass_loss: 0.0024 - val_SFR_loss: 0.0099\n",
      "Epoch 184/1000\n",
      "250000/250000 [==============================] - 0s 1us/step - loss: 0.0126 - Stellar_mass_loss: 0.0023 - SFR_loss: 0.0103 - val_loss: 0.0135 - val_Stellar_mass_loss: 0.0024 - val_SFR_loss: 0.0110\n",
      "Epoch 185/1000\n",
      "250000/250000 [==============================] - 0s 1us/step - loss: 0.0129 - Stellar_mass_loss: 0.0023 - SFR_loss: 0.0105 - val_loss: 0.0133 - val_Stellar_mass_loss: 0.0024 - val_SFR_loss: 0.0109\n",
      "Epoch 186/1000\n",
      "250000/250000 [==============================] - 0s 1us/step - loss: 0.0126 - Stellar_mass_loss: 0.0023 - SFR_loss: 0.0103 - val_loss: 0.0123 - val_Stellar_mass_loss: 0.0024 - val_SFR_loss: 0.0099\n",
      "Epoch 187/1000\n",
      "250000/250000 [==============================] - 0s 1us/step - loss: 0.0104 - Stellar_mass_loss: 0.0023 - SFR_loss: 0.0081 - val_loss: 0.0090 - val_Stellar_mass_loss: 0.0024 - val_SFR_loss: 0.0067\n",
      "Epoch 188/1000\n",
      "250000/250000 [==============================] - 0s 1us/step - loss: 0.0090 - Stellar_mass_loss: 0.0023 - SFR_loss: 0.0067 - val_loss: 0.0088 - val_Stellar_mass_loss: 0.0023 - val_SFR_loss: 0.0065\n",
      "Epoch 189/1000\n",
      "250000/250000 [==============================] - 0s 1us/step - loss: 0.0087 - Stellar_mass_loss: 0.0023 - SFR_loss: 0.0064 - val_loss: 0.0087 - val_Stellar_mass_loss: 0.0024 - val_SFR_loss: 0.0064\n",
      "Epoch 190/1000\n",
      "250000/250000 [==============================] - 0s 1us/step - loss: 0.0086 - Stellar_mass_loss: 0.0023 - SFR_loss: 0.0063 - val_loss: 0.0086 - val_Stellar_mass_loss: 0.0024 - val_SFR_loss: 0.0063\n",
      "Epoch 191/1000\n",
      "250000/250000 [==============================] - 0s 1us/step - loss: 0.0085 - Stellar_mass_loss: 0.0023 - SFR_loss: 0.0062 - val_loss: 0.0086 - val_Stellar_mass_loss: 0.0023 - val_SFR_loss: 0.0062\n",
      "Epoch 192/1000\n",
      "250000/250000 [==============================] - 0s 1us/step - loss: 0.0084 - Stellar_mass_loss: 0.0023 - SFR_loss: 0.0061 - val_loss: 0.0085 - val_Stellar_mass_loss: 0.0023 - val_SFR_loss: 0.0062\n",
      "Epoch 193/1000\n",
      "250000/250000 [==============================] - 0s 1us/step - loss: 0.0084 - Stellar_mass_loss: 0.0023 - SFR_loss: 0.0061 - val_loss: 0.0085 - val_Stellar_mass_loss: 0.0023 - val_SFR_loss: 0.0061\n",
      "Epoch 194/1000\n",
      "250000/250000 [==============================] - 0s 1us/step - loss: 0.0083 - Stellar_mass_loss: 0.0023 - SFR_loss: 0.0061 - val_loss: 0.0084 - val_Stellar_mass_loss: 0.0023 - val_SFR_loss: 0.0061\n",
      "Epoch 195/1000\n",
      "250000/250000 [==============================] - 0s 1us/step - loss: 0.0083 - Stellar_mass_loss: 0.0023 - SFR_loss: 0.0060 - val_loss: 0.0084 - val_Stellar_mass_loss: 0.0023 - val_SFR_loss: 0.0061\n"
     ]
    },
    {
     "name": "stdout",
     "output_type": "stream",
     "text": [
      "Epoch 196/1000\n",
      "250000/250000 [==============================] - 0s 1us/step - loss: 0.0083 - Stellar_mass_loss: 0.0023 - SFR_loss: 0.0060 - val_loss: 0.0084 - val_Stellar_mass_loss: 0.0023 - val_SFR_loss: 0.0061\n",
      "Epoch 197/1000\n",
      "250000/250000 [==============================] - 0s 1us/step - loss: 0.0083 - Stellar_mass_loss: 0.0023 - SFR_loss: 0.0060 - val_loss: 0.0084 - val_Stellar_mass_loss: 0.0023 - val_SFR_loss: 0.0061\n",
      "Epoch 198/1000\n",
      "250000/250000 [==============================] - 0s 1us/step - loss: 0.0082 - Stellar_mass_loss: 0.0022 - SFR_loss: 0.0060 - val_loss: 0.0084 - val_Stellar_mass_loss: 0.0023 - val_SFR_loss: 0.0061\n",
      "Epoch 199/1000\n",
      "250000/250000 [==============================] - 0s 1us/step - loss: 0.0082 - Stellar_mass_loss: 0.0022 - SFR_loss: 0.0060 - val_loss: 0.0083 - val_Stellar_mass_loss: 0.0023 - val_SFR_loss: 0.0060\n",
      "Epoch 200/1000\n",
      "250000/250000 [==============================] - 0s 1us/step - loss: 0.0082 - Stellar_mass_loss: 0.0022 - SFR_loss: 0.0060 - val_loss: 0.0083 - val_Stellar_mass_loss: 0.0023 - val_SFR_loss: 0.0060\n",
      "Epoch 201/1000\n",
      "250000/250000 [==============================] - 0s 1us/step - loss: 0.0082 - Stellar_mass_loss: 0.0022 - SFR_loss: 0.0060 - val_loss: 0.0083 - val_Stellar_mass_loss: 0.0023 - val_SFR_loss: 0.0060\n",
      "Epoch 202/1000\n",
      "250000/250000 [==============================] - 0s 1us/step - loss: 0.0082 - Stellar_mass_loss: 0.0022 - SFR_loss: 0.0059 - val_loss: 0.0083 - val_Stellar_mass_loss: 0.0023 - val_SFR_loss: 0.0060\n",
      "Epoch 203/1000\n",
      "250000/250000 [==============================] - 0s 1us/step - loss: 0.0081 - Stellar_mass_loss: 0.0022 - SFR_loss: 0.0059 - val_loss: 0.0083 - val_Stellar_mass_loss: 0.0023 - val_SFR_loss: 0.0060\n",
      "Epoch 204/1000\n",
      "250000/250000 [==============================] - 0s 1us/step - loss: 0.0081 - Stellar_mass_loss: 0.0022 - SFR_loss: 0.0059 - val_loss: 0.0082 - val_Stellar_mass_loss: 0.0023 - val_SFR_loss: 0.0059\n",
      "Epoch 205/1000\n",
      "250000/250000 [==============================] - 0s 1us/step - loss: 0.0081 - Stellar_mass_loss: 0.0022 - SFR_loss: 0.0059 - val_loss: 0.0082 - val_Stellar_mass_loss: 0.0023 - val_SFR_loss: 0.0060\n",
      "Epoch 206/1000\n",
      "250000/250000 [==============================] - 0s 1us/step - loss: 0.0081 - Stellar_mass_loss: 0.0022 - SFR_loss: 0.0059 - val_loss: 0.0082 - val_Stellar_mass_loss: 0.0023 - val_SFR_loss: 0.0059\n",
      "Epoch 207/1000\n",
      "250000/250000 [==============================] - 0s 1us/step - loss: 0.0081 - Stellar_mass_loss: 0.0022 - SFR_loss: 0.0059 - val_loss: 0.0082 - val_Stellar_mass_loss: 0.0022 - val_SFR_loss: 0.0059\n",
      "Epoch 208/1000\n",
      "250000/250000 [==============================] - 0s 1us/step - loss: 0.0080 - Stellar_mass_loss: 0.0022 - SFR_loss: 0.0059 - val_loss: 0.0082 - val_Stellar_mass_loss: 0.0022 - val_SFR_loss: 0.0059\n",
      "Epoch 209/1000\n",
      "250000/250000 [==============================] - 0s 1us/step - loss: 0.0080 - Stellar_mass_loss: 0.0022 - SFR_loss: 0.0058 - val_loss: 0.0082 - val_Stellar_mass_loss: 0.0022 - val_SFR_loss: 0.0059\n",
      "Epoch 210/1000\n",
      "250000/250000 [==============================] - 0s 1us/step - loss: 0.0080 - Stellar_mass_loss: 0.0022 - SFR_loss: 0.0058 - val_loss: 0.0082 - val_Stellar_mass_loss: 0.0022 - val_SFR_loss: 0.0059\n",
      "Epoch 211/1000\n",
      "250000/250000 [==============================] - 0s 1us/step - loss: 0.0080 - Stellar_mass_loss: 0.0022 - SFR_loss: 0.0058 - val_loss: 0.0082 - val_Stellar_mass_loss: 0.0022 - val_SFR_loss: 0.0059\n",
      "Epoch 212/1000\n",
      "250000/250000 [==============================] - 0s 1us/step - loss: 0.0080 - Stellar_mass_loss: 0.0022 - SFR_loss: 0.0058 - val_loss: 0.0081 - val_Stellar_mass_loss: 0.0022 - val_SFR_loss: 0.0059\n",
      "Epoch 213/1000\n",
      "250000/250000 [==============================] - 0s 1us/step - loss: 0.0080 - Stellar_mass_loss: 0.0022 - SFR_loss: 0.0058 - val_loss: 0.0081 - val_Stellar_mass_loss: 0.0022 - val_SFR_loss: 0.0059\n",
      "Epoch 214/1000\n",
      "250000/250000 [==============================] - 0s 1us/step - loss: 0.0080 - Stellar_mass_loss: 0.0022 - SFR_loss: 0.0058 - val_loss: 0.0081 - val_Stellar_mass_loss: 0.0022 - val_SFR_loss: 0.0059\n",
      "Epoch 215/1000\n",
      "250000/250000 [==============================] - 0s 1us/step - loss: 0.0079 - Stellar_mass_loss: 0.0022 - SFR_loss: 0.0058 - val_loss: 0.0081 - val_Stellar_mass_loss: 0.0022 - val_SFR_loss: 0.0059\n",
      "Epoch 216/1000\n",
      "250000/250000 [==============================] - 0s 1us/step - loss: 0.0079 - Stellar_mass_loss: 0.0021 - SFR_loss: 0.0058 - val_loss: 0.0080 - val_Stellar_mass_loss: 0.0022 - val_SFR_loss: 0.0058\n",
      "Epoch 217/1000\n",
      "250000/250000 [==============================] - 0s 1us/step - loss: 0.0079 - Stellar_mass_loss: 0.0021 - SFR_loss: 0.0058 - val_loss: 0.0080 - val_Stellar_mass_loss: 0.0022 - val_SFR_loss: 0.0059\n",
      "Epoch 218/1000\n",
      "250000/250000 [==============================] - 0s 1us/step - loss: 0.0079 - Stellar_mass_loss: 0.0021 - SFR_loss: 0.0058 - val_loss: 0.0080 - val_Stellar_mass_loss: 0.0022 - val_SFR_loss: 0.0058\n",
      "Epoch 219/1000\n",
      "250000/250000 [==============================] - 0s 1us/step - loss: 0.0079 - Stellar_mass_loss: 0.0021 - SFR_loss: 0.0058 - val_loss: 0.0080 - val_Stellar_mass_loss: 0.0022 - val_SFR_loss: 0.0058\n",
      "Epoch 220/1000\n",
      " 25000/250000 [==>...........................] - ETA: 0s - loss: 0.0078 - Stellar_mass_loss: 0.0022 - SFR_loss: 0.0056"
     ]
    },
    {
     "ename": "KeyboardInterrupt",
     "evalue": "",
     "output_type": "error",
     "traceback": [
      "\u001b[0;31m---------------------------------------------------------------------------\u001b[0m",
      "\u001b[0;31mKeyboardInterrupt\u001b[0m                         Traceback (most recent call last)",
      "\u001b[0;32m<ipython-input-116-4b78ccdf3453>\u001b[0m in \u001b[0;36m<module>\u001b[0;34m()\u001b[0m\n\u001b[1;32m     70\u001b[0m                     validation_data = (training_data_dict['input_val_dict'], \n\u001b[1;32m     71\u001b[0m                     training_data_dict['output_val_dict']), \n\u001b[0;32m---> 72\u001b[0;31m                     epochs=int(nr_epochs), batch_size=int(batch_size), callbacks=callbacks_list)\n\u001b[0m",
      "\u001b[0;32m/opt/anaconda/lib/python3.6/site-packages/keras/engine/training.py\u001b[0m in \u001b[0;36mfit\u001b[0;34m(self, x, y, batch_size, epochs, verbose, callbacks, validation_split, validation_data, shuffle, class_weight, sample_weight, initial_epoch, steps_per_epoch, validation_steps, **kwargs)\u001b[0m\n\u001b[1;32m   1703\u001b[0m                               \u001b[0minitial_epoch\u001b[0m\u001b[0;34m=\u001b[0m\u001b[0minitial_epoch\u001b[0m\u001b[0;34m,\u001b[0m\u001b[0;34m\u001b[0m\u001b[0m\n\u001b[1;32m   1704\u001b[0m                               \u001b[0msteps_per_epoch\u001b[0m\u001b[0;34m=\u001b[0m\u001b[0msteps_per_epoch\u001b[0m\u001b[0;34m,\u001b[0m\u001b[0;34m\u001b[0m\u001b[0m\n\u001b[0;32m-> 1705\u001b[0;31m                               validation_steps=validation_steps)\n\u001b[0m\u001b[1;32m   1706\u001b[0m \u001b[0;34m\u001b[0m\u001b[0m\n\u001b[1;32m   1707\u001b[0m     def evaluate(self, x=None, y=None,\n",
      "\u001b[0;32m/opt/anaconda/lib/python3.6/site-packages/keras/engine/training.py\u001b[0m in \u001b[0;36m_fit_loop\u001b[0;34m(self, f, ins, out_labels, batch_size, epochs, verbose, callbacks, val_f, val_ins, shuffle, callback_metrics, initial_epoch, steps_per_epoch, validation_steps)\u001b[0m\n\u001b[1;32m   1233\u001b[0m                         \u001b[0mins_batch\u001b[0m\u001b[0;34m[\u001b[0m\u001b[0mi\u001b[0m\u001b[0;34m]\u001b[0m \u001b[0;34m=\u001b[0m \u001b[0mins_batch\u001b[0m\u001b[0;34m[\u001b[0m\u001b[0mi\u001b[0m\u001b[0;34m]\u001b[0m\u001b[0;34m.\u001b[0m\u001b[0mtoarray\u001b[0m\u001b[0;34m(\u001b[0m\u001b[0;34m)\u001b[0m\u001b[0;34m\u001b[0m\u001b[0m\n\u001b[1;32m   1234\u001b[0m \u001b[0;34m\u001b[0m\u001b[0m\n\u001b[0;32m-> 1235\u001b[0;31m                     \u001b[0mouts\u001b[0m \u001b[0;34m=\u001b[0m \u001b[0mf\u001b[0m\u001b[0;34m(\u001b[0m\u001b[0mins_batch\u001b[0m\u001b[0;34m)\u001b[0m\u001b[0;34m\u001b[0m\u001b[0m\n\u001b[0m\u001b[1;32m   1236\u001b[0m                     \u001b[0;32mif\u001b[0m \u001b[0;32mnot\u001b[0m \u001b[0misinstance\u001b[0m\u001b[0;34m(\u001b[0m\u001b[0mouts\u001b[0m\u001b[0;34m,\u001b[0m \u001b[0mlist\u001b[0m\u001b[0;34m)\u001b[0m\u001b[0;34m:\u001b[0m\u001b[0;34m\u001b[0m\u001b[0m\n\u001b[1;32m   1237\u001b[0m                         \u001b[0mouts\u001b[0m \u001b[0;34m=\u001b[0m \u001b[0;34m[\u001b[0m\u001b[0mouts\u001b[0m\u001b[0;34m]\u001b[0m\u001b[0;34m\u001b[0m\u001b[0m\n",
      "\u001b[0;32m/opt/anaconda/lib/python3.6/site-packages/keras/backend/tensorflow_backend.py\u001b[0m in \u001b[0;36m__call__\u001b[0;34m(self, inputs)\u001b[0m\n\u001b[1;32m   2476\u001b[0m         \u001b[0msession\u001b[0m \u001b[0;34m=\u001b[0m \u001b[0mget_session\u001b[0m\u001b[0;34m(\u001b[0m\u001b[0;34m)\u001b[0m\u001b[0;34m\u001b[0m\u001b[0m\n\u001b[1;32m   2477\u001b[0m         updated = session.run(fetches=fetches, feed_dict=feed_dict,\n\u001b[0;32m-> 2478\u001b[0;31m                               **self.session_kwargs)\n\u001b[0m\u001b[1;32m   2479\u001b[0m         \u001b[0;32mreturn\u001b[0m \u001b[0mupdated\u001b[0m\u001b[0;34m[\u001b[0m\u001b[0;34m:\u001b[0m\u001b[0mlen\u001b[0m\u001b[0;34m(\u001b[0m\u001b[0mself\u001b[0m\u001b[0;34m.\u001b[0m\u001b[0moutputs\u001b[0m\u001b[0;34m)\u001b[0m\u001b[0;34m]\u001b[0m\u001b[0;34m\u001b[0m\u001b[0m\n\u001b[1;32m   2480\u001b[0m \u001b[0;34m\u001b[0m\u001b[0m\n",
      "\u001b[0;32m/opt/anaconda/lib/python3.6/site-packages/tensorflow/python/client/session.py\u001b[0m in \u001b[0;36mrun\u001b[0;34m(self, fetches, feed_dict, options, run_metadata)\u001b[0m\n\u001b[1;32m    898\u001b[0m     \u001b[0;32mtry\u001b[0m\u001b[0;34m:\u001b[0m\u001b[0;34m\u001b[0m\u001b[0m\n\u001b[1;32m    899\u001b[0m       result = self._run(None, fetches, feed_dict, options_ptr,\n\u001b[0;32m--> 900\u001b[0;31m                          run_metadata_ptr)\n\u001b[0m\u001b[1;32m    901\u001b[0m       \u001b[0;32mif\u001b[0m \u001b[0mrun_metadata\u001b[0m\u001b[0;34m:\u001b[0m\u001b[0;34m\u001b[0m\u001b[0m\n\u001b[1;32m    902\u001b[0m         \u001b[0mproto_data\u001b[0m \u001b[0;34m=\u001b[0m \u001b[0mtf_session\u001b[0m\u001b[0;34m.\u001b[0m\u001b[0mTF_GetBuffer\u001b[0m\u001b[0;34m(\u001b[0m\u001b[0mrun_metadata_ptr\u001b[0m\u001b[0;34m)\u001b[0m\u001b[0;34m\u001b[0m\u001b[0m\n",
      "\u001b[0;32m/opt/anaconda/lib/python3.6/site-packages/tensorflow/python/client/session.py\u001b[0m in \u001b[0;36m_run\u001b[0;34m(self, handle, fetches, feed_dict, options, run_metadata)\u001b[0m\n\u001b[1;32m   1102\u001b[0m             \u001b[0mfeed_handles\u001b[0m\u001b[0;34m[\u001b[0m\u001b[0msubfeed_t\u001b[0m\u001b[0;34m]\u001b[0m \u001b[0;34m=\u001b[0m \u001b[0msubfeed_val\u001b[0m\u001b[0;34m\u001b[0m\u001b[0m\n\u001b[1;32m   1103\u001b[0m           \u001b[0;32melse\u001b[0m\u001b[0;34m:\u001b[0m\u001b[0;34m\u001b[0m\u001b[0m\n\u001b[0;32m-> 1104\u001b[0;31m             \u001b[0mnp_val\u001b[0m \u001b[0;34m=\u001b[0m \u001b[0mnp\u001b[0m\u001b[0;34m.\u001b[0m\u001b[0masarray\u001b[0m\u001b[0;34m(\u001b[0m\u001b[0msubfeed_val\u001b[0m\u001b[0;34m,\u001b[0m \u001b[0mdtype\u001b[0m\u001b[0;34m=\u001b[0m\u001b[0msubfeed_dtype\u001b[0m\u001b[0;34m)\u001b[0m\u001b[0;34m\u001b[0m\u001b[0m\n\u001b[0m\u001b[1;32m   1105\u001b[0m \u001b[0;34m\u001b[0m\u001b[0m\n\u001b[1;32m   1106\u001b[0m           if (not is_tensor_handle_feed and\n",
      "\u001b[0;32m/opt/anaconda/lib/python3.6/site-packages/numpy/core/numeric.py\u001b[0m in \u001b[0;36masarray\u001b[0;34m(a, dtype, order)\u001b[0m\n\u001b[1;32m    490\u001b[0m \u001b[0;34m\u001b[0m\u001b[0m\n\u001b[1;32m    491\u001b[0m     \"\"\"\n\u001b[0;32m--> 492\u001b[0;31m     \u001b[0;32mreturn\u001b[0m \u001b[0marray\u001b[0m\u001b[0;34m(\u001b[0m\u001b[0ma\u001b[0m\u001b[0;34m,\u001b[0m \u001b[0mdtype\u001b[0m\u001b[0;34m,\u001b[0m \u001b[0mcopy\u001b[0m\u001b[0;34m=\u001b[0m\u001b[0;32mFalse\u001b[0m\u001b[0;34m,\u001b[0m \u001b[0morder\u001b[0m\u001b[0;34m=\u001b[0m\u001b[0morder\u001b[0m\u001b[0;34m)\u001b[0m\u001b[0;34m\u001b[0m\u001b[0m\n\u001b[0m\u001b[1;32m    493\u001b[0m \u001b[0;34m\u001b[0m\u001b[0m\n\u001b[1;32m    494\u001b[0m \u001b[0;34m\u001b[0m\u001b[0m\n",
      "\u001b[0;31mKeyboardInterrupt\u001b[0m: "
     ]
    }
   ],
   "source": [
    "## create model\n",
    "#model = Sequential()\n",
    "#model.add(Dense(neuronsPerLayer, input_dim = len(input_features), activation = activationFunction))\n",
    "\n",
    "#for i in range(0, nLayers-1): # -1 because one layer is added automatically with the input layer\n",
    "#    model.add(Dense(neuronsPerLayer, activation = activationFunction))\n",
    "\n",
    "#model.add(Dense(len(output_features)))#, activation = 'sigmoid'))\n",
    "\n",
    "## Compile model\n",
    "#earlystop = EarlyStopping(monitor=early_stop_monitor, min_delta=early_stop_min_delta, patience=early_stop_patience, \\\n",
    "#                          verbose=1, mode='auto')\n",
    "#callbacks_list = [earlystop]\n",
    "#model.compile(loss=loss_func_dict[loss_function], optimizer='adam')#, metrics=[loss_function])\n",
    "\n",
    "# Create model\n",
    "inp = Input(shape=(len(input_features),), name = 'main_input')\n",
    "\n",
    "for i in range(0, nLayers-1): # -1 because one layer is added automatically with the input layer\n",
    "    if i == 0:\n",
    "        x = Dense(neuronsPerLayer, activation = activationFunction)(inp)\n",
    "    else:\n",
    "        x = Dense(neuronsPerLayer, activation = activationFunction)(x)\n",
    "        \n",
    "output_layers = []\n",
    "for feat in output_features:\n",
    "    output_layers.append(Dense(1, name = feat)(x))\n",
    "\n",
    "#out_stellar_mass = Dense(1, name = 'Stellar_mass')(x)\n",
    "#out_sfr = Dense(1, name = 'SFR')(x)\n",
    "\n",
    "#model = Model(inp, [out_stellar_mass, out_sfr])\n",
    "model = Model(inp, output_layers)\n",
    "model.compile(optimizer = 'adam', loss = loss_func_dict)\n",
    "\n",
    "earlystop = EarlyStopping(monitor=early_stop_monitor, min_delta=early_stop_min_delta, patience=early_stop_patience, \\\n",
    "                          verbose=1, mode='auto')\n",
    "callbacks_list = [earlystop]\n",
    "\n",
    "## Fit the model\n",
    "#if training_data_dict['norm'] == 'none':\n",
    "#    history = model.fit(training_data_dict['x_train'], training_data_dict['y_train'], \n",
    "#                        validation_data=(training_data_dict['x_val'], training_data_dict['y_val']), \n",
    "#                        epochs=int(nr_epochs), batch_size=int(batch_size), callbacks=callbacks_list)\n",
    "#else:\n",
    "#    history = model.fit(training_data_dict['x_train_norm'] , training_data_dict['y_train_norm'], \n",
    "#                        validation_data=(training_data_dict['x_val_norm'], training_data_dict['y_val_norm']), \n",
    "#                        epochs=int(nr_epochs), batch_size=int(batch_size), callbacks=callbacks_list)\n",
    "\n",
    "## Fit the model\n",
    "#if training_data_dict['norm'] == 'none':\n",
    "#    history = model.fit(x = training_data_dict['x_train'], y = {'Stellar_mass': training_data_dict['y_train']\n",
    "#                        [:,training_data_dict['y_data_keys']['Stellar_mass']], 'SFR': training_data_dict['y_train']\n",
    "#                        [:,training_data_dict['y_data_keys']['SFR']]}, \n",
    "#                        validation_data = (training_data_dict['x_val'], \n",
    "#                        {'Stellar_mass': training_data_dict['y_val'][:,training_data_dict['y_data_keys']\n",
    "#                        ['Stellar_mass']], 'SFR': training_data_dict['y_val']\n",
    "#                        [:,training_data_dict['y_data_keys']['SFR']]}), \n",
    "#                        epochs=int(nr_epochs), batch_size=int(batch_size), callbacks=callbacks_list)\n",
    "#else:\n",
    "#    history = model.fit(x = training_data_dict['x_train_norm'], y = {'Stellar_mass': training_data_dict['y_train_norm']\n",
    "#                       [:,training_data_dict['y_data_keys']['Stellar_mass']], 'SFR': training_data_dict['y_train_norm']\n",
    "#                        [:,training_data_dict['y_data_keys']['SFR']]}, \n",
    "#                        validation_data = (training_data_dict['x_val_norm'], \n",
    "#                        {'Stellar_mass': training_data_dict['y_val_norm'][:,training_data_dict['y_data_keys']\n",
    "#                        ['Stellar_mass']], 'SFR': training_data_dict['y_val_norm']\n",
    "#                        [:,training_data_dict['y_data_keys']['SFR']]}), \n",
    "#                        epochs=int(nr_epochs), batch_size=int(batch_size), callbacks=callbacks_list)\n",
    "\n",
    "history = model.fit(x = training_data_dict['input_train_dict'], y = training_data_dict['output_train_dict'], \n",
    "                    validation_data = (training_data_dict['input_val_dict'], \n",
    "                    training_data_dict['output_val_dict']), \n",
    "                    epochs=int(nr_epochs), batch_size=int(batch_size), callbacks=callbacks_list)"
   ]
  },
  {
   "cell_type": "markdown",
   "metadata": {},
   "source": [
    "#### Plot loss history"
   ]
  },
  {
   "cell_type": "code",
   "execution_count": 144,
   "metadata": {},
   "outputs": [
    {
     "name": "stdout",
     "output_type": "stream",
     "text": [
      "dict_keys(['val_loss', 'val_Stellar_mass_loss', 'val_SFR_loss', 'loss', 'Stellar_mass_loss', 'SFR_loss'])\n"
     ]
    }
   ],
   "source": [
    "# list all data in history\n",
    "print(history.history.keys())"
   ]
  },
  {
   "cell_type": "code",
   "execution_count": null,
   "metadata": {},
   "outputs": [],
   "source": [
    "# summarize history for loss\n",
    "%matplotlib inline\n",
    "fig = plt.figure(5, figsize=(8,8))\n",
    "plt.plot(history.history['loss'], 'b')\n",
    "plt.plot(history.history['val_loss'], 'r')\n",
    "plt.yscale('log')\n",
    "#plt.title(title)\n",
    "plt.ylabel('loss')\n",
    "plt.xlabel('epoch')\n",
    "plt.legend(['train', 'val'], loc='upper right')\n",
    "plt.show()"
   ]
  },
  {
   "cell_type": "markdown",
   "metadata": {},
   "source": [
    "## Batch runs"
   ]
  },
  {
   "cell_type": "markdown",
   "metadata": {},
   "source": [
    "#### Do a batch run to see which input parameters gives the best score"
   ]
  },
  {
   "cell_type": "code",
   "execution_count": null,
   "metadata": {},
   "outputs": [],
   "source": [
    "total_set_size = 300000\n",
    "train_size = 250000\n",
    "val_size = 25000\n",
    "test_size = 25000\n",
    "\n",
    "core_input_features = ['Halo_mass', 'Halo_mass_peak', 'Scale_peak_mass']\n",
    "tested_input_features = ['Concentration', 'Type', 'Scale_half_mass', \n",
    "                 'Scale_last_MajM', 'Environmental_density']\n",
    "output_features = ['Stellar_mass', 'SFR']\n",
    "nr_extra_params_list = [2]\n",
    "nr_runs_per_comb = 3\n",
    "\n",
    "nLayers = 10\n",
    "activationFunction = 'tanh'\n",
    "neuronsPerLayer = 30\n",
    "loss_function = 'mse' # 'mse', 'weighted_mse_1' 'mae'\n",
    "norm = 'zero_to_one' # 'none',   'zero_mean_unit',   'zero_to_one'\n",
    "\n",
    "nr_steps = 1e4\n",
    "batch_size = 4e4\n",
    "\n",
    "verb = 0 # prints progress to stdout\n",
    "\n",
    "nr_epochs = nr_steps * batch_size / train_size\n",
    "parameter_dictionary = {\n",
    "    'fixed_input_features': core_input_features,\n",
    "    'tested_input_features': tested_input_features,\n",
    "    'output_features': output_features,\n",
    "    'nr_extra_parameter_combinations': nr_extra_params_list,\n",
    "    'nr_steps': [nr_steps],\n",
    "    'batch_size': [batch_size],\n",
    "    'nr_epochs': [nr_epochs],\n",
    "    'nr_training_samples': [train_size],\n",
    "    'nr_validation_samples': [val_size],\n",
    "    'nr_test_samples': [test_size],\n",
    "    'data_normalization': norm,\n",
    "    'activation_function': activationFunction,\n",
    "    'neurons_per_layer': [neuronsPerLayer],\n",
    "    'nr_hidden_layers': [nLayers],\n",
    "    'output_activation_function': 'none',\n",
    "    'description': 'Each parameter setting is represented by one list containing three objects. The first one is ' + \\\n",
    "    'the input parameters. The second one is the mse test scores obtained for the different runs evaluated on the ' +\\\n",
    "    'normed units and the original units of the data set (original only if norm is \\'none\\'). The third one is the ' +\\\n",
    "    'loss histories for the different runs [training_loss, validation_loss] evaluated on the normalised data.'\n",
    "}\n",
    "results_list = [parameter_dictionary]\n",
    "nr_combs_total = 0\n",
    "for nr_extra_params in nr_extra_params_list:\n",
    "    nr_combs_total += comb(len(tested_input_features), nr_extra_params)\n",
    "comb_counter = 0 # to keep track of how many combinations I've gone through\n",
    "\n",
    "with open('model_comparisons/progress.txt', 'w+') as f:\n",
    "    \n",
    "    date_string_proper = datetime.datetime.now().strftime(\"%H:%M, %Y-%m-%d\")\n",
    "    f.write('Benchmark done on input parameters at ' + date_string_proper + '\\n\\n')\n",
    "    f.flush()\n",
    "    \n",
    "    # load the selected galaxyfile\n",
    "    galaxies, data_keys, unit_dict = load_galfile()\n",
    "    \n",
    "    for i_nr_extra_params, nr_extra_params in enumerate(nr_extra_params_list):\n",
    "        \n",
    "        extra_param_combs = list(combinations(tested_input_features, nr_extra_params))\n",
    "        \n",
    "        date_string_proper = datetime.datetime.now().strftime(\"%H:%M, %Y-%m-%d\")\n",
    "        f.write(date_string_proper + '    Testing %d extra parameters. %d/%d extra parameter count tested. \\n\\n' %\n",
    "                (nr_extra_params, i_nr_extra_params+1, len(nr_extra_params_list)))\n",
    "        f.flush()\n",
    "    \n",
    "        for i_comb, param_comb in enumerate(extra_param_combs):\n",
    "            input_features = core_input_features.copy()\n",
    "            input_features.extend(param_comb)\n",
    "            \n",
    "            # prepare the training data\n",
    "            training_data_dict = divide_train_data(galaxies, data_keys, input_features, output_features, \n",
    "                                                   total_set_size, train_size, val_size, test_size)\n",
    "            training_data_dict = normalise_data(training_data_dict, norm)\n",
    "            \n",
    "            date_string_proper = datetime.datetime.now().strftime(\"%H:%M, %Y-%m-%d\")\n",
    "            comb_counter += 1\n",
    "            f.write(date_string_proper + '        Testing combination %d/%d. \\n\\n' % (comb_counter, nr_combs_total))\n",
    "            f.flush()\n",
    "            \n",
    "            original_scores = []\n",
    "            if not norm == 'none':\n",
    "                normed_scores = []\n",
    "            histories = []\n",
    "\n",
    "            for i_run in range(nr_runs_per_comb):\n",
    "\n",
    "                # create model\n",
    "                model = Sequential()\n",
    "                model.add(Dense(neuronsPerLayer, input_dim = len(input_features), activation = activationFunction))\n",
    "\n",
    "                for i in range(0, nLayers-1): # -1 because one layer is added automatically with the input layer\n",
    "                    model.add(Dense(neuronsPerLayer, activation = activationFunction))\n",
    "\n",
    "                model.add(Dense(len(output_features)))\n",
    "\n",
    "                # Compile model\n",
    "                earlystop = EarlyStopping(monitor='val_loss', min_delta=1e-7, patience=100, \\\n",
    "                          verbose=1, mode='auto')\n",
    "                callbacks_list = [earlystop]\n",
    "                model.compile(loss=loss_func_dict[loss_function], optimizer='adam')\n",
    "\n",
    "                # Fit the model\n",
    "                if norm == 'none':\n",
    "                    history = model.fit(training_data_dict['x_train'], training_data_dict['y_train'], \n",
    "                                        validation_data=(training_data_dict['x_val'], training_data_dict['y_val']), \n",
    "                                        epochs=int(nr_epochs), batch_size=int(batch_size), callbacks=callbacks_list, \n",
    "                                        verbose=verb)\n",
    "                    orig_score = model.evaluate(x=training_data_dict['x_test'], y=training_data_dict['y_test'],\n",
    "                                               verbose=verb)\n",
    "                    original_scores.append(orig_score)\n",
    "                    \n",
    "                else:\n",
    "                    history = model.fit(training_data_dict['x_train_norm'] , training_data_dict['y_train_norm'], \n",
    "                                        validation_data=(training_data_dict['x_val_norm'], \n",
    "                                        training_data_dict['y_val_norm']), \n",
    "                                        epochs=int(nr_epochs), batch_size=int(batch_size), callbacks=callbacks_list, \n",
    "                                        verbose=verb)\n",
    "                    norm_score = model.evaluate(x=training_data_dict['x_test_norm'], y=training_data_dict['y_test_norm'],\n",
    "                                               verbose=verb)\n",
    "                    normed_scores.append(norm_score)\n",
    "                    orig_score = get_test_score(model, training_data_dict, norm)\n",
    "                    original_scores.append(orig_score)\n",
    "                    \n",
    "                histories.append([history.history['loss'], history.history['val_loss']])\n",
    "                \n",
    "            if norm == 'none':\n",
    "                scores = original_scores\n",
    "            else:\n",
    "                scores = [normed_scores, original_scores]\n",
    "                \n",
    "            results_list.append([input_features, scores, histories])\n",
    "            \n",
    "    date_string_proper = datetime.datetime.now().strftime(\"%H:%M, %Y-%m-%d\")\n",
    "    f.write('Benchmark completed at ' + date_string_proper + '\\n')\n",
    "    f.flush()\n",
    "        "
   ]
  },
  {
   "cell_type": "markdown",
   "metadata": {},
   "source": [
    "#### Save the result"
   ]
  },
  {
   "cell_type": "code",
   "execution_count": null,
   "metadata": {},
   "outputs": [],
   "source": [
    "### Save the result\n",
    "date_string = datetime.datetime.now().strftime('%Y-%m-%d--%H-%M-%S')\n",
    "custom_string = '5_total_inputs'\n",
    "with open('model_comparisons/' + custom_string + '.json', 'w+') as f:\n",
    "    json.dump(results_list, f)\n",
    "f.close()"
   ]
  },
  {
   "cell_type": "code",
   "execution_count": null,
   "metadata": {},
   "outputs": [],
   "source": [
    "\n",
    "#print(train_loss)\n",
    "print('Lowest train/val/test loss: %.2f, %.2f, %.2f' % (np.amin(train_loss), np.amin(val_loss), np.amin(test_loss)))"
   ]
  },
  {
   "cell_type": "markdown",
   "metadata": {},
   "source": [
    "#### Load a batch run result"
   ]
  },
  {
   "cell_type": "code",
   "execution_count": null,
   "metadata": {},
   "outputs": [],
   "source": [
    "### Load a result\n",
    "loaded_list_string = '5_total_inputs'\n",
    "with open('model_comparisons/' + loaded_list_string + '.json', 'r') as f:\n",
    "    results_list = json.load(f)\n",
    "f.close()\n",
    "\n",
    "print(results_list[0])"
   ]
  },
  {
   "cell_type": "markdown",
   "metadata": {},
   "source": [
    "#### Plot the results"
   ]
  },
  {
   "cell_type": "code",
   "execution_count": null,
   "metadata": {},
   "outputs": [],
   "source": [
    "print(len(results_list[1][1]))\n",
    "print(results_list[1][1])"
   ]
  },
  {
   "cell_type": "code",
   "execution_count": 58,
   "metadata": {
    "scrolled": true
   },
   "outputs": [
    {
     "ename": "NameError",
     "evalue": "name 'results_list' is not defined",
     "output_type": "error",
     "traceback": [
      "\u001b[0;31m---------------------------------------------------------------------------\u001b[0m",
      "\u001b[0;31mNameError\u001b[0m                                 Traceback (most recent call last)",
      "\u001b[0;32m<ipython-input-58-1b0a56f999ac>\u001b[0m in \u001b[0;36m<module>\u001b[0;34m()\u001b[0m\n\u001b[1;32m      1\u001b[0m \u001b[0;31m### Plot the loss histories to make sure that the best performance was reached\u001b[0m\u001b[0;34m\u001b[0m\u001b[0;34m\u001b[0m\u001b[0m\n\u001b[1;32m      2\u001b[0m \u001b[0;34m\u001b[0m\u001b[0m\n\u001b[0;32m----> 3\u001b[0;31m \u001b[0;32mfor\u001b[0m \u001b[0mcomb_nr\u001b[0m\u001b[0;34m,\u001b[0m \u001b[0mlst\u001b[0m \u001b[0;32min\u001b[0m \u001b[0menumerate\u001b[0m\u001b[0;34m(\u001b[0m\u001b[0mresults_list\u001b[0m\u001b[0;34m[\u001b[0m\u001b[0;36m1\u001b[0m\u001b[0;34m:\u001b[0m\u001b[0;34m]\u001b[0m\u001b[0;34m)\u001b[0m\u001b[0;34m:\u001b[0m\u001b[0;34m\u001b[0m\u001b[0m\n\u001b[0m\u001b[1;32m      4\u001b[0m \u001b[0;34m\u001b[0m\u001b[0m\n\u001b[1;32m      5\u001b[0m     \u001b[0mtitle\u001b[0m \u001b[0;34m=\u001b[0m \u001b[0mlst\u001b[0m\u001b[0;34m[\u001b[0m\u001b[0;36m0\u001b[0m\u001b[0;34m]\u001b[0m\u001b[0;34m\u001b[0m\u001b[0m\n",
      "\u001b[0;31mNameError\u001b[0m: name 'results_list' is not defined"
     ]
    }
   ],
   "source": [
    "### Plot the loss histories to make sure that the best performance was reached\n",
    "\n",
    "for comb_nr, lst in enumerate(results_list[1:]):\n",
    "\n",
    "    title = lst[0]\n",
    "    train_loss = lst[2][0][0]\n",
    "    val_loss = lst[2][0][1]\n",
    "    test_loss = lst[1][0]\n",
    "\n",
    "    #print('Lowest train/val/test loss: %.2e, %.2e, %.2e' % (np.amin(train_loss), np.amin(val_loss), np.amin(test_loss)))\n",
    "\n",
    "    # summarize history for loss\n",
    "    fig = plt.figure(5, figsize=(8,8))\n",
    "    for i_run in range(len(test_loss)):\n",
    "        train_loss = lst[2][i_run][0]\n",
    "        val_loss = lst[2][i_run][1]\n",
    "        plt.plot(train_loss, 'b')\n",
    "        plt.plot(val_loss, 'r')\n",
    "    plt.yscale('log')\n",
    "    plt.title(title)\n",
    "    plt.ylabel('loss')\n",
    "    plt.xlabel('epoch')\n",
    "    plt.legend(['train', 'val'], loc='upper right')\n",
    "    plt.show()\n"
   ]
  },
  {
   "cell_type": "code",
   "execution_count": null,
   "metadata": {},
   "outputs": [],
   "source": [
    "print(results_list[1][0])"
   ]
  },
  {
   "cell_type": "code",
   "execution_count": null,
   "metadata": {
    "scrolled": false
   },
   "outputs": [],
   "source": [
    "### Get the X best performing input parameters\n",
    "get_normed_scores = 1\n",
    "top_nr_of_parameter_combs = 10\n",
    "column_widths = [0.2, 0.05]\n",
    "test_results = []\n",
    "val_results = []\n",
    "for comb_nr, lst in enumerate(results_list[1:]):\n",
    "    if get_normed_scores:\n",
    "        best_test = np.amin(lst[1][0])\n",
    "    else:\n",
    "        best_test = np.amin(lst[1][1])\n",
    "        \n",
    "#    val_losses = []\n",
    "#    for i_run in range(len(lst[1])):\n",
    "#        val_losses.append(lst[2][i_run][1])\n",
    "        \n",
    "    test_results.append(best_test)\n",
    "#    val_results.append(np.amin(val_losses))\n",
    "    \n",
    "best_test_indices = np.argsort(test_results)\n",
    "#best_val_indices = np.argsort(val_results)\n",
    "\n",
    "fig1362 = plt.figure(figsize=(16,8))\n",
    "\n",
    "ax = plt.subplot(1,1,1)\n",
    "\n",
    "collabel=('Input parameters', 'best test mse\\n(normalised units)')\n",
    "table_vals = []\n",
    "for i in range(top_nr_of_parameter_combs):\n",
    "    \n",
    "    inputs = ', '.join(results_list[best_test_indices[i]+1][0][:3])\n",
    "    inputs = inputs + '\\n+\\n' + ', '.join(results_list[best_test_indices[i]+1][0][3:])\n",
    "    \n",
    "    table_vals.append([inputs, '%.3e' % \n",
    "                      (np.amin(results_list[best_test_indices[i]+1][1]))])\n",
    "\n",
    "the_table = ax.table(cellText=table_vals,colLabels=collabel,colWidths=column_widths,loc='center')\n",
    "the_table.set_fontsize(15)\n",
    "the_table.scale(3, 4)\n",
    "ax.axis('tight')\n",
    "ax.axis('off')\n",
    "plt.title('# weight updates: %.1e, batch size: %.1e,\\nnorm: %s, output norm: False, 10 layers, 30 neurons per layer' % \n",
    "          (results_list[0]['nr_steps'][0], results_list[0]['batch_size'][0], results_list[0]['data_normalization']) +\n",
    "           '\\nFixed input parameters: %s' % (', '.join(results_list[0]['fixed_input_features'])), \n",
    "          fontsize=20)\n",
    "ttl = ax.title\n",
    "ttl.set_position([0.5, 1.15])\n",
    "\n",
    "plt.show()"
   ]
  },
  {
   "cell_type": "code",
   "execution_count": null,
   "metadata": {},
   "outputs": [],
   "source": [
    "fig1362.savefig(fig_dir + '5_total_inputs' + '_param_comb_scores_test.png', bbox_inches = 'tight')"
   ]
  },
  {
   "cell_type": "code",
   "execution_count": null,
   "metadata": {
    "scrolled": true
   },
   "outputs": [],
   "source": [
    "### Plot best validation scores\n",
    "fig2 = plt.figure(figsize=(16,8))\n",
    "\n",
    "\n",
    "ax = plt.subplot(1,1,1)\n",
    "\n",
    "collabel=('Input parameters', 'best val mse\\n(scaled units)')\n",
    "table_vals = []\n",
    "for i in range(top_nr_of_parameter_combs):\n",
    "    \n",
    "    inputs = ', '.join(results_list[best_val_indices[i]+1][0])\n",
    "    \n",
    "    table_vals.append([inputs, '%.3f' % \n",
    "                      (val_results[best_val_indices[i]])])\n",
    "\n",
    "the_table = ax.table(cellText=table_vals,colLabels=collabel,colWidths=column_widths,loc='center')\n",
    "the_table.set_fontsize(15)\n",
    "the_table.scale(3, 3)\n",
    "\n",
    "plt.subplots_adjust(left=None, bottom=None, right=None, top=None,\n",
    "                wspace=0.2, hspace=0.5)\n",
    "\n",
    "ax.axis('tight')\n",
    "ax.axis('off')\n",
    "plt.title('# weight updates: %.1e, batch size: %.1e,\\nnorm: %s, relu on output: False, 10 layers, 10 neurons per layer' % \n",
    "          (results_list[0]['nr_steps'][0], results_list[0]['batch_size'][0], results_list[0]['data_normalization'], \n",
    "          ), fontsize=20)\n",
    "ttl = ax.title\n",
    "ttl.set_position([0.5, 1])\n",
    "\n",
    "#plt.tight_layout(h_pad=30)\n",
    "\n",
    "plt.show()"
   ]
  },
  {
   "cell_type": "code",
   "execution_count": null,
   "metadata": {},
   "outputs": [],
   "source": [
    "fig2.savefig(fig_dir + '2018-05-12--13-36-02_param_comb_scores_val.png', bbox_inches = 'tight')"
   ]
  },
  {
   "cell_type": "code",
   "execution_count": null,
   "metadata": {},
   "outputs": [],
   "source": [
    "### Find out how a parameter affects the result\n",
    "collabel = ('Input parameter', '1', '2', '3', '4', '5', '6', '7', '8', '9', '10')\n",
    "first_col_width = .1\n",
    "last_col_width = .02\n",
    "column_widths = [first_col_width]\n",
    "for i in range(10):\n",
    "    column_widths.append(last_col_width)\n",
    "tab_rows = []\n",
    "row_colours = []\n",
    "\n",
    "for param in results_list[0]['tested_input_features']:\n",
    "    \n",
    "    tab_row = [param]\n",
    "    row_colour = ['w']\n",
    "\n",
    "    for i, ind in enumerate(best_test_indices[:10]):\n",
    "        inputs = results_list[ind+1][0]\n",
    "        if param in inputs:\n",
    "            tab_row.append('Yes')\n",
    "            row_colour.append('g')\n",
    "        else:\n",
    "            tab_row.append('No')\n",
    "            row_colour.append('r')\n",
    "\n",
    "    tab_rows.append(tab_row)\n",
    "    row_colours.append(row_colour)\n",
    "        \n",
    "fig8845 = plt.figure(figsize=(16,8))\n",
    "\n",
    "ax = plt.subplot(111)\n",
    "\n",
    "the_table = ax.table(cellText=tab_rows,colLabels=collabel,colWidths=column_widths,\n",
    "                     cellColours=row_colours,loc='center')\n",
    "the_table.set_fontsize(15)\n",
    "the_table.scale(3, 3)\n",
    "\n",
    "plt.subplots_adjust(left=None, bottom=None, right=None, top=None,\n",
    "                wspace=0.2, hspace=0.5)\n",
    "plt.title('# weight updates: %.1e, batch size: %.1e,\\nnorm: %s, output norm: False, 10 layers, 30 neurons per layer'\n",
    "          % (results_list[0]['nr_steps'][0], results_list[0]['batch_size'][0], results_list[0]['data_normalization'])+\n",
    "           '\\nFixed input parameters: %s\\nOrdering based on test scores (normalised units)' % \n",
    "          (', '.join(results_list[0]['fixed_input_features'])), fontsize=20)\n",
    "#plt.title('Ordering based on validation scores', fontsize=20)\n",
    "ttl = ax.title\n",
    "ttl.set_position([0.5, 0.8])\n",
    "\n",
    "#ax.axis('tight')\n",
    "ax.axis('off')\n",
    "\n",
    "plt.show()\n",
    "    "
   ]
  },
  {
   "cell_type": "code",
   "execution_count": null,
   "metadata": {},
   "outputs": [],
   "source": [
    "fig8845.savefig(fig_dir + '5_total_inputs' + '_param_importance_test.png', bbox_inches = 'tight')"
   ]
  },
  {
   "cell_type": "markdown",
   "metadata": {},
   "source": [
    "## Plot loss history"
   ]
  },
  {
   "cell_type": "code",
   "execution_count": 59,
   "metadata": {},
   "outputs": [
    {
     "ename": "NameError",
     "evalue": "name 'history' is not defined",
     "output_type": "error",
     "traceback": [
      "\u001b[0;31m---------------------------------------------------------------------------\u001b[0m",
      "\u001b[0;31mNameError\u001b[0m                                 Traceback (most recent call last)",
      "\u001b[0;32m<ipython-input-59-811684b962ed>\u001b[0m in \u001b[0;36m<module>\u001b[0;34m()\u001b[0m\n\u001b[1;32m      1\u001b[0m \u001b[0;31m# list all data in history\u001b[0m\u001b[0;34m\u001b[0m\u001b[0;34m\u001b[0m\u001b[0m\n\u001b[0;32m----> 2\u001b[0;31m \u001b[0mprint\u001b[0m\u001b[0;34m(\u001b[0m\u001b[0mhistory\u001b[0m\u001b[0;34m.\u001b[0m\u001b[0mhistory\u001b[0m\u001b[0;34m.\u001b[0m\u001b[0mkeys\u001b[0m\u001b[0;34m(\u001b[0m\u001b[0;34m)\u001b[0m\u001b[0;34m)\u001b[0m\u001b[0;34m\u001b[0m\u001b[0m\n\u001b[0m",
      "\u001b[0;31mNameError\u001b[0m: name 'history' is not defined"
     ]
    }
   ],
   "source": [
    "# list all data in history\n",
    "print(history.history.keys())"
   ]
  },
  {
   "cell_type": "code",
   "execution_count": null,
   "metadata": {},
   "outputs": [],
   "source": [
    "# summarize history for loss\n",
    "%matplotlib inline\n",
    "fig = plt.figure(5, figsize=(8,8))\n",
    "plt.plot(train_loss, 'b')\n",
    "plt.plot(val_loss, 'r')\n",
    "plt.yscale('log')\n",
    "plt.title(title)\n",
    "plt.ylabel('loss')\n",
    "plt.xlabel('epoch')\n",
    "plt.legend(['train', 'val'], loc='upper right')\n",
    "plt.show()"
   ]
  },
  {
   "cell_type": "markdown",
   "metadata": {},
   "source": [
    "## Evaluate the model"
   ]
  },
  {
   "cell_type": "code",
   "execution_count": 60,
   "metadata": {
    "scrolled": true
   },
   "outputs": [
    {
     "ename": "NameError",
     "evalue": "name 'x_test_norm' is not defined",
     "output_type": "error",
     "traceback": [
      "\u001b[0;31m---------------------------------------------------------------------------\u001b[0m",
      "\u001b[0;31mNameError\u001b[0m                                 Traceback (most recent call last)",
      "\u001b[0;32m<ipython-input-60-7ce53546733a>\u001b[0m in \u001b[0;36m<module>\u001b[0;34m()\u001b[0m\n\u001b[1;32m      1\u001b[0m \u001b[0;31m# On preprocessed data\u001b[0m\u001b[0;34m\u001b[0m\u001b[0;34m\u001b[0m\u001b[0m\n\u001b[0;32m----> 2\u001b[0;31m \u001b[0mtest_loss\u001b[0m\u001b[0;34m,\u001b[0m \u001b[0mtest_mse\u001b[0m \u001b[0;34m=\u001b[0m \u001b[0mmodel\u001b[0m\u001b[0;34m.\u001b[0m\u001b[0mevaluate\u001b[0m\u001b[0;34m(\u001b[0m\u001b[0mx_test_norm\u001b[0m\u001b[0;34m,\u001b[0m \u001b[0my_test_norm\u001b[0m\u001b[0;34m,\u001b[0m \u001b[0mverbose\u001b[0m\u001b[0;34m=\u001b[0m\u001b[0;36m0\u001b[0m\u001b[0;34m)\u001b[0m\u001b[0;34m\u001b[0m\u001b[0m\n\u001b[0m\u001b[1;32m      3\u001b[0m \u001b[0mprint\u001b[0m\u001b[0;34m(\u001b[0m\u001b[0;34m'MSE for the processed data: %.4f'\u001b[0m \u001b[0;34m%\u001b[0m \u001b[0;34m(\u001b[0m\u001b[0mtest_mse\u001b[0m\u001b[0;34m)\u001b[0m\u001b[0;34m)\u001b[0m\u001b[0;34m\u001b[0m\u001b[0m\n",
      "\u001b[0;31mNameError\u001b[0m: name 'x_test_norm' is not defined"
     ]
    }
   ],
   "source": [
    "# On preprocessed data\n",
    "test_loss, test_mse = model.evaluate(x_test_norm, y_test_norm, verbose=0)\n",
    "print('MSE for the processed data: %.4f' % (test_mse))"
   ]
  },
  {
   "cell_type": "code",
   "execution_count": null,
   "metadata": {},
   "outputs": [],
   "source": [
    "### Predict real value of points\n",
    "if norm == 'zero_mean_unit_std':\n",
    "    predicted_norm_points = model.predict(training_data_dict['x_test_norm'])\n",
    "    predicted_points = predicted_norm_points * training_data_dict['y_data_stds'] + training_data_dict['y_data_means']\n",
    "    \n",
    "if norm == 'zero_to_one':\n",
    "    predicted_norm_points = model.predict(training_data_dict['x_test_norm'])\n",
    "    predicted_points = predicted_norm_points * (training_data_dict['y_data_max'] - training_data_dict['y_data_min']) + \\\n",
    "                        training_data_dict['y_data_min']"
   ]
  },
  {
   "cell_type": "code",
   "execution_count": null,
   "metadata": {},
   "outputs": [],
   "source": [
    "### Get mse for the real predictions\n",
    "n_points = np.shape(predicted_points)[0]\n",
    "x_minus_y = predicted_points - y_test\n",
    "\n",
    "feature_scores = np.sum(np.power(x_minus_y, 2), 0) / n_points\n",
    "total_score = np.sum(feature_scores) / 2\n",
    "\n",
    "print('MSE for the unprocessed data: %.4f' % (total_score))"
   ]
  },
  {
   "cell_type": "markdown",
   "metadata": {},
   "source": [
    "## Save a model"
   ]
  },
  {
   "cell_type": "code",
   "execution_count": null,
   "metadata": {},
   "outputs": [],
   "source": [
    "### Save the model if it is useful\n",
    "importlib.reload(model_management)\n",
    "model_dictionary = {\n",
    "    'training_method': 'backprop',\n",
    "    'input_features': input_features,\n",
    "    'output_features': output_features,\n",
    "    'number_of_epochs': nEpochs,\n",
    "    'batch_size': batchSize,\n",
    "    'number_of_layers': nLayers,\n",
    "    'neurons_per_layer': neuronsPerLayer,\n",
    "    'activation_function': activationFunction,\n",
    "    'train_set_size': train_size,\n",
    "    'loss_function': loss_function,\n",
    "    'test_loss': test_loss,\n",
    "    'test_mse': test_mse,\n",
    "    'preprocess_data': preprocess_data\n",
    "}\n",
    "description = 'First network trained on preprocessed data.'\n",
    "model_management.SaveModel(model, model_dictionary, description)"
   ]
  },
  {
   "cell_type": "code",
   "execution_count": null,
   "metadata": {
    "scrolled": true
   },
   "outputs": [],
   "source": [
    "%matplotlib notebook\n",
    "#x1 = np.linspace(np.min(x_test[:,0]), np.max(x_test[:,0]), 30)\n",
    "#x2 = np.linspace(np.min(x_test[:,1]), np.max(x_test[:,1]), 30)\n",
    "#X1, X2 = np.meshgrid(x1, x2)\n",
    "#Z = np.zeros(X1.shape)\n",
    "#for i in range(30):\n",
    "#    for j in range(30):\n",
    "#        Z[i, j] = model.predict(np.array([X1[i,j], X2[i,j]])) TODO varför funkar inte det här??\n",
    "        \n",
    "#fig = plt.figure(4)\n",
    "#ax = plt.axes(projection='3d')\n",
    "#ax.contour3D(X, Y, Z, 50, cmap='binary')\n",
    "#ax.set_xlabel('x')\n",
    "#ax.set_ylabel('y')\n",
    "#ax.set_zlabel('z')\n",
    "        \n",
    "### Old visualisation way\n",
    "### Visualisation of prediction strength for when we have 2 input features\n",
    "if plot_threeD and len(input_features) == 2:\n",
    "    predictedY = model.predict(x_test_norm)\n",
    "    predictedY = predictedY * y_data_stds + y_data_means\n",
    "    fig = plt.figure(2, figsize=(8,8))\n",
    "    ax = fig.add_subplot(111, projection='3d')\n",
    "    ax.scatter(x_test[:,0], x_test[:,1], \n",
    "               y_test[:,0], s=3)\n",
    "    ax.scatter(x_test[:,0], x_test[:,1], \n",
    "               predictedY, s=3)\n",
    "    ax.set_xlabel('%s log($M_{H}/M_{S}$)' % (input_features[0]))\n",
    "    ax.set_ylabel('%s log($M_{H}/M_{S}$)' % (input_features[1]))\n",
    "    ax.set_zlabel('%s log($M_{G}/M_{S}$)' % (output_features[0]))"
   ]
  },
  {
   "cell_type": "markdown",
   "metadata": {},
   "source": [
    "## Scatterplots and boxplots"
   ]
  },
  {
   "cell_type": "code",
   "execution_count": null,
   "metadata": {
    "scrolled": true
   },
   "outputs": [],
   "source": [
    "%matplotlib inline\n",
    "#from pylab import plot, show, savefig, xlim, figure, \\\n",
    "#                hold, ylim, legend, boxplot, setp, axes\n",
    "nBins = 8\n",
    "halo_min_mass = np.amin(galaxies[:,6])\n",
    "halo_max_mass = np.amax(galaxies[:,6])\n",
    "bin_edges = np.linspace(halo_min_mass, halo_max_mass, nBins+1)\n",
    "\n",
    "x_test = training_data_dict['x_test']\n",
    "y_test = training_data_dict['y_test']\n",
    "\n",
    "predictedY = predicted_points\n",
    "\n",
    "for i, feat in enumerate(output_features):\n",
    "    \n",
    "    ### Plot 1\n",
    "    fig1 = plt.figure(figsize=(8,8))\n",
    "    \n",
    "    plt.plot(y_test[:,i], y_test[:,i], 'k.')\n",
    "    plt.plot(predictedY[:,i], y_test[:,i], 'g.')\n",
    "    plt.ylabel('True %s %s' % (feat, unit_dict[feat]), fontsize=15)\n",
    "    plt.xlabel('Predicted %s %s' % (feat, unit_dict[feat]), fontsize=15)\n",
    "    plt.legend(['Ideal result', 'predicted ' + feat], loc='upper center')\n",
    "    #plt.title('nEpochs: %d, batch size: %d, training set size: %d, test mse score: %.2e\\n' % (nEpochs, \n",
    "    #    batchSize, train_size, test_mse) + \n",
    "    #    '%d input feature(s): [%s]\\n%d output feature(s): [%s]\\n%d test data points (test) shown' % (\n",
    "    #    len(input_features), ', '.join(input_features), len(output_features), ', '.join(output_features),\n",
    "    #    test_size), y=1.03, fontsize=20)\n",
    "    plt.show\n",
    "    \n",
    "    ### Plot 2 - boxplot\n",
    "    \n",
    "    # bin_means contain (0: mean of the binned values, 1: bin edges, 2: numbers pointing each example to a bin)\n",
    "    bin_means_true = stats.binned_statistic(x_test[:,i], y_test[:,i], bins=bin_edges)\n",
    "    bin_means_pred = stats.binned_statistic(x_test[:,i], predictedY[:,i].flatten(), bins=bin_edges)\n",
    "    bin_centers = []\n",
    "    for iBin in range(nBins):\n",
    "        bin_center = (bin_means_true[1][iBin] + bin_means_true[1][iBin+1]) / 2\n",
    "        bin_centers.append('%.2f' % (bin_center))\n",
    "    sorted_true_y_data = []\n",
    "    sorted_pred_y_data = []\n",
    "    for iBin in range(1,nBins+1):\n",
    "        sorted_true_y_data.append(y_test[bin_means_true[2] == iBin, i])\n",
    "        sorted_pred_y_data.append(predictedY[bin_means_pred[2] == iBin,i])\n",
    "        \n",
    "    fig2 = plt.figure(figsize=(16,8))\n",
    "    ax = plt.subplot(111)\n",
    "\n",
    "    bin_pos = np.array([-2,-1]) # (because this makes it work)\n",
    "    x_label_centers = []\n",
    "    for iBin in range(nBins):\n",
    "        # Every boxplot adds 2 boxes, one from the true data and one from the predicted data\n",
    "        bin_pos += 3 \n",
    "        plt.boxplot([sorted_true_y_data[iBin], sorted_pred_y_data[iBin]] , positions = bin_pos, widths = 0.9)\n",
    "        x_label_centers.append(np.mean(bin_pos))\n",
    "    \n",
    "    plt.ylabel('%s %s' % (feat, unit_dict[feat]), fontsize=15)\n",
    "    plt.xlabel('True Halo mass log($M_{G}/M_{S}$)', fontsize=15)\n",
    "    ax.set_xlim(left=x_label_centers[0]-2, right=x_label_centers[-1]+2)\n",
    "    #xlim(0,bin_pos[1] + 1)\n",
    "    plt.xticks(x_label_centers, bin_centers)\n",
    "    #plt.text(12,7,'Left: true data. Right: predicted data.', fontsize=20)\n",
    "    \n",
    "    if feat == 'SFR':\n",
    "        ax.axhline(y=0, linestyle='--')\n",
    "    \n",
    "    #plt.title('nEpochs: %d, batch size: %d, training set size: %d, test mse score: %.2e\\n' % (nEpochs, \n",
    "    #    batchSize, train_size, test_mse) + \n",
    "    #    '%d input feature(s): [%s]\\n%d output feature(s): [%s]\\n%d test data points (test) shown' % (\n",
    "    #    len(input_features), ', '.join(input_features), len(output_features), ', '.join(output_features),\n",
    "    #    test_size), y=1.03, fontsize=20)\n",
    "    \n",
    "    plt.show()        "
   ]
  },
  {
   "cell_type": "code",
   "execution_count": null,
   "metadata": {},
   "outputs": [],
   "source": [
    "fig1.savefig(fig_dir+'bp_output_scatter_%d_plot_from_' % (i+1)+'_and_'.join(input_features)+'_to_'+\n",
    "            '_and_'.join(output_features)+'_with_'+param_string+'.png', bbox_inches = 'tight')\n",
    "fig2.savefig(fig_dir+'bp_output_boxplot_%d_from_' % (i+1)+'_and_'.join(input_features)+'_to_'+\n",
    "            '_and_'.join(output_features)+'_with_'+param_string+'.png', bbox_inches = 'tight')"
   ]
  },
  {
   "cell_type": "markdown",
   "metadata": {},
   "source": [
    "## Scatterplots and plots with errorbars"
   ]
  },
  {
   "cell_type": "code",
   "execution_count": null,
   "metadata": {},
   "outputs": [],
   "source": [
    "### Predict real value of points\n",
    "if norm == 'zero_mean_unit_std':\n",
    "    predicted_norm_points = model.predict(training_data_dict['x_test_norm'])\n",
    "    predicted_points = predicted_norm_points * training_data_dict['y_data_stds'] + training_data_dict['y_data_means']\n",
    "    \n",
    "if norm == 'zero_to_one':\n",
    "    predicted_norm_points = model.predict(training_data_dict['x_test_norm'])\n",
    "    predicted_points = predicted_norm_points * (training_data_dict['y_data_max'] - training_data_dict['y_data_min']) + \\\n",
    "                        training_data_dict['y_data_min']"
   ]
  },
  {
   "cell_type": "code",
   "execution_count": null,
   "metadata": {
    "scrolled": false
   },
   "outputs": [],
   "source": [
    "%matplotlib inline\n",
    "#from pylab import plot, show, savefig, xlim, figure, \\\n",
    "#                hold, ylim, legend, boxplot, setp, axes\n",
    "nBins = 8\n",
    "halo_min_mass = np.amin(galaxies[:,6])\n",
    "halo_max_mass = np.amax(galaxies[:,6])\n",
    "bin_edges = np.linspace(halo_min_mass, halo_max_mass, nBins+1)\n",
    "\n",
    "x_test = training_data_dict['x_test']\n",
    "y_test = training_data_dict['y_test']\n",
    "\n",
    "predictedY = predicted_points\n",
    "\n",
    "for i, feat in enumerate(output_features):\n",
    "    \n",
    "    \n",
    "    ### Plot 1\n",
    "    fig1 = plt.figure(figsize=(8,8))\n",
    "    \n",
    "    plt.plot(y_test[:,i], y_test[:,i], 'k.')\n",
    "    plt.plot(predictedY[:,i], y_test[:,i], 'g.')\n",
    "    plt.ylabel('True %s %s' % (feat, unit_dict[feat]), fontsize=15)\n",
    "    plt.xlabel('Predicted %s %s' % (feat, unit_dict[feat]), fontsize=15)\n",
    "    plt.legend(['Ideal result', 'predicted ' + feat], loc='upper center')\n",
    "    #plt.title('nEpochs: %d, batch size: %d, training set size: %d, test mse score: %.2e\\n' % (nEpochs, \n",
    "    #    batchSize, train_size, test_mse) + 'loss function: %s\\n' % (loss_function) +\n",
    "    #    '%d input feature(s): [%s]\\n%d output feature(s): [%s]\\n%d data points (test) shown' % (\n",
    "    #    len(input_features), ', '.join(input_features), len(output_features), ', '.join(output_features),\n",
    "    #    test_size), y=1.03, fontsize=20)\n",
    "    plt.show\n",
    "    \n",
    "    ### Plot 2 - Spread of the distribution\n",
    "    \n",
    "    # bin_means contain (0: mean of the binned values, 1: bin edges, 2: numbers pointing each example to a bin)\n",
    "    bin_means_true = stats.binned_statistic(x_test[:,0], y_test[:,i], bins=bin_edges)\n",
    "    bin_means_pred = stats.binned_statistic(x_test[:,0], predictedY[:,i].flatten(), bins=bin_edges)\n",
    "\n",
    "    bin_centers = []\n",
    "    for iBin in range(nBins):\n",
    "        bin_center = (bin_means_true[1][iBin] + bin_means_true[1][iBin+1]) / 2\n",
    "        bin_centers.append('%.2f' % (bin_center))\n",
    "    sorted_true_y_data = []\n",
    "    sorted_pred_y_data = []\n",
    "    for iBin in range(1,nBins+1):\n",
    "        sorted_true_y_data.append(y_test[bin_means_true[2] == iBin, i])\n",
    "        sorted_pred_y_data.append(predictedY[bin_means_pred[2] == iBin,i])\n",
    "    \n",
    "    # get standard deviations of the binned values\n",
    "    stds_true = np.zeros((nBins))\n",
    "    stds_pred = np.zeros((nBins))\n",
    "    for iBin in range(nBins):\n",
    "        stds_true[iBin] = np.std(sorted_true_y_data[iBin])\n",
    "        stds_pred[iBin] = np.std(sorted_pred_y_data[iBin])\n",
    "        \n",
    "    fig2 = plt.figure(figsize=(16,8))\n",
    "    ax = plt.subplot(111)\n",
    "\n",
    "    bin_pos = np.array([-2,-1]) # (because this makes it work)\n",
    "    x_label_centers = []\n",
    "    for iBin in range(nBins):\n",
    "        # Every plot adds 2 distributions, one from the true data and one from the predicted data\n",
    "        bin_pos += 3 \n",
    "        plt.errorbar(bin_pos[0], bin_means_true[0][iBin], yerr=stds_true[iBin], fmt = 'bo', capsize=5)\n",
    "        plt.errorbar(bin_pos[1], bin_means_pred[0][iBin], yerr=stds_pred[iBin], fmt = 'ro', capsize=5)\n",
    "        x_label_centers.append(np.mean(bin_pos))\n",
    "    \n",
    "    plt.ylabel('%s %s' % (feat, unit_dict[feat]), fontsize=15)\n",
    "    plt.xlabel('True Halo mass log($M_{G}/M_{S}$)', fontsize=15)\n",
    "    plt.legend(['True data $\\pm 1 \\sigma$', 'Predicted data $\\pm 1 \\sigma$'], loc='upper left', fontsize='xx-large')\n",
    "    ax.set_xlim(left=x_label_centers[0]-2, right=x_label_centers[-1]+2)\n",
    "    #xlim(0,bin_pos[1] + 1)\n",
    "    plt.xticks(x_label_centers, bin_centers)\n",
    "    \n",
    "    #plt.title('nEpochs: %d, batch size: %d, training set size: %d, test mse score: %.2e\\n' % (nEpochs, \n",
    "    #    batchSize, train_size, test_mse) + 'loss function: %s\\n' % (loss_function) +\n",
    "    #    '%d input feature(s): [%s]\\n%d output feature(s): [%s]\\n%d data points (test) shown' % (\n",
    "    #    len(input_features), ', '.join(input_features), len(output_features), ', '.join(output_features),\n",
    "    #    test_size), y=1.03, fontsize=20)\n",
    "    \n",
    "    plt.show()"
   ]
  },
  {
   "cell_type": "code",
   "execution_count": null,
   "metadata": {},
   "outputs": [],
   "source": [
    "fig1.savefig(fig_dir+'bp_output_scatter_%d_plot_from_' % (i+1)+'_and_'.join(input_features)+'_to_'+\n",
    "            '_and_'.join(output_features)+'_with_'+param_string+'.png', bbox_inches = 'tight')\n",
    "fig2.savefig(fig_dir+'bp_output_boxplot_%d_from_' % (i+1)+'_and_'.join(input_features)+'_to_'+\n",
    "            '_and_'.join(output_features)+'_with_'+param_string+'.png', bbox_inches = 'tight')"
   ]
  },
  {
   "cell_type": "code",
   "execution_count": null,
   "metadata": {},
   "outputs": [],
   "source": [
    "#print(predictedY.flatten())\n",
    "#bin_means = stats.binned_statistic(predictedY.flatten(), y_test[:,0], bins=10)\n",
    "#bin_stds = stats.binned_statistic(predictedY.flatten(), y_test[:,0], bins=10, statistic=GetSTD)\n",
    "#print(bin_means[0])\n",
    "#print(bin_stds[0])"
   ]
  },
  {
   "cell_type": "markdown",
   "metadata": {},
   "source": [
    "## Plot SFR vs Stellar mass"
   ]
  },
  {
   "cell_type": "code",
   "execution_count": null,
   "metadata": {},
   "outputs": [],
   "source": [
    "### Save the figure\n",
    "fig.savefig(fig_dir+'bp_sfr_to_stellar_mass_inputs_' + '_and_'.join(input_features)+\n",
    "            '_with_'+param_string+'.png', bbox_inches = 'tight')"
   ]
  },
  {
   "cell_type": "markdown",
   "metadata": {},
   "source": [
    "### Check to see how the MSE is calculated "
   ]
  },
  {
   "cell_type": "code",
   "execution_count": null,
   "metadata": {},
   "outputs": [],
   "source": [
    "predicted_points = model.predict(x_test)\n",
    "print(np.shape(predicted_points))\n",
    "n_points = np.shape(predicted_points)[0]\n",
    "x_minus_y = predicted_points - y_test\n",
    "\n",
    "feature_scores = np.sum(np.power(x_minus_y, 2), 0) / n_points\n",
    "total_score = np.sum(feature_scores) / 2\n",
    "\n",
    "print(total_score)\n",
    "\n",
    "keras_scores = model.evaluate(x_test, y_test, verbose=0)\n",
    "print(keras_scores)"
   ]
  },
  {
   "cell_type": "code",
   "execution_count": null,
   "metadata": {},
   "outputs": [],
   "source": [
    "# summarize history for loss\n",
    "%matplotlib inline\n",
    "fig = plt.figure(5, figsize=(8,8))\n",
    "plt.plot(history.history['loss'], 'b')\n",
    "plt.plot(history.history['val_loss'], 'r')\n",
    "plt.yscale('log')\n",
    "plt.title('model loss')\n",
    "plt.ylabel('loss')\n",
    "plt.xlabel('epoch')\n",
    "plt.legend(['train', 'val'], loc='upper right')\n",
    "plt.show()"
   ]
  },
  {
   "cell_type": "markdown",
   "metadata": {},
   "source": [
    "## Testing functions"
   ]
  },
  {
   "cell_type": "code",
   "execution_count": null,
   "metadata": {},
   "outputs": [],
   "source": [
    "### TESTING\n",
    "coordinates = galaxies[:1000, :3]\n",
    "halo_masses = np.power(10, galaxies[:1000, 6])\n",
    "nr_points = np.shape(coordinates)[0]\n",
    "\n",
    "nr_neighbours_wanted = 30\n",
    "box_sides = np.array([200, 200, 200])\n",
    "\n",
    "neigh_densities = get_density_periodic(coordinates, halo_masses, nr_neighbours_wanted, \n",
    "                                                                 box_sides, nr_points, verbatim=True)\n",
    "print(neigh_densities)"
   ]
  }
 ],
 "metadata": {
  "kernelspec": {
   "display_name": "Python 3",
   "language": "python",
   "name": "python3"
  },
  "language_info": {
   "codemirror_mode": {
    "name": "ipython",
    "version": 3
   },
   "file_extension": ".py",
   "mimetype": "text/x-python",
   "name": "python",
   "nbconvert_exporter": "python",
   "pygments_lexer": "ipython3",
   "version": "3.6.4"
  }
 },
 "nbformat": 4,
 "nbformat_minor": 2
}
