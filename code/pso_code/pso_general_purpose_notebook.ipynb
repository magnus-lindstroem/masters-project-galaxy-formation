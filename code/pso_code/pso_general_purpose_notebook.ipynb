{
 "cells": [
  {
   "cell_type": "code",
   "execution_count": 63,
   "metadata": {},
   "outputs": [
    {
     "data": {
      "text/html": [
       "<style>.container { width:90% !important; }</style>"
      ],
      "text/plain": [
       "<IPython.core.display.HTML object>"
      ]
     },
     "metadata": {},
     "output_type": "display_data"
    },
    {
     "name": "stdout",
     "output_type": "stream",
     "text": [
      "The autoreload extension is already loaded. To reload it, use:\n",
      "  %reload_ext autoreload\n"
     ]
    }
   ],
   "source": [
    "from IPython.core.display import display, HTML\n",
    "display(HTML(\"<style>.container { width:90% !important; }</style>\"))\n",
    "\n",
    "import os\n",
    "from os.path import expanduser\n",
    "home_dir = expanduser(\"~\")\n",
    "module_path = home_dir + '/code/modules/'\n",
    "fig_dir = 'figures/'\n",
    "import sys\n",
    "sys.path.append(module_path)\n",
    "import time\n",
    "import datetime\n",
    "import importlib\n",
    "import random\n",
    "import tensorflow as tf\n",
    "import pandas as pd\n",
    "from keras.models import Sequential\n",
    "from keras.layers import Dense\n",
    "from keras.callbacks import EarlyStopping\n",
    "import numpy as np\n",
    "import matplotlib.pyplot as plt\n",
    "from mpl_toolkits.mplot3d import Axes3D\n",
    "from scipy import stats\n",
    "\n",
    "import model_management\n",
    "%load_ext autoreload\n",
    "%autoreload 1\n",
    "%aimport data_processing\n",
    "%aimport plotting\n",
    "%aimport keras_objects\n",
    "%aimport pso\n",
    "%aimport pso_parallel_training\n",
    "from data_processing import *\n",
    "from plotting import *\n",
    "from keras_objects import *\n",
    "from pso import *\n",
    "#from pso_parallel_training import *\n",
    "\n",
    "np.random.seed(999)\n",
    "random.seed(999)"
   ]
  },
  {
   "cell_type": "code",
   "execution_count": 97,
   "metadata": {},
   "outputs": [],
   "source": [
    "### General parameters\n",
    "total_set_size = 3e3 # how many examples will be used for training+validation+testing\n",
    "train_size = 1e3\n",
    "val_size = 1e3\n",
    "test_size = 1e3\n",
    "input_features = ['Halo_mass']#, 'Halo_mass_peak', 'Scale_peak_mass', 'Scale_half_mass', 'Redshift']\n",
    "output_features = ['Stellar_mass']#, 'SFR']\n",
    "redshifts = [0]#,.1,.2,.5,1,2,3,4,6,8]\n",
    "same_n_points_per_redshift = True\n",
    "outputs_to_weigh = ['Stellar_mass']\n",
    "weigh_by_redshift = True\n",
    "\n",
    "verbatim = True\n",
    "\n",
    "### Network parameters\n",
    "nr_hidden_layers = 5\n",
    "activation_function = 'tanh'\n",
    "output_activation = {'SFR': None, 'Stellar_mass': None}\n",
    "nr_neurons_per_layer = 5\n",
    "regularisation_strength = 1e-2\n",
    "std_penalty = False\n",
    "norm = {'input': 'zero_mean_unit_std',\n",
    "        'output': 'zero_mean_unit_std'} # 'none',   'zero_mean_unit_std',   'zero_to_one'\n",
    "\n",
    "### PSO parameters\n",
    "nr_processes = 30\n",
    "nr_iterations = 5000\n",
    "x_min = -10\n",
    "x_max = 10\n",
    "alpha = 1\n",
    "delta_t = 1\n",
    "c1 = 2\n",
    "c2 = 2\n",
    "inertia_weight_start = 1.4\n",
    "inertia_weight_min = 0.3\n",
    "exploration_fraction = 0.8            # start making sure that the network did not converge to a local minimum\n",
    "min_std_tol = 0.01                # minimum allowed std for any parameter\n",
    "pso_param_dict = {\n",
    "    'nr_particles': nr_processes,\n",
    "    'patience': 2000,\n",
    "    'patience_parameter': 'train',\n",
    "    'restart_check_interval': 200\n",
    "}"
   ]
  },
  {
   "cell_type": "code",
   "execution_count": 3,
   "metadata": {},
   "outputs": [],
   "source": [
    "os.environ[\"CUDA_VISIBLE_DEVICES\"] = \"\""
   ]
  },
  {
   "cell_type": "markdown",
   "metadata": {},
   "source": [
    "# Load and preprocess the data"
   ]
  },
  {
   "cell_type": "code",
   "execution_count": 98,
   "metadata": {},
   "outputs": [],
   "source": [
    "# load the selected galaxyfile\n",
    "galaxies, data_keys, unit_dict = load_galfiles(redshifts=redshifts, equal_numbers=same_n_points_per_redshift)\n",
    "    \n",
    "# prepare the training data\n",
    "training_data_dict = divide_train_data(galaxies, data_keys, input_features, output_features, redshifts, weigh_by_redshift, outputs_to_weigh,\n",
    "                                       int(total_set_size), train_size=int(train_size), val_size=int(val_size), test_size=int(test_size), pso=True)\n",
    "training_data_dict = normalise_data(training_data_dict, norm, pso=True)"
   ]
  },
  {
   "cell_type": "markdown",
   "metadata": {},
   "source": [
    "# Create a new network"
   ]
  },
  {
   "cell_type": "code",
   "execution_count": 99,
   "metadata": {
    "scrolled": false
   },
   "outputs": [
    {
     "name": "stdout",
     "output_type": "stream",
     "text": [
      "17:12:17  Iteration    0, particle  0, new swarm best. Train: 6.185e+02, Val: 5.659e+02\n",
      "17:12:17  Iteration    0, particle  1, new swarm best. Train: 1.699e+02, Val: 1.642e+02\n",
      "17:12:17  Iteration    0, particle  3, new swarm best. Train: 1.675e+02, Val: 1.698e+02\n",
      "17:12:17  Iteration    0, particle  7, new swarm best. Train: 1.084e+02, Val: 1.024e+02\n",
      "17:12:17  Iteration    0, particle  8, new swarm best. Train: 9.641e+01, Val: 9.879e+01\n",
      "17:12:17  Iteration    0, particle 11, new swarm best. Train: 5.608e+01, Val: 6.002e+01\n",
      "17:12:17  Iteration    0, particle 15, new swarm best. Train: 5.491e+01, Val: 5.586e+01\n",
      "17:12:17  Iteration    0, particle 23, new swarm best. Train: 5.175e+01, Val: 4.955e+01\n",
      "17:12:18  Iteration    2, particle  1, new swarm best. Train: 4.519e+01, Val: 4.284e+01\n",
      "17:12:18  Iteration    2, particle 10, new swarm best. Train: 3.268e+01, Val: 3.342e+01\n",
      "17:12:19  Iteration    3, particle  1, new swarm best. Train: 2.627e+01, Val: 2.433e+01\n",
      "17:12:19  Iteration    3, particle 18, new swarm best. Train: 2.095e+01, Val: 2.304e+01\n",
      "17:12:20  Iteration    4, particle  2, new swarm best. Train: 1.806e+01, Val: 1.714e+01\n",
      "17:12:20  Iteration    4, particle 14, new swarm best. Train: 1.599e+01, Val: 1.550e+01\n",
      "17:12:21  Iteration    5, particle  7, new swarm best. Train: 1.216e+01, Val: 1.513e+01\n",
      "17:12:22  Iteration    7, particle 17, new swarm best. Train: 1.063e+01, Val: 1.073e+01\n",
      "17:12:24  Iteration    9, particle 24, new swarm best. Train: 1.038e+01, Val: 1.046e+01\n",
      "17:12:25  Iteration   11, particle 15, new swarm best. Train: 1.004e+01, Val: 1.053e+01\n",
      "17:12:27  Iteration   14, particle 14, new swarm best. Train: 8.741e+00, Val: 8.888e+00\n",
      "17:12:28  Iteration   15, particle 10, new swarm best. Train: 8.228e+00, Val: 8.369e+00\n",
      "17:12:35  Iteration   24, particle 21, new swarm best. Train: 8.180e+00, Val: 8.340e+00\n",
      "17:12:35  Iteration   25, particle 18, new swarm best. Train: 7.763e+00, Val: 8.173e+00\n",
      "17:12:36  Iteration   26, particle  6, new swarm best. Train: 7.743e+00, Val: 8.272e+00\n",
      "17:12:43  Iteration   36, particle 18, new swarm best. Train: 7.677e+00, Val: 8.173e+00\n",
      "17:12:56  Iteration   54, particle  8, new swarm best. Train: 7.653e+00, Val: 8.070e+00\n",
      "17:12:57  Iteration   56, particle  8, new swarm best. Train: 7.653e+00, Val: 8.070e+00\n",
      "17:13:06  Iteration   68, particle 22, new swarm best. Train: 7.509e+00, Val: 8.090e+00\n",
      "17:13:07  Iteration   69, particle 12, new swarm best. Train: 7.415e+00, Val: 7.827e+00\n",
      "17:13:40  Iteration  115, particle 12, new swarm best. Train: 7.344e+00, Val: 7.971e+00\n",
      "17:13:41  Iteration  117, particle  0, new swarm best. Train: 7.007e+00, Val: 7.506e+00\n",
      "17:13:47  Iteration  124, particle 12, new swarm best. Train: 7.001e+00, Val: 7.471e+00\n",
      "17:13:56  Iteration  137, particle 19, new swarm best. Train: 6.977e+00, Val: 7.197e+00\n",
      "17:14:26  Iteration  179, particle 11, new swarm best. Train: 6.911e+00, Val: 7.329e+00\n",
      "17:14:36  Iteration  193, particle 24, new swarm best. Train: 6.897e+00, Val: 7.268e+00\n",
      "\n",
      "17:14:41, Iteration 200\n",
      "\n",
      "17:14:53  Iteration  217, particle 16, new swarm best. Train: 6.768e+00, Val: 7.051e+00\n",
      "17:14:59  Iteration  225, particle 13, new swarm best. Train: 6.716e+00, Val: 7.077e+00\n",
      "17:15:03  Iteration  230, particle 18, new swarm best. Train: 6.682e+00, Val: 6.674e+00\n",
      "17:15:23  Iteration  258, particle 22, new swarm best. Train: 6.622e+00, Val: 6.818e+00\n",
      "17:15:28  Iteration  266, particle 10, new swarm best. Train: 6.601e+00, Val: 6.699e+00\n",
      "17:16:03  Iteration  315, particle 10, new swarm best. Train: 6.599e+00, Val: 6.705e+00\n",
      "17:16:15  Iteration  332, particle  5, new swarm best. Train: 6.401e+00, Val: 6.620e+00\n",
      "17:16:23  Iteration  343, particle 10, new swarm best. Train: 6.375e+00, Val: 6.483e+00\n",
      "17:16:44  Iteration  372, particle 26, new swarm best. Train: 6.370e+00, Val: 6.437e+00\n",
      "17:16:56  Iteration  389, particle 22, new swarm best. Train: 6.363e+00, Val: 6.466e+00\n",
      "\n",
      "17:17:04, Iteration 400\n",
      "\n",
      "17:17:12  Iteration  411, particle 20, new swarm best. Train: 6.355e+00, Val: 6.444e+00\n",
      "17:17:40  Iteration  450, particle 29, new swarm best. Train: 6.351e+00, Val: 6.438e+00\n",
      "17:18:07  Iteration  488, particle 16, new swarm best. Train: 6.305e+00, Val: 6.345e+00\n",
      "17:18:09  Iteration  490, particle 16, new swarm best. Train: 6.305e+00, Val: 6.345e+00\n",
      "17:18:25  Iteration  513, particle 20, new swarm best. Train: 6.244e+00, Val: 6.259e+00\n",
      "17:18:41  Iteration  535, particle 25, new swarm best. Train: 6.024e+00, Val: 6.039e+00\n",
      "17:18:48  Iteration  544, particle 28, new swarm best. Train: 5.885e+00, Val: 5.836e+00\n",
      "17:18:51  Iteration  549, particle 13, new swarm best. Train: 5.607e+00, Val: 5.849e+00\n",
      "17:19:26  Iteration  598, particle 20, new swarm best. Train: 5.577e+00, Val: 5.834e+00\n",
      "17:19:27  Iteration  599, particle 11, new swarm best. Train: 5.576e+00, Val: 5.722e+00\n",
      "17:19:27  Iteration  599, particle 12, new swarm best. Train: 5.457e+00, Val: 5.632e+00\n",
      "\n",
      "17:19:27, Iteration 600\n",
      "\n",
      "17:19:31  Iteration  605, particle 23, new swarm best. Train: 5.449e+00, Val: 5.626e+00\n",
      "17:19:34  Iteration  609, particle 14, new swarm best. Train: 5.436e+00, Val: 5.586e+00\n",
      "17:19:38  Iteration  614, particle 14, new swarm best. Train: 5.406e+00, Val: 5.517e+00\n",
      "17:19:39  Iteration  616, particle 12, new swarm best. Train: 5.329e+00, Val: 5.307e+00\n",
      "17:19:42  Iteration  620, particle  0, new swarm best. Train: 5.300e+00, Val: 5.362e+00\n",
      "17:19:44  Iteration  622, particle 25, new swarm best. Train: 5.200e+00, Val: 5.482e+00\n",
      "17:19:48  Iteration  629, particle  0, new swarm best. Train: 5.181e+00, Val: 5.347e+00\n",
      "17:19:53  Iteration  636, particle  3, new swarm best. Train: 5.142e+00, Val: 5.275e+00\n",
      "17:19:55  Iteration  638, particle  4, new swarm best. Train: 5.104e+00, Val: 5.300e+00\n",
      "17:20:05  Iteration  652, particle 10, new swarm best. Train: 5.031e+00, Val: 5.300e+00\n",
      "17:20:07  Iteration  654, particle 26, new swarm best. Train: 4.956e+00, Val: 5.257e+00\n",
      "17:20:07  Iteration  655, particle 12, new swarm best. Train: 4.840e+00, Val: 5.159e+00\n",
      "17:20:19  Iteration  671, particle 23, new swarm best. Train: 4.766e+00, Val: 5.134e+00\n",
      "17:20:22  Iteration  676, particle 23, new swarm best. Train: 4.742e+00, Val: 5.190e+00\n",
      "17:20:23  Iteration  677, particle 14, new swarm best. Train: 4.737e+00, Val: 5.178e+00\n",
      "17:20:24  Iteration  678, particle 23, new swarm best. Train: 4.736e+00, Val: 5.175e+00\n",
      "17:20:24  Iteration  679, particle  2, new swarm best. Train: 4.728e+00, Val: 5.106e+00\n",
      "17:20:28  Iteration  685, particle  2, new swarm best. Train: 4.699e+00, Val: 5.061e+00\n",
      "17:20:52  Iteration  718, particle 18, new swarm best. Train: 4.696e+00, Val: 5.068e+00\n",
      "17:20:56  Iteration  723, particle  7, new swarm best. Train: 4.695e+00, Val: 5.042e+00\n",
      "17:20:57  Iteration  725, particle 10, new swarm best. Train: 4.670e+00, Val: 5.057e+00\n",
      "17:21:05  Iteration  735, particle 16, new swarm best. Train: 4.663e+00, Val: 4.951e+00\n",
      "17:21:14  Iteration  748, particle 10, new swarm best. Train: 4.626e+00, Val: 4.981e+00\n",
      "17:21:19  Iteration  756, particle  2, new swarm best. Train: 4.610e+00, Val: 4.928e+00\n",
      "17:21:21  Iteration  758, particle  2, new swarm best. Train: 4.610e+00, Val: 4.928e+00\n",
      "17:21:32  Iteration  774, particle  6, new swarm best. Train: 4.552e+00, Val: 4.857e+00\n",
      "17:21:39  Iteration  782, particle 27, new swarm best. Train: 4.470e+00, Val: 4.725e+00\n",
      "\n",
      "17:21:51, Iteration 800\n",
      "\n",
      "17:22:06  Iteration  821, particle 13, new swarm best. Train: 4.459e+00, Val: 4.703e+00\n",
      "17:22:41  Iteration  870, particle  1, new swarm best. Train: 4.458e+00, Val: 4.695e+00\n",
      "17:23:06  Iteration  904, particle  9, new swarm best. Train: 4.458e+00, Val: 4.717e+00\n",
      "17:23:09  Iteration  908, particle 20, new swarm best. Train: 4.445e+00, Val: 4.732e+00\n",
      "17:23:10  Iteration  910, particle 20, new swarm best. Train: 4.445e+00, Val: 4.732e+00\n",
      "17:23:25  Iteration  930, particle 23, new swarm best. Train: 4.420e+00, Val: 4.638e+00\n",
      "17:23:25  Iteration  931, particle  8, new swarm best. Train: 4.420e+00, Val: 4.622e+00\n",
      "17:23:26  Iteration  932, particle 23, new swarm best. Train: 4.416e+00, Val: 4.640e+00\n",
      "17:23:36  Iteration  947, particle  1, new swarm best. Train: 4.408e+00, Val: 4.650e+00\n",
      "17:23:46  Iteration  960, particle 29, new swarm best. Train: 4.405e+00, Val: 4.641e+00\n"
     ]
    },
    {
     "name": "stdout",
     "output_type": "stream",
     "text": [
      "17:23:47  Iteration  961, particle 12, new swarm best. Train: 4.404e+00, Val: 4.641e+00\n",
      "\n",
      "17:24:14, Iteration 1000\n",
      "\n",
      "17:25:40  Iteration 1120, particle 17, new swarm best. Train: 4.404e+00, Val: 4.645e+00\n",
      "17:25:45  Iteration 1127, particle 17, new swarm best. Train: 4.403e+00, Val: 4.635e+00\n",
      "\n",
      "17:26:37, Iteration 1200\n",
      "\n",
      "17:26:50  Iteration 1218, particle 17, new swarm best. Train: 4.403e+00, Val: 4.633e+00\n",
      "17:27:17  Iteration 1256, particle 20, new swarm best. Train: 4.399e+00, Val: 4.637e+00\n",
      "17:27:59  Iteration 1314, particle 13, new swarm best. Train: 4.372e+00, Val: 4.554e+00\n",
      "\n",
      "17:29:00, Iteration 1400\n",
      "\n",
      "17:29:40  Iteration 1455, particle 13, new swarm best. Train: 4.364e+00, Val: 4.554e+00\n",
      "17:29:44  Iteration 1461, particle 13, new swarm best. Train: 4.364e+00, Val: 4.554e+00\n",
      "17:31:04  Iteration 1572, particle 18, new swarm best. Train: 4.359e+00, Val: 4.559e+00\n",
      "\n",
      "17:31:23, Iteration 1600\n",
      "\n",
      "17:32:18  Iteration 1676, particle 18, new swarm best. Train: 4.358e+00, Val: 4.561e+00\n",
      "17:32:43  Iteration 1710, particle 21, new swarm best. Train: 4.347e+00, Val: 4.554e+00\n",
      "17:32:57  Iteration 1729, particle 28, new swarm best. Train: 4.341e+00, Val: 4.566e+00\n",
      "\n",
      "17:33:47, Iteration 1800\n",
      "\n",
      "\n",
      "17:36:10, Iteration 2000\n",
      "\n",
      "\n",
      "17:38:33, Iteration 2200\n",
      "\n",
      "\n",
      "17:40:56, Iteration 2400\n",
      "\n",
      "\n",
      "17:43:21, Iteration 2600\n",
      "\n",
      "\n",
      "17:45:43, Iteration 2800\n",
      "\n",
      "\n",
      "17:48:05, Iteration 3000\n",
      "\n",
      "17:48:31  Iteration 3037, particle  6, new swarm best. Train: 4.340e+00, Val: 4.559e+00\n",
      "\n",
      "17:50:26, Iteration 3200\n",
      "\n",
      "17:51:51  Iteration 3319, particle  6, new swarm best. Train: 4.340e+00, Val: 4.553e+00\n",
      "\n",
      "17:52:48, Iteration 3400\n",
      "\n",
      "17:54:19  Iteration 3528, particle 16, new swarm best. Train: 4.340e+00, Val: 6.066e+00\n",
      "17:54:45  Iteration 3564, particle 19, new swarm best. Train: 4.336e+00, Val: 4.553e+00\n",
      "\n",
      "17:55:10, Iteration 3600\n",
      "\n",
      "\n",
      "17:57:33, Iteration 3800\n",
      "\n",
      "SWITCH TO EPLOIT! Iteration 3999/5000.\n",
      "\n",
      "17:59:55, Iteration 4000\n",
      "\n",
      "\n",
      "18:02:16, Iteration 4200\n",
      "\n",
      "\n",
      "18:04:39, Iteration 4400\n",
      "\n",
      "18:06:12  Iteration 4531, particle 17, new swarm best. Train: 4.319e+00, Val: 5.372e+00\n",
      "18:06:19  Iteration 4541, particle 17, new swarm best. Train: 4.315e+00, Val: 6.008e+00\n",
      "\n",
      "18:07:00, Iteration 4600\n",
      "\n",
      "18:08:43  Iteration 4744, particle  5, new swarm best. Train: 4.315e+00, Val: 6.031e+00\n",
      "\n",
      "18:09:22, Iteration 4800\n",
      "\n",
      "18:11:45, Training complete. Training ran through all 5000 iterations without premature stopping.\n"
     ]
    }
   ],
   "source": [
    "network = Feed_Forward_Neural_Network(nr_hidden_layers, nr_neurons_per_layer, input_features, output_features, \n",
    "                                      activation_function, output_activation, regularisation_strength)\n",
    "network.setup_pso(pso_param_dict)\n",
    "start = time.time()\n",
    "network.train_pso(nr_iterations, training_data_dict, std_penalty=std_penalty, verbatim=verbatim)\n",
    "end = time.time()"
   ]
  },
  {
   "cell_type": "code",
   "execution_count": null,
   "metadata": {},
   "outputs": [],
   "source": [
    "print('Time elapsed with CPUs (train size {:d}): {:.0f}s'.format(train_size, (end-start)))"
   ]
  },
  {
   "cell_type": "code",
   "execution_count": null,
   "metadata": {
    "scrolled": true
   },
   "outputs": [],
   "source": [
    "print('Time elapsed with GPUs (train size {:d}): {:.0f}s'.format(train_size, (end-start)))"
   ]
  },
  {
   "cell_type": "markdown",
   "metadata": {},
   "source": [
    "#### Get standard pictures"
   ]
  },
  {
   "cell_type": "code",
   "execution_count": 100,
   "metadata": {},
   "outputs": [],
   "source": [
    "### Standard plots\n",
    "\n",
    "mode = 'train' # 'train', 'val, 'test'\n",
    "best_weights = 'train' # 'train', 'val, 'test'\n",
    "\n",
    "network.pso_swarm.set_best_weights(best_weights)\n",
    "norm_score = network.pso_swarm.evaluate_model(mode)\n",
    "tot_score = norm_score\n",
    "model = network.model\n",
    "\n",
    "output_dict = {\n",
    "    'Stellar_mass': training_data_dict['input_'+mode+'_dict']['main_input'][:, 0]#,\n",
    "#    'SFR': training_data_dict['input_'+mode+'_dict']['main_input'][:, 1]\n",
    "}\n",
    "weights_dict = {\n",
    "    'Stellar_mass': training_data_dict[mode+'_weights'][:, 0]#,\n",
    "#    'SFR': training_data_dict[mode+'_weights'][:, 1]\n",
    "}\n",
    "\n",
    "tot_score = norm_score\n",
    "predicted_points = predict_points(model, training_data_dict, mode = mode, original_units=True)\n",
    "title = 'Inputs: {}\\n{:.1e} train points, {} mse {:.3e}, {} data'.format(', '.join(input_features), train_size, mode, tot_score, mode)"
   ]
  },
  {
   "cell_type": "code",
   "execution_count": 90,
   "metadata": {},
   "outputs": [
    {
     "name": "stdout",
     "output_type": "stream",
     "text": [
      "[array([[-4.135953 ,  2.9992442, -8.825581 ]], dtype=float32)\n",
      " array([-18.55444  ,   1.613067 ,  -7.4131155], dtype=float32)\n",
      " array([[-12.44568  ,  -7.1647778,   3.24094  ],\n",
      "       [  0.4076711,  -9.183168 ,  24.725203 ],\n",
      "       [  8.383754 ,  -5.406063 ,   4.340415 ]], dtype=float32)\n",
      " array([  4.4823885,  -2.9828155, -16.54278  ], dtype=float32)\n",
      " array([[-12.992941 ,  13.347365 ,  -5.601227 ],\n",
      "       [  8.646782 , -15.843805 ,  -6.4837685],\n",
      "       [ -5.949044 ,  -2.2701666,  -4.775258 ]], dtype=float32)\n",
      " array([16.062864 , -6.8411803,  3.1631603], dtype=float32)\n",
      " array([[ 3.2172053],\n",
      "       [ 6.6590366],\n",
      "       [-2.4711566]], dtype=float32)\n",
      " array([0.72139984], dtype=float32)]\n",
      "(8,)\n"
     ]
    }
   ],
   "source": [
    "#type(model.get_weights()[0])\n",
    "hej = np.array(model.get_weights())\n",
    "print(hej)\n",
    "print(np.shape(hej))"
   ]
  },
  {
   "cell_type": "code",
   "execution_count": null,
   "metadata": {
    "scrolled": false
   },
   "outputs": [],
   "source": [
    "fig1 = get_pred_vs_real_scatterplot(model, training_data_dict, unit_dict, data_keys, 'Stellar_mass', pso=True, title=title, data_type=mode,\n",
    "                                   predicted_points = predicted_points, galaxies=galaxies)\n",
    "\n",
    "fig2 = get_real_vs_pred_boxplot(model, training_data_dict, unit_dict, data_keys, pso=True, predicted_feat = 'Stellar_mass', \n",
    "                                binning_feat = 'Halo_mass', title=title, data_type=mode,\n",
    "                                predicted_points = predicted_points)\n",
    "\n",
    "fig3 = get_halo_stellar_mass_plots(model, training_data_dict, unit_dict, pso=True, title=title, y_max = None, y_min = None,\n",
    "                                    x_min = None, x_max = None, data_type=mode, predicted_points = predicted_points)\n",
    "fig4 = get_stellar_mass_sfr_plots(model, training_data_dict, unit_dict, pso=True, title=title, y_max = None, y_min = None,\n",
    "                                    x_min = None, x_max = None, data_type=mode, predicted_points = predicted_points)\n",
    "fig5 = get_real_vs_pred_boxplot(model, training_data_dict, unit_dict, data_keys, pso=True, predicted_feat = 'SFR', \n",
    "                                binning_feat = 'Stellar_mass', title=title, data_type=mode,\n",
    "                                predicted_points = predicted_points)\n",
    "plt.show"
   ]
  },
  {
   "cell_type": "code",
   "execution_count": 101,
   "metadata": {},
   "outputs": [
    {
     "data": {
      "text/plain": [
       "<function matplotlib.pyplot.show(*args, **kw)>"
      ]
     },
     "execution_count": 101,
     "metadata": {},
     "output_type": "execute_result"
    },
    {
     "data": {
      "image/png": "[encoded data removed]",
      "text/plain": [
       "<Figure size 864x576 with 1 Axes>"
      ]
     },
     "metadata": {},
     "output_type": "display_data"
    }
   ],
   "source": [
    "fig6 = get_real_vs_pred_same_fig(model, training_data_dict, unit_dict, x_axis_feature='Halo_mass', \n",
    "                                 y_axis_feature = 'Stellar_mass', pso=True, title=title, data_type=mode, marker_size=20, predicted_points=predicted_points,\n",
    "                                 y_min=None, y_max=None, x_min=None, x_max=None)\n",
    "# fig7 = get_real_vs_pred_same_fig(model, training_data_dict, unit_dict, x_axis_feature='Stellar_mass', \n",
    "#                                  y_axis_feature = 'SFR', pso=True, title=title, data_type=mode, marker_size=20,\n",
    "#                                  y_min=None, y_max=None, x_min=None, x_max=None)\n",
    "plt.show"
   ]
  },
  {
   "cell_type": "code",
   "execution_count": 64,
   "metadata": {},
   "outputs": [],
   "source": [
    "fig6.savefig(fig_dir + 'proof_of_concept_3x3_net_one_output_no_weighing.png', bbox_inches = 'tight')"
   ]
  },
  {
   "cell_type": "code",
   "execution_count": null,
   "metadata": {
    "scrolled": true
   },
   "outputs": [],
   "source": [
    "mode = 'train'\n",
    "network.pso_swarm.set_best_weights('train')\n",
    "norm_score = network.pso_swarm.evaluate_model(mode)\n",
    "tot_score = norm_score\n",
    "model = network.model\n",
    "title = 'Inputs: %s\\ntest mse %.3e, %s data' % (', '.join(input_features), tot_score, mode)\n",
    "\n",
    "fig1 = get_pred_vs_real_scatterplot(model, training_data_dict, unit_dict, data_keys, 'SFR', title=title, mode=mode)\n",
    "fig2 = get_real_vs_pred_boxplot(model, training_data_dict, unit_dict, data_keys, predicted_feat = 'Stellar_mass', \n",
    "                                binning_feat = 'Halo_mass', title=title, mode=mode)\n",
    "fig3 = get_scatter_comparison_plots(model, training_data_dict, unit_dict, x_axis_feature = 'Halo_mass', \n",
    "                                    y_axis_feature = 'Stellar_mass', title=title, y_max = None, y_min = None,\n",
    "                                    x_min = None, x_max = None, mode=mode)\n",
    "fig4 = get_real_vs_pred_boxplot(model, training_data_dict, unit_dict, data_keys, 'SFR', \n",
    "                                binning_feat = 'Stellar_mass', title=title, mode=mode)\n",
    "fig5 = get_scatter_comparison_plots(model, training_data_dict, unit_dict, x_axis_feature = 'Halo_mass', \n",
    "                                    y_axis_feature = 'SFR', title=title, y_max = 10, y_min = None,\n",
    "                                    x_min = None, x_max = None, mode=mode)\n",
    "\n",
    "plt.show"
   ]
  },
  {
   "cell_type": "code",
   "execution_count": null,
   "metadata": {},
   "outputs": [],
   "source": [
    "%matplotlib inline\n",
    "nBins = 8\n",
    "bin_edges = np.linspace(halo_min_mass, halo_max_mass, nBins+1)\n",
    "\n",
    "predictedY = model.predict(x_test)\n",
    "\n",
    "for i, feat in enumerate(output_features):\n",
    "    \n",
    "    \n",
    "    ### Plot 1\n",
    "    fig = plt.figure(figsize=(16,16))\n",
    "    ax = plt.subplot(211)\n",
    "    plt.plot(y_test[:,i], y_test[:,i], 'k.')\n",
    "    plt.plot(predictedY[:,i], y_test[:,i], 'g.')\n",
    "    plt.ylabel('True %s %s' % (feat, unit_dict[feat]), fontsize=15)\n",
    "    plt.xlabel('Predicted %s %s' % (feat, unit_dict[feat]), fontsize=15)\n",
    "    plt.legend(['Ideal result', 'predicted ' + feat], loc='upper center')\n",
    "    plt.title('nIterations: %d, training set size: %d, test mse score: %.2e\\n' % (nIterations, \n",
    "        train_size, testScore) + \n",
    "        '%d input feature(s): [%s]\\n%d output feature(s): [%s]\\n%d test data points (test) shown' % (\n",
    "        len(input_features), ', '.join(input_features), len(output_features), ', '.join(output_features),\n",
    "        test_size), y=1.03, fontsize=20)\n",
    "    plt.show\n",
    "        \n",
    "    if save_figs:\n",
    "        fig.savefig(fig_dir+'pso_output_scatter_%d_plot_from_' % (i+1)+'_and_'.join(input_features)+'_to_'+\n",
    "            '_and_'.join(output_features)+'_with_'+param_string+'.png', bbox_inches = 'tight')\n",
    "    \n",
    "    ### Plot 2 - boxplot\n",
    "    \n",
    "    # bin_means contain (0: mean of the binned values, 1: bin edges, 2: numbers pointing each example to a bin)\n",
    "    bin_means_true = stats.binned_statistic(x_test[:,i], y_test[:,i], bins=bin_edges)\n",
    "    bin_means_pred = stats.binned_statistic(x_test[:,i], predictedY[:,i].flatten(), bins=bin_edges)\n",
    "    bin_centers = []\n",
    "    for iBin in range(nBins):\n",
    "        bin_centers.append((bin_means_true[1][iBin] + bin_means_true[1][iBin+1]) / 2)\n",
    "    sorted_true_y_data = []\n",
    "    sorted_pred_y_data = []\n",
    "    for iBin in range(1,nBins+1):\n",
    "        sorted_true_y_data.append(y_test[bin_means_true[2] == iBin, i])\n",
    "        sorted_pred_y_data.append(predictedY[bin_means_pred[2] == iBin,i])\n",
    "    \n",
    "    fig = plt.figure(figsize=(16,8))\n",
    "    ax = plt.subplot(212)\n",
    "\n",
    "    bin_pos = np.array([-2,-1]) # (because this makes it work)\n",
    "    x_label_centers = []\n",
    "    for iBin in range(nBins):\n",
    "        # Every boxplot adds 2 boxes, one from the true data and one from the predicted data\n",
    "        bin_pos += 3 \n",
    "        plt.boxplot([sorted_true_y_data[iBin], sorted_pred_y_data[iBin]] , positions = bin_pos, widths = 0.9)\n",
    "        x_label_centers.append(np.mean(bin_pos))\n",
    "    \n",
    "    plt.ylabel('%s %s' % (feat, unit_dict[feat]), fontsize=15)\n",
    "    plt.xlabel('True Halo mass log($M_{G}/M_{S}$)', fontsize=15)\n",
    "    ax.set_xlim(left=x_label_centers[0]-2, right=x_label_centers[-1]+2)\n",
    "    #xlim(0,bin_pos[1] + 1)\n",
    "    plt.xticks(x_label_centers, bin_centers) TODO fixa siffrorna\n",
    "    plt.text(12,7,'Left: true data. Right: predicted data.', fontsize=20)\n",
    "    \n",
    "    if feat == 'SFR':\n",
    "        ax.axhline(y=0, linestyle='--')\n",
    "    \n",
    "    #plt.title('nIterations: %d, training set size: %d, test mse score: %.2e\\n' % (nIterations, \n",
    "    #    train_size, testScore) + \n",
    "    #    '%d input feature(s): [%s]\\n%d output feature(s): [%s]\\n%d test data points (test) shown' % (\n",
    "    #    len(input_features), ', '.join(input_features), len(output_features), ', '.join(output_features),\n",
    "    #    test_size), y=1.03, fontsize=20)\n",
    "    \n",
    "    plt.show()\n",
    "    \n",
    "    if save_figs:\n",
    "        fig.savefig(fig_dir+'pso_output_boxplot_%d_from_' % (i+1)+'_and_'.join(input_features)+'_to_'+\n",
    "            '_and_'.join(output_features)+'_with_'+param_string+'.png', bbox_inches = 'tight')"
   ]
  },
  {
   "cell_type": "code",
   "execution_count": null,
   "metadata": {},
   "outputs": [],
   "source": [
    "# Summarize history for loss\n",
    "%matplotlib inline\n",
    "fig = plt.figure(5, figsize=(8,8))\n",
    "plt.plot(trainingScoreHistory, 'b')\n",
    "plt.plot(validationScoreHistory, 'r')\n",
    "plt.yscale('log')\n",
    "plt.title('model loss')\n",
    "plt.ylabel('loss')\n",
    "plt.xlabel('epoch')\n",
    "plt.legend(['train', 'val'], loc='upper right')\n",
    "plt.show()"
   ]
  }
 ],
 "metadata": {
  "kernelspec": {
   "display_name": "Python 3",
   "language": "python",
   "name": "python3"
  },
  "language_info": {
   "codemirror_mode": {
    "name": "ipython",
    "version": 3
   },
   "file_extension": ".py",
   "mimetype": "text/x-python",
   "name": "python",
   "nbconvert_exporter": "python",
   "pygments_lexer": "ipython3",
   "version": "3.6.5"
  }
 },
 "nbformat": 4,
 "nbformat_minor": 2
}
