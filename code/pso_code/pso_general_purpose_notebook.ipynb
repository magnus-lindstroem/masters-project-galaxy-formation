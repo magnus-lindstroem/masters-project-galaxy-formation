{
 "cells": [
  {
   "cell_type": "code",
   "execution_count": 18,
   "metadata": {},
   "outputs": [
    {
     "data": {
      "text/html": [
       "<style>.container { width:90% !important; }</style>"
      ],
      "text/plain": [
       "<IPython.core.display.HTML object>"
      ]
     },
     "metadata": {},
     "output_type": "display_data"
    },
    {
     "name": "stdout",
     "output_type": "stream",
     "text": [
      "The autoreload extension is already loaded. To reload it, use:\n",
      "  %reload_ext autoreload\n"
     ]
    }
   ],
   "source": [
    "from IPython.core.display import display, HTML\n",
    "display(HTML(\"<style>.container { width:90% !important; }</style>\"))\n",
    "\n",
    "import os\n",
    "from os.path import expanduser\n",
    "home_dir = expanduser(\"~\")\n",
    "module_path = home_dir + '/code/modules/'\n",
    "fig_dir = 'figures/'\n",
    "import sys\n",
    "sys.path.append(module_path)\n",
    "import time\n",
    "import datetime\n",
    "import importlib\n",
    "import random\n",
    "import pickle\n",
    "import pandas as pd\n",
    "import numpy as np\n",
    "import matplotlib.pyplot as plt\n",
    "from mpl_toolkits.mplot3d import Axes3D\n",
    "from scipy import stats\n",
    "\n",
    "%load_ext autoreload\n",
    "%autoreload 1\n",
    "%aimport data_processing\n",
    "%aimport plotting\n",
    "# %aimport pso\n",
    "%aimport pso_parallel_training_queue\n",
    "from data_processing import *\n",
    "from plotting import *\n",
    "# from pso import *\n",
    "from pso_parallel_training_queue import *\n",
    "\n",
    "np.random.seed(999)\n",
    "random.seed(999)"
   ]
  },
  {
   "cell_type": "code",
   "execution_count": 28,
   "metadata": {},
   "outputs": [],
   "source": [
    "### General parameters\n",
    "total_set_size = 2.9e4 # how many examples will be used for training+validation+testing\n",
    "train_size = 2e4\n",
    "val_size = .5e4\n",
    "test_size = .4e4\n",
    "input_features = ['Halo_mass', 'Halo_mass_peak', 'Scale_peak_mass', 'Scale_half_mass', 'Halo_growth_rate']#, 'Redshift']\n",
    "output_features = ['Stellar_mass', 'SFR']\n",
    "redshifts = [0]#,.1,.2,.5,1,2,3,4,6,8]\n",
    "same_n_points_per_redshift = False # if using the smf in the objective function, must be false!\n",
    "outputs_to_weigh = ['Stellar_mass']\n",
    "weigh_by_redshift = True\n",
    "\n",
    "reinforcement_learning = True\n",
    "real_observations = False\n",
    "\n",
    "verbatim = True\n",
    "\n",
    "network_name = 'testing2'\n",
    "# network_name = '{}'.format(datetime.datetime.now().strftime(\"%Y-%m-%d\"))\n",
    "save_all_nets = True\n",
    "\n",
    "### Network parameters\n",
    "nr_hidden_layers = 6\n",
    "activation_function = 'tanh'\n",
    "output_activation = {'SFR': None, 'Stellar_mass': None}\n",
    "nr_neurons_per_layer = 6\n",
    "regularisation_strength = 1e-2\n",
    "std_penalty = False\n",
    "norm = {'input': 'zero_mean_unit_std',\n",
    "        'output': 'zero_mean_unit_std'} # 'none',   'zero_mean_unit_std',   'zero_to_one'\n",
    "\n",
    "### PSO parameters\n",
    "nr_processes = 30\n",
    "nr_iterations = 1000\n",
    "min_std_tol = 0.01                # minimum allowed std for any parameter\n",
    "pso_param_dict = {\n",
    "    'nr_particles': 3 * nr_processes,\n",
    "    'inertia_weight_start': 1.4,\n",
    "    'inertia_weight_min': 0.3,\n",
    "    'exploration_iters': 100,\n",
    "    'patience': 10000,\n",
    "    'patience_parameter': 'train',\n",
    "    'restart_check_interval': 200\n",
    "}\n",
    "\n",
    "os.environ[\"CUDA_VISIBLE_DEVICES\"] = \"\""
   ]
  },
  {
   "cell_type": "markdown",
   "metadata": {},
   "source": [
    "# Load and preprocess the data"
   ]
  },
  {
   "cell_type": "code",
   "execution_count": 29,
   "metadata": {},
   "outputs": [],
   "source": [
    "# load the selected galaxyfile\n",
    "galaxies, data_keys, unit_dict = load_galfiles(redshifts=redshifts, equal_numbers=same_n_points_per_redshift)\n",
    "    \n",
    "# prepare the training data\n",
    "training_data_dict = divide_train_data(galaxies, data_keys, input_features, output_features, redshifts, weigh_by_redshift, outputs_to_weigh,\n",
    "                                       int(total_set_size), train_size=int(train_size), val_size=int(val_size), test_size=int(test_size), pso=True)\n",
    "training_data_dict = normalise_data(training_data_dict, norm, pso=True)"
   ]
  },
  {
   "cell_type": "markdown",
   "metadata": {},
   "source": [
    "# Create a new network"
   ]
  },
  {
   "cell_type": "code",
   "execution_count": 30,
   "metadata": {
    "scrolled": true
   },
   "outputs": [
    {
     "name": "stderr",
     "output_type": "stream",
     "text": [
      "Using TensorFlow backend.\n",
      "Using TensorFlow backend.\n",
      "Using TensorFlow backend.\n",
      "Using TensorFlow backend.\n",
      "Using TensorFlow backend.\n",
      "Using TensorFlow backend.\n",
      "Using TensorFlow backend.\n",
      "Using TensorFlow backend.\n",
      "Using TensorFlow backend.\n",
      "Using TensorFlow backend.\n",
      "Using TensorFlow backend.\n",
      "Using TensorFlow backend.\n",
      "Using TensorFlow backend.\n",
      "Using TensorFlow backend.\n",
      "Using TensorFlow backend.\n",
      "Using TensorFlow backend.\n",
      "Using TensorFlow backend.\n",
      "Using TensorFlow backend.\n",
      "Using TensorFlow backend.\n",
      "Using TensorFlow backend.\n",
      "Using TensorFlow backend.\n",
      "Using TensorFlow backend.\n",
      "Using TensorFlow backend.\n",
      "Using TensorFlow backend.\n",
      "Using TensorFlow backend.\n",
      "Using TensorFlow backend.\n",
      "Using TensorFlow backend.\n",
      "Using TensorFlow backend.\n",
      "Using TensorFlow backend.\n",
      "Using TensorFlow backend.\n"
     ]
    },
    {
     "name": "stdout",
     "output_type": "stream",
     "text": [
      "16:11:25  Iteration    0, particle  0, new swarm best. Train: 3.215e+02, Val: 2.965e+02\n",
      "16:11:26  Iteration    0, particle 11, new swarm best. Train: 2.065e+02, Val: 2.385e+02\n",
      "16:11:26  Iteration    0, particle 13, new swarm best. Train: 1.432e+02, Val: 1.989e+02\n",
      "16:11:27  Iteration    0, particle 20, new swarm best. Train: 9.754e+01, Val: 1.673e+02\n",
      "16:11:27  Iteration    0, particle 28, new swarm best. Train: 7.108e+01, Val: 7.005e+01\n",
      "16:11:27  Iteration    0, particle 74, new swarm best. Train: 3.855e+01, Val: 8.750e+01\n",
      "16:11:35  Iteration    3, particle 21, new swarm best. Train: 3.195e+01, Val: 5.558e+01\n",
      "16:11:35  Iteration    3, particle 85, new swarm best. Train: 2.694e+01, Val: 3.408e+01\n",
      "16:11:38  Iteration    4, particle  9, new swarm best. Train: 1.912e+01, Val: 3.063e+01\n",
      "16:11:39  Iteration    4, particle 55, new swarm best. Train: 1.742e+01, Val: 2.191e+01\n",
      "16:11:39  Iteration    4, particle 58, new swarm best. Train: 1.716e+01, Val: 3.400e+01\n",
      "16:11:39  Iteration    4, particle 81, new swarm best. Train: 7.935e+00, Val: 8.907e+00\n",
      "16:11:44  Iteration    6, particle 65, new swarm best. Train: 7.678e+00, Val: 1.179e+01\n",
      "16:11:47  Iteration    7, particle 22, new swarm best. Train: 7.243e+00, Val: 6.946e+00\n",
      "16:11:47  Iteration    7, particle 26, new swarm best. Train: 6.974e+00, Val: 9.317e+00\n",
      "16:11:47  Iteration    7, particle 32, new swarm best. Train: 4.586e+00, Val: 4.489e+00\n",
      "16:11:50  Iteration    8, particle 30, new swarm best. Train: 4.304e+00, Val: 6.698e+00\n",
      "16:11:53  Iteration    9, particle 23, new swarm best. Train: 4.234e+00, Val: 4.494e+00\n",
      "16:11:54  Iteration    9, particle 32, new swarm best. Train: 4.101e+00, Val: 4.209e+00\n",
      "16:11:59  Iteration   11, particle  1, new swarm best. Train: 3.842e+00, Val: 4.765e+00\n",
      "16:12:00  Iteration   11, particle 52, new swarm best. Train: 3.572e+00, Val: 4.028e+00\n",
      "16:12:10  Iteration   15, particle 33, new swarm best. Train: 3.393e+00, Val: 3.378e+00\n",
      "16:12:19  Iteration   18, particle 40, new swarm best. Train: 3.081e+00, Val: 3.041e+00\n",
      "16:12:27  Iteration   21, particle 27, new swarm best. Train: 2.723e+00, Val: 3.406e+00\n",
      "16:12:32  Iteration   23, particle 27, new swarm best. Train: 2.708e+00, Val: 4.743e+00\n",
      "16:12:35  Iteration   24, particle 36, new swarm best. Train: 2.631e+00, Val: 2.691e+00\n",
      "16:12:40  Iteration   26, particle  0, new swarm best. Train: 2.295e+00, Val: 3.578e+00\n",
      "16:12:50  Iteration   30, particle 68, new swarm best. Train: 2.195e+00, Val: 5.438e+00\n",
      "16:13:13  Iteration   39, particle 61, new swarm best. Train: 2.115e+00, Val: 2.051e+00\n",
      "16:13:32  Iteration   46, particle  3, new swarm best. Train: 2.078e+00, Val: 1.999e+00\n",
      "16:13:35  Iteration   47, particle 18, new swarm best. Train: 1.932e+00, Val: 1.947e+00\n",
      "16:13:40  Iteration   49, particle 42, new swarm best. Train: 1.818e+00, Val: 3.118e+00\n",
      "16:13:53  Iteration   54, particle 83, new swarm best. Train: 1.792e+00, Val: 1.908e+00\n",
      "16:14:11  Iteration   61, particle  8, new swarm best. Train: 1.778e+00, Val: 2.794e+00\n",
      "16:14:17  Iteration   63, particle 68, new swarm best. Train: 1.630e+00, Val: 3.042e+00\n",
      "16:14:32  Iteration   69, particle 44, new swarm best. Train: 1.596e+00, Val: 2.934e+00\n",
      "16:14:40  Iteration   72, particle 38, new swarm best. Train: 1.591e+00, Val: 2.029e+00\n",
      "16:14:45  Iteration   74, particle 11, new swarm best. Train: 1.553e+00, Val: 2.137e+00\n",
      "16:14:46  Iteration   74, particle 16, new swarm best. Train: 1.450e+00, Val: 3.888e+00\n",
      "16:14:58  Iteration   79, particle 11, new swarm best. Train: 1.432e+00, Val: 2.877e+00\n",
      "16:15:04  Iteration   81, particle 16, new swarm best. Train: 1.426e+00, Val: 2.898e+00\n",
      "16:15:12  Iteration   84, particle 52, new swarm best. Train: 1.411e+00, Val: 2.897e+00\n",
      "16:15:22  Iteration   88, particle 52, new swarm best. Train: 1.409e+00, Val: 2.897e+00\n",
      "16:15:25  Iteration   89, particle 19, new swarm best. Train: 1.404e+00, Val: 2.884e+00\n",
      "16:15:27  Iteration   90, particle 22, new swarm best. Train: 1.402e+00, Val: 2.883e+00\n",
      "16:15:33  Iteration   92, particle  5, new swarm best. Train: 1.399e+00, Val: 2.917e+00\n",
      "16:15:35  Iteration   93, particle 12, new swarm best. Train: 1.398e+00, Val: 2.869e+00\n",
      "16:15:38  Iteration   94, particle 40, new swarm best. Train: 1.387e+00, Val: 2.826e+00\n",
      "16:15:41  Iteration   95, particle  7, new swarm best. Train: 1.385e+00, Val: 2.811e+00\n",
      "16:15:41  Iteration   95, particle 24, new swarm best. Train: 1.384e+00, Val: 2.810e+00\n",
      "16:15:41  Iteration   95, particle 89, new swarm best. Train: 1.383e+00, Val: 2.811e+00\n",
      "16:15:49  Iteration   98, particle 40, new swarm best. Train: 1.383e+00, Val: 2.822e+00\n",
      "16:15:49  Iteration   98, particle 89, new swarm best. Train: 1.383e+00, Val: 2.817e+00\n",
      "16:15:52  Iteration   99, particle  5, new swarm best. Train: 1.383e+00, Val: 2.822e+00\n",
      "16:15:52  Iteration   99, particle 16, new swarm best. Train: 1.382e+00, Val: 2.848e+00\n",
      "16:15:52  Iteration   99, particle 39, new swarm best. Train: 1.381e+00, Val: 2.815e+00\n",
      "SWITCH TO EPLOIT! Iteration 99/1000.\n",
      "16:15:55  Iteration  100, particle 78, new swarm best. Train: 1.381e+00, Val: 2.847e+00\n",
      "16:15:55  Iteration  100, particle 86, new swarm best. Train: 1.381e+00, Val: 2.815e+00\n",
      "16:15:58  Iteration  101, particle 19, new swarm best. Train: 1.381e+00, Val: 2.814e+00\n",
      "16:15:58  Iteration  101, particle 47, new swarm best. Train: 1.381e+00, Val: 2.849e+00\n",
      "16:16:01  Iteration  102, particle 22, new swarm best. Train: 1.379e+00, Val: 2.848e+00\n",
      "16:16:04  Iteration  103, particle 57, new swarm best. Train: 1.379e+00, Val: 2.815e+00\n",
      "16:16:04  Iteration  103, particle 86, new swarm best. Train: 1.378e+00, Val: 2.815e+00\n",
      "16:16:07  Iteration  104, particle  5, new swarm best. Train: 1.378e+00, Val: 2.815e+00\n",
      "16:16:09  Iteration  105, particle 78, new swarm best. Train: 1.378e+00, Val: 2.818e+00\n",
      "16:16:12  Iteration  106, particle 57, new swarm best. Train: 1.378e+00, Val: 2.815e+00\n",
      "16:16:15  Iteration  107, particle 40, new swarm best. Train: 1.378e+00, Val: 2.815e+00\n",
      "16:16:20  Iteration  109, particle 12, new swarm best. Train: 1.378e+00, Val: 2.818e+00\n",
      "16:16:22  Iteration  110, particle 11, new swarm best. Train: 1.378e+00, Val: 2.818e+00\n",
      "16:16:23  Iteration  110, particle 17, new swarm best. Train: 1.378e+00, Val: 2.818e+00\n",
      "16:16:25  Iteration  111, particle 20, new swarm best. Train: 1.378e+00, Val: 2.818e+00\n",
      "16:16:26  Iteration  111, particle 47, new swarm best. Train: 1.378e+00, Val: 2.818e+00\n",
      "16:16:28  Iteration  112, particle 19, new swarm best. Train: 1.378e+00, Val: 2.818e+00\n",
      "16:16:34  Iteration  114, particle 86, new swarm best. Train: 1.378e+00, Val: 2.818e+00\n",
      "16:16:36  Iteration  115, particle 28, new swarm best. Train: 1.378e+00, Val: 2.818e+00\n",
      "16:16:44  Iteration  118, particle  4, new swarm best. Train: 1.378e+00, Val: 2.818e+00\n",
      "16:16:54  Iteration  122, particle 81, new swarm best. Train: 1.378e+00, Val: 2.818e+00\n",
      "16:16:57  Iteration  123, particle 15, new swarm best. Train: 1.378e+00, Val: 2.818e+00\n",
      "16:16:59  Iteration  124, particle  4, new swarm best. Train: 1.378e+00, Val: 2.818e+00\n",
      "16:17:00  Iteration  124, particle 19, new swarm best. Train: 1.378e+00, Val: 2.818e+00\n",
      "16:17:02  Iteration  125, particle  3, new swarm best. Train: 1.378e+00, Val: 2.818e+00\n",
      "16:17:22  Iteration  133, particle 61, new swarm best. Train: 1.378e+00, Val: 2.818e+00\n",
      "16:17:25  Iteration  134, particle  4, new swarm best. Train: 1.378e+00, Val: 2.818e+00\n",
      "16:17:25  Iteration  134, particle 33, new swarm best. Train: 1.378e+00, Val: 2.818e+00\n",
      "16:17:26  Iteration  134, particle 44, new swarm best. Train: 1.378e+00, Val: 2.817e+00\n",
      "16:17:26  Iteration  134, particle 61, new swarm best. Train: 1.378e+00, Val: 2.818e+00\n",
      "16:17:38  Iteration  139, particle 17, new swarm best. Train: 1.378e+00, Val: 2.818e+00\n",
      "16:18:01  Iteration  148, particle 61, new swarm best. Train: 1.378e+00, Val: 2.818e+00\n",
      "16:19:00  Iteration  172, particle 49, new swarm best. Train: 1.378e+00, Val: 2.818e+00\n",
      "\n",
      "16:20:06, Iteration 200\n",
      "\n",
      "\n",
      "16:28:15, Iteration 400\n",
      "\n",
      "\n",
      "16:36:23, Iteration 600\n",
      "\n",
      "\n",
      "16:44:31, Iteration 800\n",
      "\n",
      "16:52:37, Training complete. Training ran through all 1000 iterations without premature stopping.\n"
     ]
    }
   ],
   "source": [
    "network = Feed_Forward_Neural_Network(nr_hidden_layers, nr_neurons_per_layer, input_features, output_features, \n",
    "                                      activation_function, output_activation, regularisation_strength, network_name)\n",
    "network.setup_pso(pso_param_dict, reinf_learning=reinforcement_learning, real_observations=real_observations, nr_processes=nr_processes)\n",
    "start = time.time()\n",
    "network.train_pso(nr_iterations, training_data_dict, std_penalty=std_penalty, verbatim=verbatim, save_all_networks=save_all_nets)\n",
    "end = time.time()"
   ]
  },
  {
   "cell_type": "markdown",
   "metadata": {},
   "source": [
    "#### Set plot variables"
   ]
  },
  {
   "cell_type": "code",
   "execution_count": 32,
   "metadata": {},
   "outputs": [],
   "source": [
    "### Standard plots\n",
    "from keras.models import load_model\n",
    "\n",
    "dir_name = 'testing2'\n",
    "iteration = '54'\n",
    "\n",
    "mode = 'val' # 'train', 'val, 'test'\n",
    "plot_full_range = True\n",
    "\n",
    "model = load_model('trained_networks/{}/iter_{}.h5'.format(dir_name, iteration))\n",
    "training_data_dict = pickle.load(open('trained_networks/{}/training_data_dict.h5'.format(dir_name), 'rb'))\n",
    "\n",
    "predicted_points = predict_points(model, training_data_dict, mode = mode, original_units=False)\n",
    "title = 'Inputs: {}\\n{:.1e} train points, {}'.format(', '.join(input_features), train_size, mode)"
   ]
  },
  {
   "cell_type": "markdown",
   "metadata": {},
   "source": [
    "#### Get reinforcement learning plots"
   ]
  },
  {
   "cell_type": "code",
   "execution_count": 33,
   "metadata": {
    "scrolled": false
   },
   "outputs": [
    {
     "data": {
      "image/png": "[encoded data removed]",
      "text/plain": [
       "<Figure size 864x576 with 1 Axes>"
      ]
     },
     "metadata": {},
     "output_type": "display_data"
    },
    {
     "data": {
      "image/png": "[encoded data removed]",
      "text/plain": [
       "<Figure size 864x576 with 1 Axes>"
      ]
     },
     "metadata": {},
     "output_type": "display_data"
    },
    {
     "data": {
      "image/png": "[encoded data removed]",
      "text/plain": [
       "<Figure size 864x576 with 1 Axes>"
      ]
     },
     "metadata": {},
     "output_type": "display_data"
    }
   ],
   "source": [
    "fig73 = get_ssfr_plot(model, training_data_dict, unit_dict, galaxies=None, title=None, data_type=mode, full_range=plot_full_range)\n",
    "fig55 = get_smf_plot(model, training_data_dict, unit_dict, galaxies=None, title=None, data_type=mode, full_range=plot_full_range)\n",
    "fig33 = get_fq_plot(model, training_data_dict, unit_dict, galaxies=None, title=None, data_type=mode, full_range=plot_full_range)"
   ]
  },
  {
   "cell_type": "code",
   "execution_count": null,
   "metadata": {},
   "outputs": [],
   "source": [
    "fig73.savefig(fig_dir + 'ssfr_plot_with_smf+ssfr_loss_func_6x6_1k_iters_Z00.png', bbox_inches = 'tight')\n",
    "fig55.savefig(fig_dir + 'smf_plot_with_smf+ssfr_loss_func_6x6_1k_iters_Z00.png', bbox_inches = 'tight')\n",
    "fig33.savefig(fig_dir + 'fq_plot_with_smf+ssfr_loss_func_6x6_1k_iters_Z00.png', bbox_inches = 'tight')"
   ]
  },
  {
   "cell_type": "markdown",
   "metadata": {},
   "source": [
    "#### Get standard pictures"
   ]
  },
  {
   "cell_type": "code",
   "execution_count": null,
   "metadata": {},
   "outputs": [],
   "source": [
    "fig1 = get_pred_vs_real_scatterplot(model, training_data_dict, unit_dict, data_keys, 'Stellar_mass', pso=True, title=title, data_type=mode,\n",
    "                                   predicted_points = predicted_points, galaxies=galaxies)\n",
    "\n",
    "fig2 = get_real_vs_pred_boxplot(model, training_data_dict, unit_dict, data_keys, pso=True, predicted_feat = 'Stellar_mass', \n",
    "                                binning_feat = 'Halo_mass', title=title, data_type=mode,\n",
    "                                predicted_points = predicted_points)"
   ]
  },
  {
   "cell_type": "code",
   "execution_count": null,
   "metadata": {
    "scrolled": true
   },
   "outputs": [],
   "source": [
    "fig3 = get_halo_stellar_mass_plots(model, training_data_dict, unit_dict, no_true_plots=True, title=title, y_max = None, y_min = None,\n",
    "                                    x_min = None, x_max = None, data_type=mode, predicted_points = predicted_points)\n",
    "\n",
    "fig4 = get_stellar_mass_sfr_plots(model, training_data_dict, unit_dict, no_true_plots=True, title=title, y_max = None, y_min = None,\n",
    "                                    x_min = None, x_max = None, data_type=mode, predicted_points = predicted_points)"
   ]
  },
  {
   "cell_type": "code",
   "execution_count": null,
   "metadata": {},
   "outputs": [],
   "source": [
    "os.path.dirname('hej/hej.txt')"
   ]
  },
  {
   "cell_type": "code",
   "execution_count": null,
   "metadata": {},
   "outputs": [],
   "source": [
    "fig3.savefig(fig_dir + 'halo_stellar_mass_plot_with_smf+ssfr_loss_func_6x6_1k_iters_Z00.png', bbox_inches = 'tight')\n",
    "fig4.savefig(fig_dir + 'stellar_mass_sfr_plot_with_smf+ssfr_loss_func_6x6_1k_iters_Z00.png', bbox_inches = 'tight')"
   ]
  },
  {
   "cell_type": "code",
   "execution_count": null,
   "metadata": {
    "scrolled": false
   },
   "outputs": [],
   "source": [
    "fig5 = get_real_vs_pred_boxplot(model, training_data_dict, unit_dict, data_keys, pso=True, predicted_feat = 'SFR', \n",
    "                                binning_feat = 'Stellar_mass', title=title, data_type=mode,\n",
    "                                predicted_points = predicted_points)\n",
    "plt.show"
   ]
  },
  {
   "cell_type": "code",
   "execution_count": null,
   "metadata": {},
   "outputs": [],
   "source": [
    "fig6 = get_real_vs_pred_same_fig(model, training_data_dict, unit_dict, x_axis_feature='Halo_mass', \n",
    "                                 y_axis_feature = 'Stellar_mass', pso=True, title=title, data_type=mode, marker_size=20, predicted_points=predicted_points,\n",
    "                                 y_min=None, y_max=None, x_min=None, x_max=None)\n",
    "# fig7 = get_real_vs_pred_same_fig(model, training_data_dict, unit_dict, x_axis_feature='Stellar_mass', \n",
    "#                                  y_axis_feature = 'SFR', pso=True, title=title, data_type=mode, marker_size=20,\n",
    "#                                  y_min=None, y_max=None, x_min=None, x_max=None)\n",
    "plt.show"
   ]
  },
  {
   "cell_type": "code",
   "execution_count": null,
   "metadata": {},
   "outputs": [],
   "source": [
    "fig6.savefig(fig_dir + 'proof_of_concept_3x3_net_one_output_no_weighing.png', bbox_inches = 'tight')"
   ]
  },
  {
   "cell_type": "markdown",
   "metadata": {},
   "source": [
    "##### Create progress figures"
   ]
  },
  {
   "cell_type": "code",
   "execution_count": null,
   "metadata": {},
   "outputs": [],
   "source": [
    "model_dir = 'trained_networks/testing2/'\n",
    "figure_directory =\n",
    "\n",
    "fig_list = []\n",
    "for file in os.listdir(model_dir):\n",
    "    fig_list.append(file)"
   ]
  },
  {
   "cell_type": "markdown",
   "metadata": {},
   "source": [
    "### Non parallel PSO"
   ]
  },
  {
   "cell_type": "code",
   "execution_count": null,
   "metadata": {
    "scrolled": true
   },
   "outputs": [],
   "source": [
    "mode = 'train'\n",
    "network.pso_swarm.set_best_weights('train')\n",
    "norm_score = network.pso_swarm.evaluate_model(mode)\n",
    "tot_score = norm_score\n",
    "model = network.model\n",
    "title = 'Inputs: %s\\ntest mse %.3e, %s data' % (', '.join(input_features), tot_score, mode)\n",
    "\n",
    "fig1 = get_pred_vs_real_scatterplot(model, training_data_dict, unit_dict, data_keys, 'SFR', title=title, mode=mode)\n",
    "fig2 = get_real_vs_pred_boxplot(model, training_data_dict, unit_dict, data_keys, predicted_feat = 'Stellar_mass', \n",
    "                                binning_feat = 'Halo_mass', title=title, mode=mode)\n",
    "fig3 = get_scatter_comparison_plots(model, training_data_dict, unit_dict, x_axis_feature = 'Halo_mass', \n",
    "                                    y_axis_feature = 'Stellar_mass', title=title, y_max = None, y_min = None,\n",
    "                                    x_min = None, x_max = None, mode=mode)\n",
    "fig4 = get_real_vs_pred_boxplot(model, training_data_dict, unit_dict, data_keys, 'SFR', \n",
    "                                binning_feat = 'Stellar_mass', title=title, mode=mode)\n",
    "fig5 = get_scatter_comparison_plots(model, training_data_dict, unit_dict, x_axis_feature = 'Halo_mass', \n",
    "                                    y_axis_feature = 'SFR', title=title, y_max = 10, y_min = None,\n",
    "                                    x_min = None, x_max = None, mode=mode)\n",
    "\n",
    "plt.show"
   ]
  }
 ],
 "metadata": {
  "kernelspec": {
   "display_name": "Python 3",
   "language": "python",
   "name": "python3"
  },
  "language_info": {
   "codemirror_mode": {
    "name": "ipython",
    "version": 3
   },
   "file_extension": ".py",
   "mimetype": "text/x-python",
   "name": "python",
   "nbconvert_exporter": "python",
   "pygments_lexer": "ipython3",
   "version": "3.6.5"
  }
 },
 "nbformat": 4,
 "nbformat_minor": 2
}
