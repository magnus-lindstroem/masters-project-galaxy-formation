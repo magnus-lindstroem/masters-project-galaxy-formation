{
 "cells": [
  {
   "cell_type": "code",
   "execution_count": null,
   "metadata": {},
   "outputs": [],
   "source": [
    "import json"
   ]
  },
  {
   "cell_type": "code",
   "execution_count": null,
   "metadata": {},
   "outputs": [],
   "source": [
    "settings_dict = {\n",
    "    'number_of_epochs': [1e2],\n",
    "    'training_set_size': [1e4],\n",
    "    'input_features': ['Halo_mass', 'Halo_mass_peak','Concentration', 'Halo_spin'],\n",
    "    'output_features': ['Stellar_mass'],\n",
    "    'Parameter_order': ['batch_sizes', 'nr_of_layers', 'activation_functions', 'neurons_per_layer'],\n",
    "    'batch_sizes': [1e2, 5e2, 1e3, 5e3, 1e4],\n",
    "    'nr_of_layers': [2,4,6] # nLayers + 1 = nHiddenLayers,\n",
    "    'activation_functions': ['tanh', 'relu', 'sigmoid'],\n",
    "    'neurons_per_layer': [2,6,10],\n",
    "    'seed': [999]\n",
    "}"
   ]
  },
  {
   "cell_type": "code",
   "execution_count": null,
   "metadata": {},
   "outputs": [],
   "source": [
    "with open(benchmark_dir + pu_string + date_string + '.json', 'w+') as f:\n",
    "    json.dump(json_data, f)\n",
    "f.close()"
   ]
  }
 ],
 "metadata": {
  "kernelspec": {
   "display_name": "Python 3",
   "language": "python",
   "name": "python3"
  },
  "language_info": {
   "codemirror_mode": {
    "name": "ipython",
    "version": 3
   },
   "file_extension": ".py",
   "mimetype": "text/x-python",
   "name": "python",
   "nbconvert_exporter": "python",
   "pygments_lexer": "ipython3",
   "version": "3.6.4"
  }
 },
 "nbformat": 4,
 "nbformat_minor": 2
}
